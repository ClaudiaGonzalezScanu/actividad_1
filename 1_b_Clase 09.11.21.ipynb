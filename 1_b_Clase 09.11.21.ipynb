{
  "nbformat": 4,
  "nbformat_minor": 0,
  "metadata": {
    "colab": {
      "name": "Copia de Marta.ipynb",
      "provenance": [],
      "collapsed_sections": [],
      "include_colab_link": true
    },
    "kernelspec": {
      "name": "python3",
      "display_name": "Python 3"
    },
    "language_info": {
      "name": "python"
    }
  },
  "cells": [
    {
      "cell_type": "markdown",
      "metadata": {
        "id": "view-in-github",
        "colab_type": "text"
      },
      "source": [
        "<a href=\"https://colab.research.google.com/github/ClaudiaGonzalezScanu/aprendiendo_python/blob/main/1_b_Clase%2009.11.21.ipynb\" target=\"_parent\"><img src=\"https://colab.research.google.com/assets/colab-badge.svg\" alt=\"Open In Colab\"/></a>"
      ]
    },
    {
      "cell_type": "code",
      "metadata": {
        "id": "TQQ78mtCDzXm"
      },
      "source": [
        "nombre=\"Marta\"\n",
        "numero=10\n"
      ],
      "execution_count": null,
      "outputs": []
    },
    {
      "cell_type": "code",
      "metadata": {
        "colab": {
          "base_uri": "https://localhost:8080/"
        },
        "id": "0IsYhdw4HCgs",
        "outputId": "13c9ac32-b7cd-4990-9ae6-9e8a8765f699"
      },
      "source": [
        "type(nombre)"
      ],
      "execution_count": null,
      "outputs": [
        {
          "output_type": "execute_result",
          "data": {
            "text/plain": [
              "str"
            ]
          },
          "metadata": {},
          "execution_count": 7
        }
      ]
    },
    {
      "cell_type": "code",
      "metadata": {
        "colab": {
          "base_uri": "https://localhost:8080/"
        },
        "id": "0cxIorVwEBlK",
        "outputId": "73e3061f-ed49-4058-9e0d-50eb12a89cdf"
      },
      "source": [
        "print(nombre)"
      ],
      "execution_count": null,
      "outputs": [
        {
          "output_type": "stream",
          "name": "stdout",
          "text": [
            "Marta\n"
          ]
        }
      ]
    },
    {
      "cell_type": "code",
      "metadata": {
        "colab": {
          "base_uri": "https://localhost:8080/"
        },
        "id": "a0hzrYKPFJ-g",
        "outputId": "593e2817-2a69-4ced-a6b3-056bd1c196b8"
      },
      "source": [
        "suma=3+7\n",
        "print(suma)"
      ],
      "execution_count": null,
      "outputs": [
        {
          "output_type": "stream",
          "name": "stdout",
          "text": [
            "10\n"
          ]
        }
      ]
    },
    {
      "cell_type": "code",
      "metadata": {
        "colab": {
          "base_uri": "https://localhost:8080/"
        },
        "id": "4fHO6_BBFSHX",
        "outputId": "ac55e74c-6e79-4389-87c9-3f7a6c177d1a"
      },
      "source": [
        "mult=suma*4\n",
        "print(mult)"
      ],
      "execution_count": null,
      "outputs": [
        {
          "output_type": "stream",
          "name": "stdout",
          "text": [
            "40\n"
          ]
        }
      ]
    },
    {
      "cell_type": "code",
      "metadata": {
        "colab": {
          "base_uri": "https://localhost:8080/"
        },
        "id": "vZxAx9t7GVUI",
        "outputId": "da596b1f-e7dc-40bf-9042-a62ea5b904d7"
      },
      "source": [
        "print(\"Multiplicacion=\",mult)"
      ],
      "execution_count": null,
      "outputs": [
        {
          "output_type": "stream",
          "name": "stdout",
          "text": [
            "Multiplicacion= 40\n"
          ]
        }
      ]
    },
    {
      "cell_type": "code",
      "metadata": {
        "colab": {
          "base_uri": "https://localhost:8080/"
        },
        "id": "tjBiXwQLG9Zu",
        "outputId": "b4698b8b-b3ce-47d4-c483-46dbc45ccc65"
      },
      "source": [
        "type(mult)"
      ],
      "execution_count": null,
      "outputs": [
        {
          "output_type": "execute_result",
          "data": {
            "text/plain": [
              "int"
            ]
          },
          "metadata": {},
          "execution_count": 6
        }
      ]
    },
    {
      "cell_type": "code",
      "metadata": {
        "colab": {
          "base_uri": "https://localhost:8080/"
        },
        "id": "n4CQ85TKHHrN",
        "outputId": "5a262654-1438-4c0e-ade1-2fbba33c9bf1"
      },
      "source": [
        "nota=6.7\n",
        "type(nota)"
      ],
      "execution_count": null,
      "outputs": [
        {
          "output_type": "execute_result",
          "data": {
            "text/plain": [
              "float"
            ]
          },
          "metadata": {},
          "execution_count": 8
        }
      ]
    },
    {
      "cell_type": "code",
      "metadata": {
        "colab": {
          "base_uri": "https://localhost:8080/"
        },
        "id": "rNQCB6tOHU0I",
        "outputId": "ef3ecac2-63b1-4b73-9bc6-79160e990df4"
      },
      "source": [
        "aprueba=True\n",
        "type(aprueba)"
      ],
      "execution_count": null,
      "outputs": [
        {
          "output_type": "execute_result",
          "data": {
            "text/plain": [
              "bool"
            ]
          },
          "metadata": {},
          "execution_count": 9
        }
      ]
    },
    {
      "cell_type": "code",
      "metadata": {
        "colab": {
          "base_uri": "https://localhost:8080/"
        },
        "id": "UK_PSJaVHwRQ",
        "outputId": "967c83a9-b575-41df-ac2f-a492534f511f"
      },
      "source": [
        "Saludo=\"Homa Mundo!!\"\n",
        "print(Saludo)\n"
      ],
      "execution_count": null,
      "outputs": [
        {
          "output_type": "stream",
          "name": "stdout",
          "text": [
            "Homa Mundo!!\n"
          ]
        }
      ]
    },
    {
      "cell_type": "code",
      "metadata": {
        "colab": {
          "base_uri": "https://localhost:8080/"
        },
        "id": "RJyMGaoFH3Hw",
        "outputId": "cde8ace0-2022-4376-85b2-0b947a092349"
      },
      "source": [
        "type(Saludo)"
      ],
      "execution_count": null,
      "outputs": [
        {
          "output_type": "execute_result",
          "data": {
            "text/plain": [
              "str"
            ]
          },
          "metadata": {},
          "execution_count": 12
        }
      ]
    },
    {
      "cell_type": "code",
      "metadata": {
        "colab": {
          "base_uri": "https://localhost:8080/"
        },
        "id": "26ggdwZeIdMF",
        "outputId": "6e72bd91-782c-4c83-922c-909e4010d561"
      },
      "source": [
        "x=5\n",
        "y=4\n",
        "suma=x+y\n",
        "mult=2*x+5*y\n",
        "print(\"suma=\",suma,\"mult=\",mult)"
      ],
      "execution_count": null,
      "outputs": [
        {
          "output_type": "stream",
          "name": "stdout",
          "text": [
            "suma= 9 mult= 30\n"
          ]
        }
      ]
    },
    {
      "cell_type": "code",
      "metadata": {
        "colab": {
          "base_uri": "https://localhost:8080/"
        },
        "id": "Eau5xMWRI9gJ",
        "outputId": "60cc255f-1430-4b96-b0cd-fb4146686f67"
      },
      "source": [
        "4<=5"
      ],
      "execution_count": null,
      "outputs": [
        {
          "output_type": "execute_result",
          "data": {
            "text/plain": [
              "True"
            ]
          },
          "metadata": {},
          "execution_count": 15
        }
      ]
    },
    {
      "cell_type": "code",
      "metadata": {
        "colab": {
          "base_uri": "https://localhost:8080/"
        },
        "id": "FJ2oc80YJFFt",
        "outputId": "8ee4bc1c-370d-49fc-9c84-af05de64676a"
      },
      "source": [
        "4==5"
      ],
      "execution_count": null,
      "outputs": [
        {
          "output_type": "execute_result",
          "data": {
            "text/plain": [
              "False"
            ]
          },
          "metadata": {},
          "execution_count": 16
        }
      ]
    },
    {
      "cell_type": "code",
      "metadata": {
        "colab": {
          "base_uri": "https://localhost:8080/"
        },
        "id": "tML6kdWnJKns",
        "outputId": "f9903e24-fcc2-4b86-be67-186325ed01d1"
      },
      "source": [
        "4>3"
      ],
      "execution_count": null,
      "outputs": [
        {
          "output_type": "execute_result",
          "data": {
            "text/plain": [
              "True"
            ]
          },
          "metadata": {},
          "execution_count": 17
        }
      ]
    },
    {
      "cell_type": "code",
      "metadata": {
        "colab": {
          "base_uri": "https://localhost:8080/"
        },
        "id": "EuYHZ3XXJa15",
        "outputId": "d59d643b-c5b2-494b-ea5a-48d5e21473c0"
      },
      "source": [
        "4!=3"
      ],
      "execution_count": null,
      "outputs": [
        {
          "output_type": "execute_result",
          "data": {
            "text/plain": [
              "True"
            ]
          },
          "metadata": {},
          "execution_count": 18
        }
      ]
    },
    {
      "cell_type": "code",
      "metadata": {
        "colab": {
          "base_uri": "https://localhost:8080/"
        },
        "id": "MC-PZ1ypJ01K",
        "outputId": "8f14c334-1cee-4f66-985b-fd1f9a9535f9"
      },
      "source": [
        "x=True\n",
        "y=False\n",
        "x and y"
      ],
      "execution_count": null,
      "outputs": [
        {
          "output_type": "execute_result",
          "data": {
            "text/plain": [
              "False"
            ]
          },
          "metadata": {},
          "execution_count": 19
        }
      ]
    },
    {
      "cell_type": "code",
      "metadata": {
        "colab": {
          "base_uri": "https://localhost:8080/"
        },
        "id": "6tANDV_nKFiy",
        "outputId": "82e9e164-d933-4c30-cbc4-c384874eedeb"
      },
      "source": [
        "x or y"
      ],
      "execution_count": null,
      "outputs": [
        {
          "output_type": "execute_result",
          "data": {
            "text/plain": [
              "True"
            ]
          },
          "metadata": {},
          "execution_count": 20
        }
      ]
    },
    {
      "cell_type": "code",
      "metadata": {
        "colab": {
          "base_uri": "https://localhost:8080/"
        },
        "id": "6EXfWLlmKf0x",
        "outputId": "3bf737e7-b307-47ea-b660-7ab10bd780b6"
      },
      "source": [
        "True and True"
      ],
      "execution_count": null,
      "outputs": [
        {
          "output_type": "execute_result",
          "data": {
            "text/plain": [
              "True"
            ]
          },
          "metadata": {},
          "execution_count": 21
        }
      ]
    },
    {
      "cell_type": "code",
      "metadata": {
        "colab": {
          "base_uri": "https://localhost:8080/"
        },
        "id": "xXTC5fc3KiNH",
        "outputId": "57545db3-4dab-4f36-be21-208e7cbe513c"
      },
      "source": [
        "False and False"
      ],
      "execution_count": null,
      "outputs": [
        {
          "output_type": "execute_result",
          "data": {
            "text/plain": [
              "False"
            ]
          },
          "metadata": {},
          "execution_count": 22
        }
      ]
    },
    {
      "cell_type": "code",
      "metadata": {
        "colab": {
          "base_uri": "https://localhost:8080/"
        },
        "id": "fznSMVW7K5rI",
        "outputId": "6df44efa-74ef-4d35-fb09-5b953dbab146"
      },
      "source": [
        "(2<=3) and (1>0)"
      ],
      "execution_count": null,
      "outputs": [
        {
          "output_type": "execute_result",
          "data": {
            "text/plain": [
              "True"
            ]
          },
          "metadata": {},
          "execution_count": 23
        }
      ]
    },
    {
      "cell_type": "code",
      "metadata": {
        "colab": {
          "base_uri": "https://localhost:8080/"
        },
        "id": "98S6ktfdLNdd",
        "outputId": "9afd5377-2af5-4e86-89c9-64f1d5a64b92"
      },
      "source": [
        "(2<=3) and (1<0)"
      ],
      "execution_count": null,
      "outputs": [
        {
          "output_type": "execute_result",
          "data": {
            "text/plain": [
              "False"
            ]
          },
          "metadata": {},
          "execution_count": 24
        }
      ]
    },
    {
      "cell_type": "code",
      "metadata": {
        "colab": {
          "base_uri": "https://localhost:8080/"
        },
        "id": "2by7EZiWSg7K",
        "outputId": "d6b1b324-692d-4ea5-c553-60ca7a1d6e1c"
      },
      "source": [
        "numero = int(input(\"\\nIngresa un número entero, por favor: \"))\n",
        "if numero>0:\n",
        "  print(numero,\"es positivo\")\n",
        "else:\n",
        "  print(numero,\"es negativo\")"
      ],
      "execution_count": null,
      "outputs": [
        {
          "output_type": "stream",
          "name": "stdout",
          "text": [
            "\n",
            "Ingresa un número entero, por favor: 0\n",
            "0 es negativo\n"
          ]
        }
      ]
    },
    {
      "cell_type": "code",
      "metadata": {
        "colab": {
          "base_uri": "https://localhost:8080/"
        },
        "id": "kejuE1NJTF4Z",
        "outputId": "7fd4924e-6c5e-42d2-9eb1-1617eeb4f8f5"
      },
      "source": [
        "numero = int(input(\"\\nIngresa un número entero, por favor: \"))\n",
        "if numero==0:\n",
        "  print(numero,\"es cero, todo Ok!\")\n"
      ],
      "execution_count": null,
      "outputs": [
        {
          "output_type": "stream",
          "name": "stdout",
          "text": [
            "\n",
            "Ingresa un número entero, por favor: 0\n",
            "0 es cero, todo Ok!\n"
          ]
        }
      ]
    },
    {
      "cell_type": "code",
      "metadata": {
        "colab": {
          "base_uri": "https://localhost:8080/"
        },
        "id": "GD_WgzZqTmFI",
        "outputId": "dbbece25-993b-4c77-fd54-5fd888d0d18a"
      },
      "source": [
        "numero = int(input(\"Ingresa un número entero, por favor: \"))\n",
        "if (numero>0):\n",
        "    print(\"Positivo\")\n",
        "else:\n",
        "    if numero == 0:\n",
        "        print (\"Cero\")\n",
        "    else:\n",
        "        print(\"Negativo\")"
      ],
      "execution_count": null,
      "outputs": [
        {
          "output_type": "stream",
          "name": "stdout",
          "text": [
            "Ingresa un número entero, por favor: 7\n",
            "Positivo\n"
          ]
        }
      ]
    },
    {
      "cell_type": "code",
      "metadata": {
        "colab": {
          "base_uri": "https://localhost:8080/"
        },
        "id": "AYhw0ETMYuet",
        "outputId": "e1b5a8dc-419c-463a-d3db-bdcb0ce680dc"
      },
      "source": [
        "numero = int(input(\"Ingresa un número entero, por favor: \"))\n",
        "i=1\n",
        "while i<=numero:\n",
        "    print(i)\n",
        "    i += 1 "
      ],
      "execution_count": null,
      "outputs": [
        {
          "output_type": "stream",
          "name": "stdout",
          "text": [
            "Ingresa un número entero, por favor: 10\n",
            "1\n",
            "2\n",
            "3\n",
            "4\n",
            "5\n",
            "6\n",
            "7\n",
            "8\n",
            "9\n",
            "10\n"
          ]
        }
      ]
    },
    {
      "cell_type": "code",
      "metadata": {
        "colab": {
          "base_uri": "https://localhost:8080/"
        },
        "id": "-6meKiEoZfoN",
        "outputId": "9d6a6fed-7aaf-4170-f501-e8bc21627e6f"
      },
      "source": [
        "numero = int(input(\"Ingresa un número entero, por favor: \"))\n",
        "i=1\n",
        "sum=0\n",
        "while i<=numero:\n",
        "    sum += i\n",
        "    i += 1 \n",
        "print(\"suma=\",sum)"
      ],
      "execution_count": null,
      "outputs": [
        {
          "output_type": "stream",
          "name": "stdout",
          "text": [
            "Ingresa un número entero, por favor: 3\n",
            "suma= 6\n"
          ]
        }
      ]
    },
    {
      "cell_type": "code",
      "metadata": {
        "colab": {
          "base_uri": "https://localhost:8080/"
        },
        "id": "FE-3QFyNZ0Tz",
        "outputId": "59ad5a9f-95a1-457f-d1e7-f5acc0e1b861"
      },
      "source": [
        "import numpy as np\n",
        "data = np.array([100, 150, 150, 200, 250, 300, 325, 400,415, 500])\n",
        "data"
      ],
      "execution_count": null,
      "outputs": [
        {
          "output_type": "execute_result",
          "data": {
            "text/plain": [
              "array([100, 150, 150, 200, 250, 300, 325, 400, 415, 500])"
            ]
          },
          "metadata": {},
          "execution_count": 42
        }
      ]
    },
    {
      "cell_type": "code",
      "metadata": {
        "colab": {
          "base_uri": "https://localhost:8080/"
        },
        "id": "zFs8-mJ9UHtb",
        "outputId": "3d5d24e3-feb8-4890-d5ba-582de140c4a9"
      },
      "source": [
        "data[9]"
      ],
      "execution_count": null,
      "outputs": [
        {
          "output_type": "execute_result",
          "data": {
            "text/plain": [
              "500"
            ]
          },
          "metadata": {},
          "execution_count": 43
        }
      ]
    },
    {
      "cell_type": "code",
      "metadata": {
        "colab": {
          "base_uri": "https://localhost:8080/"
        },
        "id": "oTZ3PXyXaQdB",
        "outputId": "12a9f994-f6ba-4737-f446-b0d287e64260"
      },
      "source": [
        "data[0]"
      ],
      "execution_count": null,
      "outputs": [
        {
          "output_type": "execute_result",
          "data": {
            "text/plain": [
              "100"
            ]
          },
          "metadata": {},
          "execution_count": 44
        }
      ]
    },
    {
      "cell_type": "code",
      "metadata": {
        "colab": {
          "base_uri": "https://localhost:8080/"
        },
        "id": "p8l54QnqaTaH",
        "outputId": "017a6b6d-a7a3-4350-febf-8870c7585c87"
      },
      "source": [
        "len(data)"
      ],
      "execution_count": null,
      "outputs": [
        {
          "output_type": "execute_result",
          "data": {
            "text/plain": [
              "10"
            ]
          },
          "metadata": {},
          "execution_count": 45
        }
      ]
    },
    {
      "cell_type": "code",
      "metadata": {
        "colab": {
          "base_uri": "https://localhost:8080/"
        },
        "id": "ee9WAgXgabWb",
        "outputId": "c8eb4f20-4827-43a7-9f5d-8bfb186e891d"
      },
      "source": [
        "len(\"hola\")"
      ],
      "execution_count": null,
      "outputs": [
        {
          "output_type": "execute_result",
          "data": {
            "text/plain": [
              "4"
            ]
          },
          "metadata": {},
          "execution_count": 46
        }
      ]
    },
    {
      "cell_type": "markdown",
      "metadata": {
        "id": "QwUI4kuIbMvU"
      },
      "source": [
        "#Ciclo While"
      ]
    },
    {
      "cell_type": "markdown",
      "metadata": {
        "id": "7lDJmnOdbRgn"
      },
      "source": [
        "###Ejemplo de uso de while"
      ]
    },
    {
      "cell_type": "code",
      "metadata": {
        "colab": {
          "base_uri": "https://localhost:8080/"
        },
        "id": "Q9mEd-TkaqDA",
        "outputId": "4cc65d8c-f173-4e0a-a105-0230f499f561"
      },
      "source": [
        "i=0\n",
        "while i<len(data):\n",
        "    print(\"data[\",i,\"]=\",data[i])\n",
        "    i += 1"
      ],
      "execution_count": null,
      "outputs": [
        {
          "output_type": "stream",
          "name": "stdout",
          "text": [
            "data[ 0 ]= 100\n",
            "data[ 1 ]= 150\n",
            "data[ 2 ]= 150\n",
            "data[ 3 ]= 200\n",
            "data[ 4 ]= 250\n",
            "data[ 5 ]= 300\n",
            "data[ 6 ]= 325\n",
            "data[ 7 ]= 400\n",
            "data[ 8 ]= 415\n",
            "data[ 9 ]= 500\n"
          ]
        }
      ]
    },
    {
      "cell_type": "code",
      "metadata": {
        "id": "VdcASnaNcNHA"
      },
      "source": [
        ""
      ],
      "execution_count": null,
      "outputs": []
    },
    {
      "cell_type": "code",
      "metadata": {
        "colab": {
          "base_uri": "https://localhost:8080/"
        },
        "id": "fs9hpwiNbLJk",
        "outputId": "2bcdfe97-cc09-4ac5-8a86-bd2c164f9bb2"
      },
      "source": [
        "A = []\n",
        "i = 0\n",
        "while(i <20):\n",
        "    A.append(np.random.randint(1,10))\n",
        "    i += 1\n",
        "A"
      ],
      "execution_count": null,
      "outputs": [
        {
          "output_type": "execute_result",
          "data": {
            "text/plain": [
              "[4, 9, 8, 1, 1, 7, 3, 2, 9, 3, 9, 3, 8, 2, 2, 7, 1, 4, 1, 3]"
            ]
          },
          "metadata": {},
          "execution_count": 65
        }
      ]
    },
    {
      "cell_type": "code",
      "metadata": {
        "colab": {
          "base_uri": "https://localhost:8080/"
        },
        "id": "HKKTTaqDdE3S",
        "outputId": "619952b0-498a-4f42-90ba-779c04cc5b9e"
      },
      "source": [
        "A.append(56)\n",
        "A"
      ],
      "execution_count": null,
      "outputs": [
        {
          "output_type": "execute_result",
          "data": {
            "text/plain": [
              "[2,\n",
              " 19,\n",
              " 10,\n",
              " 18,\n",
              " 19,\n",
              " 11,\n",
              " 4,\n",
              " 17,\n",
              " 18,\n",
              " 5,\n",
              " 15,\n",
              " 18,\n",
              " 14,\n",
              " 2,\n",
              " 7,\n",
              " 7,\n",
              " 11,\n",
              " 13,\n",
              " 13,\n",
              " 18,\n",
              " 56,\n",
              " 56]"
            ]
          },
          "metadata": {},
          "execution_count": 58
        }
      ]
    },
    {
      "cell_type": "code",
      "metadata": {
        "colab": {
          "base_uri": "https://localhost:8080/"
        },
        "id": "l6O7o7BzeaYf",
        "outputId": "0ab874fc-adaa-4ba7-8fda-ab96ca2387a5"
      },
      "source": [
        "A"
      ],
      "execution_count": null,
      "outputs": [
        {
          "output_type": "execute_result",
          "data": {
            "text/plain": [
              "[4, 9, 8, 1, 1, 7, 3, 2, 9, 3, 9, 3, 8, 2, 2, 7, 1, 4, 1, 3]"
            ]
          },
          "metadata": {},
          "execution_count": 67
        }
      ]
    },
    {
      "cell_type": "code",
      "metadata": {
        "colab": {
          "base_uri": "https://localhost:8080/"
        },
        "id": "TB3duC33dPaf",
        "outputId": "99c6c1aa-b61d-4aab-da2b-7714d919a257"
      },
      "source": [
        "\n",
        "min(A)\n"
      ],
      "execution_count": null,
      "outputs": [
        {
          "output_type": "execute_result",
          "data": {
            "text/plain": [
              "1"
            ]
          },
          "metadata": {},
          "execution_count": 66
        }
      ]
    },
    {
      "cell_type": "code",
      "metadata": {
        "colab": {
          "base_uri": "https://localhost:8080/"
        },
        "id": "_1t00Yp_efhj",
        "outputId": "82a0b572-d286-43f6-b6c9-a0452ecfc278"
      },
      "source": [
        "max(A)"
      ],
      "execution_count": null,
      "outputs": [
        {
          "output_type": "execute_result",
          "data": {
            "text/plain": [
              "9"
            ]
          },
          "metadata": {},
          "execution_count": 68
        }
      ]
    },
    {
      "cell_type": "code",
      "metadata": {
        "colab": {
          "base_uri": "https://localhost:8080/"
        },
        "id": "kQlIrSSjen9N",
        "outputId": "9dfcfe2d-5c86-485b-b6f8-73814523b3d0"
      },
      "source": [
        "A"
      ],
      "execution_count": null,
      "outputs": [
        {
          "output_type": "execute_result",
          "data": {
            "text/plain": [
              "[4, 9, 8, 1, 1, 7, 3, 2, 9, 3, 9, 3, 8, 2, 2, 7, 1, 4, 1, 3]"
            ]
          },
          "metadata": {},
          "execution_count": 69
        }
      ]
    },
    {
      "cell_type": "code",
      "metadata": {
        "colab": {
          "base_uri": "https://localhost:8080/"
        },
        "id": "F_U_IuJ-epdp",
        "outputId": "d8356341-380f-4e4e-c99f-e55e9e9ab53e"
      },
      "source": [
        "A[0:5]"
      ],
      "execution_count": null,
      "outputs": [
        {
          "output_type": "execute_result",
          "data": {
            "text/plain": [
              "[4, 9, 8, 1, 1]"
            ]
          },
          "metadata": {},
          "execution_count": 70
        }
      ]
    },
    {
      "cell_type": "code",
      "metadata": {
        "id": "z-PHrO8ke5qp",
        "colab": {
          "base_uri": "https://localhost:8080/"
        },
        "outputId": "da13619b-453e-462b-ad65-f0fe5a8182cd"
      },
      "source": [
        "A[6:8]"
      ],
      "execution_count": null,
      "outputs": [
        {
          "output_type": "execute_result",
          "data": {
            "text/plain": [
              "[3, 2]"
            ]
          },
          "metadata": {},
          "execution_count": 71
        }
      ]
    }
  ]
}