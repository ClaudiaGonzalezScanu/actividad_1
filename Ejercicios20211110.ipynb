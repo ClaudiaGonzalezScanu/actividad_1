{
  "nbformat": 4,
  "nbformat_minor": 0,
  "metadata": {
    "colab": {
      "name": "Ejercicios20211110.ipynb",
      "provenance": [],
      "collapsed_sections": [],
      "authorship_tag": "ABX9TyOg9QFEdGnCFGL+lerMcZLG",
      "include_colab_link": true
    },
    "kernelspec": {
      "name": "python3",
      "display_name": "Python 3"
    },
    "language_info": {
      "name": "python"
    }
  },
  "cells": [
    {
      "cell_type": "markdown",
      "metadata": {
        "id": "view-in-github",
        "colab_type": "text"
      },
      "source": [
        "<a href=\"https://colab.research.google.com/github/ClaudiaGonzalezScanu/aprendiendo_python/blob/main/Ejercicios20211110.ipynb\" target=\"_parent\"><img src=\"https://colab.research.google.com/assets/colab-badge.svg\" alt=\"Open In Colab\"/></a>"
      ]
    },
    {
      "cell_type": "markdown",
      "metadata": {
        "id": "7MPmpsa5dob2"
      },
      "source": [
        "#1.\tEscribir un algoritmo que permita leer un número entero, lo multiplique por 2 y a continuación escriba el resultado en pantalla."
      ]
    },
    {
      "cell_type": "code",
      "metadata": {
        "colab": {
          "base_uri": "https://localhost:8080/"
        },
        "id": "xmtm78CBduRn",
        "outputId": "95059db7-b547-41ac-ffe4-34c95e6eb941"
      },
      "source": [
        "numero1 = int(input(\"Buen día, ingrese un número entero: \"))\n",
        "numero2=numero1*2\n",
        "print(\"Resultado:\",numero2)\n",
        "\n"
      ],
      "execution_count": null,
      "outputs": [
        {
          "output_type": "stream",
          "name": "stdout",
          "text": [
            "Buen día, ingrese un número entero: 5\n",
            "Resultado: 10\n"
          ]
        }
      ]
    },
    {
      "cell_type": "markdown",
      "metadata": {
        "id": "YaK5WNl-g565"
      },
      "source": [
        "#2.\tEscriba un algoritmo que permita, dados dos números, mostrar el mayor de ellos"
      ]
    },
    {
      "cell_type": "code",
      "metadata": {
        "colab": {
          "base_uri": "https://localhost:8080/"
        },
        "id": "bZUOqx-jh3uJ",
        "outputId": "c8c9dcda-1fc6-4236-d1f0-7117bada5682"
      },
      "source": [
        "A = int(input(\"Buen día, ingrese un número: \"))\n",
        "B = int(input(\"Buen día, ingrese otro número: \"))\n",
        "if A>B:\n",
        "  print(\"Número mayor es:\",A)\n",
        "if A<B:\n",
        "  print(\"Número mayor es:\",B)\n",
        "if A==B:\n",
        "  print(\"El primer número es igual al segúndo número:\",A)\n"
      ],
      "execution_count": null,
      "outputs": [
        {
          "output_type": "stream",
          "name": "stdout",
          "text": [
            "Buen día, ingrese un número: 8\n",
            "Buen día, ingrese otro número: 2\n",
            "Número mayor es: 8\n"
          ]
        }
      ]
    },
    {
      "cell_type": "markdown",
      "metadata": {
        "id": "OVuRyPlMkBpN"
      },
      "source": [
        "#3.\tCrear una lista en PYTHON con los siguientes nombres: Juan, Maite, Antonio, Paola y Rosa. Por cada nombre en la lista imprimir un saludo junto al nombre (por ejemplo, “Hola Juan”), excepto para Antonio, en cuyo caso NO se debería imprimir dicho saludo."
      ]
    },
    {
      "cell_type": "code",
      "metadata": {
        "colab": {
          "base_uri": "https://localhost:8080/"
        },
        "id": "43Unwj_QkIpa",
        "outputId": "f298c982-58b8-4e65-929e-56ede7afd4fa"
      },
      "source": [
        "N=[\"Juan\",\"Maite\",\"Antonio\",\"Paola\",\"Rosa\"]\n",
        "for nombre in N:\n",
        "  if nombre ==\"Antonio\":\n",
        "    continue\n",
        "  print(\"Hola\",nombre)    #Ojo, este print es a nivel de if, de esa forma imprime todos los nombres\n",
        "print(\"Done!\")\n"
      ],
      "execution_count": null,
      "outputs": [
        {
          "output_type": "stream",
          "name": "stdout",
          "text": [
            "Hola Juan\n",
            "Hola Maite\n",
            "Hola Paola\n",
            "Hola Rosa\n",
            "Done!\n"
          ]
        }
      ]
    },
    {
      "cell_type": "markdown",
      "metadata": {
        "id": "MhOeE6CnoUGj"
      },
      "source": [
        "#4.\tEscribir un script que permita leer cualquier cantidad de números desde teclado, para mostrarlos en pantalla y que dicho proceso finalice cuando el usuario ingrese un 0."
      ]
    },
    {
      "cell_type": "code",
      "metadata": {
        "colab": {
          "base_uri": "https://localhost:8080/"
        },
        "id": "_c1gtcjBodwj",
        "outputId": "7dab6ff4-7d26-46e9-c862-8e7b357cbb03"
      },
      "source": [
        "A=[]\n",
        "i=0\n",
        "while True:\n",
        "  numeros= int(input(\"Hola, ingrese un número != 0: \"))\n",
        "  if numeros == 0:\n",
        "    print(\"¡GAME OVER!\") \n",
        "    break\n",
        "  A.append(numeros)\n",
        "  resp=input(\"Desea ingrersar otro numeo [s/n]?\")\n",
        "  if resp==\"n\":\n",
        "    break\n",
        "  i+=1\n",
        "print(\"* FIN * ESOS SON TUS NUMEROS:\",A)  \n",
        "  "
      ],
      "execution_count": null,
      "outputs": [
        {
          "output_type": "stream",
          "name": "stdout",
          "text": [
            "Hola, ingrese un número != 0: 56\n",
            "Desea ingrersar otro numeo [s/n]?s\n",
            "Hola, ingrese un número != 0: 77\n",
            "Desea ingrersar otro numeo [s/n]?s\n",
            "Hola, ingrese un número != 0: 0\n",
            "¡GAME OVER!\n",
            "* FIN * ESOS SON TUS NUMEROS: [56, 77]\n"
          ]
        }
      ]
    },
    {
      "cell_type": "markdown",
      "metadata": {
        "id": "GU5QU2Z727sm"
      },
      "source": [
        "#5.\tSi gasto hasta $10.000, pago con dinero en efectivo. Si no, si gasto más de $10.000 pero menos de $30.000, pago con tarjeta de débito. Si no, pago con tarjeta de crédito."
      ]
    },
    {
      "cell_type": "markdown",
      "metadata": {
        "id": "LnIiSmwI3Df1"
      },
      "source": [
        ""
      ]
    },
    {
      "cell_type": "code",
      "metadata": {
        "id": "wDJmSK303Eek",
        "colab": {
          "base_uri": "https://localhost:8080/"
        },
        "outputId": "f6a912c3-8a3a-4980-fa30-dcc7ac32dbc3"
      },
      "source": [
        "pago=int(input(\"Total a pagar: \"))\n",
        "if pago <=10000:\n",
        "  print(\"Pago en efectivo: \",pago)\n",
        "if pago >10000 and pago <= 30000:\n",
        "   print(\"Pago con tarjeta de debito:\",pago)\n",
        "if pago >30000:\n",
        "      print(\"Pago con tarjeta de credito\",pago)\n",
        "print(\"Gracias por su compra\")  "
      ],
      "execution_count": 99,
      "outputs": [
        {
          "output_type": "stream",
          "name": "stdout",
          "text": [
            "Total a pagar: 1000\n",
            "Pago en efectivo:  1000\n",
            "Gracias por su compra\n"
          ]
        }
      ]
    },
    {
      "cell_type": "markdown",
      "metadata": {
        "id": "ebuVgSqK3FpH"
      },
      "source": [
        "#6.\tEscribir un algoritmo para convertir una calificación numérica a una calificación de letra de acuerdo con la siguiente escala:\n",
        "        90-100  \t\t: A\n",
        "        80-89 \t\t: B\n",
        "        70-79 \t\t: C     \n",
        "        60-69 \t\t: D        \n",
        "        Menos de 60 \t: F\n",
        "      El ingreso finaliza con una nota negativa.\n"
      ]
    },
    {
      "cell_type": "code",
      "metadata": {
        "id": "tde_TTKi3ML3",
        "colab": {
          "base_uri": "https://localhost:8080/"
        },
        "outputId": "f52a7ed8-572a-4381-df1e-683f7938cf7d"
      },
      "source": [
        "notas=[]\n",
        "i=0\n",
        "\n",
        "while True:\n",
        "  nota=int(input(\"Ingresa el puntaje: \"))\n",
        "  notas.append(nota)\n",
        "  if nota >=90 and nota <=100:\n",
        "    print(\"La nota es:A\")\n",
        "  if nota < 90 and nota >=80:\n",
        "    print(\"La nota es:B\")  \n",
        "  if nota < 80 and nota >=70:\n",
        "    print(\"La nota es:C\")\n",
        "  if nota < 70 and nota >=60:\n",
        "    print(\"La nota es:D\")\n",
        "  if nota < 60 and nota >=0:\n",
        "    print(\"La nota es:F\")\n",
        "  if nota < 0:\n",
        "    print(\"Dato incorrecto, no se ingresan más datos\")\n",
        "    break\n",
        "  if nota > 100:\n",
        "    print(\"Dato incorrecto, no se ingresan más datos\")\n",
        "    break\n",
        "print(\"Notas Ingresadas: \",notas)\n",
        "for num in notas:\n",
        "  print(num)\n"
      ],
      "execution_count": 124,
      "outputs": [
        {
          "output_type": "stream",
          "name": "stdout",
          "text": [
            "Ingresa el puntaje: 100\n",
            "La nota es:A\n",
            "Ingresa el puntaje: 70\n",
            "La nota es:C\n",
            "Ingresa el puntaje: 45\n",
            "La nota es:F\n",
            "Ingresa el puntaje: -9\n",
            "Dato incorrecto, no se ingresan más datos\n",
            "Notas Ingresadas:  [100, 70, 45, -9]\n",
            "100\n",
            "70\n",
            "45\n",
            "-9\n"
          ]
        }
      ]
    }
  ]
}