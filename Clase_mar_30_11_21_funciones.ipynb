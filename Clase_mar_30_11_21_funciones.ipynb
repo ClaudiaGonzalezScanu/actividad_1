{
  "nbformat": 4,
  "nbformat_minor": 0,
  "metadata": {
    "colab": {
      "name": "Clase_mar_30.11.21_funciones.ipynb",
      "provenance": [],
      "collapsed_sections": [],
      "include_colab_link": true
    },
    "kernelspec": {
      "name": "python3",
      "display_name": "Python 3"
    },
    "language_info": {
      "name": "python"
    }
  },
  "cells": [
    {
      "cell_type": "markdown",
      "metadata": {
        "id": "view-in-github",
        "colab_type": "text"
      },
      "source": [
        "<a href=\"https://colab.research.google.com/github/ClaudiaGonzalezScanu/aprendiendo_python/blob/main/Clase_mar_30_11_21_funciones.ipynb\" target=\"_parent\"><img src=\"https://colab.research.google.com/assets/colab-badge.svg\" alt=\"Open In Colab\"/></a>"
      ]
    },
    {
      "cell_type": "markdown",
      "metadata": {
        "id": "XCm1KKuLcXVH"
      },
      "source": [
        "Definición de una función:"
      ]
    },
    {
      "cell_type": "code",
      "metadata": {
        "id": "fb8GsLYCFeGD"
      },
      "source": [
        "def saludo(param):\n",
        "    print (\"Hola\", param)\n"
      ],
      "execution_count": null,
      "outputs": []
    },
    {
      "cell_type": "markdown",
      "metadata": {
        "id": "sYaQhxVuccPR"
      },
      "source": [
        "Invocar o llamar a una función:"
      ]
    },
    {
      "cell_type": "code",
      "metadata": {
        "colab": {
          "base_uri": "https://localhost:8080/"
        },
        "id": "Pg32YqlQF0IN",
        "outputId": "471c9a74-3e86-4c0a-9cd3-2efeb707ab55"
      },
      "source": [
        "saludo(\"Sandra\")"
      ],
      "execution_count": null,
      "outputs": [
        {
          "output_type": "stream",
          "name": "stdout",
          "text": [
            "Hola  Sandra\n"
          ]
        }
      ]
    },
    {
      "cell_type": "code",
      "metadata": {
        "colab": {
          "base_uri": "https://localhost:8080/"
        },
        "id": "BULhoByZGF08",
        "outputId": "7210f51d-28f6-4599-e69e-0ad93c3ed635"
      },
      "source": [
        "saludo(\"Marta Huala\")"
      ],
      "execution_count": null,
      "outputs": [
        {
          "output_type": "stream",
          "name": "stdout",
          "text": [
            "Hola  Marta Huala\n"
          ]
        }
      ]
    },
    {
      "cell_type": "code",
      "metadata": {
        "id": "e8168fhEG8f0"
      },
      "source": [
        "def despedida(param):\n",
        "    print (\"Chao\", param) "
      ],
      "execution_count": null,
      "outputs": []
    },
    {
      "cell_type": "code",
      "metadata": {
        "colab": {
          "base_uri": "https://localhost:8080/"
        },
        "id": "dIZBBHREHEd4",
        "outputId": "db28c4cf-3068-435e-e8f1-ae53098a2815"
      },
      "source": [
        "despedida(\"Carla\")"
      ],
      "execution_count": null,
      "outputs": [
        {
          "output_type": "stream",
          "name": "stdout",
          "text": [
            "Chao Carla\n"
          ]
        }
      ]
    },
    {
      "cell_type": "markdown",
      "metadata": {
        "id": "I-OvsZf2chDn"
      },
      "source": [
        "Una función para obtener el promedio de dos números dados como argumentos:"
      ]
    },
    {
      "cell_type": "code",
      "metadata": {
        "id": "EokgKgvsHLN0"
      },
      "source": [
        "def promedio(nota1,nota2):\n",
        "  prom=(nota1+nota2)/2\n",
        "  return prom"
      ],
      "execution_count": null,
      "outputs": []
    },
    {
      "cell_type": "code",
      "metadata": {
        "colab": {
          "base_uri": "https://localhost:8080/"
        },
        "id": "97hUeHmyHUwj",
        "outputId": "82c6ea16-b076-4312-fc94-a0fb378d06ff"
      },
      "source": [
        "promedio(4,6)"
      ],
      "execution_count": null,
      "outputs": [
        {
          "output_type": "execute_result",
          "data": {
            "text/plain": [
              "5.0"
            ]
          },
          "metadata": {},
          "execution_count": 10
        }
      ]
    },
    {
      "cell_type": "code",
      "metadata": {
        "colab": {
          "base_uri": "https://localhost:8080/"
        },
        "id": "NUzx0yiBHmRT",
        "outputId": "e82115d5-5ad4-454f-f03e-945f742c0b51"
      },
      "source": [
        "prom=promedio(4,6)\n",
        "print(\"Promedio=\",prom)"
      ],
      "execution_count": null,
      "outputs": [
        {
          "output_type": "stream",
          "name": "stdout",
          "text": [
            "Promedio= 5.0\n"
          ]
        }
      ]
    },
    {
      "cell_type": "markdown",
      "metadata": {
        "id": "ODeUeLOfI0JF"
      },
      "source": [
        "Si definí la función con 2 argumentos, en la llamada debo usarla con dos argumentos, por tanto, las dos ejecuciones siguientes producen un error!:"
      ]
    },
    {
      "cell_type": "code",
      "metadata": {
        "colab": {
          "base_uri": "https://localhost:8080/",
          "height": 172
        },
        "id": "hoHgfeaGIXlW",
        "outputId": "f9640bf0-4a89-4d31-d4ba-47d991a232f0"
      },
      "source": [
        "promedio()"
      ],
      "execution_count": null,
      "outputs": [
        {
          "output_type": "error",
          "ename": "TypeError",
          "evalue": "ignored",
          "traceback": [
            "\u001b[0;31m---------------------------------------------------------------------------\u001b[0m",
            "\u001b[0;31mTypeError\u001b[0m                                 Traceback (most recent call last)",
            "\u001b[0;32m<ipython-input-16-b7e3e33ffac9>\u001b[0m in \u001b[0;36m<module>\u001b[0;34m()\u001b[0m\n\u001b[0;32m----> 1\u001b[0;31m \u001b[0mpromedio\u001b[0m\u001b[0;34m(\u001b[0m\u001b[0;34m)\u001b[0m\u001b[0;34m\u001b[0m\u001b[0;34m\u001b[0m\u001b[0m\n\u001b[0m",
            "\u001b[0;31mTypeError\u001b[0m: promedio() missing 2 required positional arguments: 'nota1' and 'nota2'"
          ]
        }
      ]
    },
    {
      "cell_type": "code",
      "metadata": {
        "colab": {
          "base_uri": "https://localhost:8080/",
          "height": 172
        },
        "id": "xdFHULbsIvI0",
        "outputId": "e3b5d573-9c7a-4a63-a0f3-ce1ea144ad56"
      },
      "source": [
        "promedio(4,5,6)"
      ],
      "execution_count": null,
      "outputs": [
        {
          "output_type": "error",
          "ename": "TypeError",
          "evalue": "ignored",
          "traceback": [
            "\u001b[0;31m---------------------------------------------------------------------------\u001b[0m",
            "\u001b[0;31mTypeError\u001b[0m                                 Traceback (most recent call last)",
            "\u001b[0;32m<ipython-input-17-b3394ef96e20>\u001b[0m in \u001b[0;36m<module>\u001b[0;34m()\u001b[0m\n\u001b[0;32m----> 1\u001b[0;31m \u001b[0mpromedio\u001b[0m\u001b[0;34m(\u001b[0m\u001b[0;36m4\u001b[0m\u001b[0;34m,\u001b[0m\u001b[0;36m5\u001b[0m\u001b[0;34m,\u001b[0m\u001b[0;36m6\u001b[0m\u001b[0;34m)\u001b[0m\u001b[0;34m\u001b[0m\u001b[0;34m\u001b[0m\u001b[0m\n\u001b[0m",
            "\u001b[0;31mTypeError\u001b[0m: promedio() takes 2 positional arguments but 3 were given"
          ]
        }
      ]
    },
    {
      "cell_type": "markdown",
      "metadata": {
        "id": "O7DwXzr2M31Y"
      },
      "source": [
        "Función para sumar los números del 1 al número dado como argumento:"
      ]
    },
    {
      "cell_type": "code",
      "metadata": {
        "id": "vCUt9Qg5L-Bv"
      },
      "source": [
        "def suma(num):\n",
        "  i=1\n",
        "  sum=0\n",
        "  while (i<=num):\n",
        "    sum += i\n",
        "    i += 1\n",
        "  print(sum)"
      ],
      "execution_count": null,
      "outputs": []
    },
    {
      "cell_type": "code",
      "metadata": {
        "colab": {
          "base_uri": "https://localhost:8080/"
        },
        "id": "TjI3zMtsMB-2",
        "outputId": "4815cbc6-d1d7-4142-b06d-822077b849d3"
      },
      "source": [
        "suma(10)"
      ],
      "execution_count": null,
      "outputs": [
        {
          "output_type": "stream",
          "name": "stdout",
          "text": [
            "55\n"
          ]
        }
      ]
    },
    {
      "cell_type": "markdown",
      "metadata": {
        "id": "jhyzBloHONv7"
      },
      "source": [
        "Función para retornar el mayor de dos números dados como argumentos:"
      ]
    },
    {
      "cell_type": "code",
      "metadata": {
        "id": "fhayQwM1Ppmm"
      },
      "source": [
        ""
      ],
      "execution_count": null,
      "outputs": []
    },
    {
      "cell_type": "code",
      "metadata": {
        "id": "7hd0SWjyNLYC"
      },
      "source": [
        "def mayor(num1,num2):\n",
        "  if (num1>num2):\n",
        "    return num1\n",
        "  else:\n",
        "    return num2\n"
      ],
      "execution_count": null,
      "outputs": []
    },
    {
      "cell_type": "code",
      "metadata": {
        "colab": {
          "base_uri": "https://localhost:8080/"
        },
        "id": "iULhNmlfOE-k",
        "outputId": "b14495cb-2022-4cfb-9313-33b62afc03c8"
      },
      "source": [
        "may=mayor(3,7)\n",
        "print(may)\n",
        "print(\"Done!\")"
      ],
      "execution_count": null,
      "outputs": [
        {
          "output_type": "stream",
          "name": "stdout",
          "text": [
            "7\n",
            "Done!\n"
          ]
        }
      ]
    },
    {
      "cell_type": "markdown",
      "metadata": {
        "id": "GVWfzvVBTBUg"
      },
      "source": [
        "Las funciones en PYTHON pueden retornar más de un valor:"
      ]
    },
    {
      "cell_type": "code",
      "metadata": {
        "id": "l4hwvx4FRFP4"
      },
      "source": [
        "def cuadrado_y_cubo(numero):\n",
        "  return numero**2,numero**3"
      ],
      "execution_count": null,
      "outputs": []
    },
    {
      "cell_type": "code",
      "metadata": {
        "colab": {
          "base_uri": "https://localhost:8080/"
        },
        "id": "Q7SF-0HFR6SU",
        "outputId": "d87e34b3-d6f7-4cc5-c34f-3401fb0f9553"
      },
      "source": [
        "cuadrado_y_cubo(2)"
      ],
      "execution_count": null,
      "outputs": [
        {
          "output_type": "execute_result",
          "data": {
            "text/plain": [
              "(4, 8)"
            ]
          },
          "metadata": {},
          "execution_count": 39
        }
      ]
    },
    {
      "cell_type": "code",
      "metadata": {
        "colab": {
          "base_uri": "https://localhost:8080/"
        },
        "id": "KBx5UVuoRYH2",
        "outputId": "b903b64a-6508-4576-b073-5188f2ac5425"
      },
      "source": [
        "result=cuadrado_y_cubo(2)\n",
        "print(\"Cuadrado:\",result[0],\"Cubo:\",result[1])"
      ],
      "execution_count": null,
      "outputs": [
        {
          "output_type": "stream",
          "name": "stdout",
          "text": [
            "Cuadrado: 4 Cubo: 8\n"
          ]
        }
      ]
    },
    {
      "cell_type": "code",
      "metadata": {
        "colab": {
          "base_uri": "https://localhost:8080/"
        },
        "id": "fL3lX5b5SI0p",
        "outputId": "6cf7fa11-9ceb-4b34-c2e6-c1d495a44295"
      },
      "source": [
        "cuad,cubo=cuadrado_y_cubo(2)\n",
        "print(cuad,cubo)"
      ],
      "execution_count": null,
      "outputs": [
        {
          "output_type": "stream",
          "name": "stdout",
          "text": [
            "4 8\n"
          ]
        }
      ]
    },
    {
      "cell_type": "markdown",
      "metadata": {
        "id": "1dr9Gn1FTZXA"
      },
      "source": [
        "En PYTHON las funciones SIEMPRE devuelven un valor, aun cuando NO haya un **return** explícito:"
      ]
    },
    {
      "cell_type": "code",
      "metadata": {
        "id": "TcNuLTcxTVgV"
      },
      "source": [
        "def saludo(nombre):\n",
        "  print(f\"Hola {nombre}\")"
      ],
      "execution_count": null,
      "outputs": []
    },
    {
      "cell_type": "code",
      "metadata": {
        "colab": {
          "base_uri": "https://localhost:8080/"
        },
        "id": "T5NT-eJMTuMC",
        "outputId": "e11fdf1e-901b-4fd0-9a4c-8613abc777a8"
      },
      "source": [
        "saludo(\"Ivanna\")"
      ],
      "execution_count": null,
      "outputs": [
        {
          "output_type": "stream",
          "name": "stdout",
          "text": [
            "Hola Ivanna\n"
          ]
        }
      ]
    },
    {
      "cell_type": "code",
      "metadata": {
        "colab": {
          "base_uri": "https://localhost:8080/"
        },
        "id": "lpaYodkqTz3S",
        "outputId": "8d3110d1-1dca-47fd-80e0-baa019d6c221"
      },
      "source": [
        "print(saludo(\"Ivanna\"))"
      ],
      "execution_count": null,
      "outputs": [
        {
          "output_type": "stream",
          "name": "stdout",
          "text": [
            "Hola Ivanna\n",
            "None\n"
          ]
        }
      ]
    },
    {
      "cell_type": "code",
      "metadata": {
        "id": "Cv8Fs4VxUZr_"
      },
      "source": [
        "def saludo(nombre=None):\n",
        "  if nombre == None:\n",
        "\t  print (\"Error, debes pasar un nombre a la función!\")\n",
        "\t  return 0\n",
        "  else:\n",
        "    print(f\"Hola {nombre}\")\n",
        "    return 1\n"
      ],
      "execution_count": null,
      "outputs": []
    },
    {
      "cell_type": "code",
      "metadata": {
        "colab": {
          "base_uri": "https://localhost:8080/"
        },
        "id": "BFZBDTCxVLcK",
        "outputId": "16ab49e0-3916-4167-98d6-bf954a9e56fe"
      },
      "source": [
        "saludo()"
      ],
      "execution_count": null,
      "outputs": [
        {
          "output_type": "stream",
          "name": "stdout",
          "text": [
            "Error, debes pasar un nombre a la función!\n"
          ]
        },
        {
          "output_type": "execute_result",
          "data": {
            "text/plain": [
              "0"
            ]
          },
          "metadata": {},
          "execution_count": 50
        }
      ]
    },
    {
      "cell_type": "code",
      "metadata": {
        "colab": {
          "base_uri": "https://localhost:8080/"
        },
        "id": "sluaNJGdVVmZ",
        "outputId": "619a4cc5-c112-474f-f1c4-95da06711ae4"
      },
      "source": [
        "saludo(\"Claudia\")"
      ],
      "execution_count": null,
      "outputs": [
        {
          "output_type": "stream",
          "name": "stdout",
          "text": [
            "Hola Claudia\n"
          ]
        },
        {
          "output_type": "execute_result",
          "data": {
            "text/plain": [
              "1"
            ]
          },
          "metadata": {},
          "execution_count": 51
        }
      ]
    },
    {
      "cell_type": "markdown",
      "metadata": {
        "id": "duiWZSbYbdqK"
      },
      "source": [
        "Si el tipo que se pasa como argumento a una función es inmutable (como una cadena o tupla), cualquier modificación en el valor del parámetro dentro de la función,  NO afectará a la variable externa, pero, si es mutable (como una lista o diccionario), SÍ se verá afectado por las modificaciones."
      ]
    },
    {
      "cell_type": "code",
      "metadata": {
        "colab": {
          "base_uri": "https://localhost:8080/"
        },
        "id": "PaTBiRvmagwG",
        "outputId": "5bd3078d-5f4e-4e36-ce40-fadd21c9846b"
      },
      "source": [
        "list1=[4,6,2,8,3,2,1,5]\n",
        "list1"
      ],
      "execution_count": null,
      "outputs": [
        {
          "output_type": "execute_result",
          "data": {
            "text/plain": [
              "[4, 6, 2, 8, 3, 2, 1, 5]"
            ]
          },
          "metadata": {},
          "execution_count": 62
        }
      ]
    },
    {
      "cell_type": "code",
      "metadata": {
        "id": "RO6oGqM7bFAw"
      },
      "source": [
        "def cambia_lista(lista):\n",
        "  lista[0]=\"xxx\""
      ],
      "execution_count": null,
      "outputs": []
    },
    {
      "cell_type": "code",
      "metadata": {
        "colab": {
          "base_uri": "https://localhost:8080/"
        },
        "id": "Pe6qnXvjbFqK",
        "outputId": "c078a146-af38-4b92-f1a6-a6acf5912d24"
      },
      "source": [
        "cambia_lista(list1)\n",
        "list1"
      ],
      "execution_count": null,
      "outputs": [
        {
          "output_type": "execute_result",
          "data": {
            "text/plain": [
              "['xxx', 6, 2, 8, 3, 2, 1, 5]"
            ]
          },
          "metadata": {},
          "execution_count": 64
        }
      ]
    },
    {
      "cell_type": "markdown",
      "metadata": {
        "id": "lO-jeR-0dHQB"
      },
      "source": [
        "Escribir una función que permita leer un número entero, lo multiplique por 2 y a continuación escriba el resultado en la pantalla:"
      ]
    },
    {
      "cell_type": "code",
      "metadata": {
        "id": "VBzQWfcBdGdj"
      },
      "source": [
        "def mostrar():\n",
        "  numero=int(input(\"Ingresar un número entero: \"))\n",
        "  mult=numero*2\n",
        "  print(mult)"
      ],
      "execution_count": null,
      "outputs": []
    },
    {
      "cell_type": "code",
      "metadata": {
        "colab": {
          "base_uri": "https://localhost:8080/"
        },
        "id": "t4RWS9LwdrH2",
        "outputId": "728c98fe-dd20-479c-803a-34598a416f87"
      },
      "source": [
        "mostrar()"
      ],
      "execution_count": null,
      "outputs": [
        {
          "output_type": "stream",
          "name": "stdout",
          "text": [
            "Ingresar un número entero: 4\n",
            "8\n"
          ]
        }
      ]
    },
    {
      "cell_type": "markdown",
      "metadata": {
        "id": "-r0UM2oZeuyR"
      },
      "source": [
        "Escribir una función que permita leer un número entero y lo busque dentro de una lista dada como argumento. La función deberá retornar el índice del número en la lista (primera ocurrencia) o None si no se encuentra."
      ]
    },
    {
      "cell_type": "code",
      "metadata": {
        "id": "rqZh5DR8dz8i"
      },
      "source": [
        "def buscar_en_lista(lista):\n",
        "  numero=int(input(\"Ingresar un número entero: \"))\n",
        "  i=0\n",
        "  while (i<=len(lista)-1):\n",
        "    if numero == lista[i]:\n",
        "      return i\n",
        "    i += 1\n",
        "\n"
      ],
      "execution_count": null,
      "outputs": []
    },
    {
      "cell_type": "code",
      "metadata": {
        "colab": {
          "base_uri": "https://localhost:8080/"
        },
        "id": "QKdbsQRUehkW",
        "outputId": "9d0629d8-a8f5-4012-dff9-88b1c193ee0e"
      },
      "source": [
        "buscar_en_lista(list1)"
      ],
      "execution_count": null,
      "outputs": [
        {
          "name": "stdout",
          "output_type": "stream",
          "text": [
            "Ingresar un número entero: 3\n"
          ]
        },
        {
          "output_type": "execute_result",
          "data": {
            "text/plain": [
              "4"
            ]
          },
          "metadata": {},
          "execution_count": 68
        }
      ]
    },
    {
      "cell_type": "code",
      "metadata": {
        "id": "ZnomV90vfypk"
      },
      "source": [
        "A = []"
      ],
      "execution_count": null,
      "outputs": []
    },
    {
      "cell_type": "code",
      "metadata": {
        "id": "Jy0FD3cpf3Py"
      },
      "source": [
        "def llenar(lista):\n",
        "  i = 0\n",
        "  while True:\n",
        "    nombre=input(\"Ingrese nombre: \")\n",
        "    lista.append(nombre)\n",
        "    resp=input(\"Desea continuar [s/n]?\")\n",
        "    if resp==\"n\":\n",
        "      break\n",
        "    i += 1"
      ],
      "execution_count": null,
      "outputs": []
    },
    {
      "cell_type": "code",
      "metadata": {
        "colab": {
          "base_uri": "https://localhost:8080/"
        },
        "id": "sTUNIkddgFum",
        "outputId": "4f0dce76-3245-44d0-b6d5-2709bffd1634"
      },
      "source": [
        "llenar(A)\n",
        "A"
      ],
      "execution_count": null,
      "outputs": [
        {
          "name": "stdout",
          "output_type": "stream",
          "text": [
            "Ingrese nombre: ff\n",
            "Desea continuar [s/n]?s\n",
            "Ingrese nombre: dd\n",
            "Desea continuar [s/n]?n\n"
          ]
        },
        {
          "output_type": "execute_result",
          "data": {
            "text/plain": [
              "['Juan', 'Paola', 'Sandra', 'Ivanna', 'Marta', 'Jose', 'ff', 'dd']"
            ]
          },
          "metadata": {},
          "execution_count": 74
        }
      ]
    },
    {
      "cell_type": "code",
      "metadata": {
        "colab": {
          "base_uri": "https://localhost:8080/"
        },
        "id": "r960p9HogiAm",
        "outputId": "01d9e3e6-89c0-4986-8ff5-e0c7d3ed21d2"
      },
      "source": [
        "B=[]\n",
        "llenar(B)\n",
        "B"
      ],
      "execution_count": null,
      "outputs": [
        {
          "name": "stdout",
          "output_type": "stream",
          "text": [
            "Ingrese nombre: dddd\n",
            "Desea continuar [s/n]?s\n",
            "Ingrese nombre: hjhdfksd\n",
            "Desea continuar [s/n]?s\n",
            "Ingrese nombre: xxxxxxx\n",
            "Desea continuar [s/n]?n\n"
          ]
        },
        {
          "output_type": "execute_result",
          "data": {
            "text/plain": [
              "['dddd', 'hjhdfksd', 'xxxxxxx']"
            ]
          },
          "metadata": {},
          "execution_count": 75
        }
      ]
    },
    {
      "cell_type": "code",
      "metadata": {
        "id": "DWZNv3X6g2BC"
      },
      "source": [
        "def mostrar_lista(lista):\n",
        "  i=0\n",
        "  while (i<=len(lista)-1):\n",
        "    print(lista[i])\n",
        "    i += 1"
      ],
      "execution_count": null,
      "outputs": []
    },
    {
      "cell_type": "code",
      "metadata": {
        "colab": {
          "base_uri": "https://localhost:8080/"
        },
        "id": "9tW-uz_OhExb",
        "outputId": "97f99224-33a6-49a2-9ce7-272515c6bff3"
      },
      "source": [
        "mostrar_lista(A)"
      ],
      "execution_count": null,
      "outputs": [
        {
          "output_type": "stream",
          "name": "stdout",
          "text": [
            "Juan\n",
            "Paola\n",
            "Sandra\n",
            "Ivanna\n",
            "Marta\n",
            "Jose\n",
            "ff\n",
            "dd\n"
          ]
        }
      ]
    },
    {
      "cell_type": "code",
      "metadata": {
        "colab": {
          "base_uri": "https://localhost:8080/"
        },
        "id": "5efHdR7shIOd",
        "outputId": "2025e730-44f1-4fd4-faa2-cc5099bed8bb"
      },
      "source": [
        "mostrar_lista(B)"
      ],
      "execution_count": null,
      "outputs": [
        {
          "output_type": "stream",
          "name": "stdout",
          "text": [
            "dddd\n",
            "hjhdfksd\n",
            "xxxxxxx\n"
          ]
        }
      ]
    }
  ]
}