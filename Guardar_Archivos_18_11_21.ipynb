{
  "nbformat": 4,
  "nbformat_minor": 0,
  "metadata": {
    "colab": {
      "name": "Guardar_Archivos_18_11_21.ipynb",
      "provenance": [],
      "collapsed_sections": [],
      "include_colab_link": true
    },
    "kernelspec": {
      "name": "python3",
      "display_name": "Python 3"
    },
    "language_info": {
      "name": "python"
    }
  },
  "cells": [
    {
      "cell_type": "markdown",
      "metadata": {
        "id": "view-in-github",
        "colab_type": "text"
      },
      "source": [
        "<a href=\"https://colab.research.google.com/github/ClaudiaGonzalezScanu/aprendiendo_python/blob/main/Guardar_Archivos_18_11_21.ipynb\" target=\"_parent\"><img src=\"https://colab.research.google.com/assets/colab-badge.svg\" alt=\"Open In Colab\"/></a>"
      ]
    },
    {
      "cell_type": "code",
      "metadata": {
        "colab": {
          "base_uri": "https://localhost:8080/"
        },
        "id": "cB1DySV7mgGk",
        "outputId": "44eb8df3-41a2-40e5-a4c5-df0be04672fd"
      },
      "source": [
        "%%writefile texto.txt\n",
        "esta es una prueba de creación de archivos\n",
        "segunda linea\n",
        "otra linea"
      ],
      "execution_count": null,
      "outputs": [
        {
          "output_type": "stream",
          "name": "stdout",
          "text": [
            "Overwriting texto.txt\n"
          ]
        }
      ]
    },
    {
      "cell_type": "markdown",
      "metadata": {
        "id": "FjUf6ENbLKRF"
      },
      "source": [
        "Listar el directorio de trabajo:"
      ]
    },
    {
      "cell_type": "code",
      "metadata": {
        "colab": {
          "base_uri": "https://localhost:8080/"
        },
        "id": "hty0MKvUm00X",
        "outputId": "425a946b-4eca-43e0-de1e-d5a9e24b0542"
      },
      "source": [
        "!ls\n"
      ],
      "execution_count": null,
      "outputs": [
        {
          "output_type": "stream",
          "name": "stdout",
          "text": [
            "sample_data  texto.txt\n"
          ]
        }
      ]
    },
    {
      "cell_type": "markdown",
      "metadata": {
        "id": "x-C-_aQLLQCG"
      },
      "source": [
        "Abrir un archivo de texto, por omisión se abre en modo de lectura (read o \"r\"):"
      ]
    },
    {
      "cell_type": "code",
      "metadata": {
        "colab": {
          "base_uri": "https://localhost:8080/"
        },
        "id": "Wy5prpmIm5wh",
        "outputId": "ddd0c113-aa23-4708-c156-608ac03545ec"
      },
      "source": [
        "myfile=open(\"texto.txt\",\"r\")\n",
        "myfile"
      ],
      "execution_count": null,
      "outputs": [
        {
          "output_type": "execute_result",
          "data": {
            "text/plain": [
              "<_io.TextIOWrapper name='texto.txt' mode='r' encoding='UTF-8'>"
            ]
          },
          "metadata": {},
          "execution_count": 16
        }
      ]
    },
    {
      "cell_type": "markdown",
      "metadata": {
        "id": "khSx64rILcuD"
      },
      "source": [
        "Leer el contenido de un archivo, previamente abierto en modo de lectura:"
      ]
    },
    {
      "cell_type": "code",
      "metadata": {
        "colab": {
          "base_uri": "https://localhost:8080/"
        },
        "id": "viSTBJffnE_M",
        "outputId": "a08dab84-0a6f-4736-bfde-9d0909aa026a"
      },
      "source": [
        "myfile.seek(0)\n",
        "content=myfile.read()\n",
        "print(content)"
      ],
      "execution_count": null,
      "outputs": [
        {
          "output_type": "stream",
          "name": "stdout",
          "text": [
            "esta es una prueba de creación de archivos\n",
            "segunda linea\n",
            "otra linea\n"
          ]
        }
      ]
    },
    {
      "cell_type": "markdown",
      "metadata": {
        "id": "ay4NEDdQLoP9"
      },
      "source": [
        "Después de operar con un archivo, siempre es recomendable cerrar el archivo:"
      ]
    },
    {
      "cell_type": "code",
      "metadata": {
        "id": "IaD8hZ8dnvwV"
      },
      "source": [
        "myfile.close()"
      ],
      "execution_count": null,
      "outputs": []
    },
    {
      "cell_type": "markdown",
      "metadata": {
        "id": "0br8fAskLwn_"
      },
      "source": [
        "Leer un archivo línea por línea:"
      ]
    },
    {
      "cell_type": "code",
      "metadata": {
        "colab": {
          "base_uri": "https://localhost:8080/"
        },
        "id": "Hrzw87Wwn556",
        "outputId": "db001f21-3346-41db-8077-68c2fba1d628"
      },
      "source": [
        "myfile=open(\"texto.txt\")\n",
        "mylines=myfile.readlines()\n",
        "for line in mylines:\n",
        "  print(line)\n"
      ],
      "execution_count": null,
      "outputs": [
        {
          "output_type": "stream",
          "name": "stdout",
          "text": [
            "esta es una prueba de creación de archivos\n",
            "\n",
            "segunda linea\n",
            "\n",
            "otra linea\n"
          ]
        }
      ]
    },
    {
      "cell_type": "markdown",
      "metadata": {
        "id": "cO-_6l0oL4ih"
      },
      "source": [
        "Tal como es posible abrir un archivo para lectura,  podemos abrirlo para escritura (write o \"w\") o bien para agregar información en el (append o \"a\"):"
      ]
    },
    {
      "cell_type": "code",
      "metadata": {
        "id": "8_IQ9Q_Vo7Hf"
      },
      "source": [
        "myfile=open(\"texto.txt\",\"a+\")\n",
        "myfile.read()\n",
        "myfile.write(\"\\n\"+\"qq qqq qqqqqqqqqqq\")\n",
        "myfile.seek(0)\n",
        "myfile.read()\n",
        "myfile.close()\n"
      ],
      "execution_count": null,
      "outputs": []
    },
    {
      "cell_type": "code",
      "metadata": {
        "id": "pH0_Ia_0raPk"
      },
      "source": [
        ""
      ],
      "execution_count": null,
      "outputs": []
    },
    {
      "cell_type": "code",
      "metadata": {
        "colab": {
          "base_uri": "https://localhost:8080/"
        },
        "id": "iV2mhA-Cpryi",
        "outputId": "c9919fc7-7138-4e33-a083-8f59ef870959"
      },
      "source": [
        "myfile=open(\"texto.txt\")\n",
        "myfile.seek(0)\n",
        "content=myfile.read()\n",
        "print(content)"
      ],
      "execution_count": null,
      "outputs": [
        {
          "output_type": "stream",
          "name": "stdout",
          "text": [
            "esta es una prueba de creación de archivos\n",
            "segunda linea\n",
            "otra linea\n",
            "xxxxx xxxxx xxxxx\n",
            "qq qqq qqqqqqqqqqq\n"
          ]
        }
      ]
    },
    {
      "cell_type": "code",
      "metadata": {
        "colab": {
          "base_uri": "https://localhost:8080/"
        },
        "id": "syeJ8_KrRb9u",
        "outputId": "9360c68c-66cb-4bb1-dd36-4d60299976e7"
      },
      "source": [
        "myfile=open(\"base.txt\",\"w+\")\n",
        "while True:\n",
        "  nombre=input(\"Ingrese nombre: \")\n",
        "  if nombre != \"*\":\n",
        "    puntaje=input(\"Ingrese puntaje: \")\n",
        "    cadena=nombre+\",\"+puntaje+\"\\n\"\n",
        "    myfile.write(cadena)\n",
        "  else:\n",
        "    break\n",
        "myfile.close()\n",
        "\n"
      ],
      "execution_count": null,
      "outputs": [
        {
          "name": "stdout",
          "output_type": "stream",
          "text": [
            "Ingrese nombre: Marta\n",
            "Ingrese puntaje: 4.5\n",
            "Ingrese nombre: Sandra\n",
            "Ingrese puntaje: 5.6\n",
            "Ingrese nombre: Carla\n",
            "Ingrese puntaje: 4.9\n",
            "Ingrese nombre: Claudia\n",
            "Ingrese puntaje: 7.5\n",
            "Ingrese nombre: Juan\n",
            "Ingrese puntaje: 5.9\n",
            "Ingrese nombre: Katherina\n",
            "Ingrese puntaje: 8.2\n",
            "Ingrese nombre: Jaime\n",
            "Ingrese puntaje: 7.2\n",
            "Ingrese nombre: *\n"
          ]
        }
      ]
    },
    {
      "cell_type": "code",
      "metadata": {
        "colab": {
          "base_uri": "https://localhost:8080/"
        },
        "id": "lpRrN-tFTSoq",
        "outputId": "308b4766-57db-4420-9ba3-8ba61922ad79"
      },
      "source": [
        "myfile=open(\"base.txt\")\n",
        "myfile.seek(0)\n",
        "content=myfile.read()\n",
        "print(content)"
      ],
      "execution_count": null,
      "outputs": [
        {
          "output_type": "stream",
          "name": "stdout",
          "text": [
            "Marta,4.5\n",
            "Sandra,5.6\n",
            "Carla,4.9\n",
            "Claudia,7.5\n",
            "Juan,5.9\n",
            "Katherina,8.2\n",
            "Jaime,7.2\n",
            "\n"
          ]
        }
      ]
    },
    {
      "cell_type": "code",
      "metadata": {
        "colab": {
          "base_uri": "https://localhost:8080/",
          "height": 269
        },
        "id": "INFYWnqNUQZM",
        "outputId": "73949c28-99a6-4263-81ee-ad6efd29a64d"
      },
      "source": [
        "import pandas as pd\n",
        "df=pd.read_csv(\"base.txt\",header=None)\n",
        "df"
      ],
      "execution_count": null,
      "outputs": [
        {
          "output_type": "execute_result",
          "data": {
            "text/html": [
              "<div>\n",
              "<style scoped>\n",
              "    .dataframe tbody tr th:only-of-type {\n",
              "        vertical-align: middle;\n",
              "    }\n",
              "\n",
              "    .dataframe tbody tr th {\n",
              "        vertical-align: top;\n",
              "    }\n",
              "\n",
              "    .dataframe thead th {\n",
              "        text-align: right;\n",
              "    }\n",
              "</style>\n",
              "<table border=\"1\" class=\"dataframe\">\n",
              "  <thead>\n",
              "    <tr style=\"text-align: right;\">\n",
              "      <th></th>\n",
              "      <th>0</th>\n",
              "      <th>1</th>\n",
              "    </tr>\n",
              "  </thead>\n",
              "  <tbody>\n",
              "    <tr>\n",
              "      <th>0</th>\n",
              "      <td>Marta</td>\n",
              "      <td>4.5</td>\n",
              "    </tr>\n",
              "    <tr>\n",
              "      <th>1</th>\n",
              "      <td>Sandra</td>\n",
              "      <td>5.6</td>\n",
              "    </tr>\n",
              "    <tr>\n",
              "      <th>2</th>\n",
              "      <td>Carla</td>\n",
              "      <td>4.9</td>\n",
              "    </tr>\n",
              "    <tr>\n",
              "      <th>3</th>\n",
              "      <td>Claudia</td>\n",
              "      <td>7.5</td>\n",
              "    </tr>\n",
              "    <tr>\n",
              "      <th>4</th>\n",
              "      <td>Juan</td>\n",
              "      <td>5.9</td>\n",
              "    </tr>\n",
              "    <tr>\n",
              "      <th>5</th>\n",
              "      <td>Katherina</td>\n",
              "      <td>8.2</td>\n",
              "    </tr>\n",
              "    <tr>\n",
              "      <th>6</th>\n",
              "      <td>Jaime</td>\n",
              "      <td>7.2</td>\n",
              "    </tr>\n",
              "  </tbody>\n",
              "</table>\n",
              "</div>"
            ],
            "text/plain": [
              "           0    1\n",
              "0      Marta  4.5\n",
              "1     Sandra  5.6\n",
              "2      Carla  4.9\n",
              "3    Claudia  7.5\n",
              "4       Juan  5.9\n",
              "5  Katherina  8.2\n",
              "6      Jaime  7.2"
            ]
          },
          "metadata": {},
          "execution_count": 35
        }
      ]
    },
    {
      "cell_type": "markdown",
      "metadata": {
        "id": "d5gQmyybW5py"
      },
      "source": [
        "Podemos cambiar los nombres de las columnas de un DataFrame, usando el método **rename**:"
      ]
    },
    {
      "cell_type": "code",
      "metadata": {
        "colab": {
          "base_uri": "https://localhost:8080/",
          "height": 269
        },
        "id": "WDGtPF-hVn6n",
        "outputId": "f9c072b3-8078-4a4b-c45f-37e0b75c5e4e"
      },
      "source": [
        "df.rename(columns={0:\"Nombre\",1:\"Puntaje\"},inplace=True)\n",
        "df"
      ],
      "execution_count": null,
      "outputs": [
        {
          "output_type": "execute_result",
          "data": {
            "text/html": [
              "<div>\n",
              "<style scoped>\n",
              "    .dataframe tbody tr th:only-of-type {\n",
              "        vertical-align: middle;\n",
              "    }\n",
              "\n",
              "    .dataframe tbody tr th {\n",
              "        vertical-align: top;\n",
              "    }\n",
              "\n",
              "    .dataframe thead th {\n",
              "        text-align: right;\n",
              "    }\n",
              "</style>\n",
              "<table border=\"1\" class=\"dataframe\">\n",
              "  <thead>\n",
              "    <tr style=\"text-align: right;\">\n",
              "      <th></th>\n",
              "      <th>Nombre</th>\n",
              "      <th>Puntaje</th>\n",
              "    </tr>\n",
              "  </thead>\n",
              "  <tbody>\n",
              "    <tr>\n",
              "      <th>0</th>\n",
              "      <td>Marta</td>\n",
              "      <td>4.5</td>\n",
              "    </tr>\n",
              "    <tr>\n",
              "      <th>1</th>\n",
              "      <td>Sandra</td>\n",
              "      <td>5.6</td>\n",
              "    </tr>\n",
              "    <tr>\n",
              "      <th>2</th>\n",
              "      <td>Carla</td>\n",
              "      <td>4.9</td>\n",
              "    </tr>\n",
              "    <tr>\n",
              "      <th>3</th>\n",
              "      <td>Claudia</td>\n",
              "      <td>7.5</td>\n",
              "    </tr>\n",
              "    <tr>\n",
              "      <th>4</th>\n",
              "      <td>Juan</td>\n",
              "      <td>5.9</td>\n",
              "    </tr>\n",
              "    <tr>\n",
              "      <th>5</th>\n",
              "      <td>Katherina</td>\n",
              "      <td>8.2</td>\n",
              "    </tr>\n",
              "    <tr>\n",
              "      <th>6</th>\n",
              "      <td>Jaime</td>\n",
              "      <td>7.2</td>\n",
              "    </tr>\n",
              "  </tbody>\n",
              "</table>\n",
              "</div>"
            ],
            "text/plain": [
              "      Nombre  Puntaje\n",
              "0      Marta      4.5\n",
              "1     Sandra      5.6\n",
              "2      Carla      4.9\n",
              "3    Claudia      7.5\n",
              "4       Juan      5.9\n",
              "5  Katherina      8.2\n",
              "6      Jaime      7.2"
            ]
          },
          "metadata": {},
          "execution_count": 43
        }
      ]
    },
    {
      "cell_type": "code",
      "metadata": {
        "colab": {
          "base_uri": "https://localhost:8080/",
          "height": 300
        },
        "id": "la2uUg7aZA0Z",
        "outputId": "b7288919-8d41-4417-f9cd-e0db874e2c1c"
      },
      "source": [
        "df.describe()"
      ],
      "execution_count": null,
      "outputs": [
        {
          "output_type": "execute_result",
          "data": {
            "text/html": [
              "<div>\n",
              "<style scoped>\n",
              "    .dataframe tbody tr th:only-of-type {\n",
              "        vertical-align: middle;\n",
              "    }\n",
              "\n",
              "    .dataframe tbody tr th {\n",
              "        vertical-align: top;\n",
              "    }\n",
              "\n",
              "    .dataframe thead th {\n",
              "        text-align: right;\n",
              "    }\n",
              "</style>\n",
              "<table border=\"1\" class=\"dataframe\">\n",
              "  <thead>\n",
              "    <tr style=\"text-align: right;\">\n",
              "      <th></th>\n",
              "      <th>Puntaje</th>\n",
              "    </tr>\n",
              "  </thead>\n",
              "  <tbody>\n",
              "    <tr>\n",
              "      <th>count</th>\n",
              "      <td>7.000000</td>\n",
              "    </tr>\n",
              "    <tr>\n",
              "      <th>mean</th>\n",
              "      <td>6.257143</td>\n",
              "    </tr>\n",
              "    <tr>\n",
              "      <th>std</th>\n",
              "      <td>1.396253</td>\n",
              "    </tr>\n",
              "    <tr>\n",
              "      <th>min</th>\n",
              "      <td>4.500000</td>\n",
              "    </tr>\n",
              "    <tr>\n",
              "      <th>25%</th>\n",
              "      <td>5.250000</td>\n",
              "    </tr>\n",
              "    <tr>\n",
              "      <th>50%</th>\n",
              "      <td>5.900000</td>\n",
              "    </tr>\n",
              "    <tr>\n",
              "      <th>75%</th>\n",
              "      <td>7.350000</td>\n",
              "    </tr>\n",
              "    <tr>\n",
              "      <th>max</th>\n",
              "      <td>8.200000</td>\n",
              "    </tr>\n",
              "  </tbody>\n",
              "</table>\n",
              "</div>"
            ],
            "text/plain": [
              "        Puntaje\n",
              "count  7.000000\n",
              "mean   6.257143\n",
              "std    1.396253\n",
              "min    4.500000\n",
              "25%    5.250000\n",
              "50%    5.900000\n",
              "75%    7.350000\n",
              "max    8.200000"
            ]
          },
          "metadata": {},
          "execution_count": 44
        }
      ]
    }
  ]
}