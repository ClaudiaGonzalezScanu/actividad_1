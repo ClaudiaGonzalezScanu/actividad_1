{
  "nbformat": 4,
  "nbformat_minor": 0,
  "metadata": {
    "colab": {
      "name": "Clase_19.11.21_GraficosMatplotlib1.ipynb",
      "provenance": [],
      "collapsed_sections": [],
      "include_colab_link": true
    },
    "kernelspec": {
      "name": "python3",
      "display_name": "Python 3"
    },
    "language_info": {
      "name": "python"
    }
  },
  "cells": [
    {
      "cell_type": "markdown",
      "metadata": {
        "id": "view-in-github",
        "colab_type": "text"
      },
      "source": [
        "<a href=\"https://colab.research.google.com/github/ClaudiaGonzalezScanu/aprendiendo_python/blob/main/Clase_19_11_21_GraficosMatplotlib1.ipynb\" target=\"_parent\"><img src=\"https://colab.research.google.com/assets/colab-badge.svg\" alt=\"Open In Colab\"/></a>"
      ]
    },
    {
      "cell_type": "code",
      "metadata": {
        "id": "mvzmlXCK2hxd"
      },
      "source": [
        "import pandas as pd \n",
        "import numpy as np \n",
        "import matplotlib.pyplot as plt"
      ],
      "execution_count": null,
      "outputs": []
    },
    {
      "cell_type": "code",
      "metadata": {
        "colab": {
          "base_uri": "https://localhost:8080/",
          "height": 265
        },
        "id": "BKMn-QEVbhIx",
        "outputId": "b1f9db20-e80c-422a-db42-b00de69fefd9"
      },
      "source": [
        "# Importar el módulo pyplot con el alias plt \n",
        "import matplotlib.pyplot as plt \n",
        "# Crear la figura y los ejes \n",
        "fig, ax = plt.subplots() \n",
        "# Dibujar puntos \n",
        "ax.scatter(x = [1, 2, 3, 4, 5, 6, 7], y = [3, 2, 2.3, 2.5, 3, 2.8, 4]) \n",
        "# Guardar el gráfico en formato png \n",
        "plt.savefig('xxxx.png') \n",
        "# Mostrar el gráfico \n",
        "plt.show()\n"
      ],
      "execution_count": null,
      "outputs": [
        {
          "output_type": "display_data",
          "data": {
            "image/png": "[encoded data removed]",
            "text/plain": [
              "<Figure size 432x288 with 1 Axes>"
            ]
          },
          "metadata": {
            "needs_background": "light"
          }
        }
      ]
    },
    {
      "cell_type": "code",
      "metadata": {
        "colab": {
          "base_uri": "https://localhost:8080/"
        },
        "id": "sPbbTMItb2Nb",
        "outputId": "deb2e277-9092-459a-c175-132bf8c83945"
      },
      "source": [
        "!ls"
      ],
      "execution_count": null,
      "outputs": [
        {
          "output_type": "stream",
          "name": "stdout",
          "text": [
            "diagrama-dispersion.png  sample_data  xxxx.png\n"
          ]
        }
      ]
    },
    {
      "cell_type": "code",
      "metadata": {
        "colab": {
          "base_uri": "https://localhost:8080/",
          "height": 237
        },
        "id": "wa-0YWlj2kLa",
        "outputId": "57318efd-256f-4bfd-894e-54d56057d9e3"
      },
      "source": [
        "Nombre_Edad = {'Nombre'  : ['Juan', 'Ana', 'Pablo', 'Rene', 'Orlando','Paola'],\n",
        "               'Edad'    : [32, 55, 20, 43, 30,22],\n",
        "               'Sexo'    : ['M','F','M','M','M','F'],\n",
        "               'Puntaje' : [4.5,6.5,7.2,3.4,8.2,7.8]} \n",
        "df = pd.DataFrame(Nombre_Edad)\n",
        "df"
      ],
      "execution_count": null,
      "outputs": [
        {
          "output_type": "execute_result",
          "data": {
            "text/html": [
              "<div>\n",
              "<style scoped>\n",
              "    .dataframe tbody tr th:only-of-type {\n",
              "        vertical-align: middle;\n",
              "    }\n",
              "\n",
              "    .dataframe tbody tr th {\n",
              "        vertical-align: top;\n",
              "    }\n",
              "\n",
              "    .dataframe thead th {\n",
              "        text-align: right;\n",
              "    }\n",
              "</style>\n",
              "<table border=\"1\" class=\"dataframe\">\n",
              "  <thead>\n",
              "    <tr style=\"text-align: right;\">\n",
              "      <th></th>\n",
              "      <th>Nombre</th>\n",
              "      <th>Edad</th>\n",
              "      <th>Sexo</th>\n",
              "      <th>Puntaje</th>\n",
              "    </tr>\n",
              "  </thead>\n",
              "  <tbody>\n",
              "    <tr>\n",
              "      <th>0</th>\n",
              "      <td>Juan</td>\n",
              "      <td>32</td>\n",
              "      <td>M</td>\n",
              "      <td>4.5</td>\n",
              "    </tr>\n",
              "    <tr>\n",
              "      <th>1</th>\n",
              "      <td>Ana</td>\n",
              "      <td>55</td>\n",
              "      <td>F</td>\n",
              "      <td>6.5</td>\n",
              "    </tr>\n",
              "    <tr>\n",
              "      <th>2</th>\n",
              "      <td>Pablo</td>\n",
              "      <td>20</td>\n",
              "      <td>M</td>\n",
              "      <td>7.2</td>\n",
              "    </tr>\n",
              "    <tr>\n",
              "      <th>3</th>\n",
              "      <td>Rene</td>\n",
              "      <td>43</td>\n",
              "      <td>M</td>\n",
              "      <td>3.4</td>\n",
              "    </tr>\n",
              "    <tr>\n",
              "      <th>4</th>\n",
              "      <td>Orlando</td>\n",
              "      <td>30</td>\n",
              "      <td>M</td>\n",
              "      <td>8.2</td>\n",
              "    </tr>\n",
              "    <tr>\n",
              "      <th>5</th>\n",
              "      <td>Paola</td>\n",
              "      <td>22</td>\n",
              "      <td>F</td>\n",
              "      <td>7.8</td>\n",
              "    </tr>\n",
              "  </tbody>\n",
              "</table>\n",
              "</div>"
            ],
            "text/plain": [
              "    Nombre  Edad Sexo  Puntaje\n",
              "0     Juan    32    M      4.5\n",
              "1      Ana    55    F      6.5\n",
              "2    Pablo    20    M      7.2\n",
              "3     Rene    43    M      3.4\n",
              "4  Orlando    30    M      8.2\n",
              "5    Paola    22    F      7.8"
            ]
          },
          "metadata": {},
          "execution_count": 42
        }
      ]
    },
    {
      "cell_type": "markdown",
      "metadata": {
        "id": "kM_tJUfC_WbE"
      },
      "source": [
        "**Gráfico de dispersión**"
      ]
    },
    {
      "cell_type": "markdown",
      "metadata": {
        "id": "_BLHCND2_exM"
      },
      "source": [
        "Los gráficos de dispersión (**método scatter**) muestran el comportamiento de los datos de acuerdo con dos variables distintas."
      ]
    },
    {
      "cell_type": "code",
      "metadata": {
        "colab": {
          "base_uri": "https://localhost:8080/",
          "height": 265
        },
        "id": "b6yxQpaG2rJe",
        "outputId": "cc824992-9378-470f-83ac-aeb2712b3356"
      },
      "source": [
        "fig,ax=plt.subplots()\n",
        "ax=plt.scatter(df.Edad,df.Puntaje)\n",
        "plt.show()"
      ],
      "execution_count": null,
      "outputs": [
        {
          "output_type": "display_data",
          "data": {
            "image/png": "[encoded data removed]",
            "text/plain": [
              "<Figure size 432x288 with 1 Axes>"
            ]
          },
          "metadata": {
            "needs_background": "light"
          }
        }
      ]
    },
    {
      "cell_type": "markdown",
      "metadata": {
        "id": "2y93109d_2P2"
      },
      "source": [
        "**Gráfico de líneas**"
      ]
    },
    {
      "cell_type": "code",
      "metadata": {
        "colab": {
          "base_uri": "https://localhost:8080/",
          "height": 265
        },
        "id": "y2gC0A4y3lNY",
        "outputId": "d47ad72b-76dd-4be0-bc22-3c2dc477a5ca"
      },
      "source": [
        "fig,ax=plt.subplots()\n",
        "ax=plt.plot(df.Nombre,df.Puntaje)\n",
        "plt.show()"
      ],
      "execution_count": null,
      "outputs": [
        {
          "output_type": "display_data",
          "data": {
            "image/png": "[encoded data removed]",
            "text/plain": [
              "<Figure size 432x288 with 1 Axes>"
            ]
          },
          "metadata": {
            "needs_background": "light"
          }
        }
      ]
    },
    {
      "cell_type": "markdown",
      "metadata": {
        "id": "L5Ppdg_D_8Gv"
      },
      "source": [
        "**Gráfico de barras**"
      ]
    },
    {
      "cell_type": "code",
      "metadata": {
        "colab": {
          "base_uri": "https://localhost:8080/",
          "height": 265
        },
        "id": "QAHx_H0W3x_G",
        "outputId": "bc9da766-9841-4a42-99d1-bf53706e31c9"
      },
      "source": [
        "fig,ax=plt.subplots()\n",
        "ax=plt.bar(df.Nombre,df.Puntaje)\n",
        "plt.show()"
      ],
      "execution_count": null,
      "outputs": [
        {
          "output_type": "display_data",
          "data": {
            "image/png": "[encoded data removed]",
            "text/plain": [
              "<Figure size 432x288 with 1 Axes>"
            ]
          },
          "metadata": {
            "needs_background": "light"
          }
        }
      ]
    },
    {
      "cell_type": "code",
      "metadata": {
        "colab": {
          "base_uri": "https://localhost:8080/",
          "height": 265
        },
        "id": "0wI3Zc7Kft93",
        "outputId": "5a28d86c-0f97-4844-db09-e9a6a8c94055"
      },
      "source": [
        "fig,ax=plt.subplots()\n",
        "ax=plt.barh(df.Nombre,df.Puntaje)\n",
        "plt.show()"
      ],
      "execution_count": null,
      "outputs": [
        {
          "output_type": "display_data",
          "data": {
            "image/png": "[encoded data removed]",
            "text/plain": [
              "<Figure size 432x288 with 1 Axes>"
            ]
          },
          "metadata": {
            "needs_background": "light"
          }
        }
      ]
    },
    {
      "cell_type": "code",
      "metadata": {
        "colab": {
          "base_uri": "https://localhost:8080/",
          "height": 248
        },
        "id": "83FPb7EG5ZND",
        "outputId": "36c01cca-7fdc-4df4-a9b7-a801f28ebb4e"
      },
      "source": [
        "fig,ax=plt.subplots()\n",
        "ax=plt.pie(df.Edad)\n",
        "plt.show()"
      ],
      "execution_count": null,
      "outputs": [
        {
          "output_type": "display_data",
          "data": {
            "image/png": "[encoded data removed]",
            "text/plain": [
              "<Figure size 432x288 with 1 Axes>"
            ]
          },
          "metadata": {}
        }
      ]
    },
    {
      "cell_type": "code",
      "metadata": {
        "colab": {
          "base_uri": "https://localhost:8080/",
          "height": 265
        },
        "id": "jEpu86hY5mQd",
        "outputId": "be8ea935-bc9f-4cf9-83c6-bd4ae69a16bf"
      },
      "source": [
        "fig,ax=plt.subplots()\n",
        "ax=plt.boxplot(df.Puntaje)\n",
        "plt.show()"
      ],
      "execution_count": null,
      "outputs": [
        {
          "output_type": "display_data",
          "data": {
            "image/png": "[encoded data removed]",
            "text/plain": [
              "<Figure size 432x288 with 1 Axes>"
            ]
          },
          "metadata": {
            "needs_background": "light"
          }
        }
      ]
    },
    {
      "cell_type": "code",
      "metadata": {
        "colab": {
          "base_uri": "https://localhost:8080/",
          "height": 265
        },
        "id": "SM0mUoOzgSwo",
        "outputId": "392051be-606c-46eb-c66d-4efdc2566950"
      },
      "source": [
        "fig,ax=plt.subplots()\n",
        "ax=plt.boxplot(df.Puntaje,vert=False)\n",
        "plt.show()"
      ],
      "execution_count": null,
      "outputs": [
        {
          "output_type": "display_data",
          "data": {
            "image/png": "[encoded data removed]",
            "text/plain": [
              "<Figure size 432x288 with 1 Axes>"
            ]
          },
          "metadata": {
            "needs_background": "light"
          }
        }
      ]
    },
    {
      "cell_type": "code",
      "metadata": {
        "colab": {
          "base_uri": "https://localhost:8080/",
          "height": 299
        },
        "id": "bTJD9iRj0lgp",
        "outputId": "aff1a2ca-f361-461d-9ece-26cb1594b3eb"
      },
      "source": [
        "fig,ax=plt.subplots()\n",
        "ax.scatter(df.Edad,df.Puntaje, marker=\"$\\clubsuit$\", color=\"red\")\n",
        "plt.title(\"Titulo del Grafico\", fontdict = {'fontsize':14, 'fontweight':'bold', 'color':'black'})\n",
        "ax.set_xlabel(\"Edades\", fontdict = {'fontsize':12, 'fontweight':'bold', 'color':'tab:blue'})\n",
        "ax.set_ylabel(\"Puntajes\")\n",
        "ax.grid(axis=\"y\", color=\"gray\", linestyle=\"dashed\")\n",
        "plt.show()"
      ],
      "execution_count": null,
      "outputs": [
        {
          "output_type": "display_data",
          "data": {
            "image/png": "[encoded data removed]",
            "text/plain": [
              "<Figure size 432x288 with 1 Axes>"
            ]
          },
          "metadata": {
            "needs_background": "light"
          }
        }
      ]
    },
    {
      "cell_type": "code",
      "metadata": {
        "colab": {
          "base_uri": "https://localhost:8080/",
          "height": 295
        },
        "id": "7mCWzbrM8M_V",
        "outputId": "fd4db860-743a-4d38-9a7d-873bf5b51759"
      },
      "source": [
        "import matplotlib.pyplot as plt\n",
        "fig, ax = plt.subplots()\n",
        "dias = ['L', 'M', 'X', 'J', 'V', 'S', 'D']\n",
        "temperaturas = {'Madrid'   : [28.5, 30.5, 31, 30, 28, 27.5, 30.5], \n",
        "                'Barcelona': [24.5, 25.5, 26.5, 25, 26.5, 24.5, 25]\n",
        "               }\n",
        "\n",
        "ax.plot(dias, temperaturas['Madrid'],label=\"Madrid\",marker = '^')\n",
        "ax.plot(dias, temperaturas['Barcelona'],label=\"Barcelona\",marker = 'o')\n",
        "# Titulos\n",
        "plt.title(\"TEMPERATURAS\")\n",
        "ax.set_xlabel(\"Días\", fontdict = {'fontsize':10, 'fontweight':'bold', 'color':'tab:blue'})\n",
        "ax.set_ylabel(\"Temperatura ºC\", fontdict = {'fontsize':10, 'fontweight':'bold', 'color':'tab:blue'})\n",
        "# Leyenda\n",
        "ax.legend(loc = 'upper right')\n",
        "# Grilla\n",
        "ax.grid(axis = 'y', color = 'gray', linestyle = 'dashed')\n",
        "\n",
        "plt.savefig('temperaturas.png') \n",
        "plt.show()\n"
      ],
      "execution_count": null,
      "outputs": [
        {
          "output_type": "display_data",
          "data": {
            "image/png": "[encoded data removed]",
            "text/plain": [
              "<Figure size 432x288 with 1 Axes>"
            ]
          },
          "metadata": {
            "needs_background": "light"
          }
        }
      ]
    },
    {
      "cell_type": "code",
      "metadata": {
        "colab": {
          "base_uri": "https://localhost:8080/"
        },
        "id": "a6F6FSEz9aec",
        "outputId": "983ec873-4332-4e65-d313-80eccc5ee3f9"
      },
      "source": [
        "!ls\n"
      ],
      "execution_count": null,
      "outputs": [
        {
          "output_type": "stream",
          "name": "stdout",
          "text": [
            " diagrama-dispersion.png  'MOCK_DATA (2).csv'   sample_data\t   xxxx.png\n",
            "'MOCK_DATA (1).csv'\t   MOCK_DATA.csv        temperaturas.png\n"
          ]
        }
      ]
    }
  ]
}