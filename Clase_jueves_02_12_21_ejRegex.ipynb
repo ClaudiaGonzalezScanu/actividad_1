{
  "nbformat": 4,
  "nbformat_minor": 0,
  "metadata": {
    "colab": {
      "name": "Clase_jueves.02.12.21_ejRegex.ipynb",
      "provenance": [],
      "collapsed_sections": [],
      "include_colab_link": true
    },
    "kernelspec": {
      "name": "python3",
      "display_name": "Python 3"
    },
    "language_info": {
      "name": "python"
    }
  },
  "cells": [
    {
      "cell_type": "markdown",
      "metadata": {
        "id": "view-in-github",
        "colab_type": "text"
      },
      "source": [
        "<a href=\"https://colab.research.google.com/github/ClaudiaGonzalezScanu/aprendiendo_python/blob/main/Clase_jueves_02_12_21_ejRegex.ipynb\" target=\"_parent\"><img src=\"https://colab.research.google.com/assets/colab-badge.svg\" alt=\"Open In Colab\"/></a>"
      ]
    },
    {
      "cell_type": "markdown",
      "metadata": {
        "id": "PjaXaErAo8uK"
      },
      "source": [
        "Desafio 1:\n",
        "El archivo grades.txt contiene una línea separada de estudiantes con el grado obtenido en una clase.\n",
        "\n",
        "Crear una expresión regular que permita generar un listado de aquellos estudiantes que recibieron \"B\" en el curso. "
      ]
    },
    {
      "cell_type": "code",
      "metadata": {
        "colab": {
          "base_uri": "https://localhost:8080/"
        },
        "id": "-S85fqrZn1xC",
        "outputId": "5790aef4-7979-4a80-edd3-a2a9837cae64"
      },
      "source": [
        "%%writefile grades.txt\n",
        "Juan Perez: B\n",
        "Ana Marquez: A\n",
        "Paola Rojas: C\n",
        "Pablo Diaz: B\n",
        "Fran Gomez: C\n",
        "Sandra Espejo: A\n",
        "Camilo Huerta: B"
      ],
      "execution_count": null,
      "outputs": [
        {
          "output_type": "stream",
          "name": "stdout",
          "text": [
            "Overwriting grades.txt\n"
          ]
        }
      ]
    },
    {
      "cell_type": "code",
      "metadata": {
        "id": "_Dz2BYEPoXlH"
      },
      "source": [
        "import re\n",
        "with open(\"grades.txt\", \"r\") as file:\n",
        "  grades = file.read()"
      ],
      "execution_count": null,
      "outputs": []
    },
    {
      "cell_type": "code",
      "metadata": {
        "colab": {
          "base_uri": "https://localhost:8080/"
        },
        "id": "_0RSNClPomwV",
        "outputId": "755470c4-409a-40b2-d15f-2edafd46b49a"
      },
      "source": [
        "lista1=re.findall(\"[A-Z][a-z]*\\s[A-Z][a-z]*:\\sB\",grades)\n",
        "lista1"
      ],
      "execution_count": null,
      "outputs": [
        {
          "output_type": "execute_result",
          "data": {
            "text/plain": [
              "['Juan Perez: B', 'Pablo Diaz: B', 'Camilo Huerta: B']"
            ]
          },
          "metadata": {},
          "execution_count": 8
        }
      ]
    },
    {
      "cell_type": "code",
      "metadata": {
        "colab": {
          "base_uri": "https://localhost:8080/"
        },
        "id": "PDulGn0-s2nM",
        "outputId": "a931a198-db31-4806-baca-4c5c5f995883"
      },
      "source": [
        "lista=[]\n",
        "for item in lista1:\n",
        "  item1=item.split(\":\")\n",
        "  lista.append(item1[0])\n",
        "lista"
      ],
      "execution_count": null,
      "outputs": [
        {
          "output_type": "execute_result",
          "data": {
            "text/plain": [
              "['Juan Perez', 'Pablo Diaz', 'Camilo Huerta']"
            ]
          },
          "metadata": {},
          "execution_count": 9
        }
      ]
    },
    {
      "cell_type": "markdown",
      "metadata": {
        "id": "GNocIEEDtpVs"
      },
      "source": [
        "Desafio 2: \n",
        "Considere el texto: text=\"fecha 1: 21/Jun/2019:15:45:24 -0700, luego fecha 2 es: 12/Dic/2021:16:16:16 -0800\" \n",
        "Escribir y probar una expresión regular para la especificación de fechas del texto."
      ]
    },
    {
      "cell_type": "code",
      "metadata": {
        "colab": {
          "base_uri": "https://localhost:8080/"
        },
        "id": "kQVUJgqZup-r",
        "outputId": "9d1901ce-bd82-4210-80c7-904bd8abbbe5"
      },
      "source": [
        "text=\"fecha 1: 21/Jun/2019:15:45:24 -0700, luego fecha 2 es: 12/Dic/2021:16:16:16 -0800. El demás texto es solo basura!, esta es otra especificacion: 21/Jun/2019:95:45:24 -0700\"\n",
        "patron=r\"([0-9]{2}\\/[ADEFJMNOS][a-z]{2}\\/[0-9]{4}:(?:[01]\\d|2[0-3]):[0-5]\\d:[0-5][0-9]\\s-\\d{4})\"\n",
        "timestamps=re.findall(patron,text)\n",
        "timestamps\n"
      ],
      "execution_count": null,
      "outputs": [
        {
          "output_type": "execute_result",
          "data": {
            "text/plain": [
              "['21/Jun/2019:15:45:24 -0700', '12/Dic/2021:16:16:16 -0800']"
            ]
          },
          "metadata": {},
          "execution_count": 27
        }
      ]
    },
    {
      "cell_type": "markdown",
      "metadata": {
        "id": "Bx4eyQTO9kjf"
      },
      "source": [
        "Posible pifias: creo que se aceptaría 00/Jun/..., creo que NO se aceptaría 1/Jun/... en el año, se aceptaría 0000.\n",
        "Tratar de arreglarlas!!"
      ]
    }
  ]
}