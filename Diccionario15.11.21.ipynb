{
  "nbformat": 4,
  "nbformat_minor": 0,
  "metadata": {
    "colab": {
      "name": "Copia de Untitled14.ipynb",
      "provenance": [],
      "collapsed_sections": [],
      "include_colab_link": true
    },
    "kernelspec": {
      "name": "python3",
      "display_name": "Python 3"
    },
    "language_info": {
      "name": "python"
    }
  },
  "cells": [
    {
      "cell_type": "markdown",
      "metadata": {
        "id": "view-in-github",
        "colab_type": "text"
      },
      "source": [
        "<a href=\"https://colab.research.google.com/github/ClaudiaGonzalezScanu/aprendiendo_python/blob/main/Diccionario15.11.21.ipynb\" target=\"_parent\"><img src=\"https://colab.research.google.com/assets/colab-badge.svg\" alt=\"Open In Colab\"/></a>"
      ]
    },
    {
      "cell_type": "markdown",
      "metadata": {
        "id": "FkW_JgnHHwbo"
      },
      "source": [
        "Métodos para cadenas"
      ]
    },
    {
      "cell_type": "code",
      "metadata": {
        "colab": {
          "base_uri": "https://localhost:8080/",
          "height": 36
        },
        "id": "bRCqe2qmB-r-",
        "outputId": "154e2da8-b4f4-412a-d088-febb747a9510"
      },
      "source": [
        "cad=\"Hola Mundo\"\n",
        "cad.upper()"
      ],
      "execution_count": null,
      "outputs": [
        {
          "output_type": "execute_result",
          "data": {
            "application/vnd.google.colaboratory.intrinsic+json": {
              "type": "string"
            },
            "text/plain": [
              "'HOLA MUNDO'"
            ]
          },
          "metadata": {},
          "execution_count": 3
        }
      ]
    },
    {
      "cell_type": "code",
      "metadata": {
        "colab": {
          "base_uri": "https://localhost:8080/",
          "height": 36
        },
        "id": "t2xHKmq5ILd6",
        "outputId": "09323e2b-d66c-4166-8b90-800cb3a30ec0"
      },
      "source": [
        "cad.lower()"
      ],
      "execution_count": null,
      "outputs": [
        {
          "output_type": "execute_result",
          "data": {
            "application/vnd.google.colaboratory.intrinsic+json": {
              "type": "string"
            },
            "text/plain": [
              "'hola mundo'"
            ]
          },
          "metadata": {},
          "execution_count": 4
        }
      ]
    },
    {
      "cell_type": "code",
      "metadata": {
        "colab": {
          "base_uri": "https://localhost:8080/"
        },
        "id": "G-cXCJ-JIa1X",
        "outputId": "a7595dc6-a53d-4fdf-a2e1-9862ffe3c39c"
      },
      "source": [
        "resp=\"s\"\n",
        "resp.upper() == \"S\""
      ],
      "execution_count": null,
      "outputs": [
        {
          "output_type": "execute_result",
          "data": {
            "text/plain": [
              "True"
            ]
          },
          "metadata": {},
          "execution_count": 6
        }
      ]
    },
    {
      "cell_type": "code",
      "metadata": {
        "colab": {
          "base_uri": "https://localhost:8080/",
          "height": 36
        },
        "id": "tgko9LmdIor4",
        "outputId": "184f97f8-aa96-40ec-9380-6a31a07764e2"
      },
      "source": [
        "nueva=cad.replace(\"Mun\",\"xxx\")\n",
        "nueva"
      ],
      "execution_count": null,
      "outputs": [
        {
          "output_type": "execute_result",
          "data": {
            "application/vnd.google.colaboratory.intrinsic+json": {
              "type": "string"
            },
            "text/plain": [
              "'Hola xxxdo'"
            ]
          },
          "metadata": {},
          "execution_count": 12
        }
      ]
    },
    {
      "cell_type": "code",
      "metadata": {
        "colab": {
          "base_uri": "https://localhost:8080/",
          "height": 36
        },
        "id": "kV-4hW5TJJdd",
        "outputId": "16a5962a-9fef-4820-94c4-74ca98737b5d"
      },
      "source": [
        "cad=\"     Hola  Mundo  \"\n",
        "cad"
      ],
      "execution_count": null,
      "outputs": [
        {
          "output_type": "execute_result",
          "data": {
            "application/vnd.google.colaboratory.intrinsic+json": {
              "type": "string"
            },
            "text/plain": [
              "'     Hola  Mundo  '"
            ]
          },
          "metadata": {},
          "execution_count": 13
        }
      ]
    },
    {
      "cell_type": "code",
      "metadata": {
        "colab": {
          "base_uri": "https://localhost:8080/",
          "height": 36
        },
        "id": "sNqxietfJpIz",
        "outputId": "4f1387d5-4269-41fe-c275-95ed6337927a"
      },
      "source": [
        "cad.strip()"
      ],
      "execution_count": null,
      "outputs": [
        {
          "output_type": "execute_result",
          "data": {
            "application/vnd.google.colaboratory.intrinsic+json": {
              "type": "string"
            },
            "text/plain": [
              "'Hola  Mundo'"
            ]
          },
          "metadata": {},
          "execution_count": 14
        }
      ]
    },
    {
      "cell_type": "code",
      "metadata": {
        "colab": {
          "base_uri": "https://localhost:8080/"
        },
        "id": "qVd6b_NbJ4fK",
        "outputId": "e4a4aa69-2207-4ff2-eb95-b38f450e7d13"
      },
      "source": [
        "cad=\"Hola que tal mundo, como va?\"\n",
        "cad.split()"
      ],
      "execution_count": null,
      "outputs": [
        {
          "output_type": "execute_result",
          "data": {
            "text/plain": [
              "['Hola', 'que', 'tal', 'mundo,', 'como', 'va?']"
            ]
          },
          "metadata": {},
          "execution_count": 15
        }
      ]
    },
    {
      "cell_type": "code",
      "metadata": {
        "colab": {
          "base_uri": "https://localhost:8080/"
        },
        "id": "jlU_tLfFKSGi",
        "outputId": "3f488b6b-60cb-4c02-c282-26170a062d04"
      },
      "source": [
        "cad=\"Hola que tal mundo, como va?\"\n",
        "lista=cad.split(sep=\",\")\n",
        "print(lista)\n",
        "print(lista[0])"
      ],
      "execution_count": null,
      "outputs": [
        {
          "output_type": "stream",
          "name": "stdout",
          "text": [
            "['Hola que tal mundo', ' como va?']\n",
            "Hola que tal mundo\n"
          ]
        }
      ]
    },
    {
      "cell_type": "code",
      "metadata": {
        "colab": {
          "base_uri": "https://localhost:8080/"
        },
        "id": "vM6fFE5vLoQO",
        "outputId": "808f1135-2298-4164-f461-c061cbf976b5"
      },
      "source": [
        "cad=\"Hola que tal mundo, que tal va?\"\n",
        "cad.find(\"tal\")"
      ],
      "execution_count": null,
      "outputs": [
        {
          "output_type": "execute_result",
          "data": {
            "text/plain": [
              "9"
            ]
          },
          "metadata": {},
          "execution_count": 26
        }
      ]
    },
    {
      "cell_type": "code",
      "metadata": {
        "colab": {
          "base_uri": "https://localhost:8080/"
        },
        "id": "9ekihcqTME8A",
        "outputId": "dbd02bf4-6c45-4151-fe71-0e134ee6bb32"
      },
      "source": [
        "cad=\"Hola que tal mundo, que tal va?\"\n",
        "print(\"tal aparece \",cad.count(\"tal\"),\"veces en la cadena\")"
      ],
      "execution_count": null,
      "outputs": [
        {
          "output_type": "stream",
          "name": "stdout",
          "text": [
            "tal aparece  2 veces en la cadena\n"
          ]
        }
      ]
    },
    {
      "cell_type": "code",
      "metadata": {
        "colab": {
          "base_uri": "https://localhost:8080/"
        },
        "id": "3ZiNHBsoMY-O",
        "outputId": "f51d8760-c00a-4538-d0fe-40221e00665c"
      },
      "source": [
        "cad.count(\"a\")"
      ],
      "execution_count": null,
      "outputs": [
        {
          "output_type": "execute_result",
          "data": {
            "text/plain": [
              "4"
            ]
          },
          "metadata": {},
          "execution_count": 30
        }
      ]
    },
    {
      "cell_type": "code",
      "metadata": {
        "colab": {
          "base_uri": "https://localhost:8080/"
        },
        "id": "r4ARvRT4MjFa",
        "outputId": "c1ee275e-cc2d-4fdc-baf5-7819776349b0"
      },
      "source": [
        "cad.count(\"x\")"
      ],
      "execution_count": null,
      "outputs": [
        {
          "output_type": "execute_result",
          "data": {
            "text/plain": [
              "0"
            ]
          },
          "metadata": {},
          "execution_count": 31
        }
      ]
    },
    {
      "cell_type": "markdown",
      "metadata": {
        "id": "74EuqzwkM00z"
      },
      "source": [
        "Métodos para listas"
      ]
    },
    {
      "cell_type": "code",
      "metadata": {
        "colab": {
          "base_uri": "https://localhost:8080/"
        },
        "id": "X2ffHShTM3jO",
        "outputId": "c36ef8a6-7f31-4947-83e3-551c801c7f0d"
      },
      "source": [
        "lista=[\"D\",3,7,\"Hola\",1.5,3]\n",
        "lista"
      ],
      "execution_count": null,
      "outputs": [
        {
          "output_type": "execute_result",
          "data": {
            "text/plain": [
              "['D', 3, 7, 'Hola', 1.5, 3]"
            ]
          },
          "metadata": {},
          "execution_count": 35
        }
      ]
    },
    {
      "cell_type": "code",
      "metadata": {
        "colab": {
          "base_uri": "https://localhost:8080/"
        },
        "id": "sRxx2tF9NHF-",
        "outputId": "b5415b5a-d38d-4f16-ddb1-40affe63532a"
      },
      "source": [
        "lista.append(\"xxx\")\n",
        "lista"
      ],
      "execution_count": null,
      "outputs": [
        {
          "output_type": "execute_result",
          "data": {
            "text/plain": [
              "['D', 3, 7, 'Hola', 1.5, 3, 'xxx']"
            ]
          },
          "metadata": {},
          "execution_count": 36
        }
      ]
    },
    {
      "cell_type": "code",
      "metadata": {
        "colab": {
          "base_uri": "https://localhost:8080/"
        },
        "id": "2KX4lm7ONWHD",
        "outputId": "7b516ce4-6162-4b76-fada-3608447c307f"
      },
      "source": [
        "lista.count(3)"
      ],
      "execution_count": null,
      "outputs": [
        {
          "output_type": "execute_result",
          "data": {
            "text/plain": [
              "2"
            ]
          },
          "metadata": {},
          "execution_count": 37
        }
      ]
    },
    {
      "cell_type": "code",
      "metadata": {
        "colab": {
          "base_uri": "https://localhost:8080/"
        },
        "id": "pc2u3YtMNsIm",
        "outputId": "5f931af5-9b0e-4065-ec30-de3645fe38b9"
      },
      "source": [
        "lista.extend([\"Data Science\", \"chao\",7])\n",
        "lista"
      ],
      "execution_count": null,
      "outputs": [
        {
          "output_type": "execute_result",
          "data": {
            "text/plain": [
              "['D',\n",
              " 3,\n",
              " 7,\n",
              " 'Hola',\n",
              " 1.5,\n",
              " 3,\n",
              " 'xxx',\n",
              " 'Data Science',\n",
              " 'Data Science',\n",
              " 'Data Science',\n",
              " 'chao',\n",
              " 'Data Science',\n",
              " 'chao',\n",
              " 7]"
            ]
          },
          "metadata": {},
          "execution_count": 42
        }
      ]
    },
    {
      "cell_type": "code",
      "metadata": {
        "colab": {
          "base_uri": "https://localhost:8080/",
          "height": 36
        },
        "id": "Tv_Ynw3oOlVl",
        "outputId": "f9b896c7-eae9-45fa-9f25-9adf21b3bd8c"
      },
      "source": [
        "lista[12]"
      ],
      "execution_count": null,
      "outputs": [
        {
          "output_type": "execute_result",
          "data": {
            "application/vnd.google.colaboratory.intrinsic+json": {
              "type": "string"
            },
            "text/plain": [
              "'chao'"
            ]
          },
          "metadata": {},
          "execution_count": 43
        }
      ]
    },
    {
      "cell_type": "code",
      "metadata": {
        "colab": {
          "base_uri": "https://localhost:8080/"
        },
        "id": "FS51AOoOOq9C",
        "outputId": "7ffc396c-81d4-42f6-a1ad-1e3e726def6f"
      },
      "source": [
        "type(lista[12])"
      ],
      "execution_count": null,
      "outputs": [
        {
          "output_type": "execute_result",
          "data": {
            "text/plain": [
              "str"
            ]
          },
          "metadata": {},
          "execution_count": 44
        }
      ]
    },
    {
      "cell_type": "code",
      "metadata": {
        "colab": {
          "base_uri": "https://localhost:8080/"
        },
        "id": "1uxjgkGWPDOQ",
        "outputId": "6ef97a90-62b7-4ec3-e381-3bf9765406a5"
      },
      "source": [
        "lista=[\"D\",3,7,\"Hola\",1.5,3]\n",
        "lista"
      ],
      "execution_count": null,
      "outputs": [
        {
          "output_type": "execute_result",
          "data": {
            "text/plain": [
              "['D', 3, 7, 'Hola', 1.5, 3]"
            ]
          },
          "metadata": {},
          "execution_count": 45
        }
      ]
    },
    {
      "cell_type": "code",
      "metadata": {
        "colab": {
          "base_uri": "https://localhost:8080/"
        },
        "id": "jwHB5AnWPNhB",
        "outputId": "ecd4d747-521a-4e78-9015-b601c2d50c0a"
      },
      "source": [
        "lista.index(\"Hola\")"
      ],
      "execution_count": null,
      "outputs": [
        {
          "output_type": "execute_result",
          "data": {
            "text/plain": [
              "3"
            ]
          },
          "metadata": {},
          "execution_count": 46
        }
      ]
    },
    {
      "cell_type": "code",
      "metadata": {
        "colab": {
          "base_uri": "https://localhost:8080/"
        },
        "id": "Yff0AYRfPZfq",
        "outputId": "4844e17e-bbaa-4c89-97af-f608c9e9e6fe"
      },
      "source": [
        "lista.index(3)"
      ],
      "execution_count": null,
      "outputs": [
        {
          "output_type": "execute_result",
          "data": {
            "text/plain": [
              "1"
            ]
          },
          "metadata": {},
          "execution_count": 47
        }
      ]
    },
    {
      "cell_type": "code",
      "metadata": {
        "colab": {
          "base_uri": "https://localhost:8080/"
        },
        "id": "GPMUeN-JPnBz",
        "outputId": "35a20f18-daa3-471d-a168-c062db4ab15c"
      },
      "source": [
        "lista"
      ],
      "execution_count": null,
      "outputs": [
        {
          "output_type": "execute_result",
          "data": {
            "text/plain": [
              "['D', 3, 'x', 'x', 7, 'Hola', 1.5, 3]"
            ]
          },
          "metadata": {},
          "execution_count": 52
        }
      ]
    },
    {
      "cell_type": "code",
      "metadata": {
        "colab": {
          "base_uri": "https://localhost:8080/"
        },
        "id": "KA7ZPgnyPqWg",
        "outputId": "64b5436e-4377-4a1c-c09b-10418047b977"
      },
      "source": [
        "lista.insert(2,\"x\")\n",
        "lista"
      ],
      "execution_count": null,
      "outputs": [
        {
          "output_type": "execute_result",
          "data": {
            "text/plain": [
              "['D', 3, 'x', 'x', 'x', 7, 'Hola', 1.5, 3]"
            ]
          },
          "metadata": {},
          "execution_count": 53
        }
      ]
    },
    {
      "cell_type": "code",
      "metadata": {
        "colab": {
          "base_uri": "https://localhost:8080/"
        },
        "id": "RFoxHOdMP9j7",
        "outputId": "8870845c-e9ff-4e48-ae1b-5a0a5b76de6a"
      },
      "source": [
        "lista.pop()\n",
        "lista"
      ],
      "execution_count": null,
      "outputs": [
        {
          "output_type": "execute_result",
          "data": {
            "text/plain": [
              "['D', 3, 'x', 'x', 'x', 7, 'Hola', 1.5]"
            ]
          },
          "metadata": {},
          "execution_count": 54
        }
      ]
    },
    {
      "cell_type": "code",
      "metadata": {
        "colab": {
          "base_uri": "https://localhost:8080/"
        },
        "id": "3w5QolV7QNjF",
        "outputId": "db88482a-d82f-4056-a303-7187598951ac"
      },
      "source": [
        "lista.remove(3)\n",
        "lista"
      ],
      "execution_count": null,
      "outputs": [
        {
          "output_type": "execute_result",
          "data": {
            "text/plain": [
              "['D', 'x', 'x', 'x', 7, 'Hola', 1.5]"
            ]
          },
          "metadata": {},
          "execution_count": 55
        }
      ]
    },
    {
      "cell_type": "code",
      "metadata": {
        "colab": {
          "base_uri": "https://localhost:8080/"
        },
        "id": "62Zs0UiCQSc5",
        "outputId": "0dc4685b-fc12-4689-c7eb-3f4be450c758"
      },
      "source": [
        "lista.reverse()\n",
        "lista"
      ],
      "execution_count": null,
      "outputs": [
        {
          "output_type": "execute_result",
          "data": {
            "text/plain": [
              "[1.5, 'Hola', 7, 'x', 'x', 'x', 'D']"
            ]
          },
          "metadata": {},
          "execution_count": 58
        }
      ]
    },
    {
      "cell_type": "code",
      "metadata": {
        "colab": {
          "base_uri": "https://localhost:8080/"
        },
        "id": "WiybD-8BQdz1",
        "outputId": "dcd3fc0d-a43e-41a9-8f9b-e2bf2f710ea6"
      },
      "source": [
        "lista=[4,2,7,1,9,2]\n",
        "lista.sort()\n",
        "lista"
      ],
      "execution_count": null,
      "outputs": [
        {
          "output_type": "execute_result",
          "data": {
            "text/plain": [
              "[1, 2, 2, 4, 7, 9]"
            ]
          },
          "metadata": {},
          "execution_count": 60
        }
      ]
    },
    {
      "cell_type": "code",
      "metadata": {
        "colab": {
          "base_uri": "https://localhost:8080/"
        },
        "id": "fKsdtuKUQvR1",
        "outputId": "36f2b9c5-5ec7-4303-b5b2-4dc055784d4d"
      },
      "source": [
        "lista.reverse()\n",
        "lista"
      ],
      "execution_count": null,
      "outputs": [
        {
          "output_type": "execute_result",
          "data": {
            "text/plain": [
              "[9, 7, 4, 2, 2, 1]"
            ]
          },
          "metadata": {},
          "execution_count": 61
        }
      ]
    },
    {
      "cell_type": "markdown",
      "metadata": {
        "id": "mBFAhpzrSy-1"
      },
      "source": [
        "Métodos para diccionarios"
      ]
    },
    {
      "cell_type": "code",
      "metadata": {
        "colab": {
          "base_uri": "https://localhost:8080/"
        },
        "id": "52dCk0uzSyR0",
        "outputId": "b95205a7-fa9f-46bb-ff35-4711a3bba097"
      },
      "source": [
        "dicc={\"100\":[2,\"G\"],\n",
        "      \"300\":[5,\"W\"],\n",
        "      \"200\":[6,\"A\"],\n",
        "      \"500\":[1,\"H\"]}\n",
        "dicc"
      ],
      "execution_count": null,
      "outputs": [
        {
          "output_type": "execute_result",
          "data": {
            "text/plain": [
              "{'100': [2, 'G'], '200': [6, 'A'], '300': [5, 'W'], '500': [1, 'H']}"
            ]
          },
          "metadata": {},
          "execution_count": 62
        }
      ]
    },
    {
      "cell_type": "code",
      "metadata": {
        "colab": {
          "base_uri": "https://localhost:8080/"
        },
        "id": "yLmguF80TflB",
        "outputId": "26fdd66b-bb42-40f6-cf1d-79137190eed4"
      },
      "source": [
        "nuevo_dicc=dicc.copy()\n",
        "nuevo_dicc"
      ],
      "execution_count": null,
      "outputs": [
        {
          "output_type": "execute_result",
          "data": {
            "text/plain": [
              "{'100': [2, 'G'], '200': [6, 'A'], '300': [5, 'W'], '500': [1, 'H']}"
            ]
          },
          "metadata": {},
          "execution_count": 63
        }
      ]
    },
    {
      "cell_type": "code",
      "metadata": {
        "colab": {
          "base_uri": "https://localhost:8080/"
        },
        "id": "kQsMSnbCToSw",
        "outputId": "99bccb7e-e3fc-48d8-b8aa-58a15566887f"
      },
      "source": [
        "nuevo_dicc == dicc"
      ],
      "execution_count": null,
      "outputs": [
        {
          "output_type": "execute_result",
          "data": {
            "text/plain": [
              "True"
            ]
          },
          "metadata": {},
          "execution_count": 65
        }
      ]
    },
    {
      "cell_type": "code",
      "metadata": {
        "colab": {
          "base_uri": "https://localhost:8080/"
        },
        "id": "_8fL3gEWTxjP",
        "outputId": "4febaf51-2262-4142-dcc1-28f69689563f"
      },
      "source": [
        "claves=[1000, 2000, 3000]\n",
        "new_dict=dict.fromkeys(claves)\n",
        "new_dict\n"
      ],
      "execution_count": null,
      "outputs": [
        {
          "output_type": "execute_result",
          "data": {
            "text/plain": [
              "{1000: None, 2000: None, 3000: None}"
            ]
          },
          "metadata": {},
          "execution_count": 68
        }
      ]
    },
    {
      "cell_type": "code",
      "metadata": {
        "colab": {
          "base_uri": "https://localhost:8080/"
        },
        "id": "-2RhS_34UOTn",
        "outputId": "6b48aaf1-e689-4a04-cebd-7e33b678b14a"
      },
      "source": [
        "new_dict[1000]=\"xxx\"\n",
        "new_dict"
      ],
      "execution_count": null,
      "outputs": [
        {
          "output_type": "execute_result",
          "data": {
            "text/plain": [
              "{1000: 'xxx', 2000: None, 3000: None}"
            ]
          },
          "metadata": {},
          "execution_count": 69
        }
      ]
    },
    {
      "cell_type": "code",
      "metadata": {
        "colab": {
          "base_uri": "https://localhost:8080/",
          "height": 36
        },
        "id": "Fdn6q8oMU5ts",
        "outputId": "71643fd1-d74e-4b7b-8ef1-7147affbc056"
      },
      "source": [
        "new_dict.get(1000)"
      ],
      "execution_count": null,
      "outputs": [
        {
          "output_type": "execute_result",
          "data": {
            "application/vnd.google.colaboratory.intrinsic+json": {
              "type": "string"
            },
            "text/plain": [
              "'xxx'"
            ]
          },
          "metadata": {},
          "execution_count": 73
        }
      ]
    },
    {
      "cell_type": "code",
      "metadata": {
        "id": "WCgDKt1yVHsD"
      },
      "source": [
        "new_dict.get(2000)"
      ],
      "execution_count": null,
      "outputs": []
    },
    {
      "cell_type": "code",
      "metadata": {
        "colab": {
          "base_uri": "https://localhost:8080/"
        },
        "id": "Xy26GQFCVRbW",
        "outputId": "d4973428-31ec-4ec7-a40b-498eb8421b43"
      },
      "source": [
        "new_dict.get(2000) == None"
      ],
      "execution_count": null,
      "outputs": [
        {
          "output_type": "execute_result",
          "data": {
            "text/plain": [
              "True"
            ]
          },
          "metadata": {},
          "execution_count": 75
        }
      ]
    },
    {
      "cell_type": "code",
      "metadata": {
        "colab": {
          "base_uri": "https://localhost:8080/"
        },
        "id": "NJ_t3KyrVg_j",
        "outputId": "094818ad-3fdc-40e3-b695-4321a1ce238c"
      },
      "source": [
        "claves=new_dict.keys()\n",
        "claves"
      ],
      "execution_count": null,
      "outputs": [
        {
          "output_type": "execute_result",
          "data": {
            "text/plain": [
              "dict_keys([1000, 2000, 3000])"
            ]
          },
          "metadata": {},
          "execution_count": 78
        }
      ]
    },
    {
      "cell_type": "code",
      "metadata": {
        "colab": {
          "base_uri": "https://localhost:8080/"
        },
        "id": "4AZpyQ6TVxMe",
        "outputId": "6eb60f57-7105-4c85-bb3b-edc5f56f57e1"
      },
      "source": [
        "new_dict.pop(1000)\n",
        "new_dict"
      ],
      "execution_count": null,
      "outputs": [
        {
          "output_type": "execute_result",
          "data": {
            "text/plain": [
              "{2000: None, 3000: None}"
            ]
          },
          "metadata": {},
          "execution_count": 81
        }
      ]
    }
  ]
}