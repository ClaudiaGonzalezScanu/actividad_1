{
  "nbformat": 4,
  "nbformat_minor": 0,
  "metadata": {
    "colab": {
      "name": "Clase_jueves02.12.21_regex2.ipynb",
      "provenance": [],
      "collapsed_sections": [],
      "include_colab_link": true
    },
    "kernelspec": {
      "name": "python3",
      "display_name": "Python 3"
    },
    "language_info": {
      "name": "python"
    }
  },
  "cells": [
    {
      "cell_type": "markdown",
      "metadata": {
        "id": "view-in-github",
        "colab_type": "text"
      },
      "source": [
        "<a href=\"https://colab.research.google.com/github/ClaudiaGonzalezScanu/aprendiendo_python/blob/main/Clase_jueves02_12_21_regex2.ipynb\" target=\"_parent\"><img src=\"https://colab.research.google.com/assets/colab-badge.svg\" alt=\"Open In Colab\"/></a>"
      ]
    },
    {
      "cell_type": "markdown",
      "metadata": {
        "id": "eu9Bo1MqZ5r1"
      },
      "source": [
        "1) Encontrar todos los nombres en la siguiente cadena de texto, usando expresiones regulares:\n",
        "simple_string = \"\"\"Amy is 5 years old, and her sister Mary is 2 years old.\n",
        "Ruth and Peter, their parents, have 3 kids.\"\"\"\n"
      ]
    },
    {
      "cell_type": "code",
      "metadata": {
        "colab": {
          "base_uri": "https://localhost:8080/"
        },
        "id": "OxWkpzlfZ13K",
        "outputId": "482d0529-e5e3-4afe-824d-4563bcb762ee"
      },
      "source": [
        "import re\n",
        "simple_string = \"\"\"Amy is 5 years old, and her sister Mary is 2 years old. Ruth and Peter, their parents, have 3 kids.\"\"\"\n",
        "patron_1=r\"[A-Z][a-z]*\"\n",
        "names=re.findall(patron_1,simple_string)\n",
        "names"
      ],
      "execution_count": null,
      "outputs": [
        {
          "output_type": "execute_result",
          "data": {
            "text/plain": [
              "['Amy', 'Mary', 'Ruth', 'Peter']"
            ]
          },
          "metadata": {},
          "execution_count": 3
        }
      ]
    },
    {
      "cell_type": "markdown",
      "metadata": {
        "id": "bWX3cwrwbWuv"
      },
      "source": [
        "2) Encontrar todas las direcciones de correo desde la siguiente cadena  de texto:\n",
        "Text_1 = \"\"\"This is an example text, this text contains emails, phone numbers and other sample designed for testing purposes. To use this tool, please type a regular expression in the text-area above. \n",
        "\n",
        "When designing regex for emails make sure you cover all possible email types like: info@breatheco.de, dragon23@gmail.com, dragon_ball@yahoo.com.us and also test for bad email formats like ramond=32@skas.com \"\"\""
      ]
    },
    {
      "cell_type": "code",
      "metadata": {
        "colab": {
          "base_uri": "https://localhost:8080/"
        },
        "id": "UMDxGQEOcACC",
        "outputId": "01bd3fa5-8506-455c-88cc-8f10f3927ed2"
      },
      "source": [
        "text= \"\"\"This is an example text, this text contains emails, phone numbers and other sample designed for testing purposes. To use this tool, please type a regular expression in the text-area above.\n",
        "When designing regex for emails make sure you cover all possible email types like: info@breatheco.de, dragon23@gmail.com, dragon_ball@yahoo.com.us and also test for bad email formats like ramond=32@skas.com \"\"\"\n",
        "patron_2=r\"[\\w._%+-]+@[\\w.-]+\\.[a-zA-Z]{2,4}\"\n",
        "correos=re.findall(patron_2,text)\n",
        "correos"
      ],
      "execution_count": null,
      "outputs": [
        {
          "output_type": "execute_result",
          "data": {
            "text/plain": [
              "['info@breatheco.de',\n",
              " 'dragon23@gmail.com',\n",
              " 'dragon_ball@yahoo.com.us',\n",
              " '32@skas.com']"
            ]
          },
          "metadata": {},
          "execution_count": 10
        }
      ]
    },
    {
      "cell_type": "code",
      "metadata": {
        "id": "IOeC2U34d9zk"
      },
      "source": [
        "texto_2 = \"\"\"\n",
        " De: monete_que_no_ve@lostresmonetes.net\n",
        " Enviado el: Jueves, 18 de noviembre de 2012 a las 13:22\n",
        " Para: torpedo@submarino.com\n",
        " Asunto: Re: Conquistar el mundo\n",
        " Hola.\n",
        " Aapfojewagf ajwa wjepofoisa jvgoisajigf jewapoijewagomsod moisjaoigjpoewijsn dsanigeaoi.\n",
        " Ajfpoijwafe sodvm osznfinewahaw eoansjgndsakjnglkjds.\n",
        " Alkjndszkng aigpiewannalkjndkjnlkjdznvns ln sa nfpoiewa npoinpewnpofn.\n",
        " N<sznvcknvknkxzvnoisajpoijewaoi jmsam lkvznapiunea engnal nfsl.\n",
        " De: torpedo@submarino.com\n",
        " Enviado el: Jueves, 18 de noviembre de 2012 a las 12:42\n",
        " Para: monete_que_no_ve@lostresmonetes.net\n",
        " Asunto: Re: Conquistar el mundo\n",
        " Hola.\n",
        " Aapfojewagf ajwa wjepofoisa jvgoisajigf jewapoijewagomsod moisjaoigjpoewijsn dsanigeaoi.\n",
        " Ajfpoijwafe sodvm osznfinewahaw eoansjgndsakjnglkjds.\n",
        " Alkjndszkng aigpiewannalkjndkjnlkjdznvns ln sa nfpoiewa npoinpewnpofn.\n",
        " N<sznvcknvknkxzvnoisajpoijewaoi jmsam lkvznapiunea engnal nfsl.\n",
        " De: monete_que_no_ve@lostresmonetes.net\n",
        " Enviado el: Jueves, 18 de noviembre de 2012 a las 11:57\n",
        " Para: torpedo@submarino.com\n",
        " Asunto: Re: Conquistar el mundo\n",
        " Hola.\n",
        " Aapfojewagf ajwa wjepofoisa jvgoisajigf jewapoijewagomsod moisjaoigjpoewijsn dsanigeaoi.\n",
        " Ajfpoijwafe sodvm osznfinewahaw eoansjgndsakjnglkjds.\n",
        " Alkjndszkng aigpiewannalkjndkjnlkjdznvns ln sa nfpoiewa npoinpewnpofn.\n",
        " N<sznvcknvknkxzvnoisajpoijewaoi jmsam lkvznapiunea engnal nfsl.\n",
        " De: torpedo@submarino.com\n",
        " Enviado el: Jueves, 18 de noviembre de 2012 a las 11:54\n",
        " Para: monete_que_no_ve@lostresmonetes.net\n",
        " Asunto: Re: Conquistar el mundo\n",
        " Hola.\n",
        " Aapfojewagf ajwa wjepofoisa jvgoisajigf jewapoijewagomsod moisjaoigjpoewijsn dsanigeaoi.\n",
        " Ajfpoijwafe sodvm osznfinewahaw eoansjgndsakjnglkjds.\n",
        " Alkjndszkng aigpiewannalkjndkjnlkjdznvns ln sa nfpoiewa npoinpewnpofn.\n",
        " N<sznvcknvknkxzvnoisajpoijewaoi jmsam lkvznapiunea engnal nfsl.\n",
        " De: monete_que_no_ve@lostresmonetes.net\n",
        " Enviado el: Jueves, 18 de noviembre de 2012 a las 09:15\n",
        " Para: torpedo@submarino.com\n",
        " Asunto: Conquistar el mundo\n",
        " Hola.\n",
        " Aapfojew mi primo el monete que no habla (Monete.que.no.habla@lostresmonetes.net) agf ajwa wjepofoisa jvgoisajigf.\n",
        " Para la ninia + w@pa del tuenti, hoygan (Monete_que_no_escucha@lostresmonetes.co.uk).\n",
        " Ajfpoijwafe sodvm osznfinewahaw eoansjgndsakjnglkjds.\n",
        " Alkjndszkng aigpiewannalkjndkjnlkjdznvns ln sa nfpoiewa npoinpewnpofn.\n",
        " Nsznvcknvknkxzvnoisajpoijewaoi jmsam lkvznapiunea engnal nfsl.\n",
        " \"\"\""
      ],
      "execution_count": null,
      "outputs": []
    },
    {
      "cell_type": "code",
      "metadata": {
        "colab": {
          "base_uri": "https://localhost:8080/"
        },
        "id": "-ZB77sLQd92N",
        "outputId": "f6c106cd-00db-4d76-c11e-e973035fcf18"
      },
      "source": [
        "patron_2=r\"[\\w._%+-]+@[\\w.-]+\\.[a-zA-Z]{2,4}\"\n",
        "correos=re.findall(patron_2,texto_2)\n",
        "correos"
      ],
      "execution_count": null,
      "outputs": [
        {
          "output_type": "execute_result",
          "data": {
            "text/plain": [
              "['monete_que_no_ve@lostresmonetes.net',\n",
              " 'torpedo@submarino.com',\n",
              " 'torpedo@submarino.com',\n",
              " 'monete_que_no_ve@lostresmonetes.net',\n",
              " 'monete_que_no_ve@lostresmonetes.net',\n",
              " 'torpedo@submarino.com',\n",
              " 'torpedo@submarino.com',\n",
              " 'monete_que_no_ve@lostresmonetes.net',\n",
              " 'monete_que_no_ve@lostresmonetes.net',\n",
              " 'torpedo@submarino.com',\n",
              " 'Monete.que.no.habla@lostresmonetes.net',\n",
              " 'Monete_que_no_escucha@lostresmonetes.co.uk']"
            ]
          },
          "metadata": {},
          "execution_count": 14
        }
      ]
    },
    {
      "cell_type": "markdown",
      "metadata": {
        "id": "v_vdk0LigJMC"
      },
      "source": [
        "3) Extraer todos los nombres de usuarios desde el siguiente texto, usando expresiones regulares:\n",
        "comment = \"This is an great article @Bharath. You have explained the complex topic in a very simplistic manner. @Yashwant, you might find this article to be useful.\""
      ]
    },
    {
      "cell_type": "code",
      "metadata": {
        "colab": {
          "base_uri": "https://localhost:8080/"
        },
        "id": "35VlqkoxgIag",
        "outputId": "55eabf30-584f-4fd7-e631-25598da261ac"
      },
      "source": [
        "comment = \"This is an great article @Bharath. You have explained the complex topic in a very simplistic manner. @Yashwant, you might find this article to be useful.\"\n",
        "patron_3=r\"@[A-Z][a-z]*\"\n",
        "users=re.findall(patron_3,comment)\n",
        "users"
      ],
      "execution_count": null,
      "outputs": [
        {
          "output_type": "execute_result",
          "data": {
            "text/plain": [
              "['@Bharath', '@Yashwant']"
            ]
          },
          "metadata": {},
          "execution_count": 15
        }
      ]
    },
    {
      "cell_type": "markdown",
      "metadata": {
        "id": "1cnDK8ldhzuH"
      },
      "source": [
        "4) Considere el siguiente texto:\n",
        "text = \"Chennai is a beautiful city. It’s the capital of the state of Tamil Nadu. Chennai has an area close to 430 kilometer squares. Well chennai is not as large as mumbai which has an area of 603.4 kilometer squares. By road, Chennai is about 1500 kilometers away from Mumbai. Whereas, it is about 2200 kilometers away from Delhi, the capital of India.\"\n",
        "a) Obtener todas las ocurrencias de Chennai desde el texto.\n",
        "b) Obtener todas las ocurrencias de Mumbai desde el texto.\n",
        "c) Obtener las ocurrencias de Chennai y Mumbai desde el texto."
      ]
    },
    {
      "cell_type": "code",
      "metadata": {
        "colab": {
          "base_uri": "https://localhost:8080/"
        },
        "id": "rl6M_ZE_h5r5",
        "outputId": "197f680c-4180-48de-fef4-e9e27ed178d5"
      },
      "source": [
        "text = \"Chennai is a beautiful city. It’s the capital of the state of Tamil Nadu. Chennai has an area close to 430 kilometer squares. Well chennai is not as large as mumbai which has an area of 603.4 kilometer squares. By road, Chennai is about 1500 kilometers away from Mumbai. Whereas, it is about 2200 kilometers away from Delhi, the capital of India.\" \n",
        "patron=r\"Chennai\"\n",
        "cities=re.findall(patron,text,flags=re.IGNORECASE)\n",
        "cities"
      ],
      "execution_count": null,
      "outputs": [
        {
          "output_type": "execute_result",
          "data": {
            "text/plain": [
              "['Chennai', 'Chennai', 'chennai', 'Chennai']"
            ]
          },
          "metadata": {},
          "execution_count": 17
        }
      ]
    },
    {
      "cell_type": "code",
      "metadata": {
        "colab": {
          "base_uri": "https://localhost:8080/"
        },
        "id": "41s-PawpjThv",
        "outputId": "31c1d09d-99dc-4305-f378-00495f31ca9a"
      },
      "source": [
        "patron=r\"Mumbai\"\n",
        "cities=re.findall(patron,text,flags=re.IGNORECASE)\n",
        "cities"
      ],
      "execution_count": null,
      "outputs": [
        {
          "output_type": "execute_result",
          "data": {
            "text/plain": [
              "['mumbai', 'Mumbai']"
            ]
          },
          "metadata": {},
          "execution_count": 19
        }
      ]
    },
    {
      "cell_type": "code",
      "metadata": {
        "colab": {
          "base_uri": "https://localhost:8080/"
        },
        "id": "DLMMsN2ljd6T",
        "outputId": "0ba9fd59-77df-4a6a-cb42-c49c8bc14a32"
      },
      "source": [
        "cities=re.findall(\"Mumbai|Chennai\",text,flags=re.IGNORECASE)\n",
        "cities"
      ],
      "execution_count": null,
      "outputs": [
        {
          "output_type": "execute_result",
          "data": {
            "text/plain": [
              "['Chennai', 'Chennai', 'chennai', 'mumbai', 'Chennai', 'Mumbai']"
            ]
          },
          "metadata": {},
          "execution_count": 20
        }
      ]
    },
    {
      "cell_type": "markdown",
      "metadata": {
        "id": "1avkmqfRlDsV"
      },
      "source": [
        "5) Extraiga todos los nombres de usuarios desde el siguiente texto:\n",
        "texto=\"El usuario j.lepe es el encargado de los reportes, mientras que el usuario p.rojas de los respaldos. El usuario f.perez es el usuario developer\""
      ]
    },
    {
      "cell_type": "code",
      "metadata": {
        "colab": {
          "base_uri": "https://localhost:8080/"
        },
        "id": "j02dSff1lH0e",
        "outputId": "7934ad07-67fc-485c-8323-2d758c3b170e"
      },
      "source": [
        "text=\"El usuario j.lepe es el encargado de los reportes, mientras que el usuario p.rojas de los respaldos. El usuario f.perez es el usuario developer. sgutierrez no es un usario válido\"\n",
        "patron=r\"[a-z]\\.[a-z]+\"\n",
        "users=re.findall(patron,text)\n",
        "users"
      ],
      "execution_count": null,
      "outputs": [
        {
          "output_type": "execute_result",
          "data": {
            "text/plain": [
              "['j.lepe', 'p.rojas', 'f.perez']"
            ]
          },
          "metadata": {},
          "execution_count": 22
        }
      ]
    }
  ]
}