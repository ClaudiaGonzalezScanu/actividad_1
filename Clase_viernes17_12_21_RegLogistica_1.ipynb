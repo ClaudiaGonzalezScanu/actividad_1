{
  "nbformat": 4,
  "nbformat_minor": 0,
  "metadata": {
    "colab": {
      "name": "Clase_viernes17.12.21_RegLogistica_1.ipynb",
      "provenance": [],
      "collapsed_sections": [],
      "include_colab_link": true
    },
    "kernelspec": {
      "name": "python3",
      "display_name": "Python 3"
    },
    "language_info": {
      "name": "python"
    }
  },
  "cells": [
    {
      "cell_type": "markdown",
      "metadata": {
        "id": "view-in-github",
        "colab_type": "text"
      },
      "source": [
        "<a href=\"https://colab.research.google.com/github/ClaudiaGonzalezScanu/aprendiendo_python/blob/main/Clase_viernes17_12_21_RegLogistica_1.ipynb\" target=\"_parent\"><img src=\"https://colab.research.google.com/assets/colab-badge.svg\" alt=\"Open In Colab\"/></a>"
      ]
    },
    {
      "cell_type": "code",
      "metadata": {
        "id": "D3Xuz9XlQfKr"
      },
      "source": [
        "# Paso 1: importamos la librería numérica NumPy\n",
        "import numpy as np\n",
        "\n",
        "# Paso 2: preparamos los datos\n",
        "X = np.array([0.5, 0.75, 1, 1.25, 1.5, 1.75, 1.75, 2, 2.25, 2.5, 2.75, 3, 3.25, 3.5, 4, 4.25, 4.5, 4.75, 5, 5.5]).reshape(-1,1)\n",
        "y = np.array([0, 0, 0, 0, 0, 0, 1, 0, 1, 0, 1, 0, 1, 0, 1, 1, 1, 1, 1, 1])\n"
      ],
      "execution_count": null,
      "outputs": []
    },
    {
      "cell_type": "code",
      "metadata": {
        "colab": {
          "base_uri": "https://localhost:8080/"
        },
        "id": "d1TxtVakQmcA",
        "outputId": "833958cd-1c0a-461b-8ce5-1980f693f9c5"
      },
      "source": [
        "# Paso 3: importamos la clase LogisticRegresion de scikit-learn\n",
        "from sklearn.linear_model import LogisticRegression\n",
        "\n",
        "# Paso 4: Creamos una instancia de la Regresión Logística\n",
        "regresion_logistica = LogisticRegression()\n",
        "\n",
        "# Paso 5: Entrena la regresión logística con los datos de entrenamiento\n",
        "regresion_logistica.fit(X,y)\n"
      ],
      "execution_count": null,
      "outputs": [
        {
          "output_type": "execute_result",
          "data": {
            "text/plain": [
              "LogisticRegression()"
            ]
          },
          "metadata": {},
          "execution_count": 24
        }
      ]
    },
    {
      "cell_type": "code",
      "metadata": {
        "colab": {
          "base_uri": "https://localhost:8080/"
        },
        "id": "S_VRxmcQQ4Ur",
        "outputId": "ab2c53ad-15cb-4788-fa70-0c69f746a4b3"
      },
      "source": [
        "X_nuevo = np.array([1, 2, 3, 4, 5, 6]).reshape(-1,1)\n",
        "# Paso 6: Usa el modelo entrenado para obtener las predicciones con datos nuevos\n",
        "prediccion = regresion_logistica.predict(X_nuevo)\n",
        "print(prediccion)\n"
      ],
      "execution_count": null,
      "outputs": [
        {
          "output_type": "stream",
          "name": "stdout",
          "text": [
            "[0 0 1 1 1 1]\n"
          ]
        }
      ]
    },
    {
      "cell_type": "code",
      "metadata": {
        "colab": {
          "base_uri": "https://localhost:8080/"
        },
        "id": "BIDrqHRXRKMR",
        "outputId": "fc81ecf1-f79e-49cf-9fed-486cf632a454"
      },
      "source": [
        "# Paso 7: Opcionalmente, obtén las probabilidades de la predicción\n",
        "probabilidades_prediccion = regresion_logistica.predict_proba(X_nuevo)\n",
        "print(probabilidades_prediccion)\n",
        "# La primera columna es la probabilidad de reprobar y la segunda columna es la probabilidad de aprobar\n",
        "# Como seguramente estamos más interesados en la probabilidad de aprobar,\n",
        "# podemos centrarnos en la segunda columna\n",
        "print(probabilidades_prediccion[:,1])\n"
      ],
      "execution_count": null,
      "outputs": [
        {
          "output_type": "stream",
          "name": "stdout",
          "text": [
            "[[0.87984046 0.12015954]\n",
            " [0.69895285 0.30104715]\n",
            " [0.42402118 0.57597882]\n",
            " [0.18924992 0.81075008]\n",
            " [0.06891381 0.93108619]\n",
            " [0.02293029 0.97706971]]\n",
            "[0.12015954 0.30104715 0.57597882 0.81075008 0.93108619 0.97706971]\n"
          ]
        }
      ]
    },
    {
      "cell_type": "code",
      "source": [
        "from sklearn.metrics import confusion_matrix\n",
        "y_true = [0,1,0,1,1,1,0,1,1,1]\n",
        "y_pred = [0,0,1,1,1,1,0,1,0,0]\n",
        "confusion_matrix(y_true, y_pred)\n"
      ],
      "metadata": {
        "colab": {
          "base_uri": "https://localhost:8080/"
        },
        "id": "cmfR1CAA-gpA",
        "outputId": "7ea480a1-8c39-4321-b419-1d9e6e3c6f61"
      },
      "execution_count": null,
      "outputs": [
        {
          "output_type": "execute_result",
          "data": {
            "text/plain": [
              "array([[2, 1],\n",
              "       [3, 4]])"
            ]
          },
          "metadata": {},
          "execution_count": 27
        }
      ]
    },
    {
      "cell_type": "code",
      "source": [
        "tn, fp, fn, tp = confusion_matrix(y_true, y_pred).ravel()\n",
        "print(\"True Negatives : \",tn)\n",
        "print(\"False Positives: \",fp)\n",
        "print(\"False Negatives: \",fn)\n",
        "print(\"True Positives : \",tp)"
      ],
      "metadata": {
        "colab": {
          "base_uri": "https://localhost:8080/"
        },
        "id": "EOyEAzgC__sQ",
        "outputId": "dc35a856-61f8-4edc-e1de-5e4470b0f56b"
      },
      "execution_count": null,
      "outputs": [
        {
          "output_type": "stream",
          "name": "stdout",
          "text": [
            "True Negatives :  2\n",
            "False Positives:  1\n",
            "False Negatives:  3\n",
            "True Positives :  4\n"
          ]
        }
      ]
    },
    {
      "cell_type": "code",
      "source": [
        "Accuracy = (tn+tp)*100/(tp+tn+fp+fn) \n",
        "print(\"Accuracy {:0.2f}%:\".format(Accuracy))"
      ],
      "metadata": {
        "colab": {
          "base_uri": "https://localhost:8080/"
        },
        "id": "1-REBC3DHInb",
        "outputId": "394910f4-8728-4c57-a549-ec1e44dc9b08"
      },
      "execution_count": null,
      "outputs": [
        {
          "output_type": "stream",
          "name": "stdout",
          "text": [
            "Accuracy 60.00%:\n"
          ]
        }
      ]
    },
    {
      "cell_type": "code",
      "source": [
        "from sklearn.metrics import accuracy_score\n",
        "Ac=accuracy_score(y_true,y_pred)\n",
        "print(\"Ac=\",Ac)"
      ],
      "metadata": {
        "colab": {
          "base_uri": "https://localhost:8080/"
        },
        "id": "Vfk78muK8Lvh",
        "outputId": "d22f0628-54f7-4bda-fcdc-9b095b0c4ba0"
      },
      "execution_count": null,
      "outputs": [
        {
          "output_type": "stream",
          "name": "stdout",
          "text": [
            "Ac= 0.6\n"
          ]
        }
      ]
    },
    {
      "cell_type": "code",
      "source": [
        "Precision = tp/(tp+fp) \n",
        "print(\"Precision {:0.2f}\".format(Precision))"
      ],
      "metadata": {
        "colab": {
          "base_uri": "https://localhost:8080/"
        },
        "id": "mRdi0GncHXvx",
        "outputId": "c4ab23f9-d820-4a01-a0da-635b509c8a8f"
      },
      "execution_count": null,
      "outputs": [
        {
          "output_type": "stream",
          "name": "stdout",
          "text": [
            "Precision 0.80\n"
          ]
        }
      ]
    },
    {
      "cell_type": "code",
      "source": [
        "from sklearn.metrics import precision_score\n",
        "P=precision_score(y_true,y_pred)\n",
        "print(\"P=\",P)"
      ],
      "metadata": {
        "colab": {
          "base_uri": "https://localhost:8080/"
        },
        "id": "sEHg7yM38ZOJ",
        "outputId": "57f0dfd6-7cbd-4198-e18e-ca9270328f38"
      },
      "execution_count": null,
      "outputs": [
        {
          "output_type": "stream",
          "name": "stdout",
          "text": [
            "P= 0.8\n"
          ]
        }
      ]
    },
    {
      "cell_type": "code",
      "source": [
        "Recall = tp/(tp+fn) \n",
        "print(\"Recall {:0.2f}\".format(Recall))"
      ],
      "metadata": {
        "colab": {
          "base_uri": "https://localhost:8080/"
        },
        "id": "CluWl0Q4HzIp",
        "outputId": "72377a71-9836-4359-c019-4d3f02e5efbb"
      },
      "execution_count": null,
      "outputs": [
        {
          "output_type": "stream",
          "name": "stdout",
          "text": [
            "Recall 0.57\n"
          ]
        }
      ]
    },
    {
      "cell_type": "code",
      "source": [
        "from sklearn.metrics import recall_score\n",
        "sensibilidad=recall_score(y_true, y_pred)\n",
        "print(\"Sensibilidad {:0.2f}\".format(sensibilidad))"
      ],
      "metadata": {
        "colab": {
          "base_uri": "https://localhost:8080/"
        },
        "id": "J-SLJ_h48gyB",
        "outputId": "3fbdd098-d2de-403c-c9e2-1874c6c1d7f1"
      },
      "execution_count": null,
      "outputs": [
        {
          "output_type": "stream",
          "name": "stdout",
          "text": [
            "Sensibilidad 0.57\n"
          ]
        }
      ]
    },
    {
      "cell_type": "code",
      "source": [
        "f1 = (2*Precision*Recall)/(Precision + Recall)\n",
        "print(\"F1 Score {:0.2f}\".format(f1))"
      ],
      "metadata": {
        "colab": {
          "base_uri": "https://localhost:8080/"
        },
        "id": "58zLMfpJH1t-",
        "outputId": "1141b167-c044-4b2b-e55e-cbba39a774c5"
      },
      "execution_count": null,
      "outputs": [
        {
          "output_type": "stream",
          "name": "stdout",
          "text": [
            "F1 Score 0.67\n"
          ]
        }
      ]
    },
    {
      "cell_type": "code",
      "source": [
        "from sklearn.metrics import f1_score\n",
        "f1=f1_score(y_true, y_pred)\n",
        "print(\"F1 {:0.2f}\".format(f1))"
      ],
      "metadata": {
        "colab": {
          "base_uri": "https://localhost:8080/"
        },
        "id": "5GY8p_KL80os",
        "outputId": "5e72a4b2-3180-4578-8be8-8dde4e26d771"
      },
      "execution_count": null,
      "outputs": [
        {
          "output_type": "stream",
          "name": "stdout",
          "text": [
            "F1 0.67\n"
          ]
        }
      ]
    },
    {
      "cell_type": "code",
      "source": [
        "Specificity = tn/(tn+fp)\n",
        "print(\"Specificity {:0.2f}\".format(Specificity))"
      ],
      "metadata": {
        "colab": {
          "base_uri": "https://localhost:8080/"
        },
        "id": "jtpORbHBIHNK",
        "outputId": "7312d01a-96a8-4b0f-c6ce-8b9de8a60539"
      },
      "execution_count": null,
      "outputs": [
        {
          "output_type": "stream",
          "name": "stdout",
          "text": [
            "Specificity 0.67\n"
          ]
        }
      ]
    },
    {
      "cell_type": "code",
      "source": [
        "import matplotlib.pyplot as plt\n",
        "from sklearn.metrics import confusion_matrix,classification_report\n",
        "\n",
        "cm=confusion_matrix(y_true, y_pred)\n",
        "\n",
        "fig,ax=plt.subplots(figsize=(10,5))\n",
        "ax.matshow(cm)\n",
        "plt.title(\"MATRIZ DE CONFUSIÓN\",fontsize=20)\n",
        "plt.ylabel(\"Etiqueta verdadera\",fontsize=15)\n",
        "plt.xlabel(\"Etiqueta Predicha\",fontsize=15)\n",
        "for (i,j),z in np.ndenumerate(cm):\n",
        "  ax.text(j,i,\"{:0.1f}\".format(z),ha=\"center\",va=\"center\")"
      ],
      "metadata": {
        "colab": {
          "base_uri": "https://localhost:8080/",
          "height": 356
        },
        "id": "qaK89CRbA7oP",
        "outputId": "54bf9c57-7c84-46f5-bcd3-8ce14c0e062a"
      },
      "execution_count": null,
      "outputs": [
        {
          "output_type": "display_data",
          "data": {
            "image/png": "[encoded data removed]",
            "text/plain": [
              "<Figure size 720x360 with 1 Axes>"
            ]
          },
          "metadata": {
            "needs_background": "light"
          }
        }
      ]
    },
    {
      "cell_type": "code",
      "source": [
        "y_true = [\"cat\", \"ant\", \"cat\", \"cat\", \"ant\", \"bird\",\"cat\",\"bird\",\"bird\"]\n",
        "y_pred = [\"ant\", \"ant\", \"cat\", \"cat\", \"ant\", \"cat\", \"cat\",\"bird\",\"ant\"]\n",
        "confusion_matrix(y_true, y_pred, labels=[\"ant\", \"bird\", \"cat\"])\n"
      ],
      "metadata": {
        "colab": {
          "base_uri": "https://localhost:8080/"
        },
        "id": "SKwtWlbywwCD",
        "outputId": "c6db06e9-cbd4-4bb9-855f-2a0f7abfdca3"
      },
      "execution_count": null,
      "outputs": [
        {
          "output_type": "execute_result",
          "data": {
            "text/plain": [
              "array([[2, 0, 0],\n",
              "       [1, 1, 1],\n",
              "       [1, 0, 3]])"
            ]
          },
          "metadata": {},
          "execution_count": 21
        }
      ]
    },
    {
      "cell_type": "code",
      "source": [
        "import matplotlib.pyplot as plt\n",
        "from sklearn.metrics import confusion_matrix,classification_report\n",
        "\n",
        "cm=confusion_matrix(y_true, y_pred)\n",
        "\n",
        "fig,ax=plt.subplots(figsize=(10,5))\n",
        "ax.matshow(cm)\n",
        "plt.title(\"MATRIZ DE CONFUSIÓN\",fontsize=20)\n",
        "plt.ylabel(\"Etiqueta verdadera\",fontsize=15)\n",
        "plt.xlabel(\"Etiqueta Predicha\",fontsize=15)\n",
        "for (i,j),z in np.ndenumerate(cm):\n",
        "  ax.text(j,i,\"{:0.1f}\".format(z),ha=\"center\",va=\"center\")"
      ],
      "metadata": {
        "colab": {
          "base_uri": "https://localhost:8080/",
          "height": 356
        },
        "id": "u9mryHjKyJay",
        "outputId": "bef9fd10-143c-44b6-811d-494b539f6e36"
      },
      "execution_count": null,
      "outputs": [
        {
          "output_type": "display_data",
          "data": {
            "image/png": "[encoded data removed]",
            "text/plain": [
              "<Figure size 720x360 with 1 Axes>"
            ]
          },
          "metadata": {
            "needs_background": "light"
          }
        }
      ]
    }
  ]
}