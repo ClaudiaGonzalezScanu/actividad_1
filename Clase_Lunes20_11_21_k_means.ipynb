{
  "nbformat": 4,
  "nbformat_minor": 0,
  "metadata": {
    "colab": {
      "name": "Clase_Lunes20.11.21_k-means.ipynb",
      "provenance": [],
      "collapsed_sections": [],
      "include_colab_link": true
    },
    "kernelspec": {
      "name": "python3",
      "display_name": "Python 3"
    }
  },
  "cells": [
    {
      "cell_type": "markdown",
      "metadata": {
        "id": "view-in-github",
        "colab_type": "text"
      },
      "source": [
        "<a href=\"https://colab.research.google.com/github/ClaudiaGonzalezScanu/aprendiendo_python/blob/main/Clase_Lunes20_11_21_k_means.ipynb\" target=\"_parent\"><img src=\"https://colab.research.google.com/assets/colab-badge.svg\" alt=\"Open In Colab\"/></a>"
      ]
    },
    {
      "cell_type": "markdown",
      "metadata": {
        "id": "ScNmWtj5KlXI"
      },
      "source": [
        "Importar librerías y funciones necesarias"
      ]
    },
    {
      "cell_type": "code",
      "metadata": {
        "id": "tSOESYJcFJJO"
      },
      "source": [
        "import numpy as np\n",
        "import matplotlib.pyplot as plt\n"
      ],
      "execution_count": null,
      "outputs": []
    },
    {
      "cell_type": "markdown",
      "metadata": {
        "id": "2BWwLdqJKsn9"
      },
      "source": [
        "Generamos datos aleatorios 2D para tres clusters y los representamos"
      ]
    },
    {
      "cell_type": "code",
      "metadata": {
        "id": "Mr8VAsEFFX5Q",
        "colab": {
          "base_uri": "https://localhost:8080/",
          "height": 265
        },
        "outputId": "714eacc6-9898-42b7-e5ad-4739a554322c"
      },
      "source": [
        "np.random.seed(7)\n",
        "x1 = np.random.standard_normal((100,2))*0.6+np.ones((100,2))\n",
        "x2 = np.random.standard_normal((100,2))*0.5-np.ones((100,2))\n",
        "x3 = np.random.standard_normal((100,2))*0.4-2*np.ones((100,2))+5\n",
        "X = np.concatenate((x1,x2,x3),axis=0)\n",
        "plt.plot(X[:,0],X[:,1],'k.')\n",
        "plt.show()\n"
      ],
      "execution_count": null,
      "outputs": [
        {
          "output_type": "display_data",
          "data": {
            "image/png": "[encoded data removed]",
            "text/plain": [
              "<Figure size 432x288 with 1 Axes>"
            ]
          },
          "metadata": {
            "needs_background": "light"
          }
        }
      ]
    },
    {
      "cell_type": "markdown",
      "metadata": {
        "id": "WJseeSTDMBDf"
      },
      "source": [
        "Agrupamos los puntos con k-means usando k=3"
      ]
    },
    {
      "cell_type": "code",
      "metadata": {
        "id": "-MTQIWTUFX8o",
        "colab": {
          "base_uri": "https://localhost:8080/"
        },
        "outputId": "294cb773-aea3-430a-8a12-a1ddf696f98c"
      },
      "source": [
        "from sklearn.cluster import KMeans\n",
        "n = 3\n",
        "k_means = KMeans(n_clusters=n)\n",
        "k_means.fit(X)\n"
      ],
      "execution_count": null,
      "outputs": [
        {
          "output_type": "execute_result",
          "data": {
            "text/plain": [
              "KMeans(n_clusters=3)"
            ]
          },
          "metadata": {},
          "execution_count": 31
        }
      ]
    },
    {
      "cell_type": "markdown",
      "metadata": {
        "id": "moYME-ldMG1P"
      },
      "source": [
        "El resultado son tres centroides en torno a los cuales se agrupan los puntos y las etiquetas para cada punto que indican a qué cluster pertenece dicho punto"
      ]
    },
    {
      "cell_type": "code",
      "metadata": {
        "id": "YTYtxSW_FX_i"
      },
      "source": [
        "centroides = k_means.cluster_centers_\n",
        "etiquetas = k_means.labels_"
      ],
      "execution_count": null,
      "outputs": []
    },
    {
      "cell_type": "markdown",
      "metadata": {
        "id": "5fa8nn9aMNBX"
      },
      "source": [
        "Dibujamos ahora los puntos y los centroides, utilizando un color distinto para los puntos de cada cluster:"
      ]
    },
    {
      "cell_type": "code",
      "metadata": {
        "id": "HVcV1X8OFYCL",
        "colab": {
          "base_uri": "https://localhost:8080/",
          "height": 265
        },
        "outputId": "614456cd-3d2a-436d-cf1a-1cd419aabf7c"
      },
      "source": [
        "plt.plot(X[etiquetas==0,0],X[etiquetas==0,1],'r.', label='cluster 1')\n",
        "plt.plot(X[etiquetas==1,0],X[etiquetas==1,1],'b.', label='cluster 2')\n",
        "plt.plot(X[etiquetas==2,0],X[etiquetas==2,1],'g.', label='cluster 3')\n",
        "plt.plot(centroides[:,0],centroides[:,1],'mo',markersize=8, label='centroides')\n",
        "plt.legend(loc='best')\n",
        "plt.show()\n"
      ],
      "execution_count": null,
      "outputs": [
        {
          "output_type": "display_data",
          "data": {
            "image/png": "[encoded data removed]",
            "text/plain": [
              "<Figure size 432x288 with 1 Axes>"
            ]
          },
          "metadata": {
            "needs_background": "light"
          }
        }
      ]
    },
    {
      "cell_type": "markdown",
      "metadata": {
        "id": "QbHm6B7vWqn9"
      },
      "source": [
        "**Métricas de evaluación para Clustering**"
      ]
    },
    {
      "cell_type": "markdown",
      "metadata": {
        "id": "yss-9oeuWx17"
      },
      "source": [
        "El método de Elbow consiste básicamente en verificar la evolución de la suma de los cuadrados del error para varios valores de K y verificar cual es el que brinda un mejor agrupamiento. "
      ]
    },
    {
      "cell_type": "code",
      "metadata": {
        "id": "uS9sZXw_FYFC",
        "colab": {
          "base_uri": "https://localhost:8080/",
          "height": 388
        },
        "outputId": "5d889314-0f4f-4928-e08d-480af1548b72"
      },
      "source": [
        "# Corro el algoritmo con K entre 1 y 9 y voy guardando el error para luego graficarlo.\n",
        "sse = []\n",
        "list_k = list(range(1, 10))\n",
        "\n",
        "for k in list_k:\n",
        "    km = KMeans(n_clusters=k)\n",
        "    km.fit(X)\n",
        "    sse.append(km.inertia_)\n",
        "\n",
        "# Grafico el SSE por K\n",
        "plt.figure(figsize=(6, 6))\n",
        "plt.plot(list_k, sse, '-o')\n",
        "plt.xlabel(r'Cantidad de clusters *k*')\n",
        "plt.ylabel('SSE');"
      ],
      "execution_count": null,
      "outputs": [
        {
          "output_type": "display_data",
          "data": {
            "image/png": "[encoded data removed]",
            "text/plain": [
              "<Figure size 432x432 with 1 Axes>"
            ]
          },
          "metadata": {
            "needs_background": "light"
          }
        }
      ]
    },
    {
      "cell_type": "markdown",
      "metadata": {
        "id": "sUAMFeYsW9hu"
      },
      "source": [
        "Por otro lado, el Índice de Silueta, como vimos en la clase teórica, indica si existen o no, estructuras en los datos.\n",
        "A continuación graficamos el índice de silueta para 2<=k<=4:\n"
      ]
    },
    {
      "cell_type": "code",
      "metadata": {
        "id": "y14Iab-4WHcG",
        "colab": {
          "base_uri": "https://localhost:8080/"
        },
        "outputId": "995aaccc-e76a-41ff-aa8e-7fcfa190a93c"
      },
      "source": [
        "from sklearn.metrics import silhouette_score\n",
        "\n",
        "list_k = list(range(2, 5))\n",
        "\n",
        "for n_clusters in list_k:\n",
        "    clusterer = KMeans(n_clusters=n_clusters)\n",
        "    preds = clusterer.fit_predict(X)\n",
        "    centers = clusterer.cluster_centers_\n",
        "\n",
        "    score = silhouette_score (X, preds)\n",
        "    print (\"For n_clusters =\" + str(n_clusters) + \" silhouette score is \" + str(score))"
      ],
      "execution_count": null,
      "outputs": [
        {
          "output_type": "stream",
          "name": "stdout",
          "text": [
            "For n_clusters =2 silhouette score is 0.578760669258253\n",
            "For n_clusters =3 silhouette score is 0.6716165871930339\n",
            "For n_clusters =4 silhouette score is 0.594952780760309\n"
          ]
        }
      ]
    },
    {
      "cell_type": "markdown",
      "metadata": {
        "id": "b-pmffugXGDT"
      },
      "source": [
        "Y podemos graficar el gráfico de silueta, por ejemplo, para k=3:"
      ]
    },
    {
      "cell_type": "code",
      "metadata": {
        "id": "LxTlqvhkFYIJ",
        "colab": {
          "base_uri": "https://localhost:8080/",
          "height": 402
        },
        "outputId": "07ec84b1-6969-4c2b-d4b0-fc1d6fa4af90"
      },
      "source": [
        "from yellowbrick.cluster import SilhouetteVisualizer\n",
        "\n",
        "# Genero un modelo con K=3\n",
        "model = KMeans(3, random_state=0)\n",
        "\n",
        "# Ploteo el gráfico de silueta\n",
        "visualizer = SilhouetteVisualizer(model, colors='yellowbrick')    # Instancio el visualizador\n",
        "visualizer.fit(X)      "
      ],
      "execution_count": null,
      "outputs": [
        {
          "output_type": "execute_result",
          "data": {
            "text/plain": [
              "SilhouetteVisualizer(ax=<matplotlib.axes._subplots.AxesSubplot object at 0x7fe309882850>,\n",
              "                     colors='yellowbrick',\n",
              "                     estimator=KMeans(n_clusters=3, random_state=0))"
            ]
          },
          "metadata": {},
          "execution_count": 35
        },
        {
          "output_type": "display_data",
          "data": {
            "image/png": "[encoded data removed]",
            "text/plain": [
              "<Figure size 576x396 with 1 Axes>"
            ]
          },
          "metadata": {}
        }
      ]
    },
    {
      "cell_type": "markdown",
      "metadata": {
        "id": "RmYPMThoad09"
      },
      "source": [
        "**Utilizando el modelo para agrupar instancias nuevas**"
      ]
    },
    {
      "cell_type": "markdown",
      "metadata": {
        "id": "wh2u9NG1ahZq"
      },
      "source": [
        "A partir del modelo generado, podríamos darle un nuevo caso y agruparlo en uno de los clusters generados:"
      ]
    },
    {
      "cell_type": "code",
      "metadata": {
        "id": "rOtCYsyjaLfn",
        "colab": {
          "base_uri": "https://localhost:8080/"
        },
        "outputId": "3c105666-f23a-4f0a-871c-67b3a6c02aab"
      },
      "source": [
        "ejemplos=[]\n",
        "ejemplos.append(X[27,:])\n",
        "ejemplos.append(X[71,:])\n",
        "ejemplos.append(X[144,:])\n",
        "\n",
        "print(\"El ejemplo \" + str(ejemplos[0]) + \" corresponde al cluster \" + str(model.predict(ejemplos)[0]))\n",
        "print(\"El ejemplo \" + str(ejemplos[1]) + \" corresponde al cluster \" + str(model.predict(ejemplos)[1]))\n",
        "print(\"El ejemplo \" + str(ejemplos[2]) + \" corresponde al cluster \" + str(model.predict(ejemplos)[2]))"
      ],
      "execution_count": null,
      "outputs": [
        {
          "output_type": "stream",
          "name": "stdout",
          "text": [
            "El ejemplo [0.92057368 0.8143142 ] corresponde al cluster 2\n",
            "El ejemplo [0.68148775 0.32682257] corresponde al cluster 2\n",
            "El ejemplo [-1.67068281 -0.5571396 ] corresponde al cluster 0\n"
          ]
        }
      ]
    },
    {
      "cell_type": "code",
      "metadata": {
        "id": "1zN7lx3Y75-j"
      },
      "source": [
        ""
      ],
      "execution_count": null,
      "outputs": []
    }
  ]
}