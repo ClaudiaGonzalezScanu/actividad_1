{
  "nbformat": 4,
  "nbformat_minor": 0,
  "metadata": {
    "colab": {
      "name": "Clase_Jueves11-11.ipynb",
      "provenance": [],
      "collapsed_sections": [],
      "include_colab_link": true
    },
    "kernelspec": {
      "name": "python3",
      "display_name": "Python 3"
    },
    "language_info": {
      "name": "python"
    }
  },
  "cells": [
    {
      "cell_type": "markdown",
      "metadata": {
        "id": "view-in-github",
        "colab_type": "text"
      },
      "source": [
        "<a href=\"https://colab.research.google.com/github/ClaudiaGonzalezScanu/aprendiendo_python/blob/main/Clase_Jueves11_11.ipynb\" target=\"_parent\"><img src=\"https://colab.research.google.com/assets/colab-badge.svg\" alt=\"Open In Colab\"/></a>"
      ]
    },
    {
      "cell_type": "markdown",
      "metadata": {
        "id": "CPzYLoTsNorh"
      },
      "source": [
        "Cadenas de caracteres"
      ]
    },
    {
      "cell_type": "code",
      "metadata": {
        "colab": {
          "base_uri": "https://localhost:8080/"
        },
        "id": "kZ7tAo3gNnwU",
        "outputId": "96dc5728-59f6-48d6-8536-ef64de4104b2"
      },
      "source": [
        "str1=\"Hola Mundo, Python\"\n",
        "print(str1)"
      ],
      "execution_count": null,
      "outputs": [
        {
          "output_type": "stream",
          "name": "stdout",
          "text": [
            "Hola Mundo, Python\n"
          ]
        }
      ]
    },
    {
      "cell_type": "code",
      "metadata": {
        "colab": {
          "base_uri": "https://localhost:8080/"
        },
        "id": "vagC-bRSZiiz",
        "outputId": "060ee669-4fb2-4d6e-85d6-c443eafdde49"
      },
      "source": [
        "type(str1)"
      ],
      "execution_count": null,
      "outputs": [
        {
          "output_type": "execute_result",
          "data": {
            "text/plain": [
              "str"
            ]
          },
          "metadata": {},
          "execution_count": 41
        }
      ]
    },
    {
      "cell_type": "code",
      "metadata": {
        "colab": {
          "base_uri": "https://localhost:8080/"
        },
        "id": "jQOQ47IZN5zw",
        "outputId": "130fda18-9240-485c-e525-bb90ebe2d93f"
      },
      "source": [
        "len(str1)"
      ],
      "execution_count": null,
      "outputs": [
        {
          "output_type": "execute_result",
          "data": {
            "text/plain": [
              "18"
            ]
          },
          "metadata": {},
          "execution_count": 3
        }
      ]
    },
    {
      "cell_type": "code",
      "metadata": {
        "colab": {
          "base_uri": "https://localhost:8080/",
          "height": 36
        },
        "id": "UzdGK_vMN-Of",
        "outputId": "7e855029-0096-4e7e-8f2a-b964cff9be08"
      },
      "source": [
        "str2=str1.upper()\n",
        "str2"
      ],
      "execution_count": null,
      "outputs": [
        {
          "output_type": "execute_result",
          "data": {
            "application/vnd.google.colaboratory.intrinsic+json": {
              "type": "string"
            },
            "text/plain": [
              "'HOLA MUNDO, PYTHON'"
            ]
          },
          "metadata": {},
          "execution_count": 7
        }
      ]
    },
    {
      "cell_type": "code",
      "metadata": {
        "colab": {
          "base_uri": "https://localhost:8080/"
        },
        "id": "1nyzsvocOKGe",
        "outputId": "c5569c8c-c9c9-4b9d-a3b1-e1de6b62e8c7"
      },
      "source": [
        "print(str1)"
      ],
      "execution_count": null,
      "outputs": [
        {
          "output_type": "stream",
          "name": "stdout",
          "text": [
            "Hola Mundo, Python\n"
          ]
        }
      ]
    },
    {
      "cell_type": "code",
      "metadata": {
        "colab": {
          "base_uri": "https://localhost:8080/",
          "height": 36
        },
        "id": "-sbQ0ho8OVnX",
        "outputId": "2aecda8a-2ef7-4820-9bd9-2fce7cfc5aab"
      },
      "source": [
        "str1[0]"
      ],
      "execution_count": null,
      "outputs": [
        {
          "output_type": "execute_result",
          "data": {
            "application/vnd.google.colaboratory.intrinsic+json": {
              "type": "string"
            },
            "text/plain": [
              "'H'"
            ]
          },
          "metadata": {},
          "execution_count": 9
        }
      ]
    },
    {
      "cell_type": "code",
      "metadata": {
        "colab": {
          "base_uri": "https://localhost:8080/",
          "height": 36
        },
        "id": "tRESYvTpRfGk",
        "outputId": "d7e33a9f-fd15-4883-b8d7-3d9ca53039dc"
      },
      "source": [
        "str1[3]"
      ],
      "execution_count": null,
      "outputs": [
        {
          "output_type": "execute_result",
          "data": {
            "application/vnd.google.colaboratory.intrinsic+json": {
              "type": "string"
            },
            "text/plain": [
              "'a'"
            ]
          },
          "metadata": {},
          "execution_count": 13
        }
      ]
    },
    {
      "cell_type": "code",
      "metadata": {
        "colab": {
          "base_uri": "https://localhost:8080/",
          "height": 36
        },
        "id": "XPw3JrnsP4PV",
        "outputId": "8c5041a4-c2a1-464f-84d3-e120813821a6"
      },
      "source": [
        "str1[-6]"
      ],
      "execution_count": null,
      "outputs": [
        {
          "output_type": "execute_result",
          "data": {
            "application/vnd.google.colaboratory.intrinsic+json": {
              "type": "string"
            },
            "text/plain": [
              "'P'"
            ]
          },
          "metadata": {},
          "execution_count": 12
        }
      ]
    },
    {
      "cell_type": "code",
      "metadata": {
        "colab": {
          "base_uri": "https://localhost:8080/"
        },
        "id": "biHk5sqhQfUY",
        "outputId": "a0454df2-547f-4de4-b9ce-a97cded023fd"
      },
      "source": [
        "str3=\"Hola\"\n",
        "print(str3)\n",
        "print(\"0123\")"
      ],
      "execution_count": null,
      "outputs": [
        {
          "output_type": "stream",
          "name": "stdout",
          "text": [
            "Hola\n",
            "0123\n"
          ]
        }
      ]
    },
    {
      "cell_type": "code",
      "metadata": {
        "colab": {
          "base_uri": "https://localhost:8080/"
        },
        "id": "5wQ6AyyaSWg7",
        "outputId": "39c01095-e73e-442a-f2c5-b226c235085b"
      },
      "source": [
        "print(str3[0])\n",
        "print(str3[-4])"
      ],
      "execution_count": null,
      "outputs": [
        {
          "output_type": "stream",
          "name": "stdout",
          "text": [
            "H\n",
            "H\n"
          ]
        }
      ]
    },
    {
      "cell_type": "code",
      "metadata": {
        "colab": {
          "base_uri": "https://localhost:8080/"
        },
        "id": "9Cb0l0kVOh7D",
        "outputId": "d6424ba2-21a7-4dd7-c6b2-cc9ae492b995"
      },
      "source": [
        "for caracter in str1:\n",
        "  print(caracter)"
      ],
      "execution_count": null,
      "outputs": [
        {
          "output_type": "stream",
          "name": "stdout",
          "text": [
            "H\n",
            "o\n",
            "l\n",
            "a\n",
            " \n",
            "M\n",
            "u\n",
            "n\n",
            "d\n",
            "o\n",
            ",\n",
            " \n",
            "P\n",
            "y\n",
            "t\n",
            "h\n",
            "o\n",
            "n\n"
          ]
        }
      ]
    },
    {
      "cell_type": "markdown",
      "metadata": {
        "id": "Uil9uvouTJsW"
      },
      "source": [
        "Rebanado de cadenas\n"
      ]
    },
    {
      "cell_type": "code",
      "metadata": {
        "colab": {
          "base_uri": "https://localhost:8080/"
        },
        "id": "LXYS2skdTOjT",
        "outputId": "ec5e35a0-1710-481b-f050-5171161a14c5"
      },
      "source": [
        "str1=\"Hola Mundo Python\"\n",
        "s=str1[5:10]\n",
        "print(s)"
      ],
      "execution_count": null,
      "outputs": [
        {
          "output_type": "stream",
          "name": "stdout",
          "text": [
            "Mundo\n"
          ]
        }
      ]
    },
    {
      "cell_type": "code",
      "metadata": {
        "colab": {
          "base_uri": "https://localhost:8080/",
          "height": 36
        },
        "id": "4ERU0CH6WABs",
        "outputId": "d9ed4546-3cef-4fca-a6a6-940a15452548"
      },
      "source": [
        "str1[-12:-7]"
      ],
      "execution_count": null,
      "outputs": [
        {
          "output_type": "execute_result",
          "data": {
            "application/vnd.google.colaboratory.intrinsic+json": {
              "type": "string"
            },
            "text/plain": [
              "'Mundo'"
            ]
          },
          "metadata": {},
          "execution_count": 25
        }
      ]
    },
    {
      "cell_type": "code",
      "metadata": {
        "colab": {
          "base_uri": "https://localhost:8080/",
          "height": 36
        },
        "id": "8tUSK_2zWlXW",
        "outputId": "a0d2bbda-3e4a-4613-ae18-d5a02d3a5a3d"
      },
      "source": [
        "str1[0:4]"
      ],
      "execution_count": null,
      "outputs": [
        {
          "output_type": "execute_result",
          "data": {
            "application/vnd.google.colaboratory.intrinsic+json": {
              "type": "string"
            },
            "text/plain": [
              "'Hola'"
            ]
          },
          "metadata": {},
          "execution_count": 27
        }
      ]
    },
    {
      "cell_type": "code",
      "metadata": {
        "colab": {
          "base_uri": "https://localhost:8080/",
          "height": 36
        },
        "id": "F5WpRn3qTWf9",
        "outputId": "a60b3962-cfad-4e67-ee63-0e3a7b8bb6a9"
      },
      "source": [
        "str1[:4]"
      ],
      "execution_count": null,
      "outputs": [
        {
          "output_type": "execute_result",
          "data": {
            "application/vnd.google.colaboratory.intrinsic+json": {
              "type": "string"
            },
            "text/plain": [
              "'Hola'"
            ]
          },
          "metadata": {},
          "execution_count": 28
        }
      ]
    },
    {
      "cell_type": "code",
      "metadata": {
        "colab": {
          "base_uri": "https://localhost:8080/",
          "height": 36
        },
        "id": "QzcVNT6zW_0Q",
        "outputId": "c925c6f4-00f5-45bc-e04d-391f586b146a"
      },
      "source": [
        "str1[11:]"
      ],
      "execution_count": null,
      "outputs": [
        {
          "output_type": "execute_result",
          "data": {
            "application/vnd.google.colaboratory.intrinsic+json": {
              "type": "string"
            },
            "text/plain": [
              "'Python'"
            ]
          },
          "metadata": {},
          "execution_count": 29
        }
      ]
    },
    {
      "cell_type": "code",
      "metadata": {
        "colab": {
          "base_uri": "https://localhost:8080/",
          "height": 36
        },
        "id": "mzD4s5BgXKmi",
        "outputId": "68c7511d-a998-4444-e823-76e1ecba71f5"
      },
      "source": [
        "str1[::-1]"
      ],
      "execution_count": null,
      "outputs": [
        {
          "output_type": "execute_result",
          "data": {
            "application/vnd.google.colaboratory.intrinsic+json": {
              "type": "string"
            },
            "text/plain": [
              "'nohtyP odnuM aloH'"
            ]
          },
          "metadata": {},
          "execution_count": 30
        }
      ]
    },
    {
      "cell_type": "code",
      "metadata": {
        "colab": {
          "base_uri": "https://localhost:8080/",
          "height": 54
        },
        "id": "A4DRhIu6Xm1o",
        "outputId": "0f3f8dbb-5577-4f2a-a21e-5d905b069f22"
      },
      "source": [
        "str2=\"anitalavalatina\"\n",
        "print(str2)\n",
        "str2[::-1]      \n"
      ],
      "execution_count": null,
      "outputs": [
        {
          "output_type": "stream",
          "name": "stdout",
          "text": [
            "anitalavalatina\n"
          ]
        },
        {
          "output_type": "execute_result",
          "data": {
            "application/vnd.google.colaboratory.intrinsic+json": {
              "type": "string"
            },
            "text/plain": [
              "'anitalavalatina'"
            ]
          },
          "metadata": {},
          "execution_count": 33
        }
      ]
    },
    {
      "cell_type": "code",
      "metadata": {
        "colab": {
          "base_uri": "https://localhost:8080/",
          "height": 36
        },
        "id": "KibyeARZYhbA",
        "outputId": "bb63e3ec-471b-43c2-bd90-5bc483f86b77"
      },
      "source": [
        "saludo=\"hola\"+\" \"+\"mundo\"\n",
        "saludo"
      ],
      "execution_count": null,
      "outputs": [
        {
          "output_type": "execute_result",
          "data": {
            "application/vnd.google.colaboratory.intrinsic+json": {
              "type": "string"
            },
            "text/plain": [
              "'hola mundo'"
            ]
          },
          "metadata": {},
          "execution_count": 37
        }
      ]
    },
    {
      "cell_type": "code",
      "metadata": {
        "colab": {
          "base_uri": "https://localhost:8080/",
          "height": 36
        },
        "id": "XkWuoFXrY3xi",
        "outputId": "8198b26c-6f77-4eb6-e00d-5541326d7ef1"
      },
      "source": [
        "s=\"hola\"\n",
        "s*3"
      ],
      "execution_count": null,
      "outputs": [
        {
          "output_type": "execute_result",
          "data": {
            "application/vnd.google.colaboratory.intrinsic+json": {
              "type": "string"
            },
            "text/plain": [
              "'holaholahola'"
            ]
          },
          "metadata": {},
          "execution_count": 38
        }
      ]
    },
    {
      "cell_type": "markdown",
      "metadata": {
        "id": "bZdGSW_nXgRN"
      },
      "source": [
        "Listas"
      ]
    },
    {
      "cell_type": "code",
      "metadata": {
        "colab": {
          "base_uri": "https://localhost:8080/"
        },
        "id": "WTx02lCJZOK-",
        "outputId": "2c55c531-e81b-4302-9fe1-8b854fe10c7c"
      },
      "source": [
        "numbers=[1,5,2,10,6,3,4,1,8,4]\n",
        "numbers"
      ],
      "execution_count": null,
      "outputs": [
        {
          "output_type": "execute_result",
          "data": {
            "text/plain": [
              "[1, 5, 2, 10, 6, 3, 4, 1, 8, 4]"
            ]
          },
          "metadata": {},
          "execution_count": 39
        }
      ]
    },
    {
      "cell_type": "code",
      "metadata": {
        "colab": {
          "base_uri": "https://localhost:8080/"
        },
        "id": "qSNuzHk-ZXta",
        "outputId": "fe7723e3-6016-442e-9a48-06e1e3af0071"
      },
      "source": [
        "type(numbers)"
      ],
      "execution_count": null,
      "outputs": [
        {
          "output_type": "execute_result",
          "data": {
            "text/plain": [
              "list"
            ]
          },
          "metadata": {},
          "execution_count": 40
        }
      ]
    },
    {
      "cell_type": "code",
      "metadata": {
        "colab": {
          "base_uri": "https://localhost:8080/"
        },
        "id": "8Q3PtjTEZnqH",
        "outputId": "6017998a-61da-4488-9cae-262e137ee0f9"
      },
      "source": [
        "names=[\"Juan\",\"Maite\",\"Paola\",\"Rosa\",\"Pablo\"]\n",
        "names"
      ],
      "execution_count": null,
      "outputs": [
        {
          "output_type": "execute_result",
          "data": {
            "text/plain": [
              "['Juan', 'Maite', 'Paola', 'Rosa', 'Pablo']"
            ]
          },
          "metadata": {},
          "execution_count": 43
        }
      ]
    },
    {
      "cell_type": "code",
      "metadata": {
        "colab": {
          "base_uri": "https://localhost:8080/"
        },
        "id": "ahvSWFzXZy3W",
        "outputId": "628a7387-87b9-4504-f771-b40b83bc8fc5"
      },
      "source": [
        "mix=[100,\"Paola\",45,20,\"Hola\"]\n",
        "mix"
      ],
      "execution_count": null,
      "outputs": [
        {
          "output_type": "execute_result",
          "data": {
            "text/plain": [
              "[100, 'Paola', 45, 20, 'Hola']"
            ]
          },
          "metadata": {},
          "execution_count": 44
        }
      ]
    },
    {
      "cell_type": "code",
      "metadata": {
        "colab": {
          "base_uri": "https://localhost:8080/"
        },
        "id": "ctLsYOF4Z-iC",
        "outputId": "5088da41-31df-41d5-8805-7a083a291dea"
      },
      "source": [
        "lista=[10,40,[\"A\",7,\"W\"],\"Hola\",25]\n",
        "lista"
      ],
      "execution_count": null,
      "outputs": [
        {
          "output_type": "execute_result",
          "data": {
            "text/plain": [
              "[10, 40, ['A', 7, 'W'], 'Hola', 25]"
            ]
          },
          "metadata": {},
          "execution_count": 51
        }
      ]
    },
    {
      "cell_type": "code",
      "metadata": {
        "colab": {
          "base_uri": "https://localhost:8080/"
        },
        "id": "_2wIUdqlarvt",
        "outputId": "a930c451-88ae-4ac8-928a-be408fbcb32b"
      },
      "source": [
        "lista[0]"
      ],
      "execution_count": null,
      "outputs": [
        {
          "output_type": "execute_result",
          "data": {
            "text/plain": [
              "10"
            ]
          },
          "metadata": {},
          "execution_count": 55
        }
      ]
    },
    {
      "cell_type": "code",
      "metadata": {
        "colab": {
          "base_uri": "https://localhost:8080/"
        },
        "id": "IoJGbUmCaeBl",
        "outputId": "4cd75ad6-6fbc-40e6-b045-fe04534cf44e"
      },
      "source": [
        "lista[1]"
      ],
      "execution_count": null,
      "outputs": [
        {
          "output_type": "execute_result",
          "data": {
            "text/plain": [
              "40"
            ]
          },
          "metadata": {},
          "execution_count": 56
        }
      ]
    },
    {
      "cell_type": "code",
      "metadata": {
        "colab": {
          "base_uri": "https://localhost:8080/"
        },
        "id": "oB3JXFobaPPX",
        "outputId": "83b72c07-bc7c-4f29-9cd7-4bb3d393af68"
      },
      "source": [
        "lista[2]"
      ],
      "execution_count": null,
      "outputs": [
        {
          "output_type": "execute_result",
          "data": {
            "text/plain": [
              "['A', 7, 'W']"
            ]
          },
          "metadata": {},
          "execution_count": 57
        }
      ]
    },
    {
      "cell_type": "code",
      "metadata": {
        "colab": {
          "base_uri": "https://localhost:8080/"
        },
        "id": "tQ1D_yZba1Pf",
        "outputId": "9e5a3714-f221-455e-8843-72029be45854"
      },
      "source": [
        "lista[2][1]"
      ],
      "execution_count": null,
      "outputs": [
        {
          "output_type": "execute_result",
          "data": {
            "text/plain": [
              "7"
            ]
          },
          "metadata": {},
          "execution_count": 60
        }
      ]
    },
    {
      "cell_type": "code",
      "metadata": {
        "colab": {
          "base_uri": "https://localhost:8080/",
          "height": 36
        },
        "id": "1oSb8B_TbOmn",
        "outputId": "c9afefa7-5c92-4e68-cbfe-2d2083cba84a"
      },
      "source": [
        "lista[3]"
      ],
      "execution_count": null,
      "outputs": [
        {
          "output_type": "execute_result",
          "data": {
            "application/vnd.google.colaboratory.intrinsic+json": {
              "type": "string"
            },
            "text/plain": [
              "'Hola'"
            ]
          },
          "metadata": {},
          "execution_count": 61
        }
      ]
    },
    {
      "cell_type": "code",
      "metadata": {
        "colab": {
          "base_uri": "https://localhost:8080/",
          "height": 36
        },
        "id": "TST9_iw4bQ0z",
        "outputId": "a12e6067-3ecf-46ad-bdb6-aa9b05ecc43e"
      },
      "source": [
        "lista[3][2]"
      ],
      "execution_count": null,
      "outputs": [
        {
          "output_type": "execute_result",
          "data": {
            "application/vnd.google.colaboratory.intrinsic+json": {
              "type": "string"
            },
            "text/plain": [
              "'l'"
            ]
          },
          "metadata": {},
          "execution_count": 62
        }
      ]
    },
    {
      "cell_type": "code",
      "metadata": {
        "colab": {
          "base_uri": "https://localhost:8080/",
          "height": 36
        },
        "id": "kqoTFQz5cL4M",
        "outputId": "ba955e3f-6f46-4950-d328-a41d6a7c820a"
      },
      "source": [
        "lista[3][-2]"
      ],
      "execution_count": null,
      "outputs": [
        {
          "output_type": "execute_result",
          "data": {
            "application/vnd.google.colaboratory.intrinsic+json": {
              "type": "string"
            },
            "text/plain": [
              "'l'"
            ]
          },
          "metadata": {},
          "execution_count": 63
        }
      ]
    },
    {
      "cell_type": "code",
      "metadata": {
        "colab": {
          "base_uri": "https://localhost:8080/"
        },
        "id": "zRcEZ8tScY2B",
        "outputId": "2232a7e0-0e8f-468d-b40a-020a10d0038d"
      },
      "source": [
        "lista[-4]"
      ],
      "execution_count": null,
      "outputs": [
        {
          "output_type": "execute_result",
          "data": {
            "text/plain": [
              "40"
            ]
          },
          "metadata": {},
          "execution_count": 64
        }
      ]
    },
    {
      "cell_type": "code",
      "metadata": {
        "colab": {
          "base_uri": "https://localhost:8080/"
        },
        "id": "DNSslsNqcfQT",
        "outputId": "4bcbaf6b-2422-4773-bf13-09d78186421a"
      },
      "source": [
        "lista[-4]=\"xxxxxxx\"\n",
        "lista"
      ],
      "execution_count": null,
      "outputs": [
        {
          "output_type": "execute_result",
          "data": {
            "text/plain": [
              "[10, 'xxxxxxx', ['A', 7, 'W'], 'Hola', 25]"
            ]
          },
          "metadata": {},
          "execution_count": 65
        }
      ]
    },
    {
      "cell_type": "code",
      "metadata": {
        "colab": {
          "base_uri": "https://localhost:8080/"
        },
        "id": "QwUwR0wOcwmb",
        "outputId": "199c2c64-2fcf-42d6-b412-efb6a03fc043"
      },
      "source": [
        "lista[0:3]"
      ],
      "execution_count": null,
      "outputs": [
        {
          "output_type": "execute_result",
          "data": {
            "text/plain": [
              "[10, 'xxxxxxx', ['A', 7, 'W']]"
            ]
          },
          "metadata": {},
          "execution_count": 66
        }
      ]
    },
    {
      "cell_type": "code",
      "metadata": {
        "colab": {
          "base_uri": "https://localhost:8080/"
        },
        "id": "81CKoeC8dbaa",
        "outputId": "814eeec7-25a5-44c1-fa1c-61e3421c9a69"
      },
      "source": [
        "lista[4]=(1,\"A\",\"B\",5,8)\n",
        "lista"
      ],
      "execution_count": null,
      "outputs": [
        {
          "output_type": "execute_result",
          "data": {
            "text/plain": [
              "[10, 'xxxxxxx', ['A', 7, 'W'], 'Hola', (1, 'A', 'B', 5, 8)]"
            ]
          },
          "metadata": {},
          "execution_count": 68
        }
      ]
    },
    {
      "cell_type": "code",
      "metadata": {
        "colab": {
          "base_uri": "https://localhost:8080/",
          "height": 36
        },
        "id": "-OUdocMHduWh",
        "outputId": "4d5d682d-5216-48d5-a089-146466da47b4"
      },
      "source": [
        "lista[4][2]"
      ],
      "execution_count": null,
      "outputs": [
        {
          "output_type": "execute_result",
          "data": {
            "application/vnd.google.colaboratory.intrinsic+json": {
              "type": "string"
            },
            "text/plain": [
              "'B'"
            ]
          },
          "metadata": {},
          "execution_count": 69
        }
      ]
    },
    {
      "cell_type": "code",
      "metadata": {
        "colab": {
          "base_uri": "https://localhost:8080/"
        },
        "id": "JtUX5nk8eChz",
        "outputId": "49b42880-399b-48ec-b786-4337722b532c"
      },
      "source": [
        "type(lista[4])"
      ],
      "execution_count": null,
      "outputs": [
        {
          "output_type": "execute_result",
          "data": {
            "text/plain": [
              "tuple"
            ]
          },
          "metadata": {},
          "execution_count": 70
        }
      ]
    },
    {
      "cell_type": "markdown",
      "metadata": {
        "id": "KejbgGozXks9"
      },
      "source": [
        "Diccionarios"
      ]
    },
    {
      "cell_type": "code",
      "metadata": {
        "colab": {
          "base_uri": "https://localhost:8080/"
        },
        "id": "dZQouv91kX_P",
        "outputId": "2804ba74-eaa1-4aa9-d09d-deb87b33c393"
      },
      "source": [
        "dic1={100:[20,10,50],\n",
        "      300:\"Hola\",\n",
        "      200:64.5,\n",
        "      500:(\"A\",1,\"C\",4)}\n",
        "dic1"
      ],
      "execution_count": null,
      "outputs": [
        {
          "output_type": "execute_result",
          "data": {
            "text/plain": [
              "{100: [20, 10, 50], 200: 64.5, 300: 'Hola', 500: ('A', 1, 'C', 4)}"
            ]
          },
          "metadata": {},
          "execution_count": 73
        }
      ]
    },
    {
      "cell_type": "code",
      "metadata": {
        "colab": {
          "base_uri": "https://localhost:8080/"
        },
        "id": "9Q-oOpXMl9iU",
        "outputId": "376a3a48-d64e-44df-96b2-15b192b8d965"
      },
      "source": [
        "type(dic1)"
      ],
      "execution_count": null,
      "outputs": [
        {
          "output_type": "execute_result",
          "data": {
            "text/plain": [
              "dict"
            ]
          },
          "metadata": {},
          "execution_count": 74
        }
      ]
    },
    {
      "cell_type": "code",
      "metadata": {
        "colab": {
          "base_uri": "https://localhost:8080/",
          "height": 36
        },
        "id": "0WZaLFxcmM77",
        "outputId": "c82c0e08-7559-4561-d61a-3618ddd3a77a"
      },
      "source": [
        "dic1[300]"
      ],
      "execution_count": null,
      "outputs": [
        {
          "output_type": "execute_result",
          "data": {
            "application/vnd.google.colaboratory.intrinsic+json": {
              "type": "string"
            },
            "text/plain": [
              "'Hola'"
            ]
          },
          "metadata": {},
          "execution_count": 76
        }
      ]
    },
    {
      "cell_type": "code",
      "metadata": {
        "colab": {
          "base_uri": "https://localhost:8080/"
        },
        "id": "Bg7ucu-LmYVB",
        "outputId": "6753653e-0e4c-4630-eb25-976267b165f5"
      },
      "source": [
        "dic1[500]"
      ],
      "execution_count": null,
      "outputs": [
        {
          "output_type": "execute_result",
          "data": {
            "text/plain": [
              "('A', 1, 'C', 4)"
            ]
          },
          "metadata": {},
          "execution_count": 77
        }
      ]
    },
    {
      "cell_type": "code",
      "metadata": {
        "colab": {
          "base_uri": "https://localhost:8080/",
          "height": 36
        },
        "id": "ZdoIwC-vmda4",
        "outputId": "de28e63b-2c38-4c90-9f86-ff81c3417f1f"
      },
      "source": [
        "dic1[500][2]"
      ],
      "execution_count": null,
      "outputs": [
        {
          "output_type": "execute_result",
          "data": {
            "application/vnd.google.colaboratory.intrinsic+json": {
              "type": "string"
            },
            "text/plain": [
              "'C'"
            ]
          },
          "metadata": {},
          "execution_count": 78
        }
      ]
    },
    {
      "cell_type": "code",
      "metadata": {
        "colab": {
          "base_uri": "https://localhost:8080/"
        },
        "id": "bflgq4zZmsq3",
        "outputId": "f3e62e7f-2858-4ab4-8661-90c96004b314"
      },
      "source": [
        "alumnos={\"Juan Gonzalez\":[\"Algebra\",\"Computación\"],\n",
        "         \"Paola Gutierrez\":[\"Algebra\"],\n",
        "         \"Carla Rojas\":[\"Calculo\",\"Matematicas\",\"Ingles\"]}\n",
        "alumnos"
      ],
      "execution_count": null,
      "outputs": [
        {
          "output_type": "execute_result",
          "data": {
            "text/plain": [
              "{'Carla Rojas': ['Calculo', 'Matematicas', 'Ingles'],\n",
              " 'Juan Gonzalez': ['Algebra', 'Computación'],\n",
              " 'Paola Gutierrez': ['Algebra']}"
            ]
          },
          "metadata": {},
          "execution_count": 84
        }
      ]
    },
    {
      "cell_type": "code",
      "metadata": {
        "colab": {
          "base_uri": "https://localhost:8080/"
        },
        "id": "23A-BW_hnnKB",
        "outputId": "c3105a91-ccf4-47d2-929f-6ef8719e898e"
      },
      "source": [
        "alumnos[\"Marta Huala\"]=[\"Matematicas\",\"Fisica II\"]\n",
        "alumnos"
      ],
      "execution_count": null,
      "outputs": [
        {
          "output_type": "execute_result",
          "data": {
            "text/plain": [
              "{'Carla Rojas': ['Calculo', 'Matematicas', 'Ingles'],\n",
              " 'Juan Gonzalez': ['Algebra', 'Computación'],\n",
              " 'Marta Huala': ['Matematicas', 'Fisica II'],\n",
              " 'Paola Gutierrez': ['Algebra']}"
            ]
          },
          "metadata": {},
          "execution_count": 86
        }
      ]
    },
    {
      "cell_type": "code",
      "metadata": {
        "colab": {
          "base_uri": "https://localhost:8080/"
        },
        "id": "SDMuUNkOoGDo",
        "outputId": "f8596c9c-cdf7-4232-bf5d-11ff1ef84166"
      },
      "source": [
        "alumnos.keys()"
      ],
      "execution_count": null,
      "outputs": [
        {
          "output_type": "execute_result",
          "data": {
            "text/plain": [
              "dict_keys(['Juan Perez', 'Paola Rojas', 'Carla Rojas', 'Marta Huala'])"
            ]
          },
          "metadata": {},
          "execution_count": 81
        }
      ]
    },
    {
      "cell_type": "code",
      "metadata": {
        "colab": {
          "base_uri": "https://localhost:8080/"
        },
        "id": "HwcM_KPOoKHo",
        "outputId": "b85dfc5f-7816-4249-9834-91895a504208"
      },
      "source": [
        "alumnos.values()"
      ],
      "execution_count": null,
      "outputs": [
        {
          "output_type": "execute_result",
          "data": {
            "text/plain": [
              "dict_values([['Algebra', 'Computación'], ['Algebra'], ['Calculo', 'Matematicas', 'Ingles'], ['Matematicas', 'Fisica II']])"
            ]
          },
          "metadata": {},
          "execution_count": 82
        }
      ]
    },
    {
      "cell_type": "code",
      "metadata": {
        "colab": {
          "base_uri": "https://localhost:8080/"
        },
        "id": "709eJeKHoO4o",
        "outputId": "e104e2be-a6a9-4ff2-ffc3-8b05457818c5"
      },
      "source": [
        "for clave, valor in alumnos.items():\n",
        "    print(f\"{clave:{20}}- {valor}\")\n"
      ],
      "execution_count": null,
      "outputs": [
        {
          "output_type": "stream",
          "name": "stdout",
          "text": [
            "Juan Gonzalez       - ['Algebra', 'Computación']\n",
            "Paola Gutierrez     - ['Algebra']\n",
            "Carla Rojas         - ['Calculo', 'Matematicas', 'Ingles']\n",
            "Marta Huala         - ['Matematicas', 'Fisica II']\n"
          ]
        }
      ]
    },
    {
      "cell_type": "code",
      "metadata": {
        "id": "92pyHnJPrTx_"
      },
      "source": [
        ""
      ],
      "execution_count": null,
      "outputs": []
    },
    {
      "cell_type": "code",
      "metadata": {
        "colab": {
          "base_uri": "https://localhost:8080/"
        },
        "id": "YkQmI_cLqcHw",
        "outputId": "2a0ca6e3-43f0-4a4d-f736-9bdaee2b5364"
      },
      "source": [
        "for key in alumnos:\n",
        "  print(key,alumnos[key])"
      ],
      "execution_count": null,
      "outputs": [
        {
          "output_type": "stream",
          "name": "stdout",
          "text": [
            "Juan Gonzalez ['Algebra', 'Computación']\n",
            "Paola Gutierrez ['Algebra']\n",
            "Carla Rojas ['Calculo', 'Matematicas', 'Ingles']\n",
            "Marta Huala ['Matematicas', 'Fisica II']\n"
          ]
        }
      ]
    },
    {
      "cell_type": "markdown",
      "metadata": {
        "id": "S7_A1rQGpa_c"
      },
      "source": [
        "Lista de Tuplas"
      ]
    },
    {
      "cell_type": "code",
      "metadata": {
        "colab": {
          "base_uri": "https://localhost:8080/"
        },
        "id": "Jf73odKTfH5l",
        "outputId": "73fa9f62-f435-4d48-d72b-5bbb87f4479b"
      },
      "source": [
        "library=[(\"Author\",\"Title\",\"Pages\"),\n",
        "         (\"Twain\",\"Rafting\",601),\n",
        "         (\"Feynman\",\"Physics\",95),\n",
        "         (\"Hamilton\",\"Mythology\",144)]\n",
        "library"
      ],
      "execution_count": null,
      "outputs": [
        {
          "output_type": "execute_result",
          "data": {
            "text/plain": [
              "[('Author', 'Title', 'Pages'),\n",
              " ('Twain', 'Rafting', 601),\n",
              " ('Feynman', 'Physics', 95),\n",
              " ('Hamilton', 'Mythology', 144)]"
            ]
          },
          "metadata": {},
          "execution_count": 104
        }
      ]
    },
    {
      "cell_type": "code",
      "metadata": {
        "colab": {
          "base_uri": "https://localhost:8080/"
        },
        "id": "ytdg3HqCfw6j",
        "outputId": "0afccf44-c729-4b7a-e52c-3708e13fe292"
      },
      "source": [
        "for book in library:\n",
        "  print(book)"
      ],
      "execution_count": null,
      "outputs": [
        {
          "output_type": "stream",
          "name": "stdout",
          "text": [
            "('Author', 'Title', 'Pages')\n",
            "('Twain', 'Rafting', 601)\n",
            "('Feynman', 'Physics', 95)\n",
            "('Hamilton', 'Mythology', 144)\n"
          ]
        }
      ]
    },
    {
      "cell_type": "code",
      "metadata": {
        "colab": {
          "base_uri": "https://localhost:8080/"
        },
        "id": "S5LSXIizf2WE",
        "outputId": "5cd6bc4b-d49a-4487-8744-50d05bc037d9"
      },
      "source": [
        "for book in library:\n",
        "  print(f\"Author is {book[0]}\")"
      ],
      "execution_count": null,
      "outputs": [
        {
          "output_type": "stream",
          "name": "stdout",
          "text": [
            "Author is Author\n",
            "Author is Twain\n",
            "Author is Feynman\n",
            "Author is Hamilton\n"
          ]
        }
      ]
    },
    {
      "cell_type": "code",
      "metadata": {
        "colab": {
          "base_uri": "https://localhost:8080/"
        },
        "id": "QtQAcZ_YgHI8",
        "outputId": "1faaa839-c7ae-459d-d155-1c9ccb3168c9"
      },
      "source": [
        "for author,topic,pages in library:\n",
        "  print(f\"{author} {topic} {pages}\")"
      ],
      "execution_count": null,
      "outputs": [
        {
          "output_type": "stream",
          "name": "stdout",
          "text": [
            "Author Title Pages\n",
            "Twain Rafting 601\n",
            "Feynman Physics 95\n",
            "Hamilton Mythology 144\n"
          ]
        }
      ]
    },
    {
      "cell_type": "code",
      "metadata": {
        "colab": {
          "base_uri": "https://localhost:8080/"
        },
        "id": "VqcuVFr6ggOx",
        "outputId": "fb33741e-6834-44fa-85c7-1c5ebbef051e"
      },
      "source": [
        "for author,topic,pages in library:\n",
        "  print(f\"{author:{10}}{topic:{30}}{pages:{10}}\")"
      ],
      "execution_count": null,
      "outputs": [
        {
          "output_type": "stream",
          "name": "stdout",
          "text": [
            "Author    Title                         Pages     \n",
            "Twain     Rafting                              601\n",
            "Feynman   Physics                               95\n",
            "Hamilton  Mythology                            144\n"
          ]
        }
      ]
    }
  ]
}