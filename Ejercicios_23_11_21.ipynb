{
  "nbformat": 4,
  "nbformat_minor": 0,
  "metadata": {
    "colab": {
      "name": "Ejercicios_23.11.21.ipynb",
      "provenance": [],
      "collapsed_sections": [],
      "authorship_tag": "ABX9TyOo/7CLBb9zJtI4BfWzs9Nt",
      "include_colab_link": true
    },
    "kernelspec": {
      "name": "python3",
      "display_name": "Python 3"
    },
    "language_info": {
      "name": "python"
    }
  },
  "cells": [
    {
      "cell_type": "markdown",
      "metadata": {
        "id": "view-in-github",
        "colab_type": "text"
      },
      "source": [
        "<a href=\"https://colab.research.google.com/github/ClaudiaGonzalezScanu/aprendiendo_python/blob/main/Ejercicios_23_11_21.ipynb\" target=\"_parent\"><img src=\"https://colab.research.google.com/assets/colab-badge.svg\" alt=\"Open In Colab\"/></a>"
      ]
    },
    {
      "cell_type": "markdown",
      "metadata": {
        "id": "26ohXajNMBXa"
      },
      "source": [
        "Repaso desde Hola Mundo"
      ]
    },
    {
      "cell_type": "code",
      "metadata": {
        "colab": {
          "base_uri": "https://localhost:8080/"
        },
        "id": "kB29gWt3BmYD",
        "outputId": "28842148-8683-4322-eb39-0f7863911ffd"
      },
      "source": [
        "print(\"¡Hola Mundo!\")\n"
      ],
      "execution_count": null,
      "outputs": [
        {
          "output_type": "stream",
          "name": "stdout",
          "text": [
            "¡Hola Mundo!\n"
          ]
        }
      ]
    },
    {
      "cell_type": "markdown",
      "metadata": {
        "id": "HeNTfrY-MK7l"
      },
      "source": [
        "Variables: es un nombre que se agigna un valor en el programa, es un espacio en memoria, se alojará o guardará un valor específico. Luego podremos llamar a la variable y usar el o los valores que guardamos en ese nombre. ej. num = 5, el nombre de la variables es num, y ese nombre se usará para usar el valor 5. \n",
        "Primero se define la variable dando el nombre, en este caso num"
      ]
    },
    {
      "cell_type": "code",
      "metadata": {
        "colab": {
          "base_uri": "https://localhost:8080/"
        },
        "id": "SvduOmsoNCJM",
        "outputId": "37c6adb8-9508-4364-8d37-a8c65663f79d"
      },
      "source": [
        "num = 3\n",
        "num             #se comprueba qe el valor existe en memoria, se escribe num el nombre de la variable y nos retorna el valor de la variable\n"
      ],
      "execution_count": null,
      "outputs": [
        {
          "output_type": "execute_result",
          "data": {
            "text/plain": [
              "3"
            ]
          },
          "metadata": {},
          "execution_count": 12
        }
      ]
    },
    {
      "cell_type": "code",
      "metadata": {
        "colab": {
          "base_uri": "https://localhost:8080/"
        },
        "id": "pn-8D0rFNl6s",
        "outputId": "d7cdf403-ffbf-4bf4-9d0f-6573f1677016"
      },
      "source": [
        " num+2         # nombramos la variable y sumamos 2, nos retorna la suma el valor 3+2=5"
      ],
      "execution_count": null,
      "outputs": [
        {
          "output_type": "execute_result",
          "data": {
            "text/plain": [
              "5"
            ]
          },
          "metadata": {},
          "execution_count": 10
        }
      ]
    },
    {
      "cell_type": "code",
      "metadata": {
        "colab": {
          "base_uri": "https://localhost:8080/"
        },
        "id": "TX8o5ME7OD1X",
        "outputId": "e402682f-4a56-43e7-90c7-1a7b8fb7d016"
      },
      "source": [
        "num =15          #ahora cambiamos el valor de num, modificamos a valor 15\n",
        "num"
      ],
      "execution_count": null,
      "outputs": [
        {
          "output_type": "execute_result",
          "data": {
            "text/plain": [
              "15"
            ]
          },
          "metadata": {},
          "execution_count": 24
        }
      ]
    },
    {
      "cell_type": "code",
      "metadata": {
        "colab": {
          "base_uri": "https://localhost:8080/"
        },
        "id": "sVjZ0FrrPkhy",
        "outputId": "e9822325-230f-4c8b-809b-a171c5ab3e15"
      },
      "source": [
        "num-5             # a num restamos 5 nos retorna el resultado 15-5=10\n"
      ],
      "execution_count": null,
      "outputs": [
        {
          "output_type": "execute_result",
          "data": {
            "text/plain": [
              "10"
            ]
          },
          "metadata": {},
          "execution_count": 25
        }
      ]
    },
    {
      "cell_type": "markdown",
      "metadata": {
        "id": "-D44dCKJQYMr"
      },
      "source": [
        "El nombre de la variables no pueden comenzar con un número, nos mostrará error de sintaxis \"SyntaxError\", las variables sólo pueden contener caracteres alfanuméricos de (A-Z, a-z, 0-9, _), no puede contener otro caracter.Se distingue entre mayuscula y monuscula, por lo tanto, al llamar una variable, se debe hacer de la mismo forma como fue definida."
      ]
    },
    {
      "cell_type": "markdown",
      "metadata": {
        "id": "ySLxpiXaRonh"
      },
      "source": [
        "Tipos de Datos\n",
        "numéricos /entero, no posee decimales, positivos, negativos y 0\n",
        "La función type() nos dirá que tipo de valor es.\n",
        "Int es Integer=entero\n",
        "decimales, al usar type() nos dira Float=Flotante float es decimal, cualquier valor que usa ,\n",
        "valores booleanos True=vardadero o False=falso los valores booleanos son importantes para ciclos o Bucles\n",
        "True False son Key words palabras clave\n",
        "class bool\n"
      ]
    },
    {
      "cell_type": "markdown",
      "metadata": {
        "id": "de_vuS_LTIS-"
      },
      "source": [
        "Cadenas de caracteres o String, son una secuencia de caracteres encerrados entre \"\" y usados para representar texto en el programa.\n",
        "Ej. \"Hola Mundo\" es una cadena de caracteres.\n",
        "    \"Python\" las \"\" pueden ser comillas simples, al psar type nos mostrara class str, la abreviación de string"
      ]
    },
    {
      "cell_type": "code",
      "metadata": {
        "colab": {
          "base_uri": "https://localhost:8080/"
        },
        "id": "4IbSoTmyUdYS",
        "outputId": "6a99f2fe-9bc5-47b0-bb44-8f415dc2ec26"
      },
      "source": [
        "nombre =\"Claudia\"\n",
        "type(nombre)"
      ],
      "execution_count": null,
      "outputs": [
        {
          "output_type": "execute_result",
          "data": {
            "text/plain": [
              "str"
            ]
          },
          "metadata": {},
          "execution_count": 29
        }
      ]
    },
    {
      "cell_type": "markdown",
      "metadata": {
        "id": "uWKZpPBzU_Lt"
      },
      "source": [
        "Tamaño o Length, la función len() nos retornrá el valor de su tamaño"
      ]
    },
    {
      "cell_type": "code",
      "metadata": {
        "colab": {
          "base_uri": "https://localhost:8080/"
        },
        "id": "PQNM5dr-VKnC",
        "outputId": "0ea69a71-4913-4bc3-ca8d-31c0830188b7"
      },
      "source": [
        "len(nombre) # nos entregará la longitud de la cadena nombre=Claudia, tiene 7 caracteres."
      ],
      "execution_count": null,
      "outputs": [
        {
          "output_type": "execute_result",
          "data": {
            "text/plain": [
              "7"
            ]
          },
          "metadata": {},
          "execution_count": 30
        }
      ]
    },
    {
      "cell_type": "markdown",
      "metadata": {
        "id": "7P0MkrjqVYSt"
      },
      "source": [
        "Indice, en una cadena se comiena a numerar desde 0,1,2....ej.\"Python\" comienza P=0, y=1,t=2,h=3,o=4,n=5 Python tiene indice de 0 a 5"
      ]
    },
    {
      "cell_type": "markdown",
      "metadata": {
        "id": "8Nin7ltTXxCv"
      },
      "source": [
        "Indexacion nombre de la cadena[]\n"
      ]
    },
    {
      "cell_type": "code",
      "metadata": {
        "colab": {
          "base_uri": "https://localhost:8080/",
          "height": 35
        },
        "id": "fSt8pN-dXmax",
        "outputId": "caa7140a-2269-45a1-91c7-e77d7a5081d2"
      },
      "source": [
        "palabra = \"Python\"\n",
        "palabra[0]             #llamamos al indice 0 nos devuelve el primer caracter de la cadena"
      ],
      "execution_count": null,
      "outputs": [
        {
          "output_type": "execute_result",
          "data": {
            "application/vnd.google.colaboratory.intrinsic+json": {
              "type": "string"
            },
            "text/plain": [
              "'P'"
            ]
          },
          "metadata": {},
          "execution_count": 32
        }
      ]
    },
    {
      "cell_type": "code",
      "metadata": {
        "colab": {
          "base_uri": "https://localhost:8080/",
          "height": 35
        },
        "id": "pUo23FySYRhe",
        "outputId": "347ebb72-36b7-4a1d-b388-0a0054398676"
      },
      "source": [
        "palabra[1] #llamamos al indice 1 nos devuelve y"
      ],
      "execution_count": null,
      "outputs": [
        {
          "output_type": "execute_result",
          "data": {
            "application/vnd.google.colaboratory.intrinsic+json": {
              "type": "string"
            },
            "text/plain": [
              "'y'"
            ]
          },
          "metadata": {},
          "execution_count": 33
        }
      ]
    },
    {
      "cell_type": "code",
      "metadata": {
        "colab": {
          "base_uri": "https://localhost:8080/",
          "height": 167
        },
        "id": "ynmQS1vrYiOj",
        "outputId": "9b72c25e-c4d4-44fa-d397-60e1c8f0c324"
      },
      "source": [
        "palabra[6]  #nos muestra error ya que no existe el indice 6 en la palabra Python"
      ],
      "execution_count": null,
      "outputs": [
        {
          "output_type": "error",
          "ename": "IndexError",
          "evalue": "ignored",
          "traceback": [
            "\u001b[0;31m---------------------------------------------------------------------------\u001b[0m",
            "\u001b[0;31mIndexError\u001b[0m                                Traceback (most recent call last)",
            "\u001b[0;32m<ipython-input-34-217e97cabb54>\u001b[0m in \u001b[0;36m<module>\u001b[0;34m()\u001b[0m\n\u001b[0;32m----> 1\u001b[0;31m \u001b[0mpalabra\u001b[0m\u001b[0;34m[\u001b[0m\u001b[0;36m6\u001b[0m\u001b[0;34m]\u001b[0m\u001b[0;34m\u001b[0m\u001b[0;34m\u001b[0m\u001b[0m\n\u001b[0m",
            "\u001b[0;31mIndexError\u001b[0m: string index out of range"
          ]
        }
      ]
    },
    {
      "cell_type": "markdown",
      "metadata": {
        "id": "zYVCVBdsY8yu"
      },
      "source": [
        "Rebanado en ingles Slicing, vamos a tomar una porción de la cadena de caracteres, ej. \"Python\" «cadena»[inicio:fin] el último caracter no estará incluido en el caracter incluido, se detiene un indice anterior."
      ]
    },
    {
      "cell_type": "code",
      "metadata": {
        "colab": {
          "base_uri": "https://localhost:8080/",
          "height": 35
        },
        "id": "gRm8hESnZvPH",
        "outputId": "cdb09e25-caba-40de-88dd-f16f7ceaa8d0"
      },
      "source": [
        "palabra[1:4]   # solicitamos los indices 1 a 3 de palabra \"Python\" nos devuelve 1=y,2=t,3=h"
      ],
      "execution_count": null,
      "outputs": [
        {
          "output_type": "execute_result",
          "data": {
            "application/vnd.google.colaboratory.intrinsic+json": {
              "type": "string"
            },
            "text/plain": [
              "'yth'"
            ]
          },
          "metadata": {},
          "execution_count": 35
        }
      ]
    },
    {
      "cell_type": "markdown",
      "metadata": {
        "id": "1QKonLz7awOH"
      },
      "source": [
        "el rebanado siembre va entre [], al no escribir el valor al inicio o al fin, toma los caracteres ya sea desde el inicio o el final, dependiendo cual falta"
      ]
    },
    {
      "cell_type": "code",
      "metadata": {
        "colab": {
          "base_uri": "https://localhost:8080/",
          "height": 35
        },
        "id": "VldOON5DYz0o",
        "outputId": "4f6e98fc-629a-424a-b2e8-d11403306570"
      },
      "source": [
        "palabra[:3]  #rebanado omitiendo el indice inicio"
      ],
      "execution_count": null,
      "outputs": [
        {
          "output_type": "execute_result",
          "data": {
            "application/vnd.google.colaboratory.intrinsic+json": {
              "type": "string"
            },
            "text/plain": [
              "'Pyt'"
            ]
          },
          "metadata": {},
          "execution_count": 37
        }
      ]
    },
    {
      "cell_type": "markdown",
      "metadata": {
        "id": "lWDiG3B-bhLk"
      },
      "source": [
        "Rebanado con paso, «cadena»[inicio:fin:paso] con paso podemos saltar algunos caracteres"
      ]
    },
    {
      "cell_type": "code",
      "metadata": {
        "colab": {
          "base_uri": "https://localhost:8080/",
          "height": 35
        },
        "id": "n0jAkI0eb0nX",
        "outputId": "92786e10-88bb-4c04-8d86-ac95e18e5572"
      },
      "source": [
        "palabra[1:6:2]  # solicitamos nos de el caracter desde 1 a 5, llama al indice 1=y, luego suma 2=valor de paso a indice1, nos da 3=h, a indice3 sumamos 2valor de paso y nos da indice 5 "
      ],
      "execution_count": null,
      "outputs": [
        {
          "output_type": "execute_result",
          "data": {
            "application/vnd.google.colaboratory.intrinsic+json": {
              "type": "string"
            },
            "text/plain": [
              "'yhn'"
            ]
          },
          "metadata": {},
          "execution_count": 38
        }
      ]
    },
    {
      "cell_type": "markdown",
      "metadata": {
        "id": "Y08xl8X9dwc5"
      },
      "source": [
        "Metodos de cadena de caracteres, operaciones comunes que vienen implementadas en Python. <cadena>.<método>(<valores>), de no requerir valor ()"
      ]
    },
    {
      "cell_type": "code",
      "metadata": {
        "colab": {
          "base_uri": "https://localhost:8080/",
          "height": 35
        },
        "id": "CLXNA1LMekaR",
        "outputId": "b5b2a612-55c0-48ba-a055-55a348ee60b1"
      },
      "source": [
        "palabra2 =\"python\"\n",
        "palabra2.capitalize()  #capitalize hace una copia de palabra2 con el primer caracter en mayuscula"
      ],
      "execution_count": null,
      "outputs": [
        {
          "output_type": "execute_result",
          "data": {
            "application/vnd.google.colaboratory.intrinsic+json": {
              "type": "string"
            },
            "text/plain": [
              "'Python'"
            ]
          },
          "metadata": {},
          "execution_count": 39
        }
      ]
    },
    {
      "cell_type": "markdown",
      "metadata": {
        "id": "otHTyGy6fAFE"
      },
      "source": [
        "Otros métodos find - index - isalnum - isalpha - isdecimal - isdigit - islower - isupper - lower - upper"
      ]
    },
    {
      "cell_type": "code",
      "metadata": {
        "colab": {
          "base_uri": "https://localhost:8080/",
          "height": 35
        },
        "id": "MHKZFvH8fU4c",
        "outputId": "4cb7685e-439c-47a5-de19-a4918db51d59"
      },
      "source": [
        "palabra.lower() # lower nos devuelve toda la cadena en minúscula"
      ],
      "execution_count": null,
      "outputs": [
        {
          "output_type": "execute_result",
          "data": {
            "application/vnd.google.colaboratory.intrinsic+json": {
              "type": "string"
            },
            "text/plain": [
              "'python'"
            ]
          },
          "metadata": {},
          "execution_count": 41
        }
      ]
    },
    {
      "cell_type": "code",
      "metadata": {
        "colab": {
          "base_uri": "https://localhost:8080/",
          "height": 35
        },
        "id": "W8YurSc8fmo8",
        "outputId": "72d2333e-a03e-4dce-c5bd-971a70047f16"
      },
      "source": [
        "palabra.upper() # upper nos devuelve toda la cadena en mayúscula"
      ],
      "execution_count": null,
      "outputs": [
        {
          "output_type": "execute_result",
          "data": {
            "application/vnd.google.colaboratory.intrinsic+json": {
              "type": "string"
            },
            "text/plain": [
              "'PYTHON'"
            ]
          },
          "metadata": {},
          "execution_count": 42
        }
      ]
    },
    {
      "cell_type": "code",
      "metadata": {
        "colab": {
          "base_uri": "https://localhost:8080/"
        },
        "id": "MrUHrjrEfxho",
        "outputId": "807364bf-890d-4879-8a16-c5fc8f88eb7d"
      },
      "source": [
        "palabra.isalnum() #nos dice si la cdena es alfanumérico"
      ],
      "execution_count": null,
      "outputs": [
        {
          "output_type": "execute_result",
          "data": {
            "text/plain": [
              "True"
            ]
          },
          "metadata": {},
          "execution_count": 45
        }
      ]
    },
    {
      "cell_type": "code",
      "metadata": {
        "colab": {
          "base_uri": "https://localhost:8080/"
        },
        "id": "U3oM6gAhgDv1",
        "outputId": "8c3b8bd6-d27a-45f8-c596-df4a20c43bae"
      },
      "source": [
        "palabra.isdecimal() # nos dice True or Falce si la cadena de caracteres es bool en este caso es stn "
      ],
      "execution_count": null,
      "outputs": [
        {
          "output_type": "execute_result",
          "data": {
            "text/plain": [
              "False"
            ]
          },
          "metadata": {},
          "execution_count": 46
        }
      ]
    },
    {
      "cell_type": "code",
      "metadata": {
        "colab": {
          "base_uri": "https://localhost:8080/"
        },
        "id": "ULSx43SvgYF3",
        "outputId": "78f680cf-d78f-4b5b-bc0a-7dd811481730"
      },
      "source": [
        "palabra.isdigit() #nos miestra True or False "
      ],
      "execution_count": null,
      "outputs": [
        {
          "output_type": "execute_result",
          "data": {
            "text/plain": [
              "False"
            ]
          },
          "metadata": {},
          "execution_count": 47
        }
      ]
    },
    {
      "cell_type": "code",
      "metadata": {
        "colab": {
          "base_uri": "https://localhost:8080/",
          "height": 35
        },
        "id": "1X5ivqB1gmvP",
        "outputId": "16bf8e0a-c926-4ae4-ac43-77ddc5ac9ec9"
      },
      "source": [
        "palabra.lower() #trae una copia de la variable python que fue modificada anteriormente"
      ],
      "execution_count": null,
      "outputs": [
        {
          "output_type": "execute_result",
          "data": {
            "application/vnd.google.colaboratory.intrinsic+json": {
              "type": "string"
            },
            "text/plain": [
              "'python'"
            ]
          },
          "metadata": {},
          "execution_count": 48
        }
      ]
    },
    {
      "cell_type": "markdown",
      "metadata": {
        "id": "Fvpr6_wZg0L-"
      },
      "source": [
        "Recibiendo Datos del Usuario / \n",
        "función input(), permite solicitar ingresar datos al usuario, normalmente se asigna un valor a esa variable que el usuario ingresa con la siguiente sintaxi <var> = input(<mensaje>), la función input() siempre retorna una cadena de caracteres, independientemente de la variable que se está ingresando, para poder trabajar se debe convertir ese dato.\n"
      ]
    },
    {
      "cell_type": "code",
      "metadata": {
        "colab": {
          "base_uri": "https://localhost:8080/"
        },
        "id": "m3yPmEjhjXkV",
        "outputId": "625bb4c9-8bfd-4241-9ee4-0752d53b247a"
      },
      "source": [
        "num1 =input(\"Ingrese un número: \")  #solicitamos al usuario un valor\n",
        "print(num1)                         #con print mostramos la variable ingresada por el usuario"
      ],
      "execution_count": null,
      "outputs": [
        {
          "output_type": "stream",
          "name": "stdout",
          "text": [
            "Ingrese un número: 5\n",
            "5\n"
          ]
        }
      ]
    },
    {
      "cell_type": "code",
      "metadata": {
        "colab": {
          "base_uri": "https://localhost:8080/"
        },
        "id": "rSTbxsVVkVte",
        "outputId": "fa078465-4bff-4fca-eebd-e7f1fb7d5c19"
      },
      "source": [
        "type(num1)  # type, nos muestra el tipo de valor de la cadena ingresada, a pesar de ser número lo ingresa como str"
      ],
      "execution_count": null,
      "outputs": [
        {
          "output_type": "execute_result",
          "data": {
            "text/plain": [
              "str"
            ]
          },
          "metadata": {},
          "execution_count": 50
        }
      ]
    },
    {
      "cell_type": "markdown",
      "metadata": {
        "id": "oqKg0tmdklUU"
      },
      "source": [
        "Para mejorar el código, se asigna a la variable el tipo de vato que necesitamos ej. num1 = int(input(\"Ingrese valor: \")"
      ]
    },
    {
      "cell_type": "code",
      "metadata": {
        "colab": {
          "base_uri": "https://localhost:8080/"
        },
        "id": "EUM2gBd-k6Is",
        "outputId": "a1bca62e-7901-4677-d2b1-d1e1b53c6a2e"
      },
      "source": [
        "num2 =int(input(\"Ingrese un número: \"))  #solicitamos al usuario un valor, tranformamos de inmediato a int= entero\n",
        "print(num2)   "
      ],
      "execution_count": null,
      "outputs": [
        {
          "output_type": "stream",
          "name": "stdout",
          "text": [
            "Ingrese un número: 5\n",
            "5\n"
          ]
        }
      ]
    },
    {
      "cell_type": "code",
      "metadata": {
        "colab": {
          "base_uri": "https://localhost:8080/"
        },
        "id": "4iv4YBxIlPTw",
        "outputId": "93099928-f483-4f6a-f459-ef282bbfedb3"
      },
      "source": [
        "type (num2)   # ahora al solicitar ver tipo de dato, nos muestra entero int"
      ],
      "execution_count": null,
      "outputs": [
        {
          "output_type": "execute_result",
          "data": {
            "text/plain": [
              "int"
            ]
          },
          "metadata": {},
          "execution_count": 52
        }
      ]
    },
    {
      "cell_type": "markdown",
      "metadata": {
        "id": "oDJrjD_zlYDH"
      },
      "source": [
        "Operadores:\n",
        "Son símbolos que denotan una operación en el programa, simbolos que usaremos\n",
        "Operandos son los valores con los cuales vamos a ejecutar la operación\n",
        "Operador + Operando = Expresión \n",
        "Expresión es una combinación de valores, variables y operadores que al ser evaluados resultan en un valor. ej. al sumar 2 números resulta un valor, al hablar de una expresión se dice que se evalúa una expresión para obtener un valor, se evalúa de izquierda a derecha, como en matemáticas.\n",
        "Operadores: Aritméticos- Lógicos- De asignación- Relacionales"
      ]
    },
    {
      "cell_type": "markdown",
      "metadata": {
        "id": "umXChgqrncas"
      },
      "source": [
        "Operadores Aritmeticos: Suma-resta-multiplicación-División-División entera- Exponente y módulo"
      ]
    },
    {
      "cell_type": "code",
      "metadata": {
        "colab": {
          "base_uri": "https://localhost:8080/"
        },
        "id": "hKl-7iVknkzy",
        "outputId": "d8e4770f-9f91-4981-9f01-c0cbdc689c0d"
      },
      "source": [
        "5+6   # Suma,  el conjunto de operadores y comandos suma, se evalúa y se obtiene resultado 11"
      ],
      "execution_count": null,
      "outputs": [
        {
          "output_type": "execute_result",
          "data": {
            "text/plain": [
              "11"
            ]
          },
          "metadata": {},
          "execution_count": 53
        }
      ]
    },
    {
      "cell_type": "code",
      "metadata": {
        "colab": {
          "base_uri": "https://localhost:8080/",
          "height": 35
        },
        "id": "_4D1Mep_nvrd",
        "outputId": "1f5f7a4e-c745-437b-ea51-7d1823942643"
      },
      "source": [
        "\"Hola\"+\" \"+\"Mundo\" # en el caso de stn Concatena, une las cadenas de caracteres para formar una sola"
      ],
      "execution_count": null,
      "outputs": [
        {
          "output_type": "execute_result",
          "data": {
            "application/vnd.google.colaboratory.intrinsic+json": {
              "type": "string"
            },
            "text/plain": [
              "'Hola Mundo'"
            ]
          },
          "metadata": {},
          "execution_count": 55
        }
      ]
    },
    {
      "cell_type": "code",
      "metadata": {
        "colab": {
          "base_uri": "https://localhost:8080/"
        },
        "id": "8VNSOiOaoHbH",
        "outputId": "cc5cd88a-b556-4b11-9892-7579223e24e9"
      },
      "source": [
        "4-8    # la respa nos puede resultar negativo"
      ],
      "execution_count": null,
      "outputs": [
        {
          "output_type": "execute_result",
          "data": {
            "text/plain": [
              "-4"
            ]
          },
          "metadata": {},
          "execution_count": 56
        }
      ]
    },
    {
      "cell_type": "code",
      "metadata": {
        "colab": {
          "base_uri": "https://localhost:8080/"
        },
        "id": "j_sxhH3coKWq",
        "outputId": "7142692f-5efb-4927-861a-06d0b62447e3"
      },
      "source": [
        "3.4-5.6    # podemos usar valores en coma plotante"
      ],
      "execution_count": null,
      "outputs": [
        {
          "output_type": "execute_result",
          "data": {
            "text/plain": [
              "-2.1999999999999997"
            ]
          },
          "metadata": {},
          "execution_count": 57
        }
      ]
    },
    {
      "cell_type": "code",
      "metadata": {
        "colab": {
          "base_uri": "https://localhost:8080/"
        },
        "id": "-GY9mnIXpMeI",
        "outputId": "c73bc80e-a41b-4683-f5c6-c36491b7a3b4"
      },
      "source": [
        "12/6    # en el caso de la división siempre retorna un número de coma flotante"
      ],
      "execution_count": null,
      "outputs": [
        {
          "output_type": "execute_result",
          "data": {
            "text/plain": [
              "2.0"
            ]
          },
          "metadata": {},
          "execution_count": 59
        }
      ]
    },
    {
      "cell_type": "markdown",
      "metadata": {
        "id": "tJEzVksNpZ8y"
      },
      "source": [
        "Al dividir por 0 no está definida, nos devuelve error\n",
        "para obtener un valor entero en una división, se coloca 15//5 y obtenermos un valor entero, el operador trunca los decimanes, sólo muestra la parte entera del resultado, no aproxima"
      ]
    },
    {
      "cell_type": "code",
      "metadata": {
        "colab": {
          "base_uri": "https://localhost:8080/"
        },
        "id": "S9lyReOkpv-O",
        "outputId": "28e4f757-7fd6-4aca-9a97-f5a9481a719c"
      },
      "source": [
        "5.6/3.4    # en esta división el resultado tiene muchos decimales"
      ],
      "execution_count": null,
      "outputs": [
        {
          "output_type": "execute_result",
          "data": {
            "text/plain": [
              "1.6470588235294117"
            ]
          },
          "metadata": {},
          "execution_count": 60
        }
      ]
    },
    {
      "cell_type": "code",
      "metadata": {
        "colab": {
          "base_uri": "https://localhost:8080/"
        },
        "id": "CiLQQqAbp0eC",
        "outputId": "a88862a5-579a-42cb-c4d4-f70f69f8b70f"
      },
      "source": [
        "5.6//3.4  # en la misma división con // para obtener entero corta los decimales y muestra el valor 1.0"
      ],
      "execution_count": null,
      "outputs": [
        {
          "output_type": "execute_result",
          "data": {
            "text/plain": [
              "1.0"
            ]
          },
          "metadata": {},
          "execution_count": 61
        }
      ]
    },
    {
      "cell_type": "markdown",
      "metadata": {
        "id": "Cy4J2yniqIXg"
      },
      "source": [
        "La división entera o // Floor division\n"
      ]
    },
    {
      "cell_type": "markdown",
      "metadata": {
        "id": "CcG__cYIr-Xv"
      },
      "source": [
        "Busqueda binaria\n",
        "Algoritmo, es una secuencia de pasos para resolver un problema\n",
        "\n",
        "Otro operador es exponente  **"
      ]
    },
    {
      "cell_type": "code",
      "metadata": {
        "colab": {
          "base_uri": "https://localhost:8080/"
        },
        "id": "8avehzY2sV9m",
        "outputId": "a86d7def-300b-44da-f125-bd4792bb5065"
      },
      "source": [
        "5**3    # 5 elevado a 3 "
      ],
      "execution_count": null,
      "outputs": [
        {
          "output_type": "execute_result",
          "data": {
            "text/plain": [
              "125"
            ]
          },
          "metadata": {},
          "execution_count": 62
        }
      ]
    },
    {
      "cell_type": "code",
      "metadata": {
        "colab": {
          "base_uri": "https://localhost:8080/"
        },
        "id": "sm8wkz4BseLI",
        "outputId": "216923c2-4a94-41cb-fd21-65ef5ce8c49f"
      },
      "source": [
        "16**(1/2)   # obtenemos la raíz cuadrada de un número al elevarlo a 1/2"
      ],
      "execution_count": null,
      "outputs": [
        {
          "output_type": "execute_result",
          "data": {
            "text/plain": [
              "4.0"
            ]
          },
          "metadata": {},
          "execution_count": 63
        }
      ]
    },
    {
      "cell_type": "code",
      "metadata": {
        "colab": {
          "base_uri": "https://localhost:8080/"
        },
        "id": "EFzzFNd7snsa",
        "outputId": "2fc630bf-e1c6-4310-af37-8adb8b8484d5"
      },
      "source": [
        "5**0    #cualquier número elevado a 0 es 1"
      ],
      "execution_count": null,
      "outputs": [
        {
          "output_type": "execute_result",
          "data": {
            "text/plain": [
              "1"
            ]
          },
          "metadata": {},
          "execution_count": 64
        }
      ]
    },
    {
      "cell_type": "markdown",
      "metadata": {
        "id": "kntXG0nls3t3"
      },
      "source": [
        "Operador Módulo (%) retorna el resto de la división\n",
        "comunmente utilizado para verificar si un número es par o impar.\n",
        "permite ver cual es el resto de la división entre 2\n",
        "\n"
      ]
    },
    {
      "cell_type": "code",
      "metadata": {
        "colab": {
          "base_uri": "https://localhost:8080/"
        },
        "id": "MYCXzUBTtjKB",
        "outputId": "ca94b109-d020-472c-a017-1883989e761a"
      },
      "source": [
        "5%2  # el resultado es 1 por lo tanto es impar"
      ],
      "execution_count": null,
      "outputs": [
        {
          "output_type": "execute_result",
          "data": {
            "text/plain": [
              "1"
            ]
          },
          "metadata": {},
          "execution_count": 65
        }
      ]
    },
    {
      "cell_type": "code",
      "metadata": {
        "colab": {
          "base_uri": "https://localhost:8080/"
        },
        "id": "o4z9ZKswtphO",
        "outputId": "a154dc3f-c111-48cd-d82d-094150ae800c"
      },
      "source": [
        "16%4 # resultado es par 0 "
      ],
      "execution_count": null,
      "outputs": [
        {
          "output_type": "execute_result",
          "data": {
            "text/plain": [
              "0"
            ]
          },
          "metadata": {},
          "execution_count": 68
        }
      ]
    },
    {
      "cell_type": "code",
      "metadata": {
        "colab": {
          "base_uri": "https://localhost:8080/"
        },
        "id": "EDK4TKVsuIGK",
        "outputId": "a5e29c9d-be5b-4980-9005-067bd7d98a40"
      },
      "source": [
        "18%4    #18 módulo 4 es dos "
      ],
      "execution_count": null,
      "outputs": [
        {
          "output_type": "execute_result",
          "data": {
            "text/plain": [
              "2"
            ]
          },
          "metadata": {},
          "execution_count": 69
        }
      ]
    },
    {
      "cell_type": "markdown",
      "metadata": {
        "id": "utRkOqrsuWcB"
      },
      "source": [
        "Orden de las operaciones es PEMDAS P(parentesis)E(exponentes)M(multiplicación) D(división) A(addtion) S (subtraction)\n",
        "1. perénteisi tendrán prioridad\n",
        "2.Exponentes, \n",
        "3.Multiplicción\n",
        "4.División\n",
        "5.Suma\n",
        "6.Resta\n",
        "Las operaciones se evaluan de izquierda a derecha"
      ]
    },
    {
      "cell_type": "markdown",
      "metadata": {
        "id": "Fb1iGqISyH56"
      },
      "source": [
        "Operadores Lógicos\n",
        "nos permiten trabajar con valores booleanos (True y False) and, or, not\n",
        "and= evalúa si el operando izquierdo y el derecho son verdaderos, si ambas expresiones son verdaderas nos devuelve True ej.\n"
      ]
    },
    {
      "cell_type": "code",
      "metadata": {
        "colab": {
          "base_uri": "https://localhost:8080/"
        },
        "id": "q1kQuLMuy02y",
        "outputId": "1e54f879-2967-45b2-b1d3-6d94b2e42087"
      },
      "source": [
        "(5<6) and (6>8)  #compara si ambas expresiones son verdaderas o falsa, ambas se deben cumplir para ser verdaderas"
      ],
      "execution_count": null,
      "outputs": [
        {
          "output_type": "execute_result",
          "data": {
            "text/plain": [
              "False"
            ]
          },
          "metadata": {},
          "execution_count": 70
        }
      ]
    },
    {
      "cell_type": "markdown",
      "metadata": {
        "id": "tbNLmkitzLAG"
      },
      "source": [
        "Operador OR\n",
        "Si cualquiera de los operandos es verdadero, el resultado es verdadero"
      ]
    },
    {
      "cell_type": "code",
      "metadata": {
        "colab": {
          "base_uri": "https://localhost:8080/"
        },
        "id": "kRDN7xzKELxI",
        "outputId": "e6671ab7-9a79-415b-8848-a148d30898c3"
      },
      "source": [
        "(5<6) or (6>8)  # en este caso con el operador or ahora obtenemos el resultado True, porque uno d elos resultados es verdadeto"
      ],
      "execution_count": 1,
      "outputs": [
        {
          "output_type": "execute_result",
          "data": {
            "text/plain": [
              "True"
            ]
          },
          "metadata": {},
          "execution_count": 1
        }
      ]
    },
    {
      "cell_type": "markdown",
      "metadata": {
        "id": "Il-JB2yZEdTQ"
      },
      "source": [
        "Operador not, este operador niega la expresión, osea cuando la expresión es True, el operador not la niega y devuelve False\n",
        "Prioridad\n",
        "not\n",
        "and\n",
        "or\n",
        "de existeir varior operadores con la misma prioridad, se lee de izquierda a derecha\n"
      ]
    },
    {
      "cell_type": "code",
      "metadata": {
        "colab": {
          "base_uri": "https://localhost:8080/"
        },
        "id": "AXpiZ04YFatv",
        "outputId": "29cc464d-effb-4ac8-b2ae-8b2335b1953f"
      },
      "source": [
        "not (5<6) # ejemplo de operador not, en este caso 5 es menor que 6 el resultado es True, al usar not antes, cambia el resultado a False"
      ],
      "execution_count": 2,
      "outputs": [
        {
          "output_type": "execute_result",
          "data": {
            "text/plain": [
              "False"
            ]
          },
          "metadata": {},
          "execution_count": 2
        }
      ]
    },
    {
      "cell_type": "markdown",
      "metadata": {
        "id": "F0K43lloFtmc"
      },
      "source": [
        "Operadores Relacionales\n",
        "Son utilizados para comparar valores y retornan un valor booleano True o False\n",
        "<,>,==,>=,>=,!=,"
      ]
    },
    {
      "cell_type": "code",
      "metadata": {
        "colab": {
          "base_uri": "https://localhost:8080/"
        },
        "id": "RwGST70gGQbz",
        "outputId": "5fedcda2-7df9-420a-fe3e-d23059388c78"
      },
      "source": [
        "\"Hola\"==\"Hola\" # == indica igualdad, ejem. compara cadena de caracteres, en este caso es True"
      ],
      "execution_count": 3,
      "outputs": [
        {
          "output_type": "execute_result",
          "data": {
            "text/plain": [
              "True"
            ]
          },
          "metadata": {},
          "execution_count": 3
        }
      ]
    },
    {
      "cell_type": "code",
      "metadata": {
        "colab": {
          "base_uri": "https://localhost:8080/"
        },
        "id": "ltEI-Uj_G8BK",
        "outputId": "8818d2cd-41c2-4fdf-d6dc-b2cf4b716132"
      },
      "source": [
        "\"Hola\"==\"ola\"   # en este caso las cadenas son disteintas es False"
      ],
      "execution_count": 4,
      "outputs": [
        {
          "output_type": "execute_result",
          "data": {
            "text/plain": [
              "False"
            ]
          },
          "metadata": {},
          "execution_count": 4
        }
      ]
    },
    {
      "cell_type": "markdown",
      "metadata": {
        "id": "mm5K9s4jIqf6"
      },
      "source": [
        "Otros Operadores:  =, +=, -=, /=, **=, //=, %=\n",
        "Cuando se agrega un signo igual, se combierte en un operador de asignación ejm."
      ]
    },
    {
      "cell_type": "code",
      "metadata": {
        "colab": {
          "base_uri": "https://localhost:8080/"
        },
        "id": "eatxYl7DJGSy",
        "outputId": "22af148e-ef93-4bd1-95dd-b866bd807a8f"
      },
      "source": [
        "edad=56     #a edad asignamos el valor 56, luego\n",
        "edad += 3   # a edad aplicamos el operador += estamos indicando que a edad sume y nos entreguie el resultado de +3\n",
        "edad         # ahora llamanos a edad y nos entrega el valor actual"
      ],
      "execution_count": 10,
      "outputs": [
        {
          "output_type": "execute_result",
          "data": {
            "text/plain": [
              "59"
            ]
          },
          "metadata": {},
          "execution_count": 10
        }
      ]
    },
    {
      "cell_type": "code",
      "metadata": {
        "colab": {
          "base_uri": "https://localhost:8080/"
        },
        "id": "cnWAQRB4KKgZ",
        "outputId": "c4d164a3-4e2e-4eb8-8f0c-f7d1fc7c0998"
      },
      "source": [
        "edad -= 2  # con la nueva asignación de edad, ahora aplico el operador -= 2, y restará 2 a edad\n",
        "edad"
      ],
      "execution_count": 11,
      "outputs": [
        {
          "output_type": "execute_result",
          "data": {
            "text/plain": [
              "57"
            ]
          },
          "metadata": {},
          "execution_count": 11
        }
      ]
    },
    {
      "cell_type": "code",
      "metadata": {
        "colab": {
          "base_uri": "https://localhost:8080/"
        },
        "id": "D9LfxtfnKlDG",
        "outputId": "b7426620-adf1-4683-b023-48d4def30934"
      },
      "source": [
        "num = 6  # otro ejemplo, al asignar num 6 \n",
        "num %= 2  # ahora aplicamos operador %= 2,a la variable num se asigna modulo= 2, divide 6 en 2 y retorna 0, al llamr a num devuelve 0 el resto \n",
        "num"
      ],
      "execution_count": 33,
      "outputs": [
        {
          "output_type": "execute_result",
          "data": {
            "text/plain": [
              "0"
            ]
          },
          "metadata": {},
          "execution_count": 33
        }
      ]
    },
    {
      "cell_type": "markdown",
      "metadata": {
        "id": "82X6Sih-PJLF"
      },
      "source": [
        "Sentencias Condicionales  (estructura de programación)\n",
        "Una sentencia condicional, es un grupo de instrucciones cuya ejecución depende del valor de una codición boolena\n",
        "Una condición tiene dos resultados, verdadera o falsa, tiene dos caminos a seguir\n",
        "su sintaxi es: \n",
        "if <condición>:\n",
        "   # código\n",
        "es importante, que luego de la condición escriba \":\", ya que de no tenerlo, nos entregará error, es importante que el  código esté indentado (4 espacios), para que el programa comprenda que debe operar dentro del condicional if, de lo contrario lo toma como parte del programa ejm."
      ]
    },
    {
      "cell_type": "code",
      "metadata": {
        "colab": {
          "base_uri": "https://localhost:8080/"
        },
        "id": "2sFayfn_RJYS",
        "outputId": "a656cf5e-e41b-4a98-e082-8509d6de26e8"
      },
      "source": [
        "temp = 15          #se define la variable temp = 15, luego indicamos que \n",
        "if temp < 25:      # de ser temp < a 25, nos devuelva Frío\n",
        "  print (\"Frío\")   # que nos muestre Frío, muestra resultado siempre que la condición sea True\n"
      ],
      "execution_count": 34,
      "outputs": [
        {
          "output_type": "stream",
          "name": "stdout",
          "text": [
            "Frío\n"
          ]
        }
      ]
    },
    {
      "cell_type": "markdown",
      "metadata": {
        "id": "r2CGNLfBSHUL"
      },
      "source": [
        "\"else\", es equivalente a sino, nos indica si la condición de verdadera haga esto, sino, o es False, haga esto otro, su sintaxi es\n",
        "if <condición>:    se escribe sion espacio, es parte del sódigo principal\n",
        "    # código   se escribe identa\n",
        "else:\n",
        "    # código"
      ]
    },
    {
      "cell_type": "code",
      "metadata": {
        "colab": {
          "base_uri": "https://localhost:8080/"
        },
        "id": "cbFON9gxTNfa",
        "outputId": "87c3cfbf-cc82-45de-f85f-f5c32866289c"
      },
      "source": [
        "temp = 35                 #se asigna a la variable temp 15, \n",
        "if temp < 25:             #  si temp es < a 25 entonces\n",
        "    print (\"Frío\")        # vevuelva Fío\n",
        "else:                      # de lo contrario, si la variable no es menor a 25, ENTONCES else siga este camino\n",
        "    print (\"Calor\")        # si la condición es False, diga Calor, se cambia el valor de temp, para comprobar \n"
      ],
      "execution_count": 36,
      "outputs": [
        {
          "output_type": "stream",
          "name": "stdout",
          "text": [
            "Calor\n"
          ]
        }
      ]
    },
    {
      "cell_type": "markdown",
      "metadata": {
        "id": "BqNHNcEXUfLF"
      },
      "source": [
        "Clausula elif, nos permite ejecutar un código si la condición es verdadera y luego de ser ambas condiciones falsas se usa else, nos permite usar mas condiciones ej"
      ]
    },
    {
      "cell_type": "code",
      "metadata": {
        "colab": {
          "base_uri": "https://localhost:8080/"
        },
        "id": "Qm53JmCTVHYB",
        "outputId": "31821437-4b6e-4263-fb66-3cb8e424b080"
      },
      "source": [
        "temp = 20                 #la variable temp es 0\n",
        "if temp <= 0:            #primera condicional compararla con 0, \n",
        "    print (\"Muy Frío\")   # de ser True nos da Muy Frío, de ser False, nos lleva a elif\n",
        "elif temp < 25:          # en elif nos pregunta nuevamente, de ser True, \n",
        "    print (\"Frío\")       # se ejecuta y nos entrega Frío, de ser False, nos lleva a:\n",
        "else:                    # al ser False, no se ejecutaron las anteriores y se ejecuta else\n",
        "    print (\"Calor\")      # nos devuelve Calor, para comprobar se cambia el valor a temp"
      ],
      "execution_count": 40,
      "outputs": [
        {
          "output_type": "stream",
          "name": "stdout",
          "text": [
            "Frío\n"
          ]
        }
      ]
    },
    {
      "cell_type": "markdown",
      "metadata": {
        "id": "wG_IlMq2W8nq"
      },
      "source": [
        "Para multiples condiciones se puede usar else, pero sólo se puede usar 12 vez en el código, siempre else es la última.\n",
        "se inicia con if, luego puede haber varios elif y al final usar 1 sólo else"
      ]
    },
    {
      "cell_type": "markdown",
      "metadata": {
        "id": "718Wha8OXlio"
      },
      "source": [
        "Comentarios: textos que se escriben en el prigrama, para facilitar su comprención, no son parte del código, describe la lógica, se puede iniciar con: # inicia en la línea, no se comenta en exceso"
      ]
    },
    {
      "cell_type": "markdown",
      "metadata": {
        "id": "pw3qg9L9YBL-"
      },
      "source": [
        "Listas: son un tipo de estructura de datos utilizada para almacenar multiples valores en secuencia. [1, 2, 3, 4] puede contener de cualquier tipo de datos y está entre [] es específico para las listas, cada elemento se separa con , y espacio\n",
        "Las listas deben ser ordenadas el primer elemento está en el indice 0, luego en indice 1\n",
        "- lista es una secuencia ordenada de valores\n",
        "- puede contener calores de cualquier tipo\n",
        "-puede contener valores de distintos tipos\n",
        "-Es mutable, osea puede ser modificada"
      ]
    },
    {
      "cell_type": "markdown",
      "metadata": {
        "id": "meCvTBKgD9Sd"
      },
      "source": [
        "Acceder a un elemento\n",
        "para acceder a un elemento de la lista debemos llamar a su indice su sintaxi es <lista>[<índice>], nos retorna el elemento de ese indice\n"
      ]
    },
    {
      "cell_type": "code",
      "metadata": {
        "colab": {
          "base_uri": "https://localhost:8080/",
          "height": 35
        },
        "id": "36NR4odVEVaU",
        "outputId": "5790f299-1678-48e5-ce96-167354441cda"
      },
      "source": [
        "letras = [\"a\", \"b\", \"c\", \"d\"]  #definición de lista letras\n",
        "letras [0]                     # llamamos al indice 0 de la lista letras, y nos devuelve el indice 0"
      ],
      "execution_count": 1,
      "outputs": [
        {
          "output_type": "execute_result",
          "data": {
            "application/vnd.google.colaboratory.intrinsic+json": {
              "type": "string"
            },
            "text/plain": [
              "'a'"
            ]
          },
          "metadata": {},
          "execution_count": 1
        }
      ]
    },
    {
      "cell_type": "code",
      "metadata": {
        "colab": {
          "base_uri": "https://localhost:8080/",
          "height": 35
        },
        "id": "tsHeADa4EvtI",
        "outputId": "628bffce-5875-426d-b616-0cdaab30be50"
      },
      "source": [
        "letras [2]                     #llamamos al indice 2, nos devuelve c"
      ],
      "execution_count": 2,
      "outputs": [
        {
          "output_type": "execute_result",
          "data": {
            "application/vnd.google.colaboratory.intrinsic+json": {
              "type": "string"
            },
            "text/plain": [
              "'c'"
            ]
          },
          "metadata": {},
          "execution_count": 2
        }
      ]
    },
    {
      "cell_type": "markdown",
      "metadata": {
        "id": "GAr9EHaeE9Z9"
      },
      "source": [
        "Agregar un elemento a una lista, ya que son mutables\n",
        "se puede agregar al final de la lista y entre ella\n",
        "con el método append su sintaxi es <liata>.append (<elem>) "
      ]
    },
    {
      "cell_type": "code",
      "metadata": {
        "colab": {
          "base_uri": "https://localhost:8080/"
        },
        "id": "9ZpzF8xKFW07",
        "outputId": "3b25aceb-16ee-4045-8068-576c40f62884"
      },
      "source": [
        "nums = [1, 2, 3, 4]   # lista creada\n",
        "nums.append(5)        # con append se agrega al final el 5\n",
        "nums"
      ],
      "execution_count": 3,
      "outputs": [
        {
          "output_type": "execute_result",
          "data": {
            "text/plain": [
              "[1, 2, 3, 4, 5]"
            ]
          },
          "metadata": {},
          "execution_count": 3
        }
      ]
    },
    {
      "cell_type": "markdown",
      "metadata": {
        "id": "UtIZuSPbFwUB"
      },
      "source": [
        "Para insertar un elemento a la lista en un orden específico, se usa el método insert, su sintaxi es <lista>.insert (<índice>, <elem>)"
      ]
    },
    {
      "cell_type": "code",
      "metadata": {
        "colab": {
          "base_uri": "https://localhost:8080/"
        },
        "id": "Wu-8td24GDoT",
        "outputId": "5825c1c2-a321-450d-d155-91c6145417da"
      },
      "source": [
        "nums = [1, 2, 3, 4, 5] \n",
        "nums.insert(0,6)          # insert, agregará un elemento a la lista, el primer valor es 0, agregará el 6 al inicio\n",
        "nums"
      ],
      "execution_count": 4,
      "outputs": [
        {
          "output_type": "execute_result",
          "data": {
            "text/plain": [
              "[6, 1, 2, 3, 4, 5]"
            ]
          },
          "metadata": {},
          "execution_count": 4
        }
      ]
    },
    {
      "cell_type": "code",
      "metadata": {
        "colab": {
          "base_uri": "https://localhost:8080/"
        },
        "id": "Y4s349CFGrjT",
        "outputId": "b8b5591b-c7a1-43b5-aa5e-6ff8ed6a3f5d"
      },
      "source": [
        "nums = [1, 2, 3, 4, 5] \n",
        "nums.insert(3,6)          # insert, agregará en el indice 3 el elemento 6\n",
        "nums"
      ],
      "execution_count": 5,
      "outputs": [
        {
          "output_type": "execute_result",
          "data": {
            "text/plain": [
              "[1, 2, 3, 6, 4, 5]"
            ]
          },
          "metadata": {},
          "execution_count": 5
        }
      ]
    },
    {
      "cell_type": "markdown",
      "metadata": {
        "id": "e0QKZcGXHFUR"
      },
      "source": [
        "Eliminar elementos de una lista con\n",
        "remove, su sintaxi es <lista>.remove(<elem>) nos permite eliminar la primera repetición de una lista. no se puede remove un valor que no está en una lista"
      ]
    },
    {
      "cell_type": "code",
      "metadata": {
        "colab": {
          "base_uri": "https://localhost:8080/"
        },
        "id": "suCZqX52Hd0H",
        "outputId": "0fdee199-6771-4760-8000-78da98190db1"
      },
      "source": [
        "a = [1, 2, 3, 4, 5, 4]   #la lista tiene el elemento 4 repetido \n",
        "a.remove(4)              # con remove se elimina el primer elemento repetido, la primera ocurrencia de 4\n",
        "a "
      ],
      "execution_count": 6,
      "outputs": [
        {
          "output_type": "execute_result",
          "data": {
            "text/plain": [
              "[1, 2, 3, 5, 4]"
            ]
          },
          "metadata": {},
          "execution_count": 6
        }
      ]
    },
    {
      "cell_type": "markdown",
      "metadata": {
        "id": "wNBGWAgvIW2f"
      },
      "source": [
        "Buscar un elemento en una lista con el operador \n",
        "in su sintaxi es <elem> in <lista>, si el resultado está en la lista el resultado es True\n"
      ]
    },
    {
      "cell_type": "code",
      "metadata": {
        "colab": {
          "base_uri": "https://localhost:8080/"
        },
        "id": "kUJWzMUoIsd6",
        "outputId": "ec03c477-c0f3-4a49-d1da-06ef8ac2b55a"
      },
      "source": [
        "vocales = [\"a\", \"e\", \"i\", \"o\", \"u\"]\n",
        "\"a\" in vocales "
      ],
      "execution_count": 7,
      "outputs": [
        {
          "output_type": "execute_result",
          "data": {
            "text/plain": [
              "True"
            ]
          },
          "metadata": {},
          "execution_count": 7
        }
      ]
    },
    {
      "cell_type": "code",
      "metadata": {
        "colab": {
          "base_uri": "https://localhost:8080/"
        },
        "id": "YeUSjZUyJCMX",
        "outputId": "85f096fa-0714-46a8-96a8-75d7a318c547"
      },
      "source": [
        "vocales = [\"a\", \"e\", \"i\", \"o\", \"u\"]\n",
        "\"z\" in vocales "
      ],
      "execution_count": 8,
      "outputs": [
        {
          "output_type": "execute_result",
          "data": {
            "text/plain": [
              "False"
            ]
          },
          "metadata": {},
          "execution_count": 8
        }
      ]
    },
    {
      "cell_type": "markdown",
      "metadata": {
        "id": "y40rpwRnJHUS"
      },
      "source": [
        "index\n",
        "Método:  los métodos tienen la siguiente sintaxi <lista>.<método>(<parametros>) \n",
        ".index (<elem>), Retorna el índice de la primera ocurrencia del elemneto en la lisrta. Si no se encuentra ocurre error su sintaxi es <lista>.index (<elem>)"
      ]
    },
    {
      "cell_type": "code",
      "metadata": {
        "colab": {
          "base_uri": "https://localhost:8080/"
        },
        "id": "c9MUIj3UKjhZ",
        "outputId": "3580deae-7b7b-4859-981a-97570111a38d"
      },
      "source": [
        "vocales = [\"a\", \"e\", \"i\", \"o\", \"u\"]\n",
        "vocales.index (\"i\")                  #llama al elemento,retorna el indíce (de i), de no estar un elemnto en la lista trae error"
      ],
      "execution_count": 9,
      "outputs": [
        {
          "output_type": "execute_result",
          "data": {
            "text/plain": [
              "2"
            ]
          },
          "metadata": {},
          "execution_count": 9
        }
      ]
    },
    {
      "cell_type": "markdown",
      "metadata": {
        "id": "NGPzhP0kOeXP"
      },
      "source": [
        "**Cambiar un elemento**\n",
        "en un índice espesífico, con la siguiente sintaxi <lista>[<índice>] = <nuevo_valor>"
      ]
    },
    {
      "cell_type": "code",
      "metadata": {
        "colab": {
          "base_uri": "https://localhost:8080/"
        },
        "id": "OHFryHdiPGDj",
        "outputId": "b667ed57-30c0-41de-af81-ed560c146fd2"
      },
      "source": [
        "nums = [1, 2, 3, 4, 5]\n",
        "nums[0] = -8             # cambiamos 1 por -8, se actualiza el valor en la lista, ya que las listas son mutables\n",
        "nums"
      ],
      "execution_count": 10,
      "outputs": [
        {
          "output_type": "execute_result",
          "data": {
            "text/plain": [
              "[-8, 2, 3, 4, 5]"
            ]
          },
          "metadata": {},
          "execution_count": 10
        }
      ]
    },
    {
      "cell_type": "markdown",
      "metadata": {
        "id": "ulaUo4M_Pgv6"
      },
      "source": [
        "Métodos de lista\n",
        "operaciones comunes de listas que ya están implementadas en Python sintaxi\n",
        " <lista>.<método>(<parámetros>)\n",
        ".count(<elem>)  cuenta cuantas veces se repite un elemnto en la lista\n",
        ".extend(<lista>) extiende la lista pegando los elementos de otra lista\n",
        ".pop()         elimina y retorna un elemento a la lista\n",
        ".reverse()      reversa el orden actual de la lista\n",
        ".sort()         ordena la lista ascendente o descendente "
      ]
    },
    {
      "cell_type": "code",
      "metadata": {
        "colab": {
          "base_uri": "https://localhost:8080/"
        },
        "id": "mLk1IQ2BRN51",
        "outputId": "88a608b8-1fe9-4318-a105-bbed5665545f"
      },
      "source": [
        "a = [3, 4, 5, 6]   # declara la lista\n",
        "a.pop()            # pop() elimina un valor, al estar () vacio, alimina el último valor de la lista\n",
        "a.reverse()         # reverse coloca l la lista al revés\n",
        "a.extend([8, 9, 0]) # estend agrega los valores indicados al final de la lista\n",
        "a                   # traemos la lista a\n"
      ],
      "execution_count": 15,
      "outputs": [
        {
          "output_type": "execute_result",
          "data": {
            "text/plain": [
              "[5, 4, 3, 8, 9, 0]"
            ]
          },
          "metadata": {},
          "execution_count": 15
        }
      ]
    },
    {
      "cell_type": "markdown",
      "metadata": {
        "id": "Nb7q_ZYwTA3L"
      },
      "source": [
        "**Tuplas** o Tuples: es una estructura de datos **inmutables**, que contienen una secuencia **ordenada** de elementos, ejem. (1, 2, 3, 4), están entre ()\n",
        "-secuencia ordenada de valores\n",
        "-puede ocntener cualquier tipo de datos, tuplas, listas, etc\n",
        "-cada tupla se identifica con un índice\n",
        "-Son **inmutables** no pueden cambiar, es por ello que se elige usar tuplas en lugar de listas"
      ]
    },
    {
      "cell_type": "markdown",
      "metadata": {
        "id": "s_PLKRftUQby"
      },
      "source": [
        "**Se puede hacer** en una tupla, igual a una lista:\n",
        "buscar un elemento   "
      ]
    },
    {
      "cell_type": "code",
      "metadata": {
        "colab": {
          "base_uri": "https://localhost:8080/",
          "height": 35
        },
        "id": "NEq7ha-kZBG2",
        "outputId": "21db4b0c-05f1-49e9-c5fc-4c07e3976f96"
      },
      "source": [
        "letras = (\"A\", \"B\", \"C\")\n",
        "letras [0]                # llamando al indice 0 muestra el elemento  <nomb> [indice]"
      ],
      "execution_count": 18,
      "outputs": [
        {
          "output_type": "execute_result",
          "data": {
            "application/vnd.google.colaboratory.intrinsic+json": {
              "type": "string"
            },
            "text/plain": [
              "'A'"
            ]
          },
          "metadata": {},
          "execution_count": 18
        }
      ]
    },
    {
      "cell_type": "markdown",
      "metadata": {
        "id": "YQctDPGtZoLW"
      },
      "source": [
        "Encontrar un elemento con in igual a las listas"
      ]
    },
    {
      "cell_type": "code",
      "metadata": {
        "colab": {
          "base_uri": "https://localhost:8080/"
        },
        "id": "dvn7e3BpZwAx",
        "outputId": "c16979ef-7988-4bed-a291-42861d598d60"
      },
      "source": [
        "letras = (\"A\", \"B\", \"C\")\n",
        "\"A\" in letras            #encontró el elemento en letras, retorna True"
      ],
      "execution_count": 19,
      "outputs": [
        {
          "output_type": "execute_result",
          "data": {
            "text/plain": [
              "True"
            ]
          },
          "metadata": {},
          "execution_count": 19
        }
      ]
    },
    {
      "cell_type": "markdown",
      "metadata": {
        "id": "42eBzdXSZ7Xe"
      },
      "source": [
        "Principales operaciones de Tuplas\n",
        ".index igual que en listas <tupla>.index(<elem>)"
      ]
    },
    {
      "cell_type": "code",
      "metadata": {
        "colab": {
          "base_uri": "https://localhost:8080/"
        },
        "id": "5Fr66lkWaKxk",
        "outputId": "fcc75f7a-cda1-4afa-85f3-1aa34cdbbad7"
      },
      "source": [
        "letras = (\"A\", \"B\", \"C\")\n",
        "letras.index(\"B\")         #encuentra el indice del elemento \"B\" y lo entrega, de no estar el elemento da error"
      ],
      "execution_count": 20,
      "outputs": [
        {
          "output_type": "execute_result",
          "data": {
            "text/plain": [
              "1"
            ]
          },
          "metadata": {},
          "execution_count": 20
        }
      ]
    },
    {
      "cell_type": "markdown",
      "metadata": {
        "id": "OUi7Pp1dag12"
      },
      "source": [
        "count(), muestra las ocurrencias del elemento en la tupla"
      ]
    },
    {
      "cell_type": "code",
      "metadata": {
        "colab": {
          "base_uri": "https://localhost:8080/"
        },
        "id": "Dl-TEu8KauDc",
        "outputId": "2234b3f0-10e4-4972-ad5e-451f5b52a17c"
      },
      "source": [
        "nums = (1, 2, 3, 4, 5, 6, 7, 4, 4)\n",
        "nums.count(4)                      #retorna las ocurrencias de un elemento"
      ],
      "execution_count": 21,
      "outputs": [
        {
          "output_type": "execute_result",
          "data": {
            "text/plain": [
              "3"
            ]
          },
          "metadata": {},
          "execution_count": 21
        }
      ]
    },
    {
      "cell_type": "markdown",
      "metadata": {
        "id": "5NjDuIKObQS2"
      },
      "source": [
        "**Diccionarios** otra estructura de datos **mutables**\n",
        "permire relacionar dos valores en la misma estructura de datos\n",
        "colección de pares clave-valor.\n",
        "está definido por {}, y cada elemento tiene una clave-valor\n",
        "{\"A\":45, \"B\":30} cada uno de los pares se denomina clave-valor\n",
        "clave A valor 30 separado por : este indica que la clave A tiene su valor 30\n",
        "**Características**\n",
        "- colección pares-valor\n",
        "- **las claves** son *únicas e inmutables*\n",
        "- los valores asociados pueden ser de cualquier tipo\n",
        "- la clave se usa para acceder a su valor asociado\n",
        "-los pares clave-valor, se pueden modificar, añadir y eliminar\n",
        "\n",
        "sintaxis <diccionario>[<clave>]\n",
        "\n"
      ]
    },
    {
      "cell_type": "code",
      "metadata": {
        "colab": {
          "base_uri": "https://localhost:8080/"
        },
        "id": "zoevrSvKdGoa",
        "outputId": "230ae411-0230-4a9d-d10c-1a1ba8c80c58"
      },
      "source": [
        "edades = {\"Gino\":15, \"Nora\":45}\n",
        "edades[\"Gino\"]                  #llama a clave Gino y retorna su valor 15"
      ],
      "execution_count": 23,
      "outputs": [
        {
          "output_type": "execute_result",
          "data": {
            "text/plain": [
              "15"
            ]
          },
          "metadata": {},
          "execution_count": 23
        }
      ]
    },
    {
      "cell_type": "code",
      "metadata": {
        "colab": {
          "base_uri": "https://localhost:8080/"
        },
        "id": "P2gk58T-eDxX",
        "outputId": "50c1a052-a1b5-41f1-a923-28bc7cb4a160"
      },
      "source": [
        "edades = {\"Gino\":15, \"Nora\":45}\n",
        "edades.get(\"Gino\")               # get=obtener también devuelve el valor de la clave"
      ],
      "execution_count": 24,
      "outputs": [
        {
          "output_type": "execute_result",
          "data": {
            "text/plain": [
              "15"
            ]
          },
          "metadata": {},
          "execution_count": 24
        }
      ]
    },
    {
      "cell_type": "markdown",
      "metadata": {
        "id": "TPwqbKN-eX9W"
      },
      "source": [
        "Añadir y modificar  con\n",
        " <diccionario>[<clave>] = <nuevo:valor>"
      ]
    },
    {
      "cell_type": "code",
      "metadata": {
        "colab": {
          "base_uri": "https://localhost:8080/"
        },
        "id": "wSPEozY1ejAl",
        "outputId": "4585c443-da3b-4588-b3d8-32efeecf94ef"
      },
      "source": [
        "edades = {\"Gino\":15, \"Nora\":45}\n",
        "edades[\"Talina\"] = 67            # agrega al diccionario clave Talina con valor 67 \n",
        "edades                            # retorna diccionario de ya existir, reemplazara el valor de la clave"
      ],
      "execution_count": 25,
      "outputs": [
        {
          "output_type": "execute_result",
          "data": {
            "text/plain": [
              "{'Gino': 15, 'Nora': 45, 'Talina': 67}"
            ]
          },
          "metadata": {},
          "execution_count": 25
        }
      ]
    },
    {
      "cell_type": "code",
      "metadata": {
        "colab": {
          "base_uri": "https://localhost:8080/"
        },
        "id": "VL_VPxYxfM8R",
        "outputId": "9c00fa93-aa8d-46d6-9666-03c2da5f795b"
      },
      "source": [
        "edades = {\"Gino\":15, \"Nora\":45}\n",
        "edades[\"Gino\"]=17                # la clave Gino existe, el diccionario es mutable, ahora la clave Gino tiene valor 17\n",
        "edades"
      ],
      "execution_count": 26,
      "outputs": [
        {
          "output_type": "execute_result",
          "data": {
            "text/plain": [
              "{'Gino': 17, 'Nora': 45}"
            ]
          },
          "metadata": {},
          "execution_count": 26
        }
      ]
    },
    {
      "cell_type": "markdown",
      "metadata": {
        "id": "rCjvQKjhfgsE"
      },
      "source": [
        "Remover, del = delete\n",
        "del<dicc>[<clace>]\n",
        " "
      ]
    },
    {
      "cell_type": "code",
      "metadata": {
        "colab": {
          "base_uri": "https://localhost:8080/"
        },
        "id": "CNgCxtCffwcF",
        "outputId": "bcb65429-9ea6-4de0-be4a-41a52cf17ad3"
      },
      "source": [
        "edades = {\"Gino\":15, \"Nora\":45}\n",
        "del edades[\"Gino\"]                 # del removerá la clave Gino\n",
        "edades                             # retorna el diccionario modificado"
      ],
      "execution_count": 27,
      "outputs": [
        {
          "output_type": "execute_result",
          "data": {
            "text/plain": [
              "{'Nora': 45}"
            ]
          },
          "metadata": {},
          "execution_count": 27
        }
      ]
    },
    {
      "cell_type": "markdown",
      "metadata": {
        "id": "dxu7qiLMgDN_"
      },
      "source": [
        "Revisar la existencia de un elemento en el diccionario\n",
        "in  <elem> in <dicc>, el elem será la clave"
      ]
    },
    {
      "cell_type": "code",
      "metadata": {
        "colab": {
          "base_uri": "https://localhost:8080/"
        },
        "id": "NdHiJpNMgYKR",
        "outputId": "1394ea55-fb20-45ed-cc3f-90381188b5da"
      },
      "source": [
        "edades = {\"Gino\":15, \"Nora\":45}\n",
        "\"Gino\" in edades                 #verifica la existencia de clave Gino, retorna True"
      ],
      "execution_count": 28,
      "outputs": [
        {
          "output_type": "execute_result",
          "data": {
            "text/plain": [
              "True"
            ]
          },
          "metadata": {},
          "execution_count": 28
        }
      ]
    },
    {
      "cell_type": "code",
      "metadata": {
        "colab": {
          "base_uri": "https://localhost:8080/"
        },
        "id": "FNZmaCXtggCD",
        "outputId": "e4bd992f-91ed-4241-e34a-dcf41cd85116"
      },
      "source": [
        "edades = {\"Gino\":15, \"Nora\":45}\n",
        "\"Emily\" in edades"
      ],
      "execution_count": 29,
      "outputs": [
        {
          "output_type": "execute_result",
          "data": {
            "text/plain": [
              "False"
            ]
          },
          "metadata": {},
          "execution_count": 29
        }
      ]
    },
    {
      "cell_type": "markdown",
      "metadata": {
        "id": "OUAbIQ_Pg-77"
      },
      "source": [
        "Documanteción\n",
        "ir a www.python.org\n"
      ]
    },
    {
      "cell_type": "markdown",
      "metadata": {
        "id": "BvCWKVhWjY-W"
      },
      "source": [
        "Ciclos for\n",
        "ciclos o bucles\n",
        "Es una estructura de control nos permite **ejecutar** una o varias líneas de código **múltiples veces**."
      ]
    },
    {
      "cell_type": "markdown",
      "metadata": {
        "id": "uBMVoyQwjyRM"
      },
      "source": [
        "Ciclo for, lo usamos cuando sabemos con antelación *cuantas veces* devemos repetir *ciertas instrucciones*\n",
        "Iteración; es una repetición de cierto grupo de instrucciones\n",
        "la ejecución del proceso se ejecuta hasta que la condición True, sea False, range define las iteraciones o veces del ciclo\n",
        "for <var> in range (<inicio>, <fin>:\n",
        "      # código \n"
      ]
    },
    {
      "cell_type": "markdown",
      "metadata": {
        "id": "Tc_kF5cok0n9"
      },
      "source": [
        "var variable de control\n",
        "-Variable que puede ser utilizada en el código que se va a repetir\n",
        "-Se actualiza automáticamente antes de cada interación\n",
        "-Debe tener un nombre descriptivo"
      ]
    },
    {
      "cell_type": "markdown",
      "metadata": {
        "id": "hJeNmmWalSTd"
      },
      "source": [
        "Range, esta función retorna una secuencia de valores, números enteros\n",
        "range(4), retorna desde 0 a 4, ya que no se indica un inicio\n",
        "el valor de la variable i se actualiza en cada iteración, toma el valor 0,1,2,3 ya que el proceso llega hasta el 4 y desde 0 a 3 hay 4 elementos"
      ]
    },
    {
      "cell_type": "markdown",
      "metadata": {
        "id": "9hg0wkDFmmBk"
      },
      "source": [
        "range (start, stop[, step]) puede tomar los siguientes valores\n",
        "start el valor donde comienza, o 0 si no se utiliza\n",
        "stop el valor de finalización y opcionalmente\n",
        "step, indica los elementos a sumar para pasar a otro, si no se usa es 1 pasa de uno en uno"
      ]
    },
    {
      "cell_type": "code",
      "metadata": {
        "colab": {
          "base_uri": "https://localhost:8080/"
        },
        "id": "0ltrjHXAlWFh",
        "outputId": "ed83bc78-4c5d-4a36-db9e-a9dd513bc446"
      },
      "source": [
        "for i in range(4):   # el ciclo se llama i y se ejecuta hasta el rango asignado 4 \n",
        "  print(i)           # retorna los valores del ciclo llamado i, que se ejecta hasta llegar al rango asignado 4"
      ],
      "execution_count": 30,
      "outputs": [
        {
          "output_type": "stream",
          "name": "stdout",
          "text": [
            "0\n",
            "1\n",
            "2\n",
            "3\n"
          ]
        }
      ]
    },
    {
      "cell_type": "markdown",
      "metadata": {
        "id": "8iKrlY05nTPM"
      },
      "source": [
        "Ciclos sobre Iterables\n",
        "retorna sus elementos uno a la vez, como range\n",
        "los iterables son\n",
        "- Listas\n",
        "- Tuplas\n",
        "- Diccionarios\n",
        "- Otros...conjuntos, archivos, etc\n",
        "for <var> in <iterable>:\n",
        "      # códigos\n",
        "\n"
      ]
    },
    {
      "cell_type": "code",
      "metadata": {
        "colab": {
          "base_uri": "https://localhost:8080/"
        },
        "id": "2Ezcspkqoe9f",
        "outputId": "5fbf79b9-fa89-477e-9381-710286cc06ac"
      },
      "source": [
        "for num in [1, 2, 3]:\n",
        "    print(num)"
      ],
      "execution_count": 32,
      "outputs": [
        {
          "output_type": "stream",
          "name": "stdout",
          "text": [
            "1\n",
            "2\n",
            "3\n"
          ]
        }
      ]
    },
    {
      "cell_type": "code",
      "metadata": {
        "colab": {
          "base_uri": "https://localhost:8080/"
        },
        "id": "touyxGFfozBG",
        "outputId": "75773ed7-a0e7-471d-eb70-ad5889794b67"
      },
      "source": [
        "for num in (1, 2, 3):    # funciona igual en una tupla\n",
        "    print(num)           "
      ],
      "execution_count": 33,
      "outputs": [
        {
          "output_type": "stream",
          "name": "stdout",
          "text": [
            "1\n",
            "2\n",
            "3\n"
          ]
        }
      ]
    },
    {
      "cell_type": "markdown",
      "metadata": {
        "id": "GX2vYkssqcF8"
      },
      "source": [
        "Para buscar los valores del diccionario se usa values"
      ]
    },
    {
      "cell_type": "markdown",
      "metadata": {
        "id": "BPt6wqnCbBw5"
      },
      "source": [
        ""
      ]
    },
    {
      "cell_type": "code",
      "metadata": {
        "colab": {
          "base_uri": "https://localhost:8080/"
        },
        "id": "dpmqrPwDn75B",
        "outputId": "76464f89-8551-4983-b969-6a612b1f017c"
      },
      "source": [
        "for char in \"Loops\":        #char es una abreviatura de caracter, character\n",
        "    print(char)"
      ],
      "execution_count": 31,
      "outputs": [
        {
          "output_type": "stream",
          "name": "stdout",
          "text": [
            "L\n",
            "o\n",
            "o\n",
            "p\n",
            "s\n"
          ]
        }
      ]
    },
    {
      "cell_type": "markdown",
      "metadata": {
        "id": "djt0axUur_cE"
      },
      "source": [
        "**Sobre diccionarios**\n"
      ]
    },
    {
      "cell_type": "code",
      "metadata": {
        "colab": {
          "base_uri": "https://localhost:8080/"
        },
        "id": "4zTAfhWBspSF",
        "outputId": "88478827-26bc-48f0-ef47-fb4424799929"
      },
      "source": [
        "letras = {\"a\":1, \"b\":2}\n",
        "for clave in letras:         #para iterar sobre las claves, el for recorre las claves del diccionarios\n",
        "    print(clave)\n"
      ],
      "execution_count": 40,
      "outputs": [
        {
          "output_type": "stream",
          "name": "stdout",
          "text": [
            "a\n",
            "b\n"
          ]
        }
      ]
    },
    {
      "cell_type": "code",
      "metadata": {
        "colab": {
          "base_uri": "https://localhost:8080/"
        },
        "id": "tqL-3afas_xL",
        "outputId": "c5b801ba-c73e-443b-fe2d-dca8e56f0fa6"
      },
      "source": [
        "letras = {\"a\":1, \"b\":2}\n",
        "for valor in letras.values():  #para iterar s/valores, for recorre los valores del dicc define valor sobre letras.values\n",
        "    print(valor)"
      ],
      "execution_count": 41,
      "outputs": [
        {
          "output_type": "stream",
          "name": "stdout",
          "text": [
            "1\n",
            "2\n"
          ]
        }
      ]
    },
    {
      "cell_type": "markdown",
      "metadata": {
        "id": "7JbZT2jLt27I"
      },
      "source": [
        "para clave-valor  .items"
      ]
    },
    {
      "cell_type": "code",
      "metadata": {
        "colab": {
          "base_uri": "https://localhost:8080/"
        },
        "id": "qcmjP7pxuzzk",
        "outputId": "ca5b0576-7da8-46f5-e8a0-9fbeb03f0d30"
      },
      "source": [
        "for clave,valor in letras.items():   #para traer clave-valor usar items, recorre y trae ambos componentes\n",
        "    print(clave,valor)               # trae clave,valor encontrados en todo el recorrido"
      ],
      "execution_count": 42,
      "outputs": [
        {
          "output_type": "stream",
          "name": "stdout",
          "text": [
            "a 1\n",
            "b 2\n"
          ]
        }
      ]
    },
    {
      "cell_type": "markdown",
      "metadata": {
        "id": "QSSgdFD1vj9C"
      },
      "source": [
        "Ciclos While (mientras)\n",
        "el ciclo continpua mientras la condición es verdadera, y se detiene cuando es falsa, que la condición se convierta en falsa se define en el código\n",
        "si el ciclo es infinito se detiene manualmente\n",
        "while <condición>: # código el código debe estar indentado 4espacios\n",
        "\n",
        "whikle palabra clave\n",
        "\n",
        "\n"
      ]
    },
    {
      "cell_type": "markdown",
      "metadata": {
        "id": "7Nn7NRGnwPoq"
      },
      "source": [
        "While no tiene un número fijo o predeterminado de iteraciones\n",
        "se ejecuta hasta que la condición es falsa"
      ]
    },
    {
      "cell_type": "code",
      "metadata": {
        "id": "KcmuATRuwu_Y"
      },
      "source": [
        ""
      ],
      "execution_count": null,
      "outputs": []
    }
  ]
}