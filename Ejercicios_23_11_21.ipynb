{
  "nbformat": 4,
  "nbformat_minor": 0,
  "metadata": {
    "colab": {
      "name": "Ejercicios_23.11.21.ipynb",
      "provenance": [],
      "collapsed_sections": [],
      "authorship_tag": "ABX9TyPbT8Aup6oobvtelBtmul+b",
      "include_colab_link": true
    },
    "kernelspec": {
      "name": "python3",
      "display_name": "Python 3"
    },
    "language_info": {
      "name": "python"
    }
  },
  "cells": [
    {
      "cell_type": "markdown",
      "metadata": {
        "id": "view-in-github",
        "colab_type": "text"
      },
      "source": [
        "<a href=\"https://colab.research.google.com/github/ClaudiaGonzalezScanu/aprendiendo_python/blob/main/Ejercicios_23_11_21.ipynb\" target=\"_parent\"><img src=\"https://colab.research.google.com/assets/colab-badge.svg\" alt=\"Open In Colab\"/></a>"
      ]
    },
    {
      "cell_type": "markdown",
      "metadata": {
        "id": "26ohXajNMBXa"
      },
      "source": [
        "Repaso desde Hola Mundo"
      ]
    },
    {
      "cell_type": "code",
      "metadata": {
        "colab": {
          "base_uri": "https://localhost:8080/"
        },
        "id": "kB29gWt3BmYD",
        "outputId": "28842148-8683-4322-eb39-0f7863911ffd"
      },
      "source": [
        "print(\"¡Hola Mundo!\")\n"
      ],
      "execution_count": 1,
      "outputs": [
        {
          "output_type": "stream",
          "name": "stdout",
          "text": [
            "¡Hola Mundo!\n"
          ]
        }
      ]
    },
    {
      "cell_type": "markdown",
      "metadata": {
        "id": "HeNTfrY-MK7l"
      },
      "source": [
        "Variables: es un nombre que se agigna un valor en el programa, es un espacio en memoria, se alojará o guardará un valor específico. Luego podremos llamar a la variable y usar el o los valores que guardamos en ese nombre. ej. num = 5, el nombre de la variables es num, y ese nombre se usará para usar el valor 5. \n",
        "Primero se define la variable dando el nombre, en este caso num"
      ]
    },
    {
      "cell_type": "code",
      "metadata": {
        "colab": {
          "base_uri": "https://localhost:8080/"
        },
        "id": "SvduOmsoNCJM",
        "outputId": "37c6adb8-9508-4364-8d37-a8c65663f79d"
      },
      "source": [
        "num = 3\n",
        "num             #se comprueba qe el valor existe en memoria, se escribe num el nombre de la variable y nos retorna el valor de la variable\n"
      ],
      "execution_count": 12,
      "outputs": [
        {
          "output_type": "execute_result",
          "data": {
            "text/plain": [
              "3"
            ]
          },
          "metadata": {},
          "execution_count": 12
        }
      ]
    },
    {
      "cell_type": "code",
      "metadata": {
        "colab": {
          "base_uri": "https://localhost:8080/"
        },
        "id": "pn-8D0rFNl6s",
        "outputId": "d7cdf403-ffbf-4bf4-9d0f-6573f1677016"
      },
      "source": [
        " num+2         # nombramos la variable y sumamos 2, nos retorna la suma el valor 3+2=5"
      ],
      "execution_count": 10,
      "outputs": [
        {
          "output_type": "execute_result",
          "data": {
            "text/plain": [
              "5"
            ]
          },
          "metadata": {},
          "execution_count": 10
        }
      ]
    },
    {
      "cell_type": "code",
      "metadata": {
        "colab": {
          "base_uri": "https://localhost:8080/"
        },
        "id": "TX8o5ME7OD1X",
        "outputId": "e402682f-4a56-43e7-90c7-1a7b8fb7d016"
      },
      "source": [
        "num =15          #ahora cambiamos el valor de num, modificamos a valor 15\n",
        "num"
      ],
      "execution_count": 24,
      "outputs": [
        {
          "output_type": "execute_result",
          "data": {
            "text/plain": [
              "15"
            ]
          },
          "metadata": {},
          "execution_count": 24
        }
      ]
    },
    {
      "cell_type": "code",
      "metadata": {
        "colab": {
          "base_uri": "https://localhost:8080/"
        },
        "id": "sVjZ0FrrPkhy",
        "outputId": "e9822325-230f-4c8b-809b-a171c5ab3e15"
      },
      "source": [
        "num-5             # a num restamos 5 nos retorna el resultado 15-5=10\n"
      ],
      "execution_count": 25,
      "outputs": [
        {
          "output_type": "execute_result",
          "data": {
            "text/plain": [
              "10"
            ]
          },
          "metadata": {},
          "execution_count": 25
        }
      ]
    },
    {
      "cell_type": "markdown",
      "metadata": {
        "id": "-D44dCKJQYMr"
      },
      "source": [
        "El nombre de la variables no pueden comenzar con un número, nos mostrará error de sintaxis \"SyntaxError\", las variables sólo pueden contener caracteres alfanuméricos de (A-Z, a-z, 0-9, _), no puede contener otro caracter.Se distingue entre mayuscula y monuscula, por lo tanto, al llamar una variable, se debe hacer de la mismo forma como fue definida."
      ]
    },
    {
      "cell_type": "markdown",
      "metadata": {
        "id": "ySLxpiXaRonh"
      },
      "source": [
        "Tipos de Datos\n",
        "numéricos /entero, no posee decimales, positivos, negativos y 0\n",
        "La función type() nos dirá que tipo de valor es.\n",
        "Int es Integer=entero\n",
        "decimales, al usar type() nos dira Float=Flotante float es decimal, cualquier valor que usa ,\n",
        "valores booleanos True=vardadero o False=falso los valores booleanos son importantes para ciclos o Bucles\n",
        "True False son Key words palabras clave\n",
        "class bool\n"
      ]
    },
    {
      "cell_type": "markdown",
      "metadata": {
        "id": "de_vuS_LTIS-"
      },
      "source": [
        "Cadenas de caracteres o String, son una secuencia de caracteres encerrados entre \"\" y usados para representar texto en el programa.\n",
        "Ej. \"Hola Mundo\" es una cadena de caracteres.\n",
        "    \"Python\" las \"\" pueden ser comillas simples, al psar type nos mostrara class str, la abreviación de string"
      ]
    },
    {
      "cell_type": "code",
      "metadata": {
        "colab": {
          "base_uri": "https://localhost:8080/"
        },
        "id": "4IbSoTmyUdYS",
        "outputId": "6a99f2fe-9bc5-47b0-bb44-8f415dc2ec26"
      },
      "source": [
        "nombre =\"Claudia\"\n",
        "type(nombre)"
      ],
      "execution_count": 29,
      "outputs": [
        {
          "output_type": "execute_result",
          "data": {
            "text/plain": [
              "str"
            ]
          },
          "metadata": {},
          "execution_count": 29
        }
      ]
    },
    {
      "cell_type": "markdown",
      "metadata": {
        "id": "uWKZpPBzU_Lt"
      },
      "source": [
        "Tamaño o Length, la función len() nos retornrá el valor de su tamaño"
      ]
    },
    {
      "cell_type": "code",
      "metadata": {
        "colab": {
          "base_uri": "https://localhost:8080/"
        },
        "id": "PQNM5dr-VKnC",
        "outputId": "0ea69a71-4913-4bc3-ca8d-31c0830188b7"
      },
      "source": [
        "len(nombre) # nos entregará la longitud de la cadena nombre=Claudia, tiene 7 caracteres."
      ],
      "execution_count": 30,
      "outputs": [
        {
          "output_type": "execute_result",
          "data": {
            "text/plain": [
              "7"
            ]
          },
          "metadata": {},
          "execution_count": 30
        }
      ]
    },
    {
      "cell_type": "markdown",
      "metadata": {
        "id": "7P0MkrjqVYSt"
      },
      "source": [
        "Indice, en una cadena se comiena a numerar desde 0,1,2....ej.\"Python\" comienza P=0, y=1,t=2,h=3,o=4,n=5 Python tiene indice de 0 a 5"
      ]
    },
    {
      "cell_type": "markdown",
      "metadata": {
        "id": "8Nin7ltTXxCv"
      },
      "source": [
        "Indexacion nombre de la cadena[]\n"
      ]
    },
    {
      "cell_type": "code",
      "metadata": {
        "colab": {
          "base_uri": "https://localhost:8080/",
          "height": 35
        },
        "id": "fSt8pN-dXmax",
        "outputId": "caa7140a-2269-45a1-91c7-e77d7a5081d2"
      },
      "source": [
        "palabra = \"Python\"\n",
        "palabra[0]             #llamamos al indice 0 nos devuelve el primer caracter de la cadena"
      ],
      "execution_count": 32,
      "outputs": [
        {
          "output_type": "execute_result",
          "data": {
            "application/vnd.google.colaboratory.intrinsic+json": {
              "type": "string"
            },
            "text/plain": [
              "'P'"
            ]
          },
          "metadata": {},
          "execution_count": 32
        }
      ]
    },
    {
      "cell_type": "code",
      "metadata": {
        "colab": {
          "base_uri": "https://localhost:8080/",
          "height": 35
        },
        "id": "pUo23FySYRhe",
        "outputId": "347ebb72-36b7-4a1d-b388-0a0054398676"
      },
      "source": [
        "palabra[1] #llamamos al indice 1 nos devuelve y"
      ],
      "execution_count": 33,
      "outputs": [
        {
          "output_type": "execute_result",
          "data": {
            "application/vnd.google.colaboratory.intrinsic+json": {
              "type": "string"
            },
            "text/plain": [
              "'y'"
            ]
          },
          "metadata": {},
          "execution_count": 33
        }
      ]
    },
    {
      "cell_type": "code",
      "metadata": {
        "colab": {
          "base_uri": "https://localhost:8080/",
          "height": 167
        },
        "id": "ynmQS1vrYiOj",
        "outputId": "9b72c25e-c4d4-44fa-d397-60e1c8f0c324"
      },
      "source": [
        "palabra[6]  #nos muestra error ya que no existe el indice 6 en la palabra Python"
      ],
      "execution_count": 34,
      "outputs": [
        {
          "output_type": "error",
          "ename": "IndexError",
          "evalue": "ignored",
          "traceback": [
            "\u001b[0;31m---------------------------------------------------------------------------\u001b[0m",
            "\u001b[0;31mIndexError\u001b[0m                                Traceback (most recent call last)",
            "\u001b[0;32m<ipython-input-34-217e97cabb54>\u001b[0m in \u001b[0;36m<module>\u001b[0;34m()\u001b[0m\n\u001b[0;32m----> 1\u001b[0;31m \u001b[0mpalabra\u001b[0m\u001b[0;34m[\u001b[0m\u001b[0;36m6\u001b[0m\u001b[0;34m]\u001b[0m\u001b[0;34m\u001b[0m\u001b[0;34m\u001b[0m\u001b[0m\n\u001b[0m",
            "\u001b[0;31mIndexError\u001b[0m: string index out of range"
          ]
        }
      ]
    },
    {
      "cell_type": "markdown",
      "metadata": {
        "id": "zYVCVBdsY8yu"
      },
      "source": [
        "Rebanado en ingles Slicing, vamos a tomar una porción de la cadena de caracteres, ej. \"Python\" «cadena»[inicio:fin] el último caracter no estará incluido en el caracter incluido, se detiene un indice anterior."
      ]
    },
    {
      "cell_type": "code",
      "metadata": {
        "colab": {
          "base_uri": "https://localhost:8080/",
          "height": 35
        },
        "id": "gRm8hESnZvPH",
        "outputId": "cdb09e25-caba-40de-88dd-f16f7ceaa8d0"
      },
      "source": [
        "palabra[1:4]   # solicitamos los indices 1 a 3 de palabra \"Python\" nos devuelve 1=y,2=t,3=h"
      ],
      "execution_count": 35,
      "outputs": [
        {
          "output_type": "execute_result",
          "data": {
            "application/vnd.google.colaboratory.intrinsic+json": {
              "type": "string"
            },
            "text/plain": [
              "'yth'"
            ]
          },
          "metadata": {},
          "execution_count": 35
        }
      ]
    },
    {
      "cell_type": "markdown",
      "metadata": {
        "id": "1QKonLz7awOH"
      },
      "source": [
        "el rebanado siembre va entre [], al no escribir el valor al inicio o al fin, toma los caracteres ya sea desde el inicio o el final, dependiendo cual falta"
      ]
    },
    {
      "cell_type": "code",
      "metadata": {
        "colab": {
          "base_uri": "https://localhost:8080/",
          "height": 35
        },
        "id": "VldOON5DYz0o",
        "outputId": "4f6e98fc-629a-424a-b2e8-d11403306570"
      },
      "source": [
        "palabra[:3]  #rebanado omitiendo el indice inicio"
      ],
      "execution_count": 37,
      "outputs": [
        {
          "output_type": "execute_result",
          "data": {
            "application/vnd.google.colaboratory.intrinsic+json": {
              "type": "string"
            },
            "text/plain": [
              "'Pyt'"
            ]
          },
          "metadata": {},
          "execution_count": 37
        }
      ]
    },
    {
      "cell_type": "markdown",
      "metadata": {
        "id": "lWDiG3B-bhLk"
      },
      "source": [
        "Rebanado con paso, «cadena»[inicio:fin:paso] con paso podemos saltar algunos caracteres"
      ]
    },
    {
      "cell_type": "code",
      "metadata": {
        "colab": {
          "base_uri": "https://localhost:8080/",
          "height": 35
        },
        "id": "n0jAkI0eb0nX",
        "outputId": "92786e10-88bb-4c04-8d86-ac95e18e5572"
      },
      "source": [
        "palabra[1:6:2]  # solicitamos nos de el caracter desde 1 a 5, llama al indice 1=y, luego suma 2=valor de paso a indice1, nos da 3=h, a indice3 sumamos 2valor de paso y nos da indice 5 "
      ],
      "execution_count": 38,
      "outputs": [
        {
          "output_type": "execute_result",
          "data": {
            "application/vnd.google.colaboratory.intrinsic+json": {
              "type": "string"
            },
            "text/plain": [
              "'yhn'"
            ]
          },
          "metadata": {},
          "execution_count": 38
        }
      ]
    },
    {
      "cell_type": "markdown",
      "metadata": {
        "id": "Y08xl8X9dwc5"
      },
      "source": [
        "Metodos de cadena de caracteres, operaciones comunes que vienen implementadas en Python. <cadena>.<método>(<valores>), de no requerir valor ()"
      ]
    },
    {
      "cell_type": "code",
      "metadata": {
        "colab": {
          "base_uri": "https://localhost:8080/",
          "height": 35
        },
        "id": "CLXNA1LMekaR",
        "outputId": "b5b2a612-55c0-48ba-a055-55a348ee60b1"
      },
      "source": [
        "palabra2 =\"python\"\n",
        "palabra2.capitalize()  #capitalize hace una copia de palabra2 con el primer caracter en mayuscula"
      ],
      "execution_count": 39,
      "outputs": [
        {
          "output_type": "execute_result",
          "data": {
            "application/vnd.google.colaboratory.intrinsic+json": {
              "type": "string"
            },
            "text/plain": [
              "'Python'"
            ]
          },
          "metadata": {},
          "execution_count": 39
        }
      ]
    },
    {
      "cell_type": "markdown",
      "metadata": {
        "id": "otHTyGy6fAFE"
      },
      "source": [
        "Otros métodos find - index - isalnum - isalpha - isdecimal - isdigit - islower - isupper - lower - upper"
      ]
    },
    {
      "cell_type": "code",
      "metadata": {
        "colab": {
          "base_uri": "https://localhost:8080/",
          "height": 35
        },
        "id": "MHKZFvH8fU4c",
        "outputId": "4cb7685e-439c-47a5-de19-a4918db51d59"
      },
      "source": [
        "palabra.lower() # lower nos devuelve toda la cadena en minúscula"
      ],
      "execution_count": 41,
      "outputs": [
        {
          "output_type": "execute_result",
          "data": {
            "application/vnd.google.colaboratory.intrinsic+json": {
              "type": "string"
            },
            "text/plain": [
              "'python'"
            ]
          },
          "metadata": {},
          "execution_count": 41
        }
      ]
    },
    {
      "cell_type": "code",
      "metadata": {
        "colab": {
          "base_uri": "https://localhost:8080/",
          "height": 35
        },
        "id": "W8YurSc8fmo8",
        "outputId": "72d2333e-a03e-4dce-c5bd-971a70047f16"
      },
      "source": [
        "palabra.upper() # upper nos devuelve toda la cadena en mayúscula"
      ],
      "execution_count": 42,
      "outputs": [
        {
          "output_type": "execute_result",
          "data": {
            "application/vnd.google.colaboratory.intrinsic+json": {
              "type": "string"
            },
            "text/plain": [
              "'PYTHON'"
            ]
          },
          "metadata": {},
          "execution_count": 42
        }
      ]
    },
    {
      "cell_type": "code",
      "metadata": {
        "colab": {
          "base_uri": "https://localhost:8080/"
        },
        "id": "MrUHrjrEfxho",
        "outputId": "807364bf-890d-4879-8a16-c5fc8f88eb7d"
      },
      "source": [
        "palabra.isalnum() #nos dice si la cdena es alfanumérico"
      ],
      "execution_count": 45,
      "outputs": [
        {
          "output_type": "execute_result",
          "data": {
            "text/plain": [
              "True"
            ]
          },
          "metadata": {},
          "execution_count": 45
        }
      ]
    },
    {
      "cell_type": "code",
      "metadata": {
        "colab": {
          "base_uri": "https://localhost:8080/"
        },
        "id": "U3oM6gAhgDv1",
        "outputId": "8c3b8bd6-d27a-45f8-c596-df4a20c43bae"
      },
      "source": [
        "palabra.isdecimal() # nos dice True or Falce si la cadena de caracteres es bool en este caso es stn "
      ],
      "execution_count": 46,
      "outputs": [
        {
          "output_type": "execute_result",
          "data": {
            "text/plain": [
              "False"
            ]
          },
          "metadata": {},
          "execution_count": 46
        }
      ]
    },
    {
      "cell_type": "code",
      "metadata": {
        "colab": {
          "base_uri": "https://localhost:8080/"
        },
        "id": "ULSx43SvgYF3",
        "outputId": "78f680cf-d78f-4b5b-bc0a-7dd811481730"
      },
      "source": [
        "palabra.isdigit() #nos miestra True or False "
      ],
      "execution_count": 47,
      "outputs": [
        {
          "output_type": "execute_result",
          "data": {
            "text/plain": [
              "False"
            ]
          },
          "metadata": {},
          "execution_count": 47
        }
      ]
    },
    {
      "cell_type": "code",
      "metadata": {
        "colab": {
          "base_uri": "https://localhost:8080/",
          "height": 35
        },
        "id": "1X5ivqB1gmvP",
        "outputId": "16bf8e0a-c926-4ae4-ac43-77ddc5ac9ec9"
      },
      "source": [
        "palabra.lower() #trae una copia de la variable python que fue modificada anteriormente"
      ],
      "execution_count": 48,
      "outputs": [
        {
          "output_type": "execute_result",
          "data": {
            "application/vnd.google.colaboratory.intrinsic+json": {
              "type": "string"
            },
            "text/plain": [
              "'python'"
            ]
          },
          "metadata": {},
          "execution_count": 48
        }
      ]
    },
    {
      "cell_type": "markdown",
      "metadata": {
        "id": "Fvpr6_wZg0L-"
      },
      "source": [
        "Recibiendo Datos del Usuario / \n",
        "función input(), permite solicitar ingresar datos al usuario, normalmente se asigna un valor a esa variable que el usuario ingresa con la siguiente sintaxi <var> = input(<mensaje>), la función input() siempre retorna una cadena de caracteres, independientemente de la variable que se está ingresando, para poder trabajar se debe convertir ese dato.\n"
      ]
    },
    {
      "cell_type": "code",
      "metadata": {
        "colab": {
          "base_uri": "https://localhost:8080/"
        },
        "id": "m3yPmEjhjXkV",
        "outputId": "625bb4c9-8bfd-4241-9ee4-0752d53b247a"
      },
      "source": [
        "num1 =input(\"Ingrese un número: \")  #solicitamos al usuario un valor\n",
        "print(num1)                         #con print mostramos la variable ingresada por el usuario"
      ],
      "execution_count": 49,
      "outputs": [
        {
          "output_type": "stream",
          "name": "stdout",
          "text": [
            "Ingrese un número: 5\n",
            "5\n"
          ]
        }
      ]
    },
    {
      "cell_type": "code",
      "metadata": {
        "colab": {
          "base_uri": "https://localhost:8080/"
        },
        "id": "rSTbxsVVkVte",
        "outputId": "fa078465-4bff-4fca-eebd-e7f1fb7d5c19"
      },
      "source": [
        "type(num1)  # type, nos muestra el tipo de valor de la cadena ingresada, a pesar de ser número lo ingresa como str"
      ],
      "execution_count": 50,
      "outputs": [
        {
          "output_type": "execute_result",
          "data": {
            "text/plain": [
              "str"
            ]
          },
          "metadata": {},
          "execution_count": 50
        }
      ]
    },
    {
      "cell_type": "markdown",
      "metadata": {
        "id": "oqKg0tmdklUU"
      },
      "source": [
        "Para mejorar el código, se asigna a la variable el tipo de vato que necesitamos ej. num1 = int(input(\"Ingrese valor: \")"
      ]
    },
    {
      "cell_type": "code",
      "metadata": {
        "colab": {
          "base_uri": "https://localhost:8080/"
        },
        "id": "EUM2gBd-k6Is",
        "outputId": "a1bca62e-7901-4677-d2b1-d1e1b53c6a2e"
      },
      "source": [
        "num2 =int(input(\"Ingrese un número: \"))  #solicitamos al usuario un valor, tranformamos de inmediato a int= entero\n",
        "print(num2)   "
      ],
      "execution_count": 51,
      "outputs": [
        {
          "output_type": "stream",
          "name": "stdout",
          "text": [
            "Ingrese un número: 5\n",
            "5\n"
          ]
        }
      ]
    },
    {
      "cell_type": "code",
      "metadata": {
        "colab": {
          "base_uri": "https://localhost:8080/"
        },
        "id": "4iv4YBxIlPTw",
        "outputId": "93099928-f483-4f6a-f459-ef282bbfedb3"
      },
      "source": [
        "type (num2)   # ahora al solicitar ver tipo de dato, nos muestra entero int"
      ],
      "execution_count": 52,
      "outputs": [
        {
          "output_type": "execute_result",
          "data": {
            "text/plain": [
              "int"
            ]
          },
          "metadata": {},
          "execution_count": 52
        }
      ]
    },
    {
      "cell_type": "markdown",
      "metadata": {
        "id": "oDJrjD_zlYDH"
      },
      "source": [
        "Operadores:\n",
        "Son símbolos que denotan una operación en el programa, simbolos que usaremos\n",
        "Operandos son los valores con los cuales vamos a ejecutar la operación\n",
        "Operador + Operando = Expresión \n",
        "Expresión es una combinación de valores, variables y operadores que al ser evaluados resultan en un valor. ej. al sumar 2 números resulta un valor, al hablar de una expresión se dice que se evalúa una expresión para obtener un valor, se evalúa de izquierda a derecha, como en matemáticas.\n",
        "Operadores: Aritméticos- Lógicos- De asignación- Relacionales"
      ]
    },
    {
      "cell_type": "markdown",
      "metadata": {
        "id": "umXChgqrncas"
      },
      "source": [
        "Operadores Aritmeticos: Suma-resta-multiplicación-División-División entera- Exponente y módulo"
      ]
    },
    {
      "cell_type": "code",
      "metadata": {
        "colab": {
          "base_uri": "https://localhost:8080/"
        },
        "id": "hKl-7iVknkzy",
        "outputId": "d8e4770f-9f91-4981-9f01-c0cbdc689c0d"
      },
      "source": [
        "5+6   # Suma,  el conjunto de operadores y comandos suma, se evalúa y se obtiene resultado 11"
      ],
      "execution_count": 53,
      "outputs": [
        {
          "output_type": "execute_result",
          "data": {
            "text/plain": [
              "11"
            ]
          },
          "metadata": {},
          "execution_count": 53
        }
      ]
    },
    {
      "cell_type": "code",
      "metadata": {
        "colab": {
          "base_uri": "https://localhost:8080/",
          "height": 35
        },
        "id": "_4D1Mep_nvrd",
        "outputId": "1f5f7a4e-c745-437b-ea51-7d1823942643"
      },
      "source": [
        "\"Hola\"+\" \"+\"Mundo\" # en el caso de stn Concatena, une las cadenas de caracteres para formar una sola"
      ],
      "execution_count": 55,
      "outputs": [
        {
          "output_type": "execute_result",
          "data": {
            "application/vnd.google.colaboratory.intrinsic+json": {
              "type": "string"
            },
            "text/plain": [
              "'Hola Mundo'"
            ]
          },
          "metadata": {},
          "execution_count": 55
        }
      ]
    },
    {
      "cell_type": "code",
      "metadata": {
        "colab": {
          "base_uri": "https://localhost:8080/"
        },
        "id": "8VNSOiOaoHbH",
        "outputId": "cc5cd88a-b556-4b11-9892-7579223e24e9"
      },
      "source": [
        "4-8    # la respa nos puede resultar negativo"
      ],
      "execution_count": 56,
      "outputs": [
        {
          "output_type": "execute_result",
          "data": {
            "text/plain": [
              "-4"
            ]
          },
          "metadata": {},
          "execution_count": 56
        }
      ]
    },
    {
      "cell_type": "code",
      "metadata": {
        "colab": {
          "base_uri": "https://localhost:8080/"
        },
        "id": "j_sxhH3coKWq",
        "outputId": "7142692f-5efb-4927-861a-06d0b62447e3"
      },
      "source": [
        "3.4-5.6    # podemos usar valores en coma plotante"
      ],
      "execution_count": 57,
      "outputs": [
        {
          "output_type": "execute_result",
          "data": {
            "text/plain": [
              "-2.1999999999999997"
            ]
          },
          "metadata": {},
          "execution_count": 57
        }
      ]
    },
    {
      "cell_type": "code",
      "metadata": {
        "colab": {
          "base_uri": "https://localhost:8080/"
        },
        "id": "-GY9mnIXpMeI",
        "outputId": "c73bc80e-a41b-4683-f5c6-c36491b7a3b4"
      },
      "source": [
        "12/6    # en el caso de la división siempre retorna un número de coma flotante"
      ],
      "execution_count": 59,
      "outputs": [
        {
          "output_type": "execute_result",
          "data": {
            "text/plain": [
              "2.0"
            ]
          },
          "metadata": {},
          "execution_count": 59
        }
      ]
    },
    {
      "cell_type": "markdown",
      "metadata": {
        "id": "tJEzVksNpZ8y"
      },
      "source": [
        "Al dividir por 0 no está definida, nos devuelve error\n",
        "para obtener un valor entero en una división, se coloca 15//5 y obtenermos un valor entero, el operador trunca los decimanes, sólo muestra la parte entera del resultado, no aproxima"
      ]
    },
    {
      "cell_type": "code",
      "metadata": {
        "colab": {
          "base_uri": "https://localhost:8080/"
        },
        "id": "S9lyReOkpv-O",
        "outputId": "28e4f757-7fd6-4aca-9a97-f5a9481a719c"
      },
      "source": [
        "5.6/3.4    # en esta división el resultado tiene muchos decimales"
      ],
      "execution_count": 60,
      "outputs": [
        {
          "output_type": "execute_result",
          "data": {
            "text/plain": [
              "1.6470588235294117"
            ]
          },
          "metadata": {},
          "execution_count": 60
        }
      ]
    },
    {
      "cell_type": "code",
      "metadata": {
        "colab": {
          "base_uri": "https://localhost:8080/"
        },
        "id": "CiLQQqAbp0eC",
        "outputId": "a88862a5-579a-42cb-c4d4-f70f69f8b70f"
      },
      "source": [
        "5.6//3.4  # en la misma división con // para obtener entero corta los decimales y muestra el valor 1.0"
      ],
      "execution_count": 61,
      "outputs": [
        {
          "output_type": "execute_result",
          "data": {
            "text/plain": [
              "1.0"
            ]
          },
          "metadata": {},
          "execution_count": 61
        }
      ]
    },
    {
      "cell_type": "markdown",
      "metadata": {
        "id": "Cy4J2yniqIXg"
      },
      "source": [
        "La división entera o // Floor division\n"
      ]
    },
    {
      "cell_type": "markdown",
      "metadata": {
        "id": "CcG__cYIr-Xv"
      },
      "source": [
        "Busqueda binaria\n",
        "Algoritmo, es una secuencia de pasos para resolver un problema\n",
        "\n",
        "Otro operador es exponente  **"
      ]
    },
    {
      "cell_type": "code",
      "metadata": {
        "colab": {
          "base_uri": "https://localhost:8080/"
        },
        "id": "8avehzY2sV9m",
        "outputId": "a86d7def-300b-44da-f125-bd4792bb5065"
      },
      "source": [
        "5**3    # 5 elevado a 3 "
      ],
      "execution_count": 62,
      "outputs": [
        {
          "output_type": "execute_result",
          "data": {
            "text/plain": [
              "125"
            ]
          },
          "metadata": {},
          "execution_count": 62
        }
      ]
    },
    {
      "cell_type": "code",
      "metadata": {
        "colab": {
          "base_uri": "https://localhost:8080/"
        },
        "id": "sm8wkz4BseLI",
        "outputId": "216923c2-4a94-41cb-fd21-65ef5ce8c49f"
      },
      "source": [
        "16**(1/2)   # obtenemos la raíz cuadrada de un número al elevarlo a 1/2"
      ],
      "execution_count": 63,
      "outputs": [
        {
          "output_type": "execute_result",
          "data": {
            "text/plain": [
              "4.0"
            ]
          },
          "metadata": {},
          "execution_count": 63
        }
      ]
    },
    {
      "cell_type": "code",
      "metadata": {
        "colab": {
          "base_uri": "https://localhost:8080/"
        },
        "id": "EFzzFNd7snsa",
        "outputId": "2fc630bf-e1c6-4310-af37-8adb8b8484d5"
      },
      "source": [
        "5**0    #cualquier número elevado a 0 es 1"
      ],
      "execution_count": 64,
      "outputs": [
        {
          "output_type": "execute_result",
          "data": {
            "text/plain": [
              "1"
            ]
          },
          "metadata": {},
          "execution_count": 64
        }
      ]
    },
    {
      "cell_type": "markdown",
      "metadata": {
        "id": "kntXG0nls3t3"
      },
      "source": [
        "Operador Módulo (%) retorna el resto de la división\n",
        "comunmente utilizado para verificar si un número es par o impar.\n",
        "permite ver cual es el resto de la división entre 2\n",
        "\n"
      ]
    },
    {
      "cell_type": "code",
      "metadata": {
        "colab": {
          "base_uri": "https://localhost:8080/"
        },
        "id": "MYCXzUBTtjKB",
        "outputId": "ca94b109-d020-472c-a017-1883989e761a"
      },
      "source": [
        "5%2  # el resultado es 1 por lo tanto es impar"
      ],
      "execution_count": 65,
      "outputs": [
        {
          "output_type": "execute_result",
          "data": {
            "text/plain": [
              "1"
            ]
          },
          "metadata": {},
          "execution_count": 65
        }
      ]
    },
    {
      "cell_type": "code",
      "metadata": {
        "colab": {
          "base_uri": "https://localhost:8080/"
        },
        "id": "o4z9ZKswtphO",
        "outputId": "a154dc3f-c111-48cd-d82d-094150ae800c"
      },
      "source": [
        "16%4 # resultado es par 0 "
      ],
      "execution_count": 68,
      "outputs": [
        {
          "output_type": "execute_result",
          "data": {
            "text/plain": [
              "0"
            ]
          },
          "metadata": {},
          "execution_count": 68
        }
      ]
    },
    {
      "cell_type": "code",
      "metadata": {
        "colab": {
          "base_uri": "https://localhost:8080/"
        },
        "id": "EDK4TKVsuIGK",
        "outputId": "a5e29c9d-be5b-4980-9005-067bd7d98a40"
      },
      "source": [
        "18%4    #18 módulo 4 es dos "
      ],
      "execution_count": 69,
      "outputs": [
        {
          "output_type": "execute_result",
          "data": {
            "text/plain": [
              "2"
            ]
          },
          "metadata": {},
          "execution_count": 69
        }
      ]
    },
    {
      "cell_type": "markdown",
      "metadata": {
        "id": "utRkOqrsuWcB"
      },
      "source": [
        "Orden de las operaciones es PEMDAS P(parentesis)E(exponentes)M(multiplicación) D(división) A(addtion) S (subtraction)\n",
        "1. perénteisi tendrán prioridad\n",
        "2.Exponentes, \n",
        "3.Multiplicción\n",
        "4.División\n",
        "5.Suma\n",
        "6.Resta\n",
        "Las operaciones se evaluan de izquierda a derecha"
      ]
    },
    {
      "cell_type": "markdown",
      "metadata": {
        "id": "Fb1iGqISyH56"
      },
      "source": [
        "operadores lógicos\n",
        "nos permiten trabajar con valores booleanos (True y False) and, or, not\n",
        "and= evalúa si el operando izquierdo y el derecho son verdaderos, si ambas expresiones son verdaderas nos devuelve True ej.\n"
      ]
    },
    {
      "cell_type": "code",
      "metadata": {
        "colab": {
          "base_uri": "https://localhost:8080/"
        },
        "id": "q1kQuLMuy02y",
        "outputId": "1e54f879-2967-45b2-b1d3-6d94b2e42087"
      },
      "source": [
        "(5<6) and (6>8)  #compara si ambas expresiones son verdaderas o falsa, ambas se deben cumplir para ser verdaderas"
      ],
      "execution_count": 70,
      "outputs": [
        {
          "output_type": "execute_result",
          "data": {
            "text/plain": [
              "False"
            ]
          },
          "metadata": {},
          "execution_count": 70
        }
      ]
    },
    {
      "cell_type": "markdown",
      "metadata": {
        "id": "tbNLmkitzLAG"
      },
      "source": [
        "quedé en video minuto 1:26"
      ]
    }
  ]
}