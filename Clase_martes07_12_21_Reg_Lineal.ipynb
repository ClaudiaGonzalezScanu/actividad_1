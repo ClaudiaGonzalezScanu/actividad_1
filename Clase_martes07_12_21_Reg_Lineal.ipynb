{
  "nbformat": 4,
  "nbformat_minor": 0,
  "metadata": {
    "colab": {
      "name": "Clase_martes07.12.21_Reg_Lineal.ipynb",
      "provenance": [],
      "collapsed_sections": [],
      "include_colab_link": true
    },
    "kernelspec": {
      "name": "python3",
      "display_name": "Python 3"
    }
  },
  "cells": [
    {
      "cell_type": "markdown",
      "metadata": {
        "id": "view-in-github",
        "colab_type": "text"
      },
      "source": [
        "<a href=\"https://colab.research.google.com/github/ClaudiaGonzalezScanu/aprendiendo_python/blob/main/Clase_martes07_12_21_Reg_Lineal.ipynb\" target=\"_parent\"><img src=\"https://colab.research.google.com/assets/colab-badge.svg\" alt=\"Open In Colab\"/></a>"
      ]
    },
    {
      "cell_type": "markdown",
      "metadata": {
        "id": "Yj9rQ3p4i-_v"
      },
      "source": [
        "Importar las librerías"
      ]
    },
    {
      "cell_type": "code",
      "metadata": {
        "id": "FPjvscJNI39I"
      },
      "source": [
        "import numpy as np\n",
        "import matplotlib.pyplot as plt\n",
        "import pandas as pd"
      ],
      "execution_count": null,
      "outputs": []
    },
    {
      "cell_type": "markdown",
      "metadata": {
        "id": "9AXZxeXhjHNG"
      },
      "source": [
        "Especificación de los datos y construcción de un DataFrame\n",
        "\n"
      ]
    },
    {
      "cell_type": "code",
      "metadata": {
        "id": "oBvJKDBsJIST",
        "colab": {
          "base_uri": "https://localhost:8080/",
          "height": 802
        },
        "outputId": "2a424547-6a05-418c-e9f1-5561738f5aa3"
      },
      "source": [
        "x = np.array([1,1,2,2.5,2,3,3,3.5,5,5,6,6,6.5,7,8,8,9,9,9.5,10,10,10.5,10.2,10.4])\n",
        "y = np.array([2,3,2,2.8,3,4,5,3.8,6,4,7,5,7,7.5,10,8,9,8,9.5,8.5,9,9.2,9.8,10.2])\n",
        "df = pd.DataFrame({\"x\":x, \"y\": y}, dtype = \"float64\")\n",
        "df\n"
      ],
      "execution_count": null,
      "outputs": [
        {
          "output_type": "execute_result",
          "data": {
            "text/html": [
              "<div>\n",
              "<style scoped>\n",
              "    .dataframe tbody tr th:only-of-type {\n",
              "        vertical-align: middle;\n",
              "    }\n",
              "\n",
              "    .dataframe tbody tr th {\n",
              "        vertical-align: top;\n",
              "    }\n",
              "\n",
              "    .dataframe thead th {\n",
              "        text-align: right;\n",
              "    }\n",
              "</style>\n",
              "<table border=\"1\" class=\"dataframe\">\n",
              "  <thead>\n",
              "    <tr style=\"text-align: right;\">\n",
              "      <th></th>\n",
              "      <th>x</th>\n",
              "      <th>y</th>\n",
              "    </tr>\n",
              "  </thead>\n",
              "  <tbody>\n",
              "    <tr>\n",
              "      <th>0</th>\n",
              "      <td>1.0</td>\n",
              "      <td>2.0</td>\n",
              "    </tr>\n",
              "    <tr>\n",
              "      <th>1</th>\n",
              "      <td>1.0</td>\n",
              "      <td>3.0</td>\n",
              "    </tr>\n",
              "    <tr>\n",
              "      <th>2</th>\n",
              "      <td>2.0</td>\n",
              "      <td>2.0</td>\n",
              "    </tr>\n",
              "    <tr>\n",
              "      <th>3</th>\n",
              "      <td>2.5</td>\n",
              "      <td>2.8</td>\n",
              "    </tr>\n",
              "    <tr>\n",
              "      <th>4</th>\n",
              "      <td>2.0</td>\n",
              "      <td>3.0</td>\n",
              "    </tr>\n",
              "    <tr>\n",
              "      <th>5</th>\n",
              "      <td>3.0</td>\n",
              "      <td>4.0</td>\n",
              "    </tr>\n",
              "    <tr>\n",
              "      <th>6</th>\n",
              "      <td>3.0</td>\n",
              "      <td>5.0</td>\n",
              "    </tr>\n",
              "    <tr>\n",
              "      <th>7</th>\n",
              "      <td>3.5</td>\n",
              "      <td>3.8</td>\n",
              "    </tr>\n",
              "    <tr>\n",
              "      <th>8</th>\n",
              "      <td>5.0</td>\n",
              "      <td>6.0</td>\n",
              "    </tr>\n",
              "    <tr>\n",
              "      <th>9</th>\n",
              "      <td>5.0</td>\n",
              "      <td>4.0</td>\n",
              "    </tr>\n",
              "    <tr>\n",
              "      <th>10</th>\n",
              "      <td>6.0</td>\n",
              "      <td>7.0</td>\n",
              "    </tr>\n",
              "    <tr>\n",
              "      <th>11</th>\n",
              "      <td>6.0</td>\n",
              "      <td>5.0</td>\n",
              "    </tr>\n",
              "    <tr>\n",
              "      <th>12</th>\n",
              "      <td>6.5</td>\n",
              "      <td>7.0</td>\n",
              "    </tr>\n",
              "    <tr>\n",
              "      <th>13</th>\n",
              "      <td>7.0</td>\n",
              "      <td>7.5</td>\n",
              "    </tr>\n",
              "    <tr>\n",
              "      <th>14</th>\n",
              "      <td>8.0</td>\n",
              "      <td>10.0</td>\n",
              "    </tr>\n",
              "    <tr>\n",
              "      <th>15</th>\n",
              "      <td>8.0</td>\n",
              "      <td>8.0</td>\n",
              "    </tr>\n",
              "    <tr>\n",
              "      <th>16</th>\n",
              "      <td>9.0</td>\n",
              "      <td>9.0</td>\n",
              "    </tr>\n",
              "    <tr>\n",
              "      <th>17</th>\n",
              "      <td>9.0</td>\n",
              "      <td>8.0</td>\n",
              "    </tr>\n",
              "    <tr>\n",
              "      <th>18</th>\n",
              "      <td>9.5</td>\n",
              "      <td>9.5</td>\n",
              "    </tr>\n",
              "    <tr>\n",
              "      <th>19</th>\n",
              "      <td>10.0</td>\n",
              "      <td>8.5</td>\n",
              "    </tr>\n",
              "    <tr>\n",
              "      <th>20</th>\n",
              "      <td>10.0</td>\n",
              "      <td>9.0</td>\n",
              "    </tr>\n",
              "    <tr>\n",
              "      <th>21</th>\n",
              "      <td>10.5</td>\n",
              "      <td>9.2</td>\n",
              "    </tr>\n",
              "    <tr>\n",
              "      <th>22</th>\n",
              "      <td>10.2</td>\n",
              "      <td>9.8</td>\n",
              "    </tr>\n",
              "    <tr>\n",
              "      <th>23</th>\n",
              "      <td>10.4</td>\n",
              "      <td>10.2</td>\n",
              "    </tr>\n",
              "  </tbody>\n",
              "</table>\n",
              "</div>"
            ],
            "text/plain": [
              "       x     y\n",
              "0    1.0   2.0\n",
              "1    1.0   3.0\n",
              "2    2.0   2.0\n",
              "3    2.5   2.8\n",
              "4    2.0   3.0\n",
              "5    3.0   4.0\n",
              "6    3.0   5.0\n",
              "7    3.5   3.8\n",
              "8    5.0   6.0\n",
              "9    5.0   4.0\n",
              "10   6.0   7.0\n",
              "11   6.0   5.0\n",
              "12   6.5   7.0\n",
              "13   7.0   7.5\n",
              "14   8.0  10.0\n",
              "15   8.0   8.0\n",
              "16   9.0   9.0\n",
              "17   9.0   8.0\n",
              "18   9.5   9.5\n",
              "19  10.0   8.5\n",
              "20  10.0   9.0\n",
              "21  10.5   9.2\n",
              "22  10.2   9.8\n",
              "23  10.4  10.2"
            ]
          },
          "metadata": {},
          "execution_count": 3
        }
      ]
    },
    {
      "cell_type": "markdown",
      "metadata": {
        "id": "OVCBRh8PkFLH"
      },
      "source": [
        "Visualización de los datos por medio de un gráfico de dispersión "
      ]
    },
    {
      "cell_type": "code",
      "metadata": {
        "id": "dbDUsMjOJIcb",
        "colab": {
          "base_uri": "https://localhost:8080/",
          "height": 279
        },
        "outputId": "03cddcb4-a1dc-4ba9-b536-045e51179fa2"
      },
      "source": [
        "plt.scatter(x, y);\n",
        "plt.xlabel('x')\n",
        "plt.ylabel('y')\n",
        "plt.show()\n"
      ],
      "execution_count": null,
      "outputs": [
        {
          "output_type": "display_data",
          "data": {
            "image/png": "[encoded data removed]",
            "text/plain": [
              "<Figure size 432x288 with 1 Axes>"
            ]
          },
          "metadata": {
            "needs_background": "light"
          }
        }
      ]
    },
    {
      "cell_type": "markdown",
      "metadata": {
        "id": "QDokA7cjkmcz"
      },
      "source": [
        "**IMPLEMENTACIÓN DE UN MODELO DE REGRESIÓN LINEAL SIMPLE**\n",
        "y=a*x+b"
      ]
    },
    {
      "cell_type": "markdown",
      "metadata": {
        "id": "SN_JCKKukuHR"
      },
      "source": [
        "Separación de los datos en un conjunto de datos de entrenamiento y un conjunto de datos de prueba"
      ]
    },
    {
      "cell_type": "code",
      "metadata": {
        "id": "Y5nLQdBsMTYz"
      },
      "source": [
        "from sklearn.model_selection import train_test_split\n",
        "x_train, x_test, y_train, y_test = train_test_split(df.x, df.y, test_size=0.3)\n"
      ],
      "execution_count": null,
      "outputs": []
    },
    {
      "cell_type": "markdown",
      "metadata": {
        "id": "bPsGU1FglavB"
      },
      "source": [
        "Se definen dataframes para cada uno de los conjuntos generados con la división de los datos"
      ]
    },
    {
      "cell_type": "code",
      "metadata": {
        "id": "mYKYnmOIMTfs"
      },
      "source": [
        "df_x_train=pd.DataFrame({\"x train\":x_train}, dtype = \"float64\")\n",
        "df_y_train=pd.DataFrame({\"y train\": y_train}, dtype = \"float64\")\n",
        "df_x_test=pd.DataFrame({\"x test\":x_test}, dtype = \"float64\")\n",
        "df_y_test=pd.DataFrame({\"y test\": y_test}, dtype = \"float64\")"
      ],
      "execution_count": null,
      "outputs": []
    },
    {
      "cell_type": "markdown",
      "metadata": {
        "id": "gJHftcW1lH3C"
      },
      "source": [
        "Se define el algoritmo a utilizar que es el de LinearRegression (algoritmo de regresión lineal)"
      ]
    },
    {
      "cell_type": "code",
      "metadata": {
        "id": "oyctiuWmMTcX"
      },
      "source": [
        "from sklearn import linear_model\n",
        "lr = linear_model.LinearRegression()\n"
      ],
      "execution_count": null,
      "outputs": []
    },
    {
      "cell_type": "markdown",
      "metadata": {
        "id": "x-0EOFlylow6"
      },
      "source": [
        "Se entrena el modelo con los datos de entrenamiento"
      ]
    },
    {
      "cell_type": "code",
      "metadata": {
        "id": "w4mns-SUY-6P",
        "colab": {
          "base_uri": "https://localhost:8080/"
        },
        "outputId": "98c73089-6f3d-4d51-c5b0-9df60b8342f9"
      },
      "source": [
        "lr.fit(df_x_train, df_y_train)"
      ],
      "execution_count": null,
      "outputs": [
        {
          "output_type": "execute_result",
          "data": {
            "text/plain": [
              "LinearRegression()"
            ]
          },
          "metadata": {},
          "execution_count": 28
        }
      ]
    },
    {
      "cell_type": "markdown",
      "metadata": {
        "id": "WOGA4S0WlzZl"
      },
      "source": [
        "Se realiza una predicción utilizando los datos de prueba"
      ]
    },
    {
      "cell_type": "code",
      "metadata": {
        "id": "dpIcf11_MTig",
        "colab": {
          "base_uri": "https://localhost:8080/"
        },
        "outputId": "c94069be-c95b-430a-c1a0-dd856cd24d5c"
      },
      "source": [
        "y_pred = lr.predict(df_x_test)"
      ],
      "execution_count": null,
      "outputs": [
        {
          "output_type": "stream",
          "name": "stderr",
          "text": [
            "/usr/local/lib/python3.7/dist-packages/sklearn/base.py:488: FutureWarning: The feature names should match those that were passed during fit. Starting version 1.2, an error will be raised.\n",
            "Feature names unseen at fit time:\n",
            "- x test\n",
            "Feature names seen at fit time, yet now missing:\n",
            "- x train\n",
            "\n",
            "  warnings.warn(message, FutureWarning)\n"
          ]
        }
      ]
    },
    {
      "cell_type": "markdown",
      "metadata": {
        "id": "o1OJdkUlmCCr"
      },
      "source": [
        "Visualización de los datos y la recta de regresión lineal simple"
      ]
    },
    {
      "cell_type": "code",
      "metadata": {
        "id": "mcGYtTwYMTlz",
        "colab": {
          "base_uri": "https://localhost:8080/",
          "height": 295
        },
        "outputId": "1807269e-b13f-4780-a765-8c5c6c30d6eb"
      },
      "source": [
        "plt.scatter(df_x_test, df_y_test)\n",
        "plt.plot(df_x_test, y_pred, color='red', linewidth=3)\n",
        "plt.title('Regresión Lineal Simple')\n",
        "plt.xlabel('x')\n",
        "plt.ylabel('y')\n",
        "plt.show()\n"
      ],
      "execution_count": null,
      "outputs": [
        {
          "output_type": "display_data",
          "data": {
            "image/png": "[encoded data removed]",
            "text/plain": [
              "<Figure size 432x288 with 1 Axes>"
            ]
          },
          "metadata": {
            "needs_background": "light"
          }
        }
      ]
    },
    {
      "cell_type": "markdown",
      "metadata": {
        "id": "uHwTvC2amUfr"
      },
      "source": [
        "Se obtienen los valores tanto de la pendiente como de la intersección de la recta, para obtener la ecuación del modelo"
      ]
    },
    {
      "cell_type": "code",
      "metadata": {
        "id": "w2t6Tc7NMTon",
        "colab": {
          "base_uri": "https://localhost:8080/"
        },
        "outputId": "5715fb78-184d-4e27-80d0-737379faf9df"
      },
      "source": [
        "print('DATOS DEL MODELO REGRESIÓN LINEAL SIMPLE')\n",
        "print()\n",
        "print('Valor de la pendiente o coeficiente \"a\":')\n",
        "print(lr.coef_)\n",
        "print('Valor de la intersección o coeficiente \"b\":')\n",
        "print(lr.intercept_)\n",
        "print()\n"
      ],
      "execution_count": null,
      "outputs": [
        {
          "output_type": "stream",
          "name": "stdout",
          "text": [
            "DATOS DEL MODELO REGRESIÓN LINEAL SIMPLE\n",
            "\n",
            "Valor de la pendiente o coeficiente \"a\":\n",
            "[[0.82474329]]\n",
            "Valor de la intersección o coeficiente \"b\":\n",
            "[1.29574137]\n",
            "\n"
          ]
        }
      ]
    },
    {
      "cell_type": "code",
      "metadata": {
        "id": "q2POHoMyMTrW",
        "colab": {
          "base_uri": "https://localhost:8080/"
        },
        "outputId": "a1f00b23-40aa-4efb-e172-d5000eb5a7d0"
      },
      "source": [
        "print('La ecuación del modelo es igual a:')\n",
        "print('y = ', lr.coef_, 'x ', lr.intercept_)\n"
      ],
      "execution_count": null,
      "outputs": [
        {
          "output_type": "stream",
          "name": "stdout",
          "text": [
            "La ecuación del modelo es igual a:\n",
            "y =  [[0.82474329]] x  [1.29574137]\n"
          ]
        }
      ]
    },
    {
      "cell_type": "markdown",
      "metadata": {
        "id": "gdw3Ko99mf20"
      },
      "source": [
        "**PRECISIÓN DEL MODELO DE REGRESIÓN**"
      ]
    },
    {
      "cell_type": "markdown",
      "metadata": {
        "id": "T7piXOcJqOgb"
      },
      "source": [
        "Calculo de la precisión del modelo usando el estadístico R al cuadrado"
      ]
    },
    {
      "cell_type": "code",
      "metadata": {
        "id": "yrJfZdAKbxZf",
        "colab": {
          "base_uri": "https://localhost:8080/"
        },
        "outputId": "07e93e7c-a7dd-4d27-e491-1e9d1190443e"
      },
      "source": [
        "print('Precisión del Modelo:')\n",
        "print(\"R2=\",lr.score(df_y_test, y_pred))\n"
      ],
      "execution_count": null,
      "outputs": [
        {
          "output_type": "stream",
          "name": "stdout",
          "text": [
            "Precisión del Modelo:\n",
            "R2= 0.9093688845401173\n"
          ]
        },
        {
          "output_type": "stream",
          "name": "stderr",
          "text": [
            "/usr/local/lib/python3.7/dist-packages/sklearn/base.py:488: FutureWarning: The feature names should match those that were passed during fit. Starting version 1.2, an error will be raised.\n",
            "Feature names unseen at fit time:\n",
            "- y test\n",
            "Feature names seen at fit time, yet now missing:\n",
            "- x train\n",
            "\n",
            "  warnings.warn(message, FutureWarning)\n"
          ]
        }
      ]
    },
    {
      "cell_type": "markdown",
      "metadata": {
        "id": "_iWUq1TXqff0"
      },
      "source": [
        "Calculo de la precisión del modelo usando el Error Cuadrático Medio (MSE)"
      ]
    },
    {
      "cell_type": "code",
      "metadata": {
        "id": "gLR9PpXXbxcZ",
        "colab": {
          "base_uri": "https://localhost:8080/"
        },
        "outputId": "39d853bd-89a5-44d0-fa10-53bf26ef731c"
      },
      "source": [
        "from sklearn.metrics import mean_squared_error\n",
        "MSE=mean_squared_error(df_y_test, y_pred)\n",
        "print(\"MSE=\",MSE)"
      ],
      "execution_count": null,
      "outputs": [
        {
          "output_type": "stream",
          "name": "stdout",
          "text": [
            "MSE= 0.4262939909914282\n"
          ]
        }
      ]
    },
    {
      "cell_type": "markdown",
      "metadata": {
        "id": "Vxfta59kxY1-"
      },
      "source": [
        "Calculo de la precisión del modelo usando la Raíz del Error Cuadrático Medio (RMSE)"
      ]
    },
    {
      "cell_type": "code",
      "metadata": {
        "id": "8zXTehicbxhr",
        "colab": {
          "base_uri": "https://localhost:8080/"
        },
        "outputId": "e1510f00-103f-4155-c5c7-bd730e9eca28"
      },
      "source": [
        "from math import sqrt\n",
        "MSE=mean_squared_error(df_y_test, y_pred)\n",
        "RMSE=sqrt(MSE)\n",
        "print(\"RMSE=\",RMSE)"
      ],
      "execution_count": null,
      "outputs": [
        {
          "output_type": "stream",
          "name": "stdout",
          "text": [
            "RMSE= 0.6529119320332782\n"
          ]
        }
      ]
    },
    {
      "cell_type": "markdown",
      "metadata": {
        "id": "F3YUCcCVzKF5"
      },
      "source": [
        "Teniendo en cuenta las medidas correspondientes  al R2 y RMSE se puede afirmar que el modelo de regresión lineal ajusta adecuadamente los datos."
      ]
    },
    {
      "cell_type": "code",
      "metadata": {
        "id": "5okacpaUkCiT",
        "colab": {
          "base_uri": "https://localhost:8080/"
        },
        "outputId": "4727b4a4-d68f-4e3e-af79-292a991086c2"
      },
      "source": [
        "print(\"y_mean=\",np.mean(y))\n"
      ],
      "execution_count": null,
      "outputs": [
        {
          "output_type": "stream",
          "name": "stdout",
          "text": [
            "y_mean= 6.3875\n"
          ]
        }
      ]
    },
    {
      "cell_type": "markdown",
      "metadata": {
        "id": "zeyrRaWUlQuR"
      },
      "source": [
        "Se puede ver que el valor RMSE (0.67), es prácticamente igual al 10% del valor de la media que es de 6.05. Esto significa que nuestro algoritmo es preciso, además viendo R2, podemos afirmar que el modelo puede hacer predicciones razonablemente buenas."
      ]
    },
    {
      "cell_type": "markdown",
      "metadata": {
        "id": "OIz_iPRPcKfq"
      },
      "source": [
        "**IMPLEMENTACIÓN DE UN MODELO DE REGRESIÓN LINEAL MÚLTIPLE**\n",
        "y=a1*x1 + a2*x2 + b"
      ]
    },
    {
      "cell_type": "code",
      "metadata": {
        "id": "HruyeIlMcQlE",
        "colab": {
          "base_uri": "https://localhost:8080/",
          "height": 802
        },
        "outputId": "6b304d34-33ff-4760-fd97-807f772716ae"
      },
      "source": [
        "x1 = np.array([1,1,2,2,2.5,3,3,3.5,4,5,5,6,6,6.5,7,7,8,8,9,9,9.5,10,10,10])\n",
        "x2 = np.array([1,1.5,2.5,2.8,3,3.2,3.5,3,4.5,5,6,5.5,6.2,7,6.5,7.2,8,8.2,8.5,9.3,9,9,9.4,9.8])\n",
        "y = np.array([1.5,2,5,4.5,5.7,6,6.8,7,9,9.5,10.8,11,12.5,14,13.2,13.5,15,15.7,20,18,19,18.7,20,20.5])\n",
        "df = pd.DataFrame({\"x1\":x1, \"x2\": x2, \"y\":y}, dtype = \"float64\")\n",
        "df"
      ],
      "execution_count": null,
      "outputs": [
        {
          "output_type": "execute_result",
          "data": {
            "text/html": [
              "<div>\n",
              "<style scoped>\n",
              "    .dataframe tbody tr th:only-of-type {\n",
              "        vertical-align: middle;\n",
              "    }\n",
              "\n",
              "    .dataframe tbody tr th {\n",
              "        vertical-align: top;\n",
              "    }\n",
              "\n",
              "    .dataframe thead th {\n",
              "        text-align: right;\n",
              "    }\n",
              "</style>\n",
              "<table border=\"1\" class=\"dataframe\">\n",
              "  <thead>\n",
              "    <tr style=\"text-align: right;\">\n",
              "      <th></th>\n",
              "      <th>x1</th>\n",
              "      <th>x2</th>\n",
              "      <th>y</th>\n",
              "    </tr>\n",
              "  </thead>\n",
              "  <tbody>\n",
              "    <tr>\n",
              "      <th>0</th>\n",
              "      <td>1.0</td>\n",
              "      <td>1.0</td>\n",
              "      <td>1.5</td>\n",
              "    </tr>\n",
              "    <tr>\n",
              "      <th>1</th>\n",
              "      <td>1.0</td>\n",
              "      <td>1.5</td>\n",
              "      <td>2.0</td>\n",
              "    </tr>\n",
              "    <tr>\n",
              "      <th>2</th>\n",
              "      <td>2.0</td>\n",
              "      <td>2.5</td>\n",
              "      <td>5.0</td>\n",
              "    </tr>\n",
              "    <tr>\n",
              "      <th>3</th>\n",
              "      <td>2.0</td>\n",
              "      <td>2.8</td>\n",
              "      <td>4.5</td>\n",
              "    </tr>\n",
              "    <tr>\n",
              "      <th>4</th>\n",
              "      <td>2.5</td>\n",
              "      <td>3.0</td>\n",
              "      <td>5.7</td>\n",
              "    </tr>\n",
              "    <tr>\n",
              "      <th>5</th>\n",
              "      <td>3.0</td>\n",
              "      <td>3.2</td>\n",
              "      <td>6.0</td>\n",
              "    </tr>\n",
              "    <tr>\n",
              "      <th>6</th>\n",
              "      <td>3.0</td>\n",
              "      <td>3.5</td>\n",
              "      <td>6.8</td>\n",
              "    </tr>\n",
              "    <tr>\n",
              "      <th>7</th>\n",
              "      <td>3.5</td>\n",
              "      <td>3.0</td>\n",
              "      <td>7.0</td>\n",
              "    </tr>\n",
              "    <tr>\n",
              "      <th>8</th>\n",
              "      <td>4.0</td>\n",
              "      <td>4.5</td>\n",
              "      <td>9.0</td>\n",
              "    </tr>\n",
              "    <tr>\n",
              "      <th>9</th>\n",
              "      <td>5.0</td>\n",
              "      <td>5.0</td>\n",
              "      <td>9.5</td>\n",
              "    </tr>\n",
              "    <tr>\n",
              "      <th>10</th>\n",
              "      <td>5.0</td>\n",
              "      <td>6.0</td>\n",
              "      <td>10.8</td>\n",
              "    </tr>\n",
              "    <tr>\n",
              "      <th>11</th>\n",
              "      <td>6.0</td>\n",
              "      <td>5.5</td>\n",
              "      <td>11.0</td>\n",
              "    </tr>\n",
              "    <tr>\n",
              "      <th>12</th>\n",
              "      <td>6.0</td>\n",
              "      <td>6.2</td>\n",
              "      <td>12.5</td>\n",
              "    </tr>\n",
              "    <tr>\n",
              "      <th>13</th>\n",
              "      <td>6.5</td>\n",
              "      <td>7.0</td>\n",
              "      <td>14.0</td>\n",
              "    </tr>\n",
              "    <tr>\n",
              "      <th>14</th>\n",
              "      <td>7.0</td>\n",
              "      <td>6.5</td>\n",
              "      <td>13.2</td>\n",
              "    </tr>\n",
              "    <tr>\n",
              "      <th>15</th>\n",
              "      <td>7.0</td>\n",
              "      <td>7.2</td>\n",
              "      <td>13.5</td>\n",
              "    </tr>\n",
              "    <tr>\n",
              "      <th>16</th>\n",
              "      <td>8.0</td>\n",
              "      <td>8.0</td>\n",
              "      <td>15.0</td>\n",
              "    </tr>\n",
              "    <tr>\n",
              "      <th>17</th>\n",
              "      <td>8.0</td>\n",
              "      <td>8.2</td>\n",
              "      <td>15.7</td>\n",
              "    </tr>\n",
              "    <tr>\n",
              "      <th>18</th>\n",
              "      <td>9.0</td>\n",
              "      <td>8.5</td>\n",
              "      <td>20.0</td>\n",
              "    </tr>\n",
              "    <tr>\n",
              "      <th>19</th>\n",
              "      <td>9.0</td>\n",
              "      <td>9.3</td>\n",
              "      <td>18.0</td>\n",
              "    </tr>\n",
              "    <tr>\n",
              "      <th>20</th>\n",
              "      <td>9.5</td>\n",
              "      <td>9.0</td>\n",
              "      <td>19.0</td>\n",
              "    </tr>\n",
              "    <tr>\n",
              "      <th>21</th>\n",
              "      <td>10.0</td>\n",
              "      <td>9.0</td>\n",
              "      <td>18.7</td>\n",
              "    </tr>\n",
              "    <tr>\n",
              "      <th>22</th>\n",
              "      <td>10.0</td>\n",
              "      <td>9.4</td>\n",
              "      <td>20.0</td>\n",
              "    </tr>\n",
              "    <tr>\n",
              "      <th>23</th>\n",
              "      <td>10.0</td>\n",
              "      <td>9.8</td>\n",
              "      <td>20.5</td>\n",
              "    </tr>\n",
              "  </tbody>\n",
              "</table>\n",
              "</div>"
            ],
            "text/plain": [
              "      x1   x2     y\n",
              "0    1.0  1.0   1.5\n",
              "1    1.0  1.5   2.0\n",
              "2    2.0  2.5   5.0\n",
              "3    2.0  2.8   4.5\n",
              "4    2.5  3.0   5.7\n",
              "5    3.0  3.2   6.0\n",
              "6    3.0  3.5   6.8\n",
              "7    3.5  3.0   7.0\n",
              "8    4.0  4.5   9.0\n",
              "9    5.0  5.0   9.5\n",
              "10   5.0  6.0  10.8\n",
              "11   6.0  5.5  11.0\n",
              "12   6.0  6.2  12.5\n",
              "13   6.5  7.0  14.0\n",
              "14   7.0  6.5  13.2\n",
              "15   7.0  7.2  13.5\n",
              "16   8.0  8.0  15.0\n",
              "17   8.0  8.2  15.7\n",
              "18   9.0  8.5  20.0\n",
              "19   9.0  9.3  18.0\n",
              "20   9.5  9.0  19.0\n",
              "21  10.0  9.0  18.7\n",
              "22  10.0  9.4  20.0\n",
              "23  10.0  9.8  20.5"
            ]
          },
          "metadata": {},
          "execution_count": 37
        }
      ]
    },
    {
      "cell_type": "code",
      "metadata": {
        "id": "y32yjd7nfXnn",
        "colab": {
          "base_uri": "https://localhost:8080/",
          "height": 463
        },
        "outputId": "47f081de-17f4-43d4-c854-2653ec7fd8b1"
      },
      "source": [
        "from mpl_toolkits.mplot3d import Axes3D\n",
        "fig = plt.figure(figsize=(8, 6))   \n",
        "ax = Axes3D(fig)\n",
        "\n",
        "x1 = df[\"x1\"]                            \n",
        "x2 = df[\"x2\"]                        \n",
        "y = df[\"y\"] \n",
        "\n",
        "ax.scatter(x1, x2, y, c='b')\n",
        "ax.set_xlabel('x1')       \n",
        "ax.set_ylabel('x2')       \n",
        "ax.set_zlabel('y'); "
      ],
      "execution_count": null,
      "outputs": [
        {
          "output_type": "display_data",
          "data": {
            "image/png": "[encoded data removed]",
            "text/plain": [
              "<Figure size 576x432 with 1 Axes>"
            ]
          },
          "metadata": {
            "needs_background": "light"
          }
        }
      ]
    },
    {
      "cell_type": "code",
      "metadata": {
        "id": "jCOMPCF9fg8o"
      },
      "source": [
        "X_multiple=pd.DataFrame({\"x1\":x1, \"x2\": x2}, dtype = \"float64\")\n",
        "y_multiple=pd.DataFrame({\"y\":y}, dtype = \"float64\")"
      ],
      "execution_count": null,
      "outputs": []
    },
    {
      "cell_type": "code",
      "metadata": {
        "id": "tYvJLjZ4shJu"
      },
      "source": [
        "from sklearn.model_selection import train_test_split\n",
        "X_train, X_test, y_train, y_test = train_test_split(X_multiple, y_multiple, test_size=0.3)"
      ],
      "execution_count": null,
      "outputs": []
    },
    {
      "cell_type": "code",
      "metadata": {
        "id": "Y072b9_0tUX4"
      },
      "source": [
        "lr_multiple = linear_model.LinearRegression()"
      ],
      "execution_count": null,
      "outputs": []
    },
    {
      "cell_type": "code",
      "metadata": {
        "id": "6OH0AMKltYf_",
        "colab": {
          "base_uri": "https://localhost:8080/"
        },
        "outputId": "b279c3e9-6b6a-48ee-ddc1-291cb0ea96e5"
      },
      "source": [
        "lr_multiple.fit(X_train, y_train)"
      ],
      "execution_count": null,
      "outputs": [
        {
          "output_type": "execute_result",
          "data": {
            "text/plain": [
              "LinearRegression()"
            ]
          },
          "metadata": {},
          "execution_count": 42
        }
      ]
    },
    {
      "cell_type": "code",
      "metadata": {
        "id": "_tk8F5O3tkV8"
      },
      "source": [
        "Y_pred_multiple = lr_multiple.predict(X_test)"
      ],
      "execution_count": null,
      "outputs": []
    },
    {
      "cell_type": "code",
      "metadata": {
        "id": "rYlYqjoutqaR",
        "colab": {
          "base_uri": "https://localhost:8080/"
        },
        "outputId": "5ebb2950-0c17-4b7d-ffc4-148979e61722"
      },
      "source": [
        "print('DATOS DEL MODELO REGRESIÓN LINEAL MULTIPLE')\n",
        "print()\n",
        "print('Valor de las pendientes o coeficientes \"a\":')\n",
        "print(lr_multiple.coef_)\n",
        "print('Valor de la intersección o coeficiente \"b\":')\n",
        "print(lr_multiple.intercept_)"
      ],
      "execution_count": null,
      "outputs": [
        {
          "output_type": "stream",
          "name": "stdout",
          "text": [
            "DATOS DEL MODELO REGRESIÓN LINEAL MULTIPLE\n",
            "\n",
            "Valor de las pendientes o coeficientes \"a\":\n",
            "[[1.13142321 0.91690977]]\n",
            "Valor de la intersección o coeficiente \"b\":\n",
            "[-0.23803397]\n"
          ]
        }
      ]
    },
    {
      "cell_type": "code",
      "metadata": {
        "id": "LQxD5fcPt0Lg",
        "colab": {
          "base_uri": "https://localhost:8080/"
        },
        "outputId": "59d3ff21-58f4-4777-83fa-e45bbda94832"
      },
      "source": [
        "print('Precisión del modelo:')\n",
        "print(lr_multiple.score(X_train, y_train))"
      ],
      "execution_count": null,
      "outputs": [
        {
          "output_type": "stream",
          "name": "stdout",
          "text": [
            "Precisión del modelo:\n",
            "0.9856295983101612\n"
          ]
        }
      ]
    }
  ]
}