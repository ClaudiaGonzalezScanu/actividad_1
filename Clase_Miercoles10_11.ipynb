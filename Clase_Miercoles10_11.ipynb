{
  "nbformat": 4,
  "nbformat_minor": 0,
  "metadata": {
    "colab": {
      "name": "Clase_Miercoles10-11.ipynb",
      "provenance": [],
      "collapsed_sections": [],
      "include_colab_link": true
    },
    "kernelspec": {
      "name": "python3",
      "display_name": "Python 3"
    },
    "language_info": {
      "name": "python"
    }
  },
  "cells": [
    {
      "cell_type": "markdown",
      "metadata": {
        "id": "view-in-github",
        "colab_type": "text"
      },
      "source": [
        "<a href=\"https://colab.research.google.com/github/ClaudiaGonzalezScanu/aprendiendo_python/blob/main/Clase_Miercoles10_11.ipynb\" target=\"_parent\"><img src=\"https://colab.research.google.com/assets/colab-badge.svg\" alt=\"Open In Colab\"/></a>"
      ]
    },
    {
      "cell_type": "code",
      "metadata": {
        "colab": {
          "base_uri": "https://localhost:8080/"
        },
        "id": "Wnhu-F82H2Iw",
        "outputId": "04914321-c055-4d31-a53e-04f1e52885c1"
      },
      "source": [
        "import numpy as np\n",
        "A = []\n",
        "i = 0\n",
        "while(i <20):\n",
        "    A.append(np.random.randint(1,10))\n",
        "    i += 1\n",
        "print(A)"
      ],
      "execution_count": null,
      "outputs": [
        {
          "output_type": "stream",
          "name": "stdout",
          "text": [
            "[9, 9, 3, 8, 7, 4, 8, 2, 2, 3, 5, 2, 1, 3, 7, 3, 2, 4, 1, 8]\n"
          ]
        }
      ]
    },
    {
      "cell_type": "code",
      "metadata": {
        "colab": {
          "base_uri": "https://localhost:8080/"
        },
        "id": "_R93tJIhICEf",
        "outputId": "74aa945f-ca41-4b8b-d0bd-894ccbd7f3d8"
      },
      "source": [
        "for num in A:\n",
        "  print(num)"
      ],
      "execution_count": null,
      "outputs": [
        {
          "output_type": "stream",
          "name": "stdout",
          "text": [
            "9\n",
            "9\n",
            "3\n",
            "8\n",
            "7\n",
            "4\n",
            "8\n",
            "2\n",
            "2\n",
            "3\n",
            "5\n",
            "2\n",
            "1\n",
            "3\n",
            "7\n",
            "3\n",
            "2\n",
            "4\n",
            "1\n",
            "8\n"
          ]
        }
      ]
    },
    {
      "cell_type": "code",
      "metadata": {
        "colab": {
          "base_uri": "https://localhost:8080/"
        },
        "id": "m-36zoHYH7xm",
        "outputId": "f0bae7b5-399b-4ea7-b3cf-3736af2b2b12"
      },
      "source": [
        "for letra in \"Hola Mundo\":\n",
        "  print(letra)"
      ],
      "execution_count": null,
      "outputs": [
        {
          "output_type": "stream",
          "name": "stdout",
          "text": [
            "H\n",
            "o\n",
            "l\n",
            "a\n",
            " \n",
            "M\n",
            "u\n",
            "n\n",
            "d\n",
            "o\n"
          ]
        }
      ]
    },
    {
      "cell_type": "code",
      "metadata": {
        "colab": {
          "base_uri": "https://localhost:8080/"
        },
        "id": "DWb-pAudz_hv",
        "outputId": "65920e0d-fb6b-4ff1-c855-a11b3c533806"
      },
      "source": [
        "A = []\n",
        "i = 0\n",
        "while True:\n",
        "    nombre=input(\"Ingrese nombre: \")\n",
        "    A.append(nombre)\n",
        "    resp=input(\"Desea continuar [s/n]?\")\n",
        "    if resp==\"n\":\n",
        "      break\n",
        "    i += 1\n",
        "A"
      ],
      "execution_count": null,
      "outputs": [
        {
          "name": "stdout",
          "output_type": "stream",
          "text": [
            "Ingrese nombre: Marta\n",
            "Desea continuar [s/n]?s\n",
            "Ingrese nombre: Katherina\n",
            "Desea continuar [s/n]?s\n",
            "Ingrese nombre: Eugenia\n",
            "Desea continuar [s/n]?s\n",
            "Ingrese nombre: Ivanna\n",
            "Desea continuar [s/n]?s\n",
            "Ingrese nombre: Carla\n",
            "Desea continuar [s/n]?n\n"
          ]
        },
        {
          "output_type": "execute_result",
          "data": {
            "text/plain": [
              "['Marta', 'Katherina', 'Eugenia', 'Ivanna', 'Carla']"
            ]
          },
          "metadata": {},
          "execution_count": 9
        }
      ]
    },
    {
      "cell_type": "code",
      "metadata": {
        "colab": {
          "base_uri": "https://localhost:8080/"
        },
        "id": "NENYxhjuJpoy",
        "outputId": "7bc6cc93-eabb-47be-9732-61c99b398bea"
      },
      "source": [
        "for nombre in A:\n",
        "  print(nombre)"
      ],
      "execution_count": null,
      "outputs": [
        {
          "output_type": "stream",
          "name": "stdout",
          "text": [
            "Marta\n",
            "Katherina\n",
            "Eugenia\n",
            "Ivanna\n",
            "Carla\n"
          ]
        }
      ]
    },
    {
      "cell_type": "code",
      "metadata": {
        "colab": {
          "base_uri": "https://localhost:8080/"
        },
        "id": "0pasoQEpJy4a",
        "outputId": "19252f56-c863-434f-8649-151b0f0dd4e6"
      },
      "source": [
        "A.append(\"Priscilla\")\n",
        "A"
      ],
      "execution_count": null,
      "outputs": [
        {
          "output_type": "execute_result",
          "data": {
            "text/plain": [
              "['Marta', 'Katherina', 'Eugenia', 'Ivanna', 'Carla', 'Priscilla', 'Priscilla']"
            ]
          },
          "metadata": {},
          "execution_count": 12
        }
      ]
    },
    {
      "cell_type": "code",
      "metadata": {
        "id": "XKKfKje-LBtr"
      },
      "source": [
        "A.append(\"Carla\")"
      ],
      "execution_count": null,
      "outputs": []
    },
    {
      "cell_type": "code",
      "metadata": {
        "colab": {
          "base_uri": "https://localhost:8080/",
          "height": 36
        },
        "id": "0fEZ6AIRJ4H-",
        "outputId": "152f1e27-62dd-4152-fe69-5fd3c0b15f41"
      },
      "source": [
        "A[1]"
      ],
      "execution_count": null,
      "outputs": [
        {
          "output_type": "execute_result",
          "data": {
            "application/vnd.google.colaboratory.intrinsic+json": {
              "type": "string"
            },
            "text/plain": [
              "'Katherina'"
            ]
          },
          "metadata": {},
          "execution_count": 13
        }
      ]
    },
    {
      "cell_type": "code",
      "metadata": {
        "colab": {
          "base_uri": "https://localhost:8080/"
        },
        "id": "lLsfE8K22N1v",
        "outputId": "c16bb931-75cf-42fb-8045-fd3eb3657f53"
      },
      "source": [
        "nombre=input(\"Ingrese nombre a buscar:\")\n",
        "pos=0\n",
        "for name in A:\n",
        "  if name==nombre:\n",
        "    print(nombre,\"se encuentra en el listado!, en la posición\",pos)\n",
        "  pos +=1\n"
      ],
      "execution_count": null,
      "outputs": [
        {
          "output_type": "stream",
          "name": "stdout",
          "text": [
            "Ingrese nombre a buscar:Carla\n",
            "Carla se encuentra en el listado!, en la posición 4\n",
            "Carla se encuentra en el listado!, en la posición 7\n"
          ]
        }
      ]
    },
    {
      "cell_type": "code",
      "metadata": {
        "colab": {
          "base_uri": "https://localhost:8080/"
        },
        "id": "SI6tHIftUzN4",
        "outputId": "a49cd95e-4b34-4664-ea7d-c124a14be829"
      },
      "source": [
        "names=[]\n",
        "phones=[]\n",
        "i = 0\n",
        "while True:\n",
        "    nombre=input(\"Ingrese nombre: \")\n",
        "    names.append(nombre)\n",
        "    fono=input(\"Ingrese nombre: \")\n",
        "    phones.append(fono)\n",
        "    resp=input(\"Desea continuar [s/n]?\")\n",
        "    if resp==\"n\":\n",
        "      break\n",
        "    i += 1\n",
        "print(names,phones)"
      ],
      "execution_count": null,
      "outputs": [
        {
          "output_type": "stream",
          "name": "stdout",
          "text": [
            "Ingrese nombre: juan\n",
            "Ingrese nombre: 123456\n",
            "Desea continuar [s/n]?s\n",
            "Ingrese nombre: maria\n",
            "Ingrese nombre: 76543\n",
            "Desea continuar [s/n]?s\n",
            "Ingrese nombre: lis\n",
            "Ingrese nombre: 654432\n",
            "Desea continuar [s/n]?n\n",
            "['juan', 'maria', 'lis'] ['123456', '76543', '654432']\n"
          ]
        }
      ]
    },
    {
      "cell_type": "code",
      "metadata": {
        "colab": {
          "base_uri": "https://localhost:8080/"
        },
        "id": "UoUnorQMVAlG",
        "outputId": "3502fb80-c5ec-468e-8bad-37f1779c1443"
      },
      "source": [
        "i=0\n",
        "while i<len(names):\n",
        "  print(i,names[i],phones[i])\n",
        "  i += 1"
      ],
      "execution_count": null,
      "outputs": [
        {
          "output_type": "stream",
          "name": "stdout",
          "text": [
            "0 juan 123456\n",
            "1 maria 76543\n",
            "2 lis 654432\n"
          ]
        }
      ]
    },
    {
      "cell_type": "markdown",
      "metadata": {
        "id": "JY2XL0dyirez"
      },
      "source": [
        "Ejercicio 3"
      ]
    },
    {
      "cell_type": "code",
      "metadata": {
        "colab": {
          "base_uri": "https://localhost:8080/"
        },
        "id": "WedaBSQZhRcW",
        "outputId": "2d930bdc-1543-4f48-937a-1ffa19a85a76"
      },
      "source": [
        "names=[\"Juan\",\"Maite\",\"Antonio\",\"Paola\",\"Rosa\"]\n",
        "for nombre in names:\n",
        "  if nombre==\"Antonio\": \n",
        "    continue\n",
        "  print(\"Hello\",nombre)\n",
        "print(\"Done!\")\n"
      ],
      "execution_count": null,
      "outputs": [
        {
          "output_type": "stream",
          "name": "stdout",
          "text": [
            "Hello Juan\n",
            "Hello Maite\n",
            "Hello Paola\n",
            "Hello Rosa\n",
            "Done!\n"
          ]
        }
      ]
    },
    {
      "cell_type": "code",
      "metadata": {
        "colab": {
          "base_uri": "https://localhost:8080/"
        },
        "id": "g2ijzfSqiKce",
        "outputId": "accb7e54-482c-41fb-f98b-6d00b48f27db"
      },
      "source": [
        "names=[\"Juan\",\"Maite\",\"Antonio\",\"Paola\",\"Rosa\"]\n",
        "for nombre in names:\n",
        "  if nombre==\"Antonio\": \n",
        "    continue\n",
        "  print(\"Hello\",nombre)\n",
        "  if nombre==\"Paola\":\n",
        "    break\n",
        "print(\"Done!\")\n"
      ],
      "execution_count": null,
      "outputs": [
        {
          "output_type": "stream",
          "name": "stdout",
          "text": [
            "Hello Juan\n",
            "Hello Maite\n",
            "Hello Paola\n",
            "Done!\n"
          ]
        }
      ]
    },
    {
      "cell_type": "markdown",
      "metadata": {
        "id": "axMpwYY5iw3K"
      },
      "source": [
        "Ejercicio 4"
      ]
    },
    {
      "cell_type": "code",
      "metadata": {
        "colab": {
          "base_uri": "https://localhost:8080/"
        },
        "id": "11AnA-1siwEk",
        "outputId": "b30e35ca-3523-4d0d-faf2-3bc242d6550d"
      },
      "source": [
        "while True:\n",
        "  numero=int(input(\"Ingrese numero: \"))\n",
        "  if numero == 0:\n",
        "    break\n",
        "  print(numero)\n",
        "  "
      ],
      "execution_count": null,
      "outputs": [
        {
          "name": "stdout",
          "output_type": "stream",
          "text": [
            "Ingrese numero: 3\n",
            "3\n",
            "Ingrese numero: 4\n",
            "4\n",
            "Ingrese numero: 6\n",
            "6\n",
            "Ingrese numero: 7\n",
            "7\n",
            "Ingrese numero: 100\n",
            "100\n",
            "Ingrese numero: 0\n"
          ]
        }
      ]
    },
    {
      "cell_type": "markdown",
      "metadata": {
        "id": "pbITm_5al68I"
      },
      "source": [
        "Ejercicio 5\n"
      ]
    },
    {
      "cell_type": "code",
      "metadata": {
        "colab": {
          "base_uri": "https://localhost:8080/"
        },
        "id": "OyzN6hZyl-du",
        "outputId": "6d214e65-170b-4c64-a37f-bb2974683c94"
      },
      "source": [
        "gasto=int(input(\"Ingrese gasto: \"))\n",
        "if gasto<10000:\n",
        "  print(\"Pago en EFECTIVO!\")\n",
        "else:\n",
        "  if gasto>=10000 and gasto<30000:\n",
        "    print(\"Pago con Tarjeta de debito\")\n",
        "  else:\n",
        "    print(\"Pago con TC\")\n"
      ],
      "execution_count": null,
      "outputs": [
        {
          "output_type": "stream",
          "name": "stdout",
          "text": [
            "Ingrese gasto: 50000\n",
            "Pago con TC\n"
          ]
        }
      ]
    },
    {
      "cell_type": "code",
      "metadata": {
        "colab": {
          "base_uri": "https://localhost:8080/"
        },
        "id": "fdmOi6Xnm1Yz",
        "outputId": "2db8970d-ca29-4f16-910e-f20530177655"
      },
      "source": [
        "gasto=int(input(\"Ingrese gasto: \"))\n",
        "if gasto<10000:\n",
        "  print(\"Pago en EFECTIVO!\")\n",
        "if gasto>=10000 and gasto<30000:\n",
        "    print(\"Pago con Tarjeta de debito\")\n",
        "if gasto>=30000:\n",
        "    print(\"Pago con TC\")"
      ],
      "execution_count": null,
      "outputs": [
        {
          "output_type": "stream",
          "name": "stdout",
          "text": [
            "Ingrese gasto: 50000\n",
            "Pago con TC\n"
          ]
        }
      ]
    }
  ]
}