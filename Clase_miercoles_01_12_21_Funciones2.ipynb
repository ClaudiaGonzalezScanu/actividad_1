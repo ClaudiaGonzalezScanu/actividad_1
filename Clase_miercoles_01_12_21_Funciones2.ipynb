{
  "nbformat": 4,
  "nbformat_minor": 0,
  "metadata": {
    "colab": {
      "name": "Clase_miercoles_01.12.21_Funciones2.ipynb",
      "provenance": [],
      "collapsed_sections": [],
      "include_colab_link": true
    },
    "kernelspec": {
      "name": "python3",
      "display_name": "Python 3"
    },
    "language_info": {
      "name": "python"
    }
  },
  "cells": [
    {
      "cell_type": "markdown",
      "metadata": {
        "id": "view-in-github",
        "colab_type": "text"
      },
      "source": [
        "<a href=\"https://colab.research.google.com/github/ClaudiaGonzalezScanu/aprendiendo_python/blob/main/Clase_miercoles_01_12_21_Funciones2.ipynb\" target=\"_parent\"><img src=\"https://colab.research.google.com/assets/colab-badge.svg\" alt=\"Open In Colab\"/></a>"
      ]
    },
    {
      "cell_type": "markdown",
      "metadata": {
        "id": "vKyvGYPHMNOP"
      },
      "source": [
        "**LOS MÉTODOS APPLY() Y TRANSFORM()**"
      ]
    },
    {
      "cell_type": "markdown",
      "metadata": {
        "id": "_t1PysDAMdTZ"
      },
      "source": [
        "Ambos métodos, **apply()** y **transform()**, pueden operar en columnas individuales y en todo el DataFrame. \n",
        "El método **apply()** aplica la función a lo largo de un eje especificado, pasando las columnas como un DataFrame a la función personalizada.\n",
        "Por su parte, el método **transform()** pasa las columnas individuales como PANDAS Series a la función personalizada."
      ]
    },
    {
      "cell_type": "code",
      "metadata": {
        "id": "fY3wRcCsJJgl"
      },
      "source": [
        "import pandas as pd\n",
        "import numpy as np"
      ],
      "execution_count": null,
      "outputs": []
    },
    {
      "cell_type": "code",
      "metadata": {
        "colab": {
          "base_uri": "https://localhost:8080/"
        },
        "id": "Luinx2WHJN2V",
        "outputId": "57db0cc1-ff06-496b-80e0-7cdc5b7787c4"
      },
      "source": [
        "df = pd.DataFrame([[1,2,3], \n",
        "                   [4,5,6], \n",
        "                   [7,8,9]], \n",
        "                  columns=['A','B','C'])\n",
        "print (df)"
      ],
      "execution_count": null,
      "outputs": [
        {
          "output_type": "stream",
          "name": "stdout",
          "text": [
            "   A  B  C\n",
            "0  1  2  3\n",
            "1  4  5  6\n",
            "2  7  8  9\n"
          ]
        }
      ]
    },
    {
      "cell_type": "code",
      "metadata": {
        "id": "fA42HBWvJZiV"
      },
      "source": [
        "def suma_2(num):\n",
        "  return num+2"
      ],
      "execution_count": null,
      "outputs": []
    },
    {
      "cell_type": "markdown",
      "metadata": {
        "id": "LWvpiuzRKZ-j"
      },
      "source": [
        "Aplicar una función a TODOS los datos de un DataFrame usando el método apply():"
      ]
    },
    {
      "cell_type": "code",
      "metadata": {
        "colab": {
          "base_uri": "https://localhost:8080/"
        },
        "id": "O_ZlEXR-JqKa",
        "outputId": "88a63661-fc97-4e3d-e4b9-67baf286e8a5"
      },
      "source": [
        "df = df.apply(suma_2)\n",
        "print(df)"
      ],
      "execution_count": null,
      "outputs": [
        {
          "output_type": "stream",
          "name": "stdout",
          "text": [
            "   A   B   C\n",
            "0  3   4   5\n",
            "1  6   7   8\n",
            "2  9  10  11\n"
          ]
        }
      ]
    },
    {
      "cell_type": "markdown",
      "metadata": {
        "id": "eOC8tCmzL0si"
      },
      "source": [
        "Aplicar una función a TODOS los datos de un DataFrame usando el método transform():"
      ]
    },
    {
      "cell_type": "code",
      "metadata": {
        "colab": {
          "base_uri": "https://localhost:8080/"
        },
        "id": "y6LWKVMtL4dZ",
        "outputId": "ecf6bd44-6cb5-4ffb-9971-72810e69964e"
      },
      "source": [
        "df = df.transform(suma_2)\n",
        "print(df)"
      ],
      "execution_count": null,
      "outputs": [
        {
          "output_type": "stream",
          "name": "stdout",
          "text": [
            "    A   B   C\n",
            "0   5   6   7\n",
            "1   8   9  10\n",
            "2  11  12  13\n"
          ]
        }
      ]
    },
    {
      "cell_type": "markdown",
      "metadata": {
        "id": "Wy0XIUeKKzll"
      },
      "source": [
        " Aplicar una función  a lo largo de una sola columna del DataFrame, usando el método apply():"
      ]
    },
    {
      "cell_type": "code",
      "metadata": {
        "colab": {
          "base_uri": "https://localhost:8080/"
        },
        "id": "GF3z227-K6XC",
        "outputId": "1feefbdb-3423-4a14-9b3e-f69016b74466"
      },
      "source": [
        "df['A'] = df['A'].apply(suma_2)\n",
        "print (df)"
      ],
      "execution_count": null,
      "outputs": [
        {
          "output_type": "stream",
          "name": "stdout",
          "text": [
            "    A   B   C\n",
            "0   7   6   7\n",
            "1  10   9  10\n",
            "2  13  12  13\n"
          ]
        }
      ]
    },
    {
      "cell_type": "markdown",
      "metadata": {
        "id": "FnFh_xuyLKFV"
      },
      "source": [
        "Aplicar una función a lo largo de una sola columna del DataFrame, usando el método transform():"
      ]
    },
    {
      "cell_type": "code",
      "metadata": {
        "colab": {
          "base_uri": "https://localhost:8080/"
        },
        "id": "lmzIKQGvLVsh",
        "outputId": "728b9a30-e549-4fb7-b826-1753592765c0"
      },
      "source": [
        "df['A']=df['A'].transform(suma_2)\n",
        "print (df)"
      ],
      "execution_count": null,
      "outputs": [
        {
          "output_type": "stream",
          "name": "stdout",
          "text": [
            "    A   B   C\n",
            "0   9   6   7\n",
            "1  12   9  10\n",
            "2  15  12  13\n"
          ]
        }
      ]
    },
    {
      "cell_type": "markdown",
      "metadata": {
        "id": "TK4opxPcPh_U"
      },
      "source": [
        "Por ejemplo, consideremos el siguiente DataFrame con las ventas de los productos A, B, C y D a lo largo de los meses de enero, febrero y marzo:"
      ]
    },
    {
      "cell_type": "code",
      "metadata": {
        "colab": {
          "base_uri": "https://localhost:8080/",
          "height": 143
        },
        "id": "b1xxhfr0Ouu-",
        "outputId": "334f6f50-a9cb-4a82-b9db-80572a6c7a88"
      },
      "source": [
        "ventas=pd.DataFrame({\"A\":[3,3,1],\n",
        "                     \"B\":[1,5,2],\n",
        "                     \"C\":[3,7,2],\n",
        "                     \"D\":[7,2,3]},\n",
        "                     index=[\"Ene\",\"Feb\",\"Mar\"])\n",
        "ventas"
      ],
      "execution_count": null,
      "outputs": [
        {
          "output_type": "execute_result",
          "data": {
            "text/html": [
              "<div>\n",
              "<style scoped>\n",
              "    .dataframe tbody tr th:only-of-type {\n",
              "        vertical-align: middle;\n",
              "    }\n",
              "\n",
              "    .dataframe tbody tr th {\n",
              "        vertical-align: top;\n",
              "    }\n",
              "\n",
              "    .dataframe thead th {\n",
              "        text-align: right;\n",
              "    }\n",
              "</style>\n",
              "<table border=\"1\" class=\"dataframe\">\n",
              "  <thead>\n",
              "    <tr style=\"text-align: right;\">\n",
              "      <th></th>\n",
              "      <th>A</th>\n",
              "      <th>B</th>\n",
              "      <th>C</th>\n",
              "      <th>D</th>\n",
              "    </tr>\n",
              "  </thead>\n",
              "  <tbody>\n",
              "    <tr>\n",
              "      <th>Ene</th>\n",
              "      <td>3</td>\n",
              "      <td>1</td>\n",
              "      <td>3</td>\n",
              "      <td>7</td>\n",
              "    </tr>\n",
              "    <tr>\n",
              "      <th>Feb</th>\n",
              "      <td>3</td>\n",
              "      <td>5</td>\n",
              "      <td>7</td>\n",
              "      <td>2</td>\n",
              "    </tr>\n",
              "    <tr>\n",
              "      <th>Mar</th>\n",
              "      <td>1</td>\n",
              "      <td>2</td>\n",
              "      <td>2</td>\n",
              "      <td>3</td>\n",
              "    </tr>\n",
              "  </tbody>\n",
              "</table>\n",
              "</div>"
            ],
            "text/plain": [
              "     A  B  C  D\n",
              "Ene  3  1  3  7\n",
              "Feb  3  5  7  2\n",
              "Mar  1  2  2  3"
            ]
          },
          "metadata": {},
          "execution_count": 6
        }
      ]
    },
    {
      "cell_type": "markdown",
      "metadata": {
        "id": "hHJxJn1GPtlz"
      },
      "source": [
        "Podríamos estar interesados en calcular el rango en el que se mueven las ventas, es decir, la diferencia entre el mayor y el menor valor de ventas."
      ]
    },
    {
      "cell_type": "markdown",
      "metadata": {
        "id": "Lgs8Dyk5QALl"
      },
      "source": [
        "Sabiendo que dicho rango se va a aplicar a una fila o a una columna -es decir, a una serie-, definimos la siguiente función:"
      ]
    },
    {
      "cell_type": "code",
      "metadata": {
        "id": "lT2wUNUsP0eP"
      },
      "source": [
        "def rango(s):\n",
        "  return max(s)-min(s)"
      ],
      "execution_count": null,
      "outputs": []
    },
    {
      "cell_type": "markdown",
      "metadata": {
        "id": "WpHaiLswQHm1"
      },
      "source": [
        "Ahora podemos aplicar esta función a nuestro DataFrame de ventas. Por defecto se va a aplicar al eje 0 (eje vertical), es decir, se va a aplicar a las columnas del DataFrame:"
      ]
    },
    {
      "cell_type": "code",
      "metadata": {
        "colab": {
          "base_uri": "https://localhost:8080/"
        },
        "id": "dT3oA_UXQMNK",
        "outputId": "157b2644-38fd-48ba-d299-bf3a6723b53a"
      },
      "source": [
        "ventas.apply(rango)"
      ],
      "execution_count": null,
      "outputs": [
        {
          "output_type": "execute_result",
          "data": {
            "text/plain": [
              "A    2\n",
              "B    4\n",
              "C    5\n",
              "D    5\n",
              "dtype: int64"
            ]
          },
          "metadata": {},
          "execution_count": 9
        }
      ]
    },
    {
      "cell_type": "markdown",
      "metadata": {
        "id": "6Ch_N6QOQU5w"
      },
      "source": [
        "Si nos fijamos en la columna A, el valor máximo es 3 y el mínimo es 1, de forma que su diferencia es 2, tal y como se muestra en el resultado del método apply, y así para TODAS laas columnas."
      ]
    },
    {
      "cell_type": "markdown",
      "metadata": {
        "id": "fEnYl9JAQaCx"
      },
      "source": [
        "Si aplicamos el método a lo largo del eje 1 (eje horizontal), obtendremos la diferencia entre el mayor y el menor valor de cada una de las filas del DataFrame:"
      ]
    },
    {
      "cell_type": "code",
      "metadata": {
        "colab": {
          "base_uri": "https://localhost:8080/"
        },
        "id": "zjAHH2_eQcNY",
        "outputId": "24dc10ec-51fd-440d-e405-91f28ea51667"
      },
      "source": [
        "ventas.apply(rango,axis=1)"
      ],
      "execution_count": null,
      "outputs": [
        {
          "output_type": "execute_result",
          "data": {
            "text/plain": [
              "Ene    6\n",
              "Feb    5\n",
              "Mar    2\n",
              "dtype: int64"
            ]
          },
          "metadata": {},
          "execution_count": 23
        }
      ]
    }
  ]
}