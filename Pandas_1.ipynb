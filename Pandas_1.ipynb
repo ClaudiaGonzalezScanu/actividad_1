{
  "nbformat": 4,
  "nbformat_minor": 0,
  "metadata": {
    "colab": {
      "name": "Pandas_1.ipynb",
      "provenance": [],
      "collapsed_sections": [],
      "include_colab_link": true
    },
    "kernelspec": {
      "name": "python3",
      "display_name": "Python 3"
    },
    "language_info": {
      "name": "python"
    }
  },
  "cells": [
    {
      "cell_type": "markdown",
      "metadata": {
        "id": "view-in-github",
        "colab_type": "text"
      },
      "source": [
        "<a href=\"https://colab.research.google.com/github/ClaudiaGonzalezScanu/aprendiendo_python/blob/main/Pandas_1.ipynb\" target=\"_parent\"><img src=\"https://colab.research.google.com/assets/colab-badge.svg\" alt=\"Open In Colab\"/></a>"
      ]
    },
    {
      "cell_type": "markdown",
      "metadata": {
        "id": "EwnfkxOXIwEH"
      },
      "source": [
        "Importar las librerías"
      ]
    },
    {
      "cell_type": "code",
      "metadata": {
        "id": "dI1_F0x0Ik-z"
      },
      "source": [
        "import pandas as pd \n",
        "import numpy as np"
      ],
      "execution_count": null,
      "outputs": []
    },
    {
      "cell_type": "markdown",
      "metadata": {
        "id": "xf7yAdoVKUMp"
      },
      "source": [
        "Creamos un DataFrame:"
      ]
    },
    {
      "cell_type": "code",
      "metadata": {
        "colab": {
          "base_uri": "https://localhost:8080/",
          "height": 237
        },
        "id": "HkNUj9U0I0SE",
        "outputId": "68e92e41-833c-49d1-a7d7-122e0f652c08"
      },
      "source": [
        "Nombre_Edad = {'Nombre' : ['Juan', 'Ana', 'Pablo', 'Rene', 'Orlando','Marta'], \n",
        "               'Edad' : [32, None, 20, 43, 30,35],\n",
        "               'Puntaje': [9.4,7.1,4.5,5.6,3.2,6.8]} \n",
        "df = pd.DataFrame(Nombre_Edad) \n",
        "df"
      ],
      "execution_count": null,
      "outputs": [
        {
          "output_type": "execute_result",
          "data": {
            "text/html": [
              "<div>\n",
              "<style scoped>\n",
              "    .dataframe tbody tr th:only-of-type {\n",
              "        vertical-align: middle;\n",
              "    }\n",
              "\n",
              "    .dataframe tbody tr th {\n",
              "        vertical-align: top;\n",
              "    }\n",
              "\n",
              "    .dataframe thead th {\n",
              "        text-align: right;\n",
              "    }\n",
              "</style>\n",
              "<table border=\"1\" class=\"dataframe\">\n",
              "  <thead>\n",
              "    <tr style=\"text-align: right;\">\n",
              "      <th></th>\n",
              "      <th>Nombre</th>\n",
              "      <th>Edad</th>\n",
              "      <th>Puntaje</th>\n",
              "    </tr>\n",
              "  </thead>\n",
              "  <tbody>\n",
              "    <tr>\n",
              "      <th>0</th>\n",
              "      <td>Juan</td>\n",
              "      <td>32.0</td>\n",
              "      <td>9.4</td>\n",
              "    </tr>\n",
              "    <tr>\n",
              "      <th>1</th>\n",
              "      <td>Ana</td>\n",
              "      <td>NaN</td>\n",
              "      <td>7.1</td>\n",
              "    </tr>\n",
              "    <tr>\n",
              "      <th>2</th>\n",
              "      <td>Pablo</td>\n",
              "      <td>20.0</td>\n",
              "      <td>4.5</td>\n",
              "    </tr>\n",
              "    <tr>\n",
              "      <th>3</th>\n",
              "      <td>Rene</td>\n",
              "      <td>43.0</td>\n",
              "      <td>5.6</td>\n",
              "    </tr>\n",
              "    <tr>\n",
              "      <th>4</th>\n",
              "      <td>Orlando</td>\n",
              "      <td>30.0</td>\n",
              "      <td>3.2</td>\n",
              "    </tr>\n",
              "    <tr>\n",
              "      <th>5</th>\n",
              "      <td>Marta</td>\n",
              "      <td>35.0</td>\n",
              "      <td>6.8</td>\n",
              "    </tr>\n",
              "  </tbody>\n",
              "</table>\n",
              "</div>"
            ],
            "text/plain": [
              "    Nombre  Edad  Puntaje\n",
              "0     Juan  32.0      9.4\n",
              "1      Ana   NaN      7.1\n",
              "2    Pablo  20.0      4.5\n",
              "3     Rene  43.0      5.6\n",
              "4  Orlando  30.0      3.2\n",
              "5    Marta  35.0      6.8"
            ]
          },
          "metadata": {},
          "execution_count": 34
        }
      ]
    },
    {
      "cell_type": "markdown",
      "metadata": {
        "id": "naT8q5YNKzre"
      },
      "source": [
        "Ver los valores de una columna del DataFrame"
      ]
    },
    {
      "cell_type": "code",
      "metadata": {
        "colab": {
          "base_uri": "https://localhost:8080/"
        },
        "id": "rNFGHdc8KXlb",
        "outputId": "76474ae9-2b6c-436f-a30f-83683401d22f"
      },
      "source": [
        "df['Nombre']"
      ],
      "execution_count": null,
      "outputs": [
        {
          "output_type": "execute_result",
          "data": {
            "text/plain": [
              "0       Juan\n",
              "1        Ana\n",
              "2      Pablo\n",
              "3       Rene\n",
              "4    Orlando\n",
              "5      Marta\n",
              "Name: Nombre, dtype: object"
            ]
          },
          "metadata": {},
          "execution_count": 11
        }
      ]
    },
    {
      "cell_type": "markdown",
      "metadata": {
        "id": "pSK3GSRbK4i3"
      },
      "source": [
        "Realizar un rebanado (slicing) sobre la columna \"Nombre\""
      ]
    },
    {
      "cell_type": "code",
      "metadata": {
        "colab": {
          "base_uri": "https://localhost:8080/"
        },
        "id": "U25at078Kicq",
        "outputId": "0ac2bdcc-2189-4152-b1cc-52c98814ba15"
      },
      "source": [
        "df['Nombre'][0:4]"
      ],
      "execution_count": null,
      "outputs": [
        {
          "output_type": "execute_result",
          "data": {
            "text/plain": [
              "0     Juan\n",
              "1      Ana\n",
              "2    Pablo\n",
              "3     Rene\n",
              "Name: Nombre, dtype: object"
            ]
          },
          "metadata": {},
          "execution_count": 12
        }
      ]
    },
    {
      "cell_type": "code",
      "metadata": {
        "colab": {
          "base_uri": "https://localhost:8080/"
        },
        "id": "woR2KAFvLEe0",
        "outputId": "fdde1fdb-2177-4400-fcfa-19af51b3f549"
      },
      "source": [
        "df['Nombre'][2:4]"
      ],
      "execution_count": null,
      "outputs": [
        {
          "output_type": "execute_result",
          "data": {
            "text/plain": [
              "2    Pablo\n",
              "3     Rene\n",
              "Name: Nombre, dtype: object"
            ]
          },
          "metadata": {},
          "execution_count": 13
        }
      ]
    },
    {
      "cell_type": "markdown",
      "metadata": {
        "id": "IUfP_Wq8LkHf"
      },
      "source": [
        "Mostrar una o más columnas de un DataFrame:\n",
        "\n"
      ]
    },
    {
      "cell_type": "code",
      "metadata": {
        "colab": {
          "base_uri": "https://localhost:8080/",
          "height": 237
        },
        "id": "p9YUyN-zLKqI",
        "outputId": "54b6f74b-6a5c-4998-b0e6-7844f4fe156f"
      },
      "source": [
        "df[['Nombre','Puntaje']]"
      ],
      "execution_count": null,
      "outputs": [
        {
          "output_type": "execute_result",
          "data": {
            "text/html": [
              "<div>\n",
              "<style scoped>\n",
              "    .dataframe tbody tr th:only-of-type {\n",
              "        vertical-align: middle;\n",
              "    }\n",
              "\n",
              "    .dataframe tbody tr th {\n",
              "        vertical-align: top;\n",
              "    }\n",
              "\n",
              "    .dataframe thead th {\n",
              "        text-align: right;\n",
              "    }\n",
              "</style>\n",
              "<table border=\"1\" class=\"dataframe\">\n",
              "  <thead>\n",
              "    <tr style=\"text-align: right;\">\n",
              "      <th></th>\n",
              "      <th>Nombre</th>\n",
              "      <th>Puntaje</th>\n",
              "    </tr>\n",
              "  </thead>\n",
              "  <tbody>\n",
              "    <tr>\n",
              "      <th>0</th>\n",
              "      <td>Juan</td>\n",
              "      <td>9.4</td>\n",
              "    </tr>\n",
              "    <tr>\n",
              "      <th>1</th>\n",
              "      <td>Ana</td>\n",
              "      <td>7.1</td>\n",
              "    </tr>\n",
              "    <tr>\n",
              "      <th>2</th>\n",
              "      <td>Pablo</td>\n",
              "      <td>4.5</td>\n",
              "    </tr>\n",
              "    <tr>\n",
              "      <th>3</th>\n",
              "      <td>Rene</td>\n",
              "      <td>5.6</td>\n",
              "    </tr>\n",
              "    <tr>\n",
              "      <th>4</th>\n",
              "      <td>Orlando</td>\n",
              "      <td>3.2</td>\n",
              "    </tr>\n",
              "    <tr>\n",
              "      <th>5</th>\n",
              "      <td>Marta</td>\n",
              "      <td>6.8</td>\n",
              "    </tr>\n",
              "  </tbody>\n",
              "</table>\n",
              "</div>"
            ],
            "text/plain": [
              "    Nombre  Puntaje\n",
              "0     Juan      9.4\n",
              "1      Ana      7.1\n",
              "2    Pablo      4.5\n",
              "3     Rene      5.6\n",
              "4  Orlando      3.2\n",
              "5    Marta      6.8"
            ]
          },
          "metadata": {},
          "execution_count": 16
        }
      ]
    },
    {
      "cell_type": "markdown",
      "metadata": {
        "id": "VTTE2rFCMBYV"
      },
      "source": [
        "Crear un nuevo DataFrame a partir de las columnas de un DataFrame previamente definido:"
      ]
    },
    {
      "cell_type": "code",
      "metadata": {
        "colab": {
          "base_uri": "https://localhost:8080/",
          "height": 237
        },
        "id": "p7KQMLd_L0Xd",
        "outputId": "5bbd58d9-9e39-4326-f12e-d656f27af0b2"
      },
      "source": [
        "new_df=df[['Nombre','Puntaje']]\n",
        "new_df"
      ],
      "execution_count": null,
      "outputs": [
        {
          "output_type": "execute_result",
          "data": {
            "text/html": [
              "<div>\n",
              "<style scoped>\n",
              "    .dataframe tbody tr th:only-of-type {\n",
              "        vertical-align: middle;\n",
              "    }\n",
              "\n",
              "    .dataframe tbody tr th {\n",
              "        vertical-align: top;\n",
              "    }\n",
              "\n",
              "    .dataframe thead th {\n",
              "        text-align: right;\n",
              "    }\n",
              "</style>\n",
              "<table border=\"1\" class=\"dataframe\">\n",
              "  <thead>\n",
              "    <tr style=\"text-align: right;\">\n",
              "      <th></th>\n",
              "      <th>Nombre</th>\n",
              "      <th>Puntaje</th>\n",
              "    </tr>\n",
              "  </thead>\n",
              "  <tbody>\n",
              "    <tr>\n",
              "      <th>0</th>\n",
              "      <td>Juan</td>\n",
              "      <td>9.4</td>\n",
              "    </tr>\n",
              "    <tr>\n",
              "      <th>1</th>\n",
              "      <td>Ana</td>\n",
              "      <td>7.1</td>\n",
              "    </tr>\n",
              "    <tr>\n",
              "      <th>2</th>\n",
              "      <td>Pablo</td>\n",
              "      <td>4.5</td>\n",
              "    </tr>\n",
              "    <tr>\n",
              "      <th>3</th>\n",
              "      <td>Rene</td>\n",
              "      <td>5.6</td>\n",
              "    </tr>\n",
              "    <tr>\n",
              "      <th>4</th>\n",
              "      <td>Orlando</td>\n",
              "      <td>3.2</td>\n",
              "    </tr>\n",
              "    <tr>\n",
              "      <th>5</th>\n",
              "      <td>Marta</td>\n",
              "      <td>6.8</td>\n",
              "    </tr>\n",
              "  </tbody>\n",
              "</table>\n",
              "</div>"
            ],
            "text/plain": [
              "    Nombre  Puntaje\n",
              "0     Juan      9.4\n",
              "1      Ana      7.1\n",
              "2    Pablo      4.5\n",
              "3     Rene      5.6\n",
              "4  Orlando      3.2\n",
              "5    Marta      6.8"
            ]
          },
          "metadata": {},
          "execution_count": 17
        }
      ]
    },
    {
      "cell_type": "markdown",
      "metadata": {
        "id": "yHXRjVhPMSOl"
      },
      "source": [
        "Se utiliza el método **iloc** para ver una o varias filas de un DataFrame o para ver un valor determinado dentro del DataFrame (recordar que filas y columnas inician su indexación a partir de cero):"
      ]
    },
    {
      "cell_type": "code",
      "metadata": {
        "colab": {
          "base_uri": "https://localhost:8080/",
          "height": 143
        },
        "id": "_aMGmquiMeBu",
        "outputId": "eb93c412-5c03-4bbc-cbeb-a626a4727c63"
      },
      "source": [
        "df.iloc[0:3]"
      ],
      "execution_count": null,
      "outputs": [
        {
          "output_type": "execute_result",
          "data": {
            "text/html": [
              "<div>\n",
              "<style scoped>\n",
              "    .dataframe tbody tr th:only-of-type {\n",
              "        vertical-align: middle;\n",
              "    }\n",
              "\n",
              "    .dataframe tbody tr th {\n",
              "        vertical-align: top;\n",
              "    }\n",
              "\n",
              "    .dataframe thead th {\n",
              "        text-align: right;\n",
              "    }\n",
              "</style>\n",
              "<table border=\"1\" class=\"dataframe\">\n",
              "  <thead>\n",
              "    <tr style=\"text-align: right;\">\n",
              "      <th></th>\n",
              "      <th>Nombre</th>\n",
              "      <th>Edad</th>\n",
              "      <th>Puntaje</th>\n",
              "    </tr>\n",
              "  </thead>\n",
              "  <tbody>\n",
              "    <tr>\n",
              "      <th>0</th>\n",
              "      <td>Juan</td>\n",
              "      <td>32</td>\n",
              "      <td>9.4</td>\n",
              "    </tr>\n",
              "    <tr>\n",
              "      <th>1</th>\n",
              "      <td>Ana</td>\n",
              "      <td>55</td>\n",
              "      <td>7.1</td>\n",
              "    </tr>\n",
              "    <tr>\n",
              "      <th>2</th>\n",
              "      <td>Pablo</td>\n",
              "      <td>20</td>\n",
              "      <td>4.5</td>\n",
              "    </tr>\n",
              "  </tbody>\n",
              "</table>\n",
              "</div>"
            ],
            "text/plain": [
              "  Nombre  Edad  Puntaje\n",
              "0   Juan    32      9.4\n",
              "1    Ana    55      7.1\n",
              "2  Pablo    20      4.5"
            ]
          },
          "metadata": {},
          "execution_count": 22
        }
      ]
    },
    {
      "cell_type": "code",
      "metadata": {
        "colab": {
          "base_uri": "https://localhost:8080/"
        },
        "id": "rN-YjuTFM8HA",
        "outputId": "e387d752-3296-40bc-ecb1-c748e15bd49d"
      },
      "source": [
        "df.iloc[1,2]"
      ],
      "execution_count": null,
      "outputs": [
        {
          "output_type": "execute_result",
          "data": {
            "text/plain": [
              "7.1"
            ]
          },
          "metadata": {},
          "execution_count": 23
        }
      ]
    },
    {
      "cell_type": "code",
      "metadata": {
        "colab": {
          "base_uri": "https://localhost:8080/"
        },
        "id": "8Uyt91x_N5L2",
        "outputId": "67483fb1-d686-4e2f-f6d5-3cafe1ea993b"
      },
      "source": [
        "df.iloc[2,2]"
      ],
      "execution_count": null,
      "outputs": [
        {
          "output_type": "execute_result",
          "data": {
            "text/plain": [
              "4.5"
            ]
          },
          "metadata": {},
          "execution_count": 24
        }
      ]
    },
    {
      "cell_type": "markdown",
      "metadata": {
        "id": "jqY7Xjx7OUXg"
      },
      "source": [
        "Filtrar el DataFrame:"
      ]
    },
    {
      "cell_type": "code",
      "metadata": {
        "colab": {
          "base_uri": "https://localhost:8080/",
          "height": 143
        },
        "id": "3J7Hol5MOX88",
        "outputId": "6ef56dd0-2765-4866-d1a8-e4c3478770a7"
      },
      "source": [
        "df[(df[\"Puntaje\"]>=6.0)]"
      ],
      "execution_count": null,
      "outputs": [
        {
          "output_type": "execute_result",
          "data": {
            "text/html": [
              "<div>\n",
              "<style scoped>\n",
              "    .dataframe tbody tr th:only-of-type {\n",
              "        vertical-align: middle;\n",
              "    }\n",
              "\n",
              "    .dataframe tbody tr th {\n",
              "        vertical-align: top;\n",
              "    }\n",
              "\n",
              "    .dataframe thead th {\n",
              "        text-align: right;\n",
              "    }\n",
              "</style>\n",
              "<table border=\"1\" class=\"dataframe\">\n",
              "  <thead>\n",
              "    <tr style=\"text-align: right;\">\n",
              "      <th></th>\n",
              "      <th>Nombre</th>\n",
              "      <th>Edad</th>\n",
              "      <th>Puntaje</th>\n",
              "    </tr>\n",
              "  </thead>\n",
              "  <tbody>\n",
              "    <tr>\n",
              "      <th>0</th>\n",
              "      <td>Juan</td>\n",
              "      <td>32.0</td>\n",
              "      <td>9.4</td>\n",
              "    </tr>\n",
              "    <tr>\n",
              "      <th>1</th>\n",
              "      <td>Ana</td>\n",
              "      <td>NaN</td>\n",
              "      <td>7.1</td>\n",
              "    </tr>\n",
              "    <tr>\n",
              "      <th>5</th>\n",
              "      <td>Marta</td>\n",
              "      <td>35.0</td>\n",
              "      <td>6.8</td>\n",
              "    </tr>\n",
              "  </tbody>\n",
              "</table>\n",
              "</div>"
            ],
            "text/plain": [
              "  Nombre  Edad  Puntaje\n",
              "0   Juan  32.0      9.4\n",
              "1    Ana   NaN      7.1\n",
              "5  Marta  35.0      6.8"
            ]
          },
          "metadata": {},
          "execution_count": 37
        }
      ]
    },
    {
      "cell_type": "code",
      "metadata": {
        "colab": {
          "base_uri": "https://localhost:8080/",
          "height": 112
        },
        "id": "0dKQGT77RSc5",
        "outputId": "16fdbd14-8568-4a6e-d2e4-e6896d963223"
      },
      "source": [
        "df[(df[\"Puntaje\"]>=6.0) & (df[\"Edad\"]<40)]"
      ],
      "execution_count": null,
      "outputs": [
        {
          "output_type": "execute_result",
          "data": {
            "text/html": [
              "<div>\n",
              "<style scoped>\n",
              "    .dataframe tbody tr th:only-of-type {\n",
              "        vertical-align: middle;\n",
              "    }\n",
              "\n",
              "    .dataframe tbody tr th {\n",
              "        vertical-align: top;\n",
              "    }\n",
              "\n",
              "    .dataframe thead th {\n",
              "        text-align: right;\n",
              "    }\n",
              "</style>\n",
              "<table border=\"1\" class=\"dataframe\">\n",
              "  <thead>\n",
              "    <tr style=\"text-align: right;\">\n",
              "      <th></th>\n",
              "      <th>Nombre</th>\n",
              "      <th>Edad</th>\n",
              "      <th>Puntaje</th>\n",
              "    </tr>\n",
              "  </thead>\n",
              "  <tbody>\n",
              "    <tr>\n",
              "      <th>0</th>\n",
              "      <td>Juan</td>\n",
              "      <td>32.0</td>\n",
              "      <td>9.4</td>\n",
              "    </tr>\n",
              "    <tr>\n",
              "      <th>5</th>\n",
              "      <td>Marta</td>\n",
              "      <td>35.0</td>\n",
              "      <td>6.8</td>\n",
              "    </tr>\n",
              "  </tbody>\n",
              "</table>\n",
              "</div>"
            ],
            "text/plain": [
              "  Nombre  Edad  Puntaje\n",
              "0   Juan  32.0      9.4\n",
              "5  Marta  35.0      6.8"
            ]
          },
          "metadata": {},
          "execution_count": 35
        }
      ]
    },
    {
      "cell_type": "markdown",
      "metadata": {
        "id": "jL3s9wYsVDNk"
      },
      "source": [
        "Examinar un DataFrame:"
      ]
    },
    {
      "cell_type": "code",
      "metadata": {
        "colab": {
          "base_uri": "https://localhost:8080/",
          "height": 300
        },
        "id": "tyVmu3efScPK",
        "outputId": "a5ee664b-3928-4e01-9c3f-105d9577d312"
      },
      "source": [
        "df.describe()"
      ],
      "execution_count": null,
      "outputs": [
        {
          "output_type": "execute_result",
          "data": {
            "text/html": [
              "<div>\n",
              "<style scoped>\n",
              "    .dataframe tbody tr th:only-of-type {\n",
              "        vertical-align: middle;\n",
              "    }\n",
              "\n",
              "    .dataframe tbody tr th {\n",
              "        vertical-align: top;\n",
              "    }\n",
              "\n",
              "    .dataframe thead th {\n",
              "        text-align: right;\n",
              "    }\n",
              "</style>\n",
              "<table border=\"1\" class=\"dataframe\">\n",
              "  <thead>\n",
              "    <tr style=\"text-align: right;\">\n",
              "      <th></th>\n",
              "      <th>Edad</th>\n",
              "      <th>Puntaje</th>\n",
              "    </tr>\n",
              "  </thead>\n",
              "  <tbody>\n",
              "    <tr>\n",
              "      <th>count</th>\n",
              "      <td>5.000000</td>\n",
              "      <td>6.000000</td>\n",
              "    </tr>\n",
              "    <tr>\n",
              "      <th>mean</th>\n",
              "      <td>32.000000</td>\n",
              "      <td>6.100000</td>\n",
              "    </tr>\n",
              "    <tr>\n",
              "      <th>std</th>\n",
              "      <td>8.336666</td>\n",
              "      <td>2.172556</td>\n",
              "    </tr>\n",
              "    <tr>\n",
              "      <th>min</th>\n",
              "      <td>20.000000</td>\n",
              "      <td>3.200000</td>\n",
              "    </tr>\n",
              "    <tr>\n",
              "      <th>25%</th>\n",
              "      <td>30.000000</td>\n",
              "      <td>4.775000</td>\n",
              "    </tr>\n",
              "    <tr>\n",
              "      <th>50%</th>\n",
              "      <td>32.000000</td>\n",
              "      <td>6.200000</td>\n",
              "    </tr>\n",
              "    <tr>\n",
              "      <th>75%</th>\n",
              "      <td>35.000000</td>\n",
              "      <td>7.025000</td>\n",
              "    </tr>\n",
              "    <tr>\n",
              "      <th>max</th>\n",
              "      <td>43.000000</td>\n",
              "      <td>9.400000</td>\n",
              "    </tr>\n",
              "  </tbody>\n",
              "</table>\n",
              "</div>"
            ],
            "text/plain": [
              "            Edad   Puntaje\n",
              "count   5.000000  6.000000\n",
              "mean   32.000000  6.100000\n",
              "std     8.336666  2.172556\n",
              "min    20.000000  3.200000\n",
              "25%    30.000000  4.775000\n",
              "50%    32.000000  6.200000\n",
              "75%    35.000000  7.025000\n",
              "max    43.000000  9.400000"
            ]
          },
          "metadata": {},
          "execution_count": 39
        }
      ]
    },
    {
      "cell_type": "code",
      "metadata": {
        "colab": {
          "base_uri": "https://localhost:8080/",
          "height": 112
        },
        "id": "FcJWfgkTVIPa",
        "outputId": "b0ed2702-3f3b-4025-e9a8-fa3e1db2afc2"
      },
      "source": [
        "df.head(2)"
      ],
      "execution_count": null,
      "outputs": [
        {
          "output_type": "execute_result",
          "data": {
            "text/html": [
              "<div>\n",
              "<style scoped>\n",
              "    .dataframe tbody tr th:only-of-type {\n",
              "        vertical-align: middle;\n",
              "    }\n",
              "\n",
              "    .dataframe tbody tr th {\n",
              "        vertical-align: top;\n",
              "    }\n",
              "\n",
              "    .dataframe thead th {\n",
              "        text-align: right;\n",
              "    }\n",
              "</style>\n",
              "<table border=\"1\" class=\"dataframe\">\n",
              "  <thead>\n",
              "    <tr style=\"text-align: right;\">\n",
              "      <th></th>\n",
              "      <th>Nombre</th>\n",
              "      <th>Edad</th>\n",
              "      <th>Puntaje</th>\n",
              "    </tr>\n",
              "  </thead>\n",
              "  <tbody>\n",
              "    <tr>\n",
              "      <th>0</th>\n",
              "      <td>Juan</td>\n",
              "      <td>32.0</td>\n",
              "      <td>9.4</td>\n",
              "    </tr>\n",
              "    <tr>\n",
              "      <th>1</th>\n",
              "      <td>Ana</td>\n",
              "      <td>NaN</td>\n",
              "      <td>7.1</td>\n",
              "    </tr>\n",
              "  </tbody>\n",
              "</table>\n",
              "</div>"
            ],
            "text/plain": [
              "  Nombre  Edad  Puntaje\n",
              "0   Juan  32.0      9.4\n",
              "1    Ana   NaN      7.1"
            ]
          },
          "metadata": {},
          "execution_count": 40
        }
      ]
    },
    {
      "cell_type": "code",
      "metadata": {
        "colab": {
          "base_uri": "https://localhost:8080/",
          "height": 112
        },
        "id": "mupDGKxLVMbW",
        "outputId": "6d63a73d-1393-408d-faa2-22c6ec8ea160"
      },
      "source": [
        "df.tail(2)"
      ],
      "execution_count": null,
      "outputs": [
        {
          "output_type": "execute_result",
          "data": {
            "text/html": [
              "<div>\n",
              "<style scoped>\n",
              "    .dataframe tbody tr th:only-of-type {\n",
              "        vertical-align: middle;\n",
              "    }\n",
              "\n",
              "    .dataframe tbody tr th {\n",
              "        vertical-align: top;\n",
              "    }\n",
              "\n",
              "    .dataframe thead th {\n",
              "        text-align: right;\n",
              "    }\n",
              "</style>\n",
              "<table border=\"1\" class=\"dataframe\">\n",
              "  <thead>\n",
              "    <tr style=\"text-align: right;\">\n",
              "      <th></th>\n",
              "      <th>Nombre</th>\n",
              "      <th>Edad</th>\n",
              "      <th>Puntaje</th>\n",
              "    </tr>\n",
              "  </thead>\n",
              "  <tbody>\n",
              "    <tr>\n",
              "      <th>4</th>\n",
              "      <td>Orlando</td>\n",
              "      <td>30.0</td>\n",
              "      <td>3.2</td>\n",
              "    </tr>\n",
              "    <tr>\n",
              "      <th>5</th>\n",
              "      <td>Marta</td>\n",
              "      <td>35.0</td>\n",
              "      <td>6.8</td>\n",
              "    </tr>\n",
              "  </tbody>\n",
              "</table>\n",
              "</div>"
            ],
            "text/plain": [
              "    Nombre  Edad  Puntaje\n",
              "4  Orlando  30.0      3.2\n",
              "5    Marta  35.0      6.8"
            ]
          },
          "metadata": {},
          "execution_count": 41
        }
      ]
    },
    {
      "cell_type": "code",
      "metadata": {
        "colab": {
          "base_uri": "https://localhost:8080/"
        },
        "id": "P1IfKAkMVRgu",
        "outputId": "41b428cf-e2c9-4ebf-989b-c4f7f19acf21"
      },
      "source": [
        "df.shape"
      ],
      "execution_count": null,
      "outputs": [
        {
          "output_type": "execute_result",
          "data": {
            "text/plain": [
              "(6, 3)"
            ]
          },
          "metadata": {},
          "execution_count": 42
        }
      ]
    },
    {
      "cell_type": "code",
      "metadata": {
        "colab": {
          "base_uri": "https://localhost:8080/"
        },
        "id": "nqONrQ7XVVCO",
        "outputId": "2d3c5ad9-6650-46d8-b24b-bda160f23620"
      },
      "source": [
        "df.columns"
      ],
      "execution_count": null,
      "outputs": [
        {
          "output_type": "execute_result",
          "data": {
            "text/plain": [
              "Index(['Nombre', 'Edad', 'Puntaje'], dtype='object')"
            ]
          },
          "metadata": {},
          "execution_count": 43
        }
      ]
    },
    {
      "cell_type": "code",
      "metadata": {
        "colab": {
          "base_uri": "https://localhost:8080/"
        },
        "id": "I-CAAqL4VdRg",
        "outputId": "888aa92d-0d5e-4dbc-91ed-377f177a30e6"
      },
      "source": [
        "df.info()"
      ],
      "execution_count": null,
      "outputs": [
        {
          "output_type": "stream",
          "name": "stdout",
          "text": [
            "<class 'pandas.core.frame.DataFrame'>\n",
            "RangeIndex: 6 entries, 0 to 5\n",
            "Data columns (total 3 columns):\n",
            " #   Column   Non-Null Count  Dtype  \n",
            "---  ------   --------------  -----  \n",
            " 0   Nombre   6 non-null      object \n",
            " 1   Edad     5 non-null      float64\n",
            " 2   Puntaje  6 non-null      float64\n",
            "dtypes: float64(2), object(1)\n",
            "memory usage: 272.0+ bytes\n"
          ]
        }
      ]
    },
    {
      "cell_type": "code",
      "metadata": {
        "colab": {
          "base_uri": "https://localhost:8080/",
          "height": 81
        },
        "id": "pvDhe6wXVvY0",
        "outputId": "2890ce73-03b1-4f13-fee6-24f79158fb84"
      },
      "source": [
        "df.head(5).tail(1)"
      ],
      "execution_count": null,
      "outputs": [
        {
          "output_type": "execute_result",
          "data": {
            "text/html": [
              "<div>\n",
              "<style scoped>\n",
              "    .dataframe tbody tr th:only-of-type {\n",
              "        vertical-align: middle;\n",
              "    }\n",
              "\n",
              "    .dataframe tbody tr th {\n",
              "        vertical-align: top;\n",
              "    }\n",
              "\n",
              "    .dataframe thead th {\n",
              "        text-align: right;\n",
              "    }\n",
              "</style>\n",
              "<table border=\"1\" class=\"dataframe\">\n",
              "  <thead>\n",
              "    <tr style=\"text-align: right;\">\n",
              "      <th></th>\n",
              "      <th>Nombre</th>\n",
              "      <th>Edad</th>\n",
              "      <th>Puntaje</th>\n",
              "    </tr>\n",
              "  </thead>\n",
              "  <tbody>\n",
              "    <tr>\n",
              "      <th>4</th>\n",
              "      <td>Orlando</td>\n",
              "      <td>30.0</td>\n",
              "      <td>3.2</td>\n",
              "    </tr>\n",
              "  </tbody>\n",
              "</table>\n",
              "</div>"
            ],
            "text/plain": [
              "    Nombre  Edad  Puntaje\n",
              "4  Orlando  30.0      3.2"
            ]
          },
          "metadata": {},
          "execution_count": 49
        }
      ]
    },
    {
      "cell_type": "markdown",
      "metadata": {
        "id": "MhhHnUnWbuuP"
      },
      "source": [
        "Importar DataFrames usando PANDA"
      ]
    },
    {
      "cell_type": "code",
      "metadata": {
        "colab": {
          "base_uri": "https://localhost:8080/",
          "height": 36
        },
        "id": "Lhr36pOzb0xH",
        "outputId": "847beadf-cb05-4c5d-c98e-58b03c585058"
      },
      "source": [
        "import os,sys\n",
        "os.getcwd()"
      ],
      "execution_count": null,
      "outputs": [
        {
          "output_type": "execute_result",
          "data": {
            "application/vnd.google.colaboratory.intrinsic+json": {
              "type": "string"
            },
            "text/plain": [
              "'/content'"
            ]
          },
          "metadata": {},
          "execution_count": 50
        }
      ]
    },
    {
      "cell_type": "code",
      "metadata": {
        "colab": {
          "resources": {
            "http://localhost:8080/nbextensions/google.colab/files.js": {
              "data": "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",
              "ok": true,
              "headers": [
                [
                  "content-type",
                  "application/javascript"
                ]
              ],
              "status": 200,
              "status_text": "OK"
            }
          },
          "base_uri": "https://localhost:8080/",
          "height": 112
        },
        "id": "3AlJw6y3cAid",
        "outputId": "9596ee6b-dd85-4e7a-903e-65796caf7c14"
      },
      "source": [
        "from google.colab import files\n",
        "files.upload()"
      ],
      "execution_count": null,
      "outputs": [
        {
          "output_type": "display_data",
          "data": {
            "text/html": [
              "\n",
              "     <input type=\"file\" id=\"files-d117542a-e11f-41cc-8864-8dbb30fe9899\" name=\"files[]\" multiple disabled\n",
              "        style=\"border:none\" />\n",
              "     <output id=\"result-d117542a-e11f-41cc-8864-8dbb30fe9899\">\n",
              "      Upload widget is only available when the cell has been executed in the\n",
              "      current browser session. Please rerun this cell to enable.\n",
              "      </output>\n",
              "      <script src=\"/nbextensions/google.colab/files.js\"></script> "
            ],
            "text/plain": [
              "<IPython.core.display.HTML object>"
            ]
          },
          "metadata": {}
        },
        {
          "output_type": "stream",
          "name": "stdout",
          "text": [
            "Saving Presion_Sistolica.csv to Presion_Sistolica.csv\n"
          ]
        },
        {
          "output_type": "execute_result",
          "data": {
            "text/plain": [
              "{'Presion_Sistolica.csv': b'Index,One,Age,Systolic blood pressure\\n1,1,39,144\\n2,1,45,138\\n3,1,47,145\\n4,1,65,162\\n5,1,46,142\\n6,1,67,170\\n7,1,42,124\\n8,1,67,158\\n9,1,56,154\\n10,1,64,162\\n11,1,56,150\\n12,1,59,140\\n13,1,34,110\\n14,1,42,128\\n15,1,48,130\\n16,1,45,135\\n17,1,17,114\\n18,1,20,116\\n19,1,19,124\\n20,1,36,136\\n21,1,50,142\\n22,1,39,120\\n23,1,21,120\\n24,1,44,160\\n25,1,53,158\\n26,1,63,144\\n27,1,29,130\\n28,1,25,125\\n29,1,69,175'}"
            ]
          },
          "metadata": {},
          "execution_count": 51
        }
      ]
    },
    {
      "cell_type": "code",
      "metadata": {
        "colab": {
          "base_uri": "https://localhost:8080/",
          "height": 959
        },
        "id": "bAGPpj37cVcI",
        "outputId": "ad069acb-8a27-4219-f5be-998b486047a4"
      },
      "source": [
        "import pandas as pd\n",
        "df=pd.read_csv(\"Presion_Sistolica.csv\")\n",
        "df"
      ],
      "execution_count": null,
      "outputs": [
        {
          "output_type": "execute_result",
          "data": {
            "text/html": [
              "<div>\n",
              "<style scoped>\n",
              "    .dataframe tbody tr th:only-of-type {\n",
              "        vertical-align: middle;\n",
              "    }\n",
              "\n",
              "    .dataframe tbody tr th {\n",
              "        vertical-align: top;\n",
              "    }\n",
              "\n",
              "    .dataframe thead th {\n",
              "        text-align: right;\n",
              "    }\n",
              "</style>\n",
              "<table border=\"1\" class=\"dataframe\">\n",
              "  <thead>\n",
              "    <tr style=\"text-align: right;\">\n",
              "      <th></th>\n",
              "      <th>Index</th>\n",
              "      <th>One</th>\n",
              "      <th>Age</th>\n",
              "      <th>Systolic blood pressure</th>\n",
              "    </tr>\n",
              "  </thead>\n",
              "  <tbody>\n",
              "    <tr>\n",
              "      <th>0</th>\n",
              "      <td>1</td>\n",
              "      <td>1</td>\n",
              "      <td>39</td>\n",
              "      <td>144</td>\n",
              "    </tr>\n",
              "    <tr>\n",
              "      <th>1</th>\n",
              "      <td>2</td>\n",
              "      <td>1</td>\n",
              "      <td>45</td>\n",
              "      <td>138</td>\n",
              "    </tr>\n",
              "    <tr>\n",
              "      <th>2</th>\n",
              "      <td>3</td>\n",
              "      <td>1</td>\n",
              "      <td>47</td>\n",
              "      <td>145</td>\n",
              "    </tr>\n",
              "    <tr>\n",
              "      <th>3</th>\n",
              "      <td>4</td>\n",
              "      <td>1</td>\n",
              "      <td>65</td>\n",
              "      <td>162</td>\n",
              "    </tr>\n",
              "    <tr>\n",
              "      <th>4</th>\n",
              "      <td>5</td>\n",
              "      <td>1</td>\n",
              "      <td>46</td>\n",
              "      <td>142</td>\n",
              "    </tr>\n",
              "    <tr>\n",
              "      <th>5</th>\n",
              "      <td>6</td>\n",
              "      <td>1</td>\n",
              "      <td>67</td>\n",
              "      <td>170</td>\n",
              "    </tr>\n",
              "    <tr>\n",
              "      <th>6</th>\n",
              "      <td>7</td>\n",
              "      <td>1</td>\n",
              "      <td>42</td>\n",
              "      <td>124</td>\n",
              "    </tr>\n",
              "    <tr>\n",
              "      <th>7</th>\n",
              "      <td>8</td>\n",
              "      <td>1</td>\n",
              "      <td>67</td>\n",
              "      <td>158</td>\n",
              "    </tr>\n",
              "    <tr>\n",
              "      <th>8</th>\n",
              "      <td>9</td>\n",
              "      <td>1</td>\n",
              "      <td>56</td>\n",
              "      <td>154</td>\n",
              "    </tr>\n",
              "    <tr>\n",
              "      <th>9</th>\n",
              "      <td>10</td>\n",
              "      <td>1</td>\n",
              "      <td>64</td>\n",
              "      <td>162</td>\n",
              "    </tr>\n",
              "    <tr>\n",
              "      <th>10</th>\n",
              "      <td>11</td>\n",
              "      <td>1</td>\n",
              "      <td>56</td>\n",
              "      <td>150</td>\n",
              "    </tr>\n",
              "    <tr>\n",
              "      <th>11</th>\n",
              "      <td>12</td>\n",
              "      <td>1</td>\n",
              "      <td>59</td>\n",
              "      <td>140</td>\n",
              "    </tr>\n",
              "    <tr>\n",
              "      <th>12</th>\n",
              "      <td>13</td>\n",
              "      <td>1</td>\n",
              "      <td>34</td>\n",
              "      <td>110</td>\n",
              "    </tr>\n",
              "    <tr>\n",
              "      <th>13</th>\n",
              "      <td>14</td>\n",
              "      <td>1</td>\n",
              "      <td>42</td>\n",
              "      <td>128</td>\n",
              "    </tr>\n",
              "    <tr>\n",
              "      <th>14</th>\n",
              "      <td>15</td>\n",
              "      <td>1</td>\n",
              "      <td>48</td>\n",
              "      <td>130</td>\n",
              "    </tr>\n",
              "    <tr>\n",
              "      <th>15</th>\n",
              "      <td>16</td>\n",
              "      <td>1</td>\n",
              "      <td>45</td>\n",
              "      <td>135</td>\n",
              "    </tr>\n",
              "    <tr>\n",
              "      <th>16</th>\n",
              "      <td>17</td>\n",
              "      <td>1</td>\n",
              "      <td>17</td>\n",
              "      <td>114</td>\n",
              "    </tr>\n",
              "    <tr>\n",
              "      <th>17</th>\n",
              "      <td>18</td>\n",
              "      <td>1</td>\n",
              "      <td>20</td>\n",
              "      <td>116</td>\n",
              "    </tr>\n",
              "    <tr>\n",
              "      <th>18</th>\n",
              "      <td>19</td>\n",
              "      <td>1</td>\n",
              "      <td>19</td>\n",
              "      <td>124</td>\n",
              "    </tr>\n",
              "    <tr>\n",
              "      <th>19</th>\n",
              "      <td>20</td>\n",
              "      <td>1</td>\n",
              "      <td>36</td>\n",
              "      <td>136</td>\n",
              "    </tr>\n",
              "    <tr>\n",
              "      <th>20</th>\n",
              "      <td>21</td>\n",
              "      <td>1</td>\n",
              "      <td>50</td>\n",
              "      <td>142</td>\n",
              "    </tr>\n",
              "    <tr>\n",
              "      <th>21</th>\n",
              "      <td>22</td>\n",
              "      <td>1</td>\n",
              "      <td>39</td>\n",
              "      <td>120</td>\n",
              "    </tr>\n",
              "    <tr>\n",
              "      <th>22</th>\n",
              "      <td>23</td>\n",
              "      <td>1</td>\n",
              "      <td>21</td>\n",
              "      <td>120</td>\n",
              "    </tr>\n",
              "    <tr>\n",
              "      <th>23</th>\n",
              "      <td>24</td>\n",
              "      <td>1</td>\n",
              "      <td>44</td>\n",
              "      <td>160</td>\n",
              "    </tr>\n",
              "    <tr>\n",
              "      <th>24</th>\n",
              "      <td>25</td>\n",
              "      <td>1</td>\n",
              "      <td>53</td>\n",
              "      <td>158</td>\n",
              "    </tr>\n",
              "    <tr>\n",
              "      <th>25</th>\n",
              "      <td>26</td>\n",
              "      <td>1</td>\n",
              "      <td>63</td>\n",
              "      <td>144</td>\n",
              "    </tr>\n",
              "    <tr>\n",
              "      <th>26</th>\n",
              "      <td>27</td>\n",
              "      <td>1</td>\n",
              "      <td>29</td>\n",
              "      <td>130</td>\n",
              "    </tr>\n",
              "    <tr>\n",
              "      <th>27</th>\n",
              "      <td>28</td>\n",
              "      <td>1</td>\n",
              "      <td>25</td>\n",
              "      <td>125</td>\n",
              "    </tr>\n",
              "    <tr>\n",
              "      <th>28</th>\n",
              "      <td>29</td>\n",
              "      <td>1</td>\n",
              "      <td>69</td>\n",
              "      <td>175</td>\n",
              "    </tr>\n",
              "  </tbody>\n",
              "</table>\n",
              "</div>"
            ],
            "text/plain": [
              "    Index  One  Age  Systolic blood pressure\n",
              "0       1    1   39                      144\n",
              "1       2    1   45                      138\n",
              "2       3    1   47                      145\n",
              "3       4    1   65                      162\n",
              "4       5    1   46                      142\n",
              "5       6    1   67                      170\n",
              "6       7    1   42                      124\n",
              "7       8    1   67                      158\n",
              "8       9    1   56                      154\n",
              "9      10    1   64                      162\n",
              "10     11    1   56                      150\n",
              "11     12    1   59                      140\n",
              "12     13    1   34                      110\n",
              "13     14    1   42                      128\n",
              "14     15    1   48                      130\n",
              "15     16    1   45                      135\n",
              "16     17    1   17                      114\n",
              "17     18    1   20                      116\n",
              "18     19    1   19                      124\n",
              "19     20    1   36                      136\n",
              "20     21    1   50                      142\n",
              "21     22    1   39                      120\n",
              "22     23    1   21                      120\n",
              "23     24    1   44                      160\n",
              "24     25    1   53                      158\n",
              "25     26    1   63                      144\n",
              "26     27    1   29                      130\n",
              "27     28    1   25                      125\n",
              "28     29    1   69                      175"
            ]
          },
          "metadata": {},
          "execution_count": 52
        }
      ]
    },
    {
      "cell_type": "code",
      "metadata": {
        "colab": {
          "base_uri": "https://localhost:8080/"
        },
        "id": "VPaQBGhKeCMk",
        "outputId": "569f2531-8dc5-4060-d79f-f396707988b2"
      },
      "source": [
        "!ls -l sample_data\n",
        "\n"
      ],
      "execution_count": null,
      "outputs": [
        {
          "output_type": "stream",
          "name": "stdout",
          "text": [
            "total 55504\n",
            "-rwxr-xr-x 1 root root     1697 Jan  1  2000 anscombe.json\n",
            "-rw-r--r-- 1 root root   301141 Nov  1 13:35 california_housing_test.csv\n",
            "-rw-r--r-- 1 root root  1706430 Nov  1 13:35 california_housing_train.csv\n",
            "-rw-r--r-- 1 root root 18289443 Nov  1 13:35 mnist_test.csv\n",
            "-rw-r--r-- 1 root root 36523880 Nov  1 13:35 mnist_train_small.csv\n",
            "-rwxr-xr-x 1 root root      930 Jan  1  2000 README.md\n"
          ]
        }
      ]
    },
    {
      "cell_type": "code",
      "metadata": {
        "colab": {
          "base_uri": "https://localhost:8080/",
          "height": 444
        },
        "id": "MJ7bewEUejsW",
        "outputId": "b94d4190-fca4-4dbd-b556-703f7d0e61a7"
      },
      "source": [
        "df=pd.read_csv(\"/content/sample_data/california_housing_train.csv\")\n",
        "df"
      ],
      "execution_count": null,
      "outputs": [
        {
          "output_type": "execute_result",
          "data": {
            "text/html": [
              "<div>\n",
              "<style scoped>\n",
              "    .dataframe tbody tr th:only-of-type {\n",
              "        vertical-align: middle;\n",
              "    }\n",
              "\n",
              "    .dataframe tbody tr th {\n",
              "        vertical-align: top;\n",
              "    }\n",
              "\n",
              "    .dataframe thead th {\n",
              "        text-align: right;\n",
              "    }\n",
              "</style>\n",
              "<table border=\"1\" class=\"dataframe\">\n",
              "  <thead>\n",
              "    <tr style=\"text-align: right;\">\n",
              "      <th></th>\n",
              "      <th>longitude</th>\n",
              "      <th>latitude</th>\n",
              "      <th>housing_median_age</th>\n",
              "      <th>total_rooms</th>\n",
              "      <th>total_bedrooms</th>\n",
              "      <th>population</th>\n",
              "      <th>households</th>\n",
              "      <th>median_income</th>\n",
              "      <th>median_house_value</th>\n",
              "    </tr>\n",
              "  </thead>\n",
              "  <tbody>\n",
              "    <tr>\n",
              "      <th>0</th>\n",
              "      <td>-114.31</td>\n",
              "      <td>34.19</td>\n",
              "      <td>15.0</td>\n",
              "      <td>5612.0</td>\n",
              "      <td>1283.0</td>\n",
              "      <td>1015.0</td>\n",
              "      <td>472.0</td>\n",
              "      <td>1.4936</td>\n",
              "      <td>66900.0</td>\n",
              "    </tr>\n",
              "    <tr>\n",
              "      <th>1</th>\n",
              "      <td>-114.47</td>\n",
              "      <td>34.40</td>\n",
              "      <td>19.0</td>\n",
              "      <td>7650.0</td>\n",
              "      <td>1901.0</td>\n",
              "      <td>1129.0</td>\n",
              "      <td>463.0</td>\n",
              "      <td>1.8200</td>\n",
              "      <td>80100.0</td>\n",
              "    </tr>\n",
              "    <tr>\n",
              "      <th>2</th>\n",
              "      <td>-114.56</td>\n",
              "      <td>33.69</td>\n",
              "      <td>17.0</td>\n",
              "      <td>720.0</td>\n",
              "      <td>174.0</td>\n",
              "      <td>333.0</td>\n",
              "      <td>117.0</td>\n",
              "      <td>1.6509</td>\n",
              "      <td>85700.0</td>\n",
              "    </tr>\n",
              "    <tr>\n",
              "      <th>3</th>\n",
              "      <td>-114.57</td>\n",
              "      <td>33.64</td>\n",
              "      <td>14.0</td>\n",
              "      <td>1501.0</td>\n",
              "      <td>337.0</td>\n",
              "      <td>515.0</td>\n",
              "      <td>226.0</td>\n",
              "      <td>3.1917</td>\n",
              "      <td>73400.0</td>\n",
              "    </tr>\n",
              "    <tr>\n",
              "      <th>4</th>\n",
              "      <td>-114.57</td>\n",
              "      <td>33.57</td>\n",
              "      <td>20.0</td>\n",
              "      <td>1454.0</td>\n",
              "      <td>326.0</td>\n",
              "      <td>624.0</td>\n",
              "      <td>262.0</td>\n",
              "      <td>1.9250</td>\n",
              "      <td>65500.0</td>\n",
              "    </tr>\n",
              "    <tr>\n",
              "      <th>...</th>\n",
              "      <td>...</td>\n",
              "      <td>...</td>\n",
              "      <td>...</td>\n",
              "      <td>...</td>\n",
              "      <td>...</td>\n",
              "      <td>...</td>\n",
              "      <td>...</td>\n",
              "      <td>...</td>\n",
              "      <td>...</td>\n",
              "    </tr>\n",
              "    <tr>\n",
              "      <th>16995</th>\n",
              "      <td>-124.26</td>\n",
              "      <td>40.58</td>\n",
              "      <td>52.0</td>\n",
              "      <td>2217.0</td>\n",
              "      <td>394.0</td>\n",
              "      <td>907.0</td>\n",
              "      <td>369.0</td>\n",
              "      <td>2.3571</td>\n",
              "      <td>111400.0</td>\n",
              "    </tr>\n",
              "    <tr>\n",
              "      <th>16996</th>\n",
              "      <td>-124.27</td>\n",
              "      <td>40.69</td>\n",
              "      <td>36.0</td>\n",
              "      <td>2349.0</td>\n",
              "      <td>528.0</td>\n",
              "      <td>1194.0</td>\n",
              "      <td>465.0</td>\n",
              "      <td>2.5179</td>\n",
              "      <td>79000.0</td>\n",
              "    </tr>\n",
              "    <tr>\n",
              "      <th>16997</th>\n",
              "      <td>-124.30</td>\n",
              "      <td>41.84</td>\n",
              "      <td>17.0</td>\n",
              "      <td>2677.0</td>\n",
              "      <td>531.0</td>\n",
              "      <td>1244.0</td>\n",
              "      <td>456.0</td>\n",
              "      <td>3.0313</td>\n",
              "      <td>103600.0</td>\n",
              "    </tr>\n",
              "    <tr>\n",
              "      <th>16998</th>\n",
              "      <td>-124.30</td>\n",
              "      <td>41.80</td>\n",
              "      <td>19.0</td>\n",
              "      <td>2672.0</td>\n",
              "      <td>552.0</td>\n",
              "      <td>1298.0</td>\n",
              "      <td>478.0</td>\n",
              "      <td>1.9797</td>\n",
              "      <td>85800.0</td>\n",
              "    </tr>\n",
              "    <tr>\n",
              "      <th>16999</th>\n",
              "      <td>-124.35</td>\n",
              "      <td>40.54</td>\n",
              "      <td>52.0</td>\n",
              "      <td>1820.0</td>\n",
              "      <td>300.0</td>\n",
              "      <td>806.0</td>\n",
              "      <td>270.0</td>\n",
              "      <td>3.0147</td>\n",
              "      <td>94600.0</td>\n",
              "    </tr>\n",
              "  </tbody>\n",
              "</table>\n",
              "<p>17000 rows × 9 columns</p>\n",
              "</div>"
            ],
            "text/plain": [
              "       longitude  latitude  ...  median_income  median_house_value\n",
              "0        -114.31     34.19  ...         1.4936             66900.0\n",
              "1        -114.47     34.40  ...         1.8200             80100.0\n",
              "2        -114.56     33.69  ...         1.6509             85700.0\n",
              "3        -114.57     33.64  ...         3.1917             73400.0\n",
              "4        -114.57     33.57  ...         1.9250             65500.0\n",
              "...          ...       ...  ...            ...                 ...\n",
              "16995    -124.26     40.58  ...         2.3571            111400.0\n",
              "16996    -124.27     40.69  ...         2.5179             79000.0\n",
              "16997    -124.30     41.84  ...         3.0313            103600.0\n",
              "16998    -124.30     41.80  ...         1.9797             85800.0\n",
              "16999    -124.35     40.54  ...         3.0147             94600.0\n",
              "\n",
              "[17000 rows x 9 columns]"
            ]
          },
          "metadata": {},
          "execution_count": 58
        }
      ]
    },
    {
      "cell_type": "code",
      "metadata": {
        "colab": {
          "base_uri": "https://localhost:8080/",
          "height": 383
        },
        "id": "yL1txqzLfXSe",
        "outputId": "15e7a168-661e-49fa-f4e9-df9b7c065fa6"
      },
      "source": [
        "df.head(10)"
      ],
      "execution_count": null,
      "outputs": [
        {
          "output_type": "execute_result",
          "data": {
            "text/html": [
              "<div>\n",
              "<style scoped>\n",
              "    .dataframe tbody tr th:only-of-type {\n",
              "        vertical-align: middle;\n",
              "    }\n",
              "\n",
              "    .dataframe tbody tr th {\n",
              "        vertical-align: top;\n",
              "    }\n",
              "\n",
              "    .dataframe thead th {\n",
              "        text-align: right;\n",
              "    }\n",
              "</style>\n",
              "<table border=\"1\" class=\"dataframe\">\n",
              "  <thead>\n",
              "    <tr style=\"text-align: right;\">\n",
              "      <th></th>\n",
              "      <th>longitude</th>\n",
              "      <th>latitude</th>\n",
              "      <th>housing_median_age</th>\n",
              "      <th>total_rooms</th>\n",
              "      <th>total_bedrooms</th>\n",
              "      <th>population</th>\n",
              "      <th>households</th>\n",
              "      <th>median_income</th>\n",
              "      <th>median_house_value</th>\n",
              "    </tr>\n",
              "  </thead>\n",
              "  <tbody>\n",
              "    <tr>\n",
              "      <th>0</th>\n",
              "      <td>-114.31</td>\n",
              "      <td>34.19</td>\n",
              "      <td>15.0</td>\n",
              "      <td>5612.0</td>\n",
              "      <td>1283.0</td>\n",
              "      <td>1015.0</td>\n",
              "      <td>472.0</td>\n",
              "      <td>1.4936</td>\n",
              "      <td>66900.0</td>\n",
              "    </tr>\n",
              "    <tr>\n",
              "      <th>1</th>\n",
              "      <td>-114.47</td>\n",
              "      <td>34.40</td>\n",
              "      <td>19.0</td>\n",
              "      <td>7650.0</td>\n",
              "      <td>1901.0</td>\n",
              "      <td>1129.0</td>\n",
              "      <td>463.0</td>\n",
              "      <td>1.8200</td>\n",
              "      <td>80100.0</td>\n",
              "    </tr>\n",
              "    <tr>\n",
              "      <th>2</th>\n",
              "      <td>-114.56</td>\n",
              "      <td>33.69</td>\n",
              "      <td>17.0</td>\n",
              "      <td>720.0</td>\n",
              "      <td>174.0</td>\n",
              "      <td>333.0</td>\n",
              "      <td>117.0</td>\n",
              "      <td>1.6509</td>\n",
              "      <td>85700.0</td>\n",
              "    </tr>\n",
              "    <tr>\n",
              "      <th>3</th>\n",
              "      <td>-114.57</td>\n",
              "      <td>33.64</td>\n",
              "      <td>14.0</td>\n",
              "      <td>1501.0</td>\n",
              "      <td>337.0</td>\n",
              "      <td>515.0</td>\n",
              "      <td>226.0</td>\n",
              "      <td>3.1917</td>\n",
              "      <td>73400.0</td>\n",
              "    </tr>\n",
              "    <tr>\n",
              "      <th>4</th>\n",
              "      <td>-114.57</td>\n",
              "      <td>33.57</td>\n",
              "      <td>20.0</td>\n",
              "      <td>1454.0</td>\n",
              "      <td>326.0</td>\n",
              "      <td>624.0</td>\n",
              "      <td>262.0</td>\n",
              "      <td>1.9250</td>\n",
              "      <td>65500.0</td>\n",
              "    </tr>\n",
              "    <tr>\n",
              "      <th>5</th>\n",
              "      <td>-114.58</td>\n",
              "      <td>33.63</td>\n",
              "      <td>29.0</td>\n",
              "      <td>1387.0</td>\n",
              "      <td>236.0</td>\n",
              "      <td>671.0</td>\n",
              "      <td>239.0</td>\n",
              "      <td>3.3438</td>\n",
              "      <td>74000.0</td>\n",
              "    </tr>\n",
              "    <tr>\n",
              "      <th>6</th>\n",
              "      <td>-114.58</td>\n",
              "      <td>33.61</td>\n",
              "      <td>25.0</td>\n",
              "      <td>2907.0</td>\n",
              "      <td>680.0</td>\n",
              "      <td>1841.0</td>\n",
              "      <td>633.0</td>\n",
              "      <td>2.6768</td>\n",
              "      <td>82400.0</td>\n",
              "    </tr>\n",
              "    <tr>\n",
              "      <th>7</th>\n",
              "      <td>-114.59</td>\n",
              "      <td>34.83</td>\n",
              "      <td>41.0</td>\n",
              "      <td>812.0</td>\n",
              "      <td>168.0</td>\n",
              "      <td>375.0</td>\n",
              "      <td>158.0</td>\n",
              "      <td>1.7083</td>\n",
              "      <td>48500.0</td>\n",
              "    </tr>\n",
              "    <tr>\n",
              "      <th>8</th>\n",
              "      <td>-114.59</td>\n",
              "      <td>33.61</td>\n",
              "      <td>34.0</td>\n",
              "      <td>4789.0</td>\n",
              "      <td>1175.0</td>\n",
              "      <td>3134.0</td>\n",
              "      <td>1056.0</td>\n",
              "      <td>2.1782</td>\n",
              "      <td>58400.0</td>\n",
              "    </tr>\n",
              "    <tr>\n",
              "      <th>9</th>\n",
              "      <td>-114.60</td>\n",
              "      <td>34.83</td>\n",
              "      <td>46.0</td>\n",
              "      <td>1497.0</td>\n",
              "      <td>309.0</td>\n",
              "      <td>787.0</td>\n",
              "      <td>271.0</td>\n",
              "      <td>2.1908</td>\n",
              "      <td>48100.0</td>\n",
              "    </tr>\n",
              "  </tbody>\n",
              "</table>\n",
              "</div>"
            ],
            "text/plain": [
              "   longitude  latitude  ...  median_income  median_house_value\n",
              "0    -114.31     34.19  ...         1.4936             66900.0\n",
              "1    -114.47     34.40  ...         1.8200             80100.0\n",
              "2    -114.56     33.69  ...         1.6509             85700.0\n",
              "3    -114.57     33.64  ...         3.1917             73400.0\n",
              "4    -114.57     33.57  ...         1.9250             65500.0\n",
              "5    -114.58     33.63  ...         3.3438             74000.0\n",
              "6    -114.58     33.61  ...         2.6768             82400.0\n",
              "7    -114.59     34.83  ...         1.7083             48500.0\n",
              "8    -114.59     33.61  ...         2.1782             58400.0\n",
              "9    -114.60     34.83  ...         2.1908             48100.0\n",
              "\n",
              "[10 rows x 9 columns]"
            ]
          },
          "metadata": {},
          "execution_count": 62
        }
      ]
    },
    {
      "cell_type": "code",
      "metadata": {
        "colab": {
          "base_uri": "https://localhost:8080/"
        },
        "id": "Uj6p9_yailQ0",
        "outputId": "ee16fdee-183a-4dfa-bf80-89a964dd3116"
      },
      "source": [
        "!ls\n"
      ],
      "execution_count": null,
      "outputs": [
        {
          "output_type": "stream",
          "name": "stdout",
          "text": [
            "Presion_Sistolica.csv  sample_data\n"
          ]
        }
      ]
    },
    {
      "cell_type": "code",
      "metadata": {
        "colab": {
          "resources": {
            "http://localhost:8080/nbextensions/google.colab/files.js": {
              "data": "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",
              "ok": true,
              "headers": [
                [
                  "content-type",
                  "application/javascript"
                ]
              ],
              "status": 200,
              "status_text": "OK"
            }
          },
          "base_uri": "https://localhost:8080/",
          "height": 112
        },
        "id": "Gae7wzgTiojN",
        "outputId": "8090fc40-4e36-43ad-f576-92ef46696343"
      },
      "source": [
        "from google.colab import files\n",
        "files.upload()"
      ],
      "execution_count": null,
      "outputs": [
        {
          "output_type": "display_data",
          "data": {
            "text/html": [
              "\n",
              "     <input type=\"file\" id=\"files-f3c81128-1e84-4a0e-965f-6ab6584fd7bd\" name=\"files[]\" multiple disabled\n",
              "        style=\"border:none\" />\n",
              "     <output id=\"result-f3c81128-1e84-4a0e-965f-6ab6584fd7bd\">\n",
              "      Upload widget is only available when the cell has been executed in the\n",
              "      current browser session. Please rerun this cell to enable.\n",
              "      </output>\n",
              "      <script src=\"/nbextensions/google.colab/files.js\"></script> "
            ],
            "text/plain": [
              "<IPython.core.display.HTML object>"
            ]
          },
          "metadata": {}
        },
        {
          "output_type": "stream",
          "name": "stdout",
          "text": [
            "Saving MOCK_DATA.csv to MOCK_DATA.csv\n"
          ]
        },
        {
          "output_type": "execute_result",
          "data": {
            "text/plain": [
              "{'MOCK_DATA.csv': b\"id,first_name,last_name,email,gender,ip_address\\n1,Agretha,Whitwood,awhitwood0@github.com,Genderqueer,33.171.238.185\\n2,Elsworth,Agutter,eagutter1@flickr.com,Male,105.66.55.90\\n3,Eimile,Lathwell,elathwell2@blinklist.com,Genderqueer,71.154.9.190\\n4,Andonis,Menloe,amenloe3@indiatimes.com,Non-binary,123.240.165.81\\n5,Clotilda,Duckit,cduckit4@bloglovin.com,Non-binary,30.159.234.163\\n6,Rhianna,Nattriss,rnattriss5@quantcast.com,Female,31.75.137.23\\n7,Ruperto,Portis,rportis6@dailymail.co.uk,Female,213.223.99.238\\n8,Lorrie,Chatel,lchatel7@nbcnews.com,Genderqueer,97.55.122.8\\n9,Lisabeth,Hammant,lhammant8@msu.edu,Polygender,94.225.31.83\\n10,Fancie,Seamon,fseamon9@state.gov,Bigender,101.225.185.149\\n11,Melinde,Macauley,mmacauleya@jimdo.com,Agender,22.77.176.101\\n12,Hillard,Farbrother,hfarbrotherb@howstuffworks.com,Female,66.153.115.19\\n13,Alaric,Spraberry,aspraberryc@paypal.com,Male,67.206.221.11\\n14,Rene,Joberne,rjoberned@comcast.net,Agender,39.61.176.248\\n15,Braden,Sheather,bsheathere@craigslist.org,Male,127.43.66.52\\n16,Bron,Southey,bsoutheyf@hc360.com,Male,51.78.48.38\\n17,Hadley,Peidro,hpeidrog@imdb.com,Bigender,53.216.167.244\\n18,Tamma,Darton,tdartonh@163.com,Bigender,117.139.200.182\\n19,Rolph,Gallardo,rgallardoi@livejournal.com,Male,122.117.38.57\\n20,Antonetta,Hatwells,ahatwellsj@deviantart.com,Non-binary,158.11.62.10\\n21,Rubina,Last,rlastk@dailymotion.com,Male,145.20.105.245\\n22,Riane,Rudolph,rrudolphl@europa.eu,Non-binary,4.176.250.60\\n23,Siward,Jakeman,sjakemanm@myspace.com,Genderqueer,184.115.43.217\\n24,Curr,Maevela,cmaevelan@mayoclinic.com,Female,34.231.192.205\\n25,Bobby,Reddish,breddisho@odnoklassniki.ru,Bigender,239.24.141.221\\n26,Iorgos,Mc Ilory,imciloryp@angelfire.com,Genderqueer,83.38.238.142\\n27,Dermot,Swadlen,dswadlenq@lycos.com,Genderqueer,10.196.60.67\\n28,Amata,Drillot,adrillotr@discovery.com,Polygender,138.33.236.165\\n29,Carmelita,Meindl,cmeindls@hp.com,Genderfluid,9.74.22.57\\n30,Bone,Naulty,bnaultyt@t-online.de,Genderfluid,6.52.24.62\\n31,Kerrin,Latchmore,klatchmoreu@tinyurl.com,Non-binary,223.185.228.158\\n32,Rice,Dismore,rdismorev@salon.com,Male,2.115.209.11\\n33,Oralee,Canaan,ocanaanw@jugem.jp,Genderfluid,128.61.227.157\\n34,Theodora,Sleeny,tsleenyx@tmall.com,Female,85.33.94.41\\n35,Nicolais,Piper,npipery@purevolume.com,Male,150.136.14.217\\n36,Rebecca,Vedyaev,rvedyaevz@abc.net.au,Genderfluid,70.83.255.47\\n37,Alexi,Iamittii,aiamittii10@indiegogo.com,Male,151.57.176.150\\n38,Rod,Crimp,rcrimp11@ted.com,Bigender,210.43.180.202\\n39,Andrew,Coad,acoad12@marriott.com,Non-binary,37.124.165.205\\n40,Whitney,Dobbyn,wdobbyn13@freewebs.com,Genderqueer,38.121.230.168\\n41,Maxie,Fullun,mfullun14@opensource.org,Bigender,94.28.43.38\\n42,Tiffy,Kermeen,tkermeen15@china.com.cn,Genderqueer,140.129.82.173\\n43,Pembroke,Hartford,phartford16@blinklist.com,Agender,23.244.22.167\\n44,Jaymie,Barens,jbarens17@spotify.com,Polygender,210.9.88.79\\n45,Far,Barkess,fbarkess18@reuters.com,Polygender,9.242.4.82\\n46,Griswold,Iannuzzelli,giannuzzelli19@simplemachines.org,Male,196.97.96.32\\n47,Briggs,Skellen,bskellen1a@toplist.cz,Polygender,164.213.149.65\\n48,Cinnamon,Absalom,cabsalom1b@indiegogo.com,Genderfluid,33.151.3.46\\n49,Kelcie,Cawte,kcawte1c@joomla.org,Polygender,47.16.65.213\\n50,Gayelord,Garcia,ggarcia1d@fotki.com,Polygender,16.151.140.149\\n51,Charlotta,Linch,clinch1e@feedburner.com,Genderqueer,140.105.166.190\\n52,Anestassia,Mertsching,amertsching1f@psu.edu,Genderqueer,30.35.86.8\\n53,Tim,McParland,tmcparland1g@gmpg.org,Genderfluid,128.104.13.21\\n54,Emmye,Luscombe,eluscombe1h@unesco.org,Agender,31.36.121.138\\n55,Chrissy,Beck,cbeck1i@com.com,Genderqueer,159.204.110.224\\n56,Nannie,Geertje,ngeertje1j@timesonline.co.uk,Agender,189.55.104.185\\n57,Isacco,Leathe,ileathe1k@networksolutions.com,Non-binary,131.169.210.135\\n58,Stillman,Spatari,sspatari1l@angelfire.com,Polygender,92.219.196.77\\n59,Beau,Rizzardini,brizzardini1m@microsoft.com,Agender,222.165.107.229\\n60,Kain,Lamlin,klamlin1n@si.edu,Male,113.184.83.74\\n61,Halsy,Cannavan,hcannavan1o@ustream.tv,Bigender,35.43.119.226\\n62,Norman,Ormonde,normonde1p@themeforest.net,Female,23.37.160.176\\n63,Philis,Thresher,pthresher1q@pagesperso-orange.fr,Bigender,143.158.143.108\\n64,Maddie,Henrion,mhenrion1r@google.de,Female,125.4.31.249\\n65,Mariejeanne,Unitt,munitt1s@nps.gov,Genderfluid,244.92.28.158\\n66,Hilliard,Harvie,hharvie1t@theglobeandmail.com,Agender,181.41.64.52\\n67,Kellia,Jereatt,kjereatt1u@phpbb.com,Female,148.209.61.239\\n68,Aurora,Sollitt,asollitt1v@google.nl,Non-binary,91.73.8.142\\n69,Cheri,Grutchfield,cgrutchfield1w@dropbox.com,Male,22.158.243.144\\n70,Pauline,Amor,pamor1x@skype.com,Genderqueer,34.64.41.141\\n71,Pearce,Danielkiewicz,pdanielkiewicz1y@newyorker.com,Bigender,212.52.57.65\\n72,Gardiner,Snar,gsnar1z@list-manage.com,Male,203.165.223.178\\n73,Wilow,Folks,wfolks20@google.com.hk,Agender,146.205.18.114\\n74,Jereme,Dunhill,jdunhill21@skyrock.com,Genderqueer,251.214.60.156\\n75,Burk,Castellanos,bcastellanos22@amazon.de,Non-binary,16.130.245.98\\n76,Vivia,Fruchter,vfruchter23@globo.com,Non-binary,18.81.1.121\\n77,Andrew,Ten Broek,atenbroek24@e-recht24.de,Bigender,12.223.19.17\\n78,Heath,Beazleigh,hbeazleigh25@bloglovin.com,Bigender,159.154.174.15\\n79,Bryon,Weepers,bweepers26@pinterest.com,Male,235.90.215.167\\n80,Borg,Gatrill,bgatrill27@webnode.com,Female,74.215.239.40\\n81,Tymon,Pickworth,tpickworth28@bizjournals.com,Male,163.217.246.127\\n82,Mireielle,Ipwell,mipwell29@jugem.jp,Non-binary,164.104.61.168\\n83,Simonette,Albrecht,salbrecht2a@mysql.com,Polygender,5.47.230.176\\n84,Alberik,Frost,afrost2b@sitemeter.com,Genderqueer,250.85.218.2\\n85,Glynn,Thing,gthing2c@tiny.cc,Genderqueer,58.97.192.122\\n86,Darline,Ouver,douver2d@topsy.com,Bigender,205.17.37.218\\n87,Mariel,Dudgeon,mdudgeon2e@ucoz.ru,Agender,197.88.89.254\\n88,Casi,Kittles,ckittles2f@xinhuanet.com,Bigender,245.36.63.233\\n89,Susann,Feather,sfeather2g@sourceforge.net,Female,104.61.29.66\\n90,Dorisa,Macrae,dmacrae2h@businessinsider.com,Non-binary,55.255.174.116\\n91,Rheta,Hebditch,rhebditch2i@tinyurl.com,Non-binary,171.32.39.29\\n92,Edee,Leverett,eleverett2j@edublogs.org,Non-binary,65.58.111.147\\n93,Talbert,Fotherby,tfotherby2k@tinypic.com,Bigender,131.100.66.109\\n94,Binnie,Weatherill,bweatherill2l@house.gov,Non-binary,12.190.131.232\\n95,Aprilette,Gornall,agornall2m@mapquest.com,Bigender,193.140.162.40\\n96,Kristos,Casbourne,kcasbourne2n@webs.com,Bigender,244.243.210.40\\n97,Warde,Melbourn,wmelbourn2o@theguardian.com,Genderqueer,180.145.144.217\\n98,Alethea,Boxe,aboxe2p@gravatar.com,Genderfluid,13.89.254.50\\n99,Rose,Schober,rschober2q@wunderground.com,Genderfluid,154.151.22.255\\n100,Hayyim,Edland,hedland2r@is.gd,Male,144.99.177.225\\n101,Petronilla,Issac,pissac2s@netscape.com,Polygender,40.33.224.95\\n102,Franzen,McCaster,fmccaster2t@facebook.com,Female,120.170.179.236\\n103,Stevie,Scalera,sscalera2u@163.com,Genderfluid,121.182.84.25\\n104,Freddie,Arzu,farzu2v@sina.com.cn,Male,197.124.46.127\\n105,Ibbie,Duddle,iduddle2w@mlb.com,Genderfluid,46.19.124.90\\n106,Florentia,Heaslip,fheaslip2x@weebly.com,Genderfluid,110.21.103.140\\n107,Loren,Clancy,lclancy2y@reference.com,Polygender,90.209.107.163\\n108,Thom,Beller,tbeller2z@linkedin.com,Male,183.161.153.241\\n109,Jereme,Etherson,jetherson30@4shared.com,Genderfluid,21.51.178.43\\n110,Charla,Punyer,cpunyer31@webs.com,Female,84.145.207.50\\n111,Malvina,Pocklington,mpocklington32@opensource.org,Bigender,236.172.234.61\\n112,Cece,Beacock,cbeacock33@jugem.jp,Non-binary,77.138.225.26\\n113,Carlie,Semeniuk,csemeniuk34@biblegateway.com,Genderfluid,8.239.121.231\\n114,Gene,Baversor,gbaversor35@businessinsider.com,Genderfluid,2.90.82.97\\n115,Rhys,De Nisco,rdenisco36@dailymail.co.uk,Genderfluid,252.51.14.100\\n116,Neda,Huortic,nhuortic37@sbwire.com,Non-binary,64.146.106.94\\n117,Lucilia,Charity,lcharity38@cafepress.com,Bigender,195.212.34.74\\n118,Glenna,Amesbury,gamesbury39@usgs.gov,Genderqueer,63.139.93.97\\n119,Siusan,Steutly,ssteutly3a@lycos.com,Female,41.19.149.66\\n120,Arte,Garden,agarden3b@theglobeandmail.com,Polygender,14.249.84.175\\n121,Erroll,Stockhill,estockhill3c@ibm.com,Agender,98.1.170.116\\n122,Rosamond,Hillett,rhillett3d@alibaba.com,Female,69.16.160.57\\n123,Denver,Tonks,dtonks3e@va.gov,Genderqueer,212.252.196.44\\n124,John,Eamer,jeamer3f@unicef.org,Non-binary,48.65.242.104\\n125,Adriano,Grimwade,agrimwade3g@jimdo.com,Female,251.112.140.159\\n126,Dena,Wyley,dwyley3h@cloudflare.com,Agender,109.4.105.129\\n127,Karena,Sciacovelli,ksciacovelli3i@dot.gov,Agender,0.59.42.187\\n128,Aleen,Badman,abadman3j@vkontakte.ru,Polygender,69.237.99.138\\n129,Robinett,Enstone,renstone3k@eventbrite.com,Genderqueer,170.43.204.109\\n130,Thelma,Greening,tgreening3l@bluehost.com,Female,141.35.153.151\\n131,Marsiella,Reinert,mreinert3m@yahoo.co.jp,Agender,109.131.183.210\\n132,Mathew,Allewell,mallewell3n@rediff.com,Polygender,236.186.17.29\\n133,Oran,Hunnicutt,ohunnicutt3o@gizmodo.com,Bigender,151.206.72.211\\n134,Parnell,Waples,pwaples3p@wired.com,Genderfluid,154.225.148.1\\n135,Gayelord,Pulsford,gpulsford3q@1688.com,Agender,238.43.168.53\\n136,Donal,Elsmore,delsmore3r@sourceforge.net,Bigender,201.140.131.92\\n137,Rodina,Fenimore,rfenimore3s@aboutads.info,Agender,45.178.194.72\\n138,Kyrstin,Niesing,kniesing3t@symantec.com,Female,76.144.36.181\\n139,Allyson,Hubbert,ahubbert3u@blogtalkradio.com,Agender,55.69.129.153\\n140,Codie,Cosgrave,ccosgrave3v@paypal.com,Male,42.173.219.77\\n141,Bronson,Connerry,bconnerry3w@nature.com,Bigender,31.83.73.68\\n142,Erv,Sperrett,esperrett3x@statcounter.com,Polygender,200.47.213.151\\n143,Malorie,Miners,mminers3y@forbes.com,Non-binary,16.185.200.91\\n144,Maurine,Batrop,mbatrop3z@gnu.org,Agender,186.76.244.234\\n145,Garnette,Clucas,gclucas40@si.edu,Polygender,11.117.194.171\\n146,Heath,Dilliston,hdilliston41@facebook.com,Female,221.175.217.55\\n147,Cathee,Mackinder,cmackinder42@themeforest.net,Bigender,208.58.168.243\\n148,Milzie,Gawkroge,mgawkroge43@blogs.com,Non-binary,39.98.189.101\\n149,Linus,Keeffe,lkeeffe44@un.org,Female,249.128.163.178\\n150,Iago,Bent,ibent45@t.co,Bigender,201.4.193.113\\n151,Troy,Humby,thumby46@altervista.org,Bigender,47.220.34.221\\n152,Leontyne,Lambarth,llambarth47@ning.com,Agender,157.61.164.159\\n153,Bing,Roft,broft48@jigsy.com,Polygender,44.125.88.124\\n154,Emili,Naris,enaris49@latimes.com,Bigender,19.137.97.2\\n155,Fancie,Blick,fblick4a@newyorker.com,Polygender,32.150.226.59\\n156,Euphemia,Plunket,eplunket4b@canalblog.com,Female,163.186.241.235\\n157,Katrinka,Arman,karman4c@cdc.gov,Bigender,241.208.124.29\\n158,Kalli,Folan,kfolan4d@tmall.com,Polygender,73.12.157.97\\n159,Tami,Bradick,tbradick4e@newsvine.com,Non-binary,241.206.238.61\\n160,Maxy,Bichener,mbichener4f@cdbaby.com,Genderfluid,121.221.28.68\\n161,Mathian,Regina,mregina4g@technorati.com,Bigender,113.134.107.227\\n162,Tatum,Eyes,teyes4h@ucla.edu,Genderfluid,44.134.195.236\\n163,Teddy,Robshaw,trobshaw4i@state.tx.us,Bigender,141.35.191.26\\n164,Darelle,Freeland,dfreeland4j@joomla.org,Genderfluid,210.158.44.54\\n165,Addy,Cure,acure4k@earthlink.net,Agender,44.232.78.77\\n166,Raviv,Ruskin,rruskin4l@ibm.com,Polygender,210.178.187.51\\n167,Maury,Henrichs,mhenrichs4m@ox.ac.uk,Genderqueer,104.2.119.2\\n168,Val,Urwin,vurwin4n@reuters.com,Polygender,143.60.124.111\\n169,Terri,Snooks,tsnooks4o@photobucket.com,Male,196.213.168.42\\n170,Leonore,Chesley,lchesley4p@storify.com,Polygender,3.44.150.56\\n171,Pepito,Syratt,psyratt4q@desdev.cn,Female,31.42.129.176\\n172,Ash,Adamovicz,aadamovicz4r@delicious.com,Agender,117.45.156.63\\n173,Dell,Stubbings,dstubbings4s@canalblog.com,Male,42.22.114.234\\n174,Winthrop,Dumphreys,wdumphreys4t@go.com,Polygender,69.11.57.14\\n175,Darsey,Facher,dfacher4u@example.com,Genderfluid,227.186.65.86\\n176,Phebe,Cottisford,pcottisford4v@w3.org,Genderqueer,26.163.50.73\\n177,Jolee,Baert,jbaert4w@eepurl.com,Genderqueer,51.2.22.143\\n178,Rowney,Vasilik,rvasilik4x@paypal.com,Bigender,170.62.154.72\\n179,Georgy,Vardon,gvardon4y@tinyurl.com,Non-binary,211.73.233.221\\n180,Julieta,Zettoi,jzettoi4z@earthlink.net,Agender,154.149.105.244\\n181,Kathleen,Tearney,ktearney50@histats.com,Female,70.130.158.161\\n182,Robina,Treadaway,rtreadaway51@aol.com,Genderqueer,133.11.70.182\\n183,Carmon,Hallgath,challgath52@loc.gov,Agender,186.200.154.204\\n184,Freddy,Rapier,frapier53@addtoany.com,Female,236.23.50.156\\n185,Darnell,Rany,drany54@howstuffworks.com,Genderqueer,137.238.236.235\\n186,Bartholomeo,Fatscher,bfatscher55@fda.gov,Female,27.131.37.60\\n187,Jannel,Fenix,jfenix56@irs.gov,Polygender,102.173.53.28\\n188,Clerc,de Bullion,cdebullion57@addthis.com,Female,188.195.54.41\\n189,Sioux,Gronaller,sgronaller58@ovh.net,Genderfluid,115.119.129.157\\n190,Gordie,Wind,gwind59@wp.com,Genderfluid,0.112.185.131\\n191,Nicki,Ebbing,nebbing5a@blinklist.com,Polygender,234.202.211.154\\n192,Alberik,Goodred,agoodred5b@ucoz.ru,Female,44.210.236.72\\n193,Gris,Fulton,gfulton5c@pagesperso-orange.fr,Genderfluid,68.27.191.104\\n194,Dyann,Jakubski,djakubski5d@pbs.org,Bigender,135.255.70.204\\n195,Juliane,Oldcote,joldcote5e@bravesites.com,Polygender,230.122.67.0\\n196,Byram,Dowey,bdowey5f@fema.gov,Non-binary,195.201.157.185\\n197,Adore,Stampe,astampe5g@howstuffworks.com,Polygender,93.140.120.49\\n198,Alia,Gibbe,agibbe5h@nymag.com,Agender,13.254.99.79\\n199,Vivi,Lamb-shine,vlambshine5i@dot.gov,Genderqueer,163.86.9.160\\n200,Lilias,Scudamore,lscudamore5j@scientificamerican.com,Genderfluid,45.139.137.214\\n201,Karney,Freckelton,kfreckelton5k@google.com.br,Bigender,198.143.145.84\\n202,Anestassia,Dudin,adudin5l@kickstarter.com,Agender,67.44.208.31\\n203,Lilla,Barchrameev,lbarchrameev5m@msn.com,Polygender,219.113.181.42\\n204,Cecily,Renol,crenol5n@amazon.co.uk,Genderfluid,191.205.197.250\\n205,Fred,Klimt,fklimt5o@ebay.com,Genderfluid,155.118.231.64\\n206,Donnajean,Bolger,dbolger5p@shinystat.com,Female,144.79.131.130\\n207,Gabriell,Tarte,gtarte5q@nymag.com,Non-binary,96.65.29.224\\n208,Revkah,Riggs,rriggs5r@narod.ru,Non-binary,197.250.93.211\\n209,Sandye,Penrice,spenrice5s@cmu.edu,Female,164.82.86.255\\n210,Hugo,Shee,hshee5t@umn.edu,Genderfluid,35.36.166.110\\n211,Temple,Broose,tbroose5u@seattletimes.com,Male,232.223.252.151\\n212,Elisabeth,Carnew,ecarnew5v@digg.com,Bigender,201.118.44.77\\n213,Shantee,Reinert,sreinert5w@gizmodo.com,Bigender,136.172.250.79\\n214,Regan,Babber,rbabber5x@gravatar.com,Bigender,172.36.108.252\\n215,Yettie,Litchmore,ylitchmore5y@engadget.com,Agender,61.218.58.44\\n216,Susan,Littlejohns,slittlejohns5z@creativecommons.org,Genderfluid,145.59.174.146\\n217,Christoper,Asher,casher60@miitbeian.gov.cn,Agender,175.165.167.231\\n218,Izabel,Stinton,istinton61@posterous.com,Non-binary,187.32.1.199\\n219,Reinaldo,Gatfield,rgatfield62@gnu.org,Genderqueer,36.117.4.242\\n220,Benedicto,Kleinsinger,bkleinsinger63@posterous.com,Female,0.239.94.36\\n221,Sterling,Base,sbase64@digg.com,Genderqueer,189.154.212.215\\n222,Scarlet,Dyka,sdyka65@bandcamp.com,Female,63.53.159.188\\n223,Antonie,Burland,aburland66@instagram.com,Bigender,102.137.251.205\\n224,Alberta,Maypother,amaypother67@themeforest.net,Genderfluid,48.133.34.174\\n225,Lilyan,Rablan,lrablan68@altervista.org,Non-binary,30.252.194.92\\n226,Rick,Trivett,rtrivett69@comsenz.com,Genderqueer,54.251.53.71\\n227,Tommie,Lackmann,tlackmann6a@nba.com,Male,29.88.138.169\\n228,Garald,Burgis,gburgis6b@kickstarter.com,Male,122.40.84.159\\n229,Gwyneth,Gilderoy,ggilderoy6c@geocities.com,Polygender,75.41.13.124\\n230,Carola,Goozee,cgoozee6d@shutterfly.com,Non-binary,41.12.183.1\\n231,Odele,Abeau,oabeau6e@fema.gov,Female,86.135.2.34\\n232,Leroy,Rosenfrucht,lrosenfrucht6f@ted.com,Non-binary,170.198.228.69\\n233,Larina,Coles,lcoles6g@list-manage.com,Female,125.55.38.66\\n234,Austine,Cruxton,acruxton6h@webmd.com,Non-binary,130.24.207.40\\n235,Florian,Rowney,frowney6i@prweb.com,Male,53.29.109.34\\n236,Danna,Firks,dfirks6j@ucsd.edu,Genderfluid,33.134.173.11\\n237,Helsa,Downing,hdowning6k@cpanel.net,Non-binary,1.24.33.85\\n238,Stanfield,Yarrington,syarrington6l@ebay.com,Male,69.173.176.108\\n239,Pat,Dmitriev,pdmitriev6m@wufoo.com,Agender,15.223.100.255\\n240,Marley,Keems,mkeems6n@globo.com,Female,112.36.187.164\\n241,Henri,Legat,hlegat6o@51.la,Bigender,43.81.226.72\\n242,Gonzalo,Beaston,gbeaston6p@lycos.com,Non-binary,177.148.113.207\\n243,Saul,Doswell,sdoswell6q@ezinearticles.com,Non-binary,166.91.34.254\\n244,Nicole,O'Doghesty,nodoghesty6r@washington.edu,Agender,179.50.27.200\\n245,Grannie,Alvy,galvy6s@dell.com,Genderfluid,97.208.130.228\\n246,Eveleen,Hawley,ehawley6t@tinyurl.com,Non-binary,104.143.4.199\\n247,Flem,Plumstead,fplumstead6u@jalbum.net,Non-binary,142.86.162.79\\n248,Maje,Cuolahan,mcuolahan6v@meetup.com,Male,113.220.183.254\\n249,Husain,Pressey,hpressey6w@ning.com,Non-binary,24.67.177.29\\n250,Mariel,McGeagh,mmcgeagh6x@tuttocitta.it,Agender,176.40.149.131\\n251,Farr,Cruxton,fcruxton6y@slashdot.org,Genderqueer,145.41.144.130\\n252,Rorke,Rozet,rrozet6z@princeton.edu,Genderfluid,178.100.72.220\\n253,Abbey,Hayden,ahayden70@tamu.edu,Genderqueer,85.212.245.5\\n254,Earlie,Girhard,egirhard71@buzzfeed.com,Female,84.9.105.100\\n255,Jazmin,Canape,jcanape72@a8.net,Genderqueer,106.161.158.49\\n256,Friedrick,Berceros,fberceros73@github.io,Non-binary,12.99.126.242\\n257,Gill,McCardle,gmccardle74@cmu.edu,Genderfluid,182.116.6.239\\n258,Nicky,Kellaway,nkellaway75@i2i.jp,Male,237.20.2.230\\n259,Zandra,Healeas,zhealeas76@seesaa.net,Female,121.17.104.145\\n260,Elbertine,Procter,eprocter77@oaic.gov.au,Non-binary,10.73.161.210\\n261,Claudetta,Adiscot,cadiscot78@wiley.com,Non-binary,171.2.33.113\\n262,Yves,Klug,yklug79@canalblog.com,Male,101.198.136.125\\n263,Marrissa,Cliffe,mcliffe7a@discuz.net,Genderfluid,237.165.247.113\\n264,Maurita,Sinderson,msinderson7b@geocities.com,Genderfluid,188.123.63.175\\n265,Daron,Leel,dleel7c@jiathis.com,Female,253.51.130.177\\n266,Christy,Bettlestone,cbettlestone7d@behance.net,Female,189.193.177.242\\n267,Benson,Simmell,bsimmell7e@imageshack.us,Male,15.178.50.183\\n268,Hew,Eastridge,heastridge7f@i2i.jp,Bigender,123.41.47.253\\n269,Antonia,Bert,abert7g@va.gov,Agender,168.229.213.198\\n270,Kerwinn,Kybert,kkybert7h@webs.com,Female,102.243.214.203\\n271,Petronille,Dealtry,pdealtry7i@goo.ne.jp,Polygender,75.85.89.228\\n272,Christine,Cullinan,ccullinan7j@biglobe.ne.jp,Genderfluid,78.25.70.148\\n273,Tisha,Ferronel,tferronel7k@phoca.cz,Genderfluid,114.199.121.228\\n274,Solomon,Glazer,sglazer7l@indiatimes.com,Genderqueer,66.99.140.2\\n275,Giovanni,Upward,gupward7m@multiply.com,Genderfluid,167.139.172.106\\n276,Barbabas,Strelitzer,bstrelitzer7n@vinaora.com,Bigender,253.132.152.109\\n277,Dode,Cawse,dcawse7o@themeforest.net,Male,107.197.219.192\\n278,Calida,Vynehall,cvynehall7p@youtube.com,Female,90.0.45.46\\n279,Gail,Wildbore,gwildbore7q@ovh.net,Female,116.3.99.64\\n280,Giacomo,Mahady,gmahady7r@cornell.edu,Male,97.57.73.240\\n281,Gladys,Runham,grunham7s@wunderground.com,Polygender,175.145.27.92\\n282,Basilio,Thornton-Dewhirst,bthorntondewhirst7t@domainmarket.com,Female,57.105.255.223\\n283,Amitie,Lamb,alamb7u@washington.edu,Agender,66.145.67.143\\n284,Almeta,Farquhar,afarquhar7v@google.ru,Polygender,21.31.11.214\\n285,Tristan,Sircomb,tsircomb7w@etsy.com,Agender,76.198.22.133\\n286,Koren,Germaine,kgermaine7x@shop-pro.jp,Genderfluid,193.122.242.248\\n287,Samara,Morrilly,smorrilly7y@creativecommons.org,Male,211.53.126.233\\n288,Tynan,Buggy,tbuggy7z@photobucket.com,Agender,192.182.71.51\\n289,Ashton,Allan,aallan80@google.cn,Female,221.130.124.161\\n290,Rina,Gavrielly,rgavrielly81@xinhuanet.com,Bigender,174.102.51.10\\n291,Helenka,Bilborough,hbilborough82@ezinearticles.com,Genderqueer,130.214.189.35\\n292,Leonhard,Tutill,ltutill83@microsoft.com,Agender,35.229.24.210\\n293,Boyce,Gerhts,bgerhts84@51.la,Non-binary,16.70.36.148\\n294,Paule,Gilleson,pgilleson85@china.com.cn,Bigender,81.239.233.38\\n295,Dennie,Pittoli,dpittoli86@paypal.com,Female,145.56.31.85\\n296,Aurelie,Fritchley,afritchley87@dailymotion.com,Non-binary,227.250.95.48\\n297,Lion,Kensit,lkensit88@altervista.org,Genderqueer,210.100.76.24\\n298,Heidie,Ould,hould89@theguardian.com,Non-binary,195.119.172.138\\n299,Curcio,LeEstut,cleestut8a@shutterfly.com,Genderfluid,193.45.201.233\\n300,Catarina,Bougourd,cbougourd8b@buzzfeed.com,Agender,52.105.241.177\\n301,Delila,Armes,darmes8c@domainmarket.com,Bigender,52.74.79.90\\n302,Wenda,Jones,wjones8d@sphinn.com,Agender,11.103.213.241\\n303,Kinna,Shreve,kshreve8e@deviantart.com,Polygender,79.46.105.70\\n304,Ian,O'Monahan,iomonahan8f@163.com,Bigender,120.15.103.23\\n305,Filmore,Castanares,fcastanares8g@geocities.com,Genderfluid,46.117.202.227\\n306,Dierdre,Doxsey,ddoxsey8h@hud.gov,Polygender,176.193.149.167\\n307,Hew,MacKenny,hmackenny8i@sbwire.com,Genderqueer,67.190.141.94\\n308,Maryann,Dunston,mdunston8j@homestead.com,Agender,167.242.59.110\\n309,Nell,Moorrud,nmoorrud8k@tinyurl.com,Non-binary,198.100.127.65\\n310,Donal,Cohan,dcohan8l@deliciousdays.com,Female,36.29.242.104\\n311,Joby,Kimbley,jkimbley8m@vinaora.com,Female,159.221.194.168\\n312,Shane,Evamy,sevamy8n@hubpages.com,Agender,202.166.50.103\\n313,Theo,Treadwell,ttreadwell8o@who.int,Polygender,226.53.172.206\\n314,Bambie,Arrighetti,barrighetti8p@ycombinator.com,Agender,36.27.197.125\\n315,Shelbi,Mullaney,smullaney8q@networkadvertising.org,Male,118.16.151.248\\n316,Quinta,Corneille,qcorneille8r@wisc.edu,Male,85.178.3.157\\n317,Kattie,Bayly,kbayly8s@nbcnews.com,Genderfluid,144.25.168.209\\n318,Lucienne,Etchells,letchells8t@uiuc.edu,Non-binary,95.128.251.174\\n319,Philippine,Hulk,phulk8u@tamu.edu,Female,88.219.252.118\\n320,Lonnie,Reichert,lreichert8v@bluehost.com,Male,70.109.209.11\\n321,Natividad,Kondrachenko,nkondrachenko8w@sphinn.com,Agender,27.34.245.158\\n322,Zena,McCumskay,zmccumskay8x@nsw.gov.au,Non-binary,103.120.246.37\\n323,Cly,Anfosso,canfosso8y@amazon.com,Genderfluid,39.97.136.0\\n324,Ann-marie,Denyukhin,adenyukhin8z@senate.gov,Genderfluid,50.28.97.191\\n325,Pinchas,Dornan,pdornan90@nih.gov,Bigender,231.55.196.45\\n326,Hadleigh,Guidelli,hguidelli91@goo.ne.jp,Bigender,219.109.59.14\\n327,Harmonia,Hischke,hhischke92@salon.com,Polygender,5.55.254.230\\n328,Dorris,Windrum,dwindrum93@shutterfly.com,Non-binary,177.139.16.74\\n329,Gustave,Salman,gsalman94@howstuffworks.com,Bigender,123.209.117.227\\n330,Pauline,Santos,psantos95@apple.com,Male,122.76.81.183\\n331,Florina,Cuncliffe,fcuncliffe96@spotify.com,Genderqueer,110.251.209.70\\n332,Ferris,Harvett,fharvett97@toplist.cz,Genderqueer,190.24.99.91\\n333,Mara,Pauli,mpauli98@yahoo.com,Agender,179.26.7.179\\n334,Sawyere,Dene,sdene99@linkedin.com,Polygender,86.128.75.242\\n335,Glyn,Cordall,gcordall9a@csmonitor.com,Bigender,63.167.71.246\\n336,Germayne,Tweed,gtweed9b@1688.com,Genderqueer,197.17.130.126\\n337,Dexter,Blumsom,dblumsom9c@marketwatch.com,Bigender,192.138.26.155\\n338,Shanon,Bonwick,sbonwick9d@bandcamp.com,Polygender,103.118.78.232\\n339,Clevey,Calvie,ccalvie9e@weebly.com,Genderqueer,16.48.167.57\\n340,Rosina,Heskey,rheskey9f@360.cn,Polygender,133.76.170.97\\n341,Sonia,Hobbert,shobbert9g@bandcamp.com,Male,168.191.224.32\\n342,Edan,Rummings,erummings9h@icq.com,Male,83.209.191.119\\n343,Clarence,Beldum,cbeldum9i@blogtalkradio.com,Genderqueer,196.79.135.12\\n344,Emilia,Walton,ewalton9j@usda.gov,Genderfluid,136.246.21.142\\n345,Lora,Greatland,lgreatland9k@dion.ne.jp,Bigender,73.75.224.84\\n346,Lamond,Ventam,lventam9l@craigslist.org,Polygender,52.54.11.185\\n347,Clarice,Mc Meekin,cmcmeekin9m@jalbum.net,Genderfluid,143.177.107.238\\n348,Ezri,Fetherston,efetherston9n@ezinearticles.com,Agender,163.238.105.230\\n349,Toddie,Garaghan,tgaraghan9o@privacy.gov.au,Agender,149.254.204.184\\n350,Salim,Laidel,slaidel9p@msu.edu,Male,189.24.235.54\\n351,Aleta,Illingworth,aillingworth9q@devhub.com,Genderfluid,95.249.42.88\\n352,Ruben,Cookes,rcookes9r@globo.com,Polygender,216.164.225.122\\n353,Constantina,Cordel,ccordel9s@aboutads.info,Agender,64.147.135.221\\n354,Roxana,Haylock,rhaylock9t@vk.com,Polygender,76.42.36.47\\n355,Glyn,Riddler,griddler9u@last.fm,Non-binary,0.142.66.254\\n356,Alain,Kidner,akidner9v@oracle.com,Female,154.189.74.233\\n357,Torre,Stokell,tstokell9w@pen.io,Genderfluid,6.121.68.237\\n358,Marsh,Buckles,mbuckles9x@livejournal.com,Polygender,86.177.178.19\\n359,Aube,Johanchon,ajohanchon9y@delicious.com,Bigender,3.213.188.235\\n360,Madge,Carlesi,mcarlesi9z@soup.io,Genderfluid,14.34.113.255\\n361,Maiga,Paynes,mpaynesa0@goodreads.com,Agender,25.85.213.179\\n362,Austin,Bollini,abollinia1@chicagotribune.com,Polygender,92.249.216.163\\n363,Derek,Veeler,dveelera2@unicef.org,Genderfluid,98.205.32.110\\n364,Vite,Kerford,vkerforda3@sciencedaily.com,Male,152.105.248.237\\n365,Bron,Wardale,bwardalea4@weather.com,Bigender,154.1.66.107\\n366,Krystyna,Emmerson,kemmersona5@drupal.org,Female,209.206.149.19\\n367,Edan,Guilloux,eguillouxa6@virginia.edu,Bigender,26.214.12.251\\n368,Pearla,Drescher,pdreschera7@icq.com,Agender,218.111.22.54\\n369,Nicola,Orcott,norcotta8@gnu.org,Bigender,134.202.66.158\\n370,Jeanne,Allett,jalletta9@illinois.edu,Polygender,174.239.92.39\\n371,Sawyer,Fifield,sfifieldaa@goodreads.com,Genderfluid,7.114.156.171\\n372,Nehemiah,Salisbury,nsalisburyab@youtube.com,Female,32.182.89.158\\n373,Ricca,Sterland,rsterlandac@geocities.jp,Male,108.183.53.15\\n374,Ingaborg,Creggan,icregganad@stanford.edu,Bigender,172.171.74.159\\n375,Hannis,McCathie,hmccathieae@mozilla.org,Male,129.69.92.148\\n376,Nels,McDunlevy,nmcdunlevyaf@cafepress.com,Bigender,25.12.234.77\\n377,Anselma,Grieveson,agrievesonag@gnu.org,Female,151.253.234.146\\n378,Cherise,Baggett,cbaggettah@ehow.com,Agender,43.79.136.130\\n379,Ardella,Fitchet,afitchetai@jigsy.com,Bigender,81.191.174.199\\n380,Sammy,Canelas,scanelasaj@princeton.edu,Bigender,247.81.137.95\\n381,Doloritas,Axby,daxbyak@netlog.com,Male,227.220.90.249\\n382,Amanda,Pharro,apharroal@foxnews.com,Polygender,129.115.250.93\\n383,Link,Durno,ldurnoam@apple.com,Genderqueer,206.168.252.149\\n384,Dominic,Fatscher,dfatscheran@foxnews.com,Agender,47.134.174.153\\n385,Almira,Cowsby,acowsbyao@tamu.edu,Bigender,133.183.134.212\\n386,Maxi,Pinar,mpinarap@taobao.com,Polygender,214.183.43.118\\n387,Rosette,Pettit,rpettitaq@feedburner.com,Agender,50.236.77.246\\n388,Huntlee,Wadesworth,hwadesworthar@state.gov,Genderqueer,216.205.69.120\\n389,Wendel,Laughnan,wlaughnanas@icio.us,Agender,22.110.90.60\\n390,Barney,Digan,bdiganat@marriott.com,Genderfluid,250.136.149.125\\n391,Lona,Durnall,ldurnallau@unicef.org,Genderqueer,71.224.184.122\\n392,Penni,Dooly,pdoolyav@eventbrite.com,Male,166.3.220.203\\n393,Averell,Work,aworkaw@ucoz.ru,Male,243.75.61.39\\n394,Eduard,Ivan,eivanax@state.gov,Genderfluid,194.8.216.95\\n395,Trula,Edwards,tedwardsay@cbsnews.com,Non-binary,11.123.201.254\\n396,Lisabeth,Crabb,lcrabbaz@pcworld.com,Male,62.34.200.204\\n397,Ulrica,Coulthard,ucoulthardb0@blog.com,Genderfluid,216.42.142.90\\n398,Harriott,McSweeney,hmcsweeneyb1@smh.com.au,Genderfluid,182.77.235.134\\n399,Wilmer,Riolfo,wriolfob2@dailymail.co.uk,Agender,141.17.245.138\\n400,Richie,Walcar,rwalcarb3@mediafire.com,Non-binary,199.165.135.156\\n401,Caria,Ortas,cortasb4@devhub.com,Agender,131.28.126.116\\n402,Lemar,Dobrowlski,ldobrowlskib5@instagram.com,Male,107.167.55.64\\n403,Candace,Veal,cvealb6@gov.uk,Polygender,94.90.11.49\\n404,Rabbi,Latchmore,rlatchmoreb7@prlog.org,Male,47.205.209.236\\n405,Analise,Jaquemar,ajaquemarb8@hibu.com,Genderqueer,129.112.201.173\\n406,Dmitri,Karpfen,dkarpfenb9@miibeian.gov.cn,Genderfluid,218.128.235.118\\n407,Wanids,Pistol,wpistolba@sfgate.com,Agender,224.117.51.0\\n408,Tymothy,Langstone,tlangstonebb@lulu.com,Female,103.128.179.12\\n409,Efren,Seagar,eseagarbc@deliciousdays.com,Genderqueer,8.210.180.11\\n410,Issi,Orwell,iorwellbd@smh.com.au,Agender,213.134.16.10\\n411,Nert,Tysack,ntysackbe@eventbrite.com,Genderqueer,57.55.177.128\\n412,Rudyard,Brunroth,rbrunrothbf@fema.gov,Genderqueer,143.190.85.216\\n413,Rebecca,Pasmore,rpasmorebg@smh.com.au,Polygender,54.39.81.223\\n414,Emanuele,Pond,epondbh@blogspot.com,Female,75.180.133.251\\n415,Mikey,Morsom,mmorsombi@yolasite.com,Agender,254.200.170.26\\n416,Averell,Murrock,amurrockbj@webeden.co.uk,Agender,129.15.48.6\\n417,Dominik,Tomsu,dtomsubk@hostgator.com,Bigender,64.30.249.1\\n418,Dasha,Newart,dnewartbl@purevolume.com,Agender,140.50.117.198\\n419,Boot,Whittock,bwhittockbm@vistaprint.com,Polygender,242.220.50.191\\n420,Tessa,Ney,tneybn@merriam-webster.com,Polygender,54.76.249.24\\n421,Lacie,Duckett,lduckettbo@dot.gov,Polygender,221.58.57.221\\n422,Dewitt,Inglish,dinglishbp@tumblr.com,Genderfluid,14.48.178.130\\n423,Elijah,Cahill,ecahillbq@goo.gl,Non-binary,211.62.61.15\\n424,Stepha,Cancellieri,scancellieribr@scientificamerican.com,Agender,138.150.136.124\\n425,Emilie,Mogie,emogiebs@macromedia.com,Genderfluid,57.139.116.76\\n426,Karyl,Bricknell,kbricknellbt@51.la,Bigender,81.149.37.31\\n427,Jenda,Bayford,jbayfordbu@noaa.gov,Male,88.43.62.134\\n428,Torry,MacRirie,tmacririebv@marketwatch.com,Male,171.216.134.118\\n429,Nert,Bakes,nbakesbw@foxnews.com,Agender,175.60.245.117\\n430,Louis,Tippler,ltipplerbx@wunderground.com,Genderqueer,39.246.149.44\\n431,Etienne,Durdan,edurdanby@narod.ru,Male,87.68.101.65\\n432,Sayers,Pettitt,spettittbz@mail.ru,Polygender,52.163.61.201\\n433,Agnes,Hoy,ahoyc0@engadget.com,Non-binary,9.140.100.35\\n434,Marget,Cottham,mcotthamc1@linkedin.com,Bigender,176.86.226.202\\n435,Ban,Sprules,bsprulesc2@addthis.com,Bigender,150.210.115.96\\n436,Clareta,Langhor,clanghorc3@xinhuanet.com,Genderqueer,25.122.133.46\\n437,Cammy,Zanni,czannic4@icq.com,Non-binary,129.72.229.34\\n438,Florentia,Growcock,fgrowcockc5@dot.gov,Male,210.43.189.16\\n439,Gerri,Whitchurch,gwhitchurchc6@mozilla.com,Genderqueer,98.221.60.20\\n440,Essa,Chappelle,echappellec7@ebay.co.uk,Bigender,31.26.139.173\\n441,Yolanthe,Pencott,ypencottc8@vimeo.com,Non-binary,6.173.62.106\\n442,Wolfie,Janik,wjanikc9@istockphoto.com,Male,7.60.115.253\\n443,Bernadene,Degoy,bdegoyca@state.gov,Polygender,134.115.112.237\\n444,Cristi,Haverty,chavertycb@squarespace.com,Polygender,132.253.3.120\\n445,Marius,Dowears,mdowearscc@tripadvisor.com,Non-binary,7.134.238.182\\n446,Anni,Vian,aviancd@tripadvisor.com,Female,132.53.22.34\\n447,Clary,Martinson,cmartinsonce@hhs.gov,Bigender,151.118.74.247\\n448,Deva,Redfern,dredferncf@amazonaws.com,Genderqueer,247.189.75.19\\n449,Jacklyn,Desborough,jdesboroughcg@dropbox.com,Female,83.1.59.119\\n450,Launce,Aldren,laldrench@cloudflare.com,Polygender,135.34.217.154\\n451,Curran,Wetherill,cwetherillci@soup.io,Male,171.43.209.102\\n452,Hallie,Roberto,hrobertocj@zimbio.com,Genderqueer,100.29.68.49\\n453,Bellina,Mancell,bmancellck@ihg.com,Non-binary,139.105.60.198\\n454,Aili,Gothup,agothupcl@spiegel.de,Male,148.136.213.23\\n455,Drugi,Prestidge,dprestidgecm@fc2.com,Polygender,2.118.187.23\\n456,Andra,Vidineev,avidineevcn@howstuffworks.com,Genderfluid,222.223.22.205\\n457,Sapphire,Gouge,sgougeco@mashable.com,Non-binary,4.59.71.9\\n458,Sayre,Grayling,sgraylingcp@naver.com,Male,180.141.76.249\\n459,Dare,Collyear,dcollyearcq@pcworld.com,Genderqueer,147.228.73.53\\n460,Vevay,Gillingwater,vgillingwatercr@wordpress.com,Non-binary,51.74.197.195\\n461,Zane,Wreford,zwrefordcs@microsoft.com,Agender,239.89.114.156\\n462,Alethea,Penburton,apenburtonct@devhub.com,Non-binary,0.249.166.50\\n463,Erl,Gillingwater,egillingwatercu@bloglines.com,Genderqueer,116.24.76.220\\n464,Eolanda,Hawse,ehawsecv@comsenz.com,Genderqueer,245.45.89.167\\n465,Lorene,Iacopo,liacopocw@utexas.edu,Genderqueer,14.59.255.217\\n466,Eal,Wisher,ewishercx@wisc.edu,Genderfluid,71.33.141.115\\n467,Leroy,McQuilty,lmcquiltycy@phoca.cz,Female,22.109.200.104\\n468,Augusta,Steanson,asteansoncz@wp.com,Agender,166.30.121.172\\n469,Marja,Schall,mschalld0@dyndns.org,Male,95.136.173.7\\n470,Myra,Bayston,mbaystond1@so-net.ne.jp,Genderqueer,79.56.64.83\\n471,Pacorro,Butts,pbuttsd2@omniture.com,Genderfluid,1.214.153.100\\n472,Fifi,Creamen,fcreamend3@furl.net,Bigender,224.2.211.150\\n473,Kellen,Sowerbutts,ksowerbuttsd4@msn.com,Bigender,190.5.8.35\\n474,Maggee,Kinnear,mkinneard5@zdnet.com,Non-binary,182.3.242.45\\n475,Elly,MacGowing,emacgowingd6@hp.com,Agender,230.18.212.254\\n476,Morgen,Melson,mmelsond7@reuters.com,Non-binary,183.79.71.3\\n477,Dannie,Grew,dgrewd8@seattletimes.com,Agender,46.57.238.83\\n478,Dione,O'Crigane,docriganed9@newyorker.com,Genderfluid,84.239.201.169\\n479,Fern,de Tocqueville,fdetocquevilleda@businessweek.com,Genderfluid,146.173.183.101\\n480,Humbert,Cass,hcassdb@biblegateway.com,Bigender,98.17.229.251\\n481,Hillard,Bland,hblanddc@friendfeed.com,Agender,95.191.182.247\\n482,Dora,Delacoste,ddelacostedd@yahoo.co.jp,Bigender,75.7.165.216\\n483,Esmeralda,Gerbi,egerbide@businessinsider.com,Genderfluid,180.192.146.72\\n484,Adair,Shurlock,ashurlockdf@cafepress.com,Agender,135.233.105.72\\n485,Allegra,Baldery,abalderydg@list-manage.com,Genderfluid,146.10.33.26\\n486,Arlee,Broxton,abroxtondh@skype.com,Polygender,62.254.242.0\\n487,Sigmund,Linner,slinnerdi@vistaprint.com,Agender,239.14.68.253\\n488,Cairistiona,Stichall,cstichalldj@blinklist.com,Agender,241.28.149.170\\n489,Buiron,Knolles-Green,bknollesgreendk@blogtalkradio.com,Non-binary,76.171.19.35\\n490,Brandy,Wickins,bwickinsdl@spiegel.de,Polygender,23.106.9.10\\n491,Fayina,Saben,fsabendm@jimdo.com,Male,204.203.60.165\\n492,Rycca,Gladebeck,rgladebeckdn@deviantart.com,Genderqueer,68.177.177.33\\n493,Kirbie,Olek,kolekdo@cafepress.com,Genderqueer,111.164.198.237\\n494,Rip,Blazejewski,rblazejewskidp@mapquest.com,Bigender,243.126.188.93\\n495,Benson,Maymond,bmaymonddq@nps.gov,Agender,79.88.20.94\\n496,Deeanne,Glaister,dglaisterdr@seattletimes.com,Female,158.238.235.115\\n497,Leonhard,Hamblington,lhamblingtonds@geocities.com,Genderfluid,56.148.50.180\\n498,Hailee,Leal,hlealdt@goodreads.com,Non-binary,151.153.90.235\\n499,Therine,Squelch,tsquelchdu@reuters.com,Female,45.142.144.137\\n500,Redford,Blincowe,rblincowedv@ucoz.com,Female,138.131.144.191\\n501,Barbee,Elderbrant,belderbrantdw@nba.com,Genderfluid,218.170.77.217\\n502,Clair,Crockley,ccrockleydx@phoca.cz,Male,202.205.6.206\\n503,Vin,Fitzgerald,vfitzgeralddy@craigslist.org,Male,68.145.229.96\\n504,Tedmund,Cornelius,tcorneliusdz@redcross.org,Agender,248.171.18.33\\n505,Derron,Daws,ddawse0@friendfeed.com,Bigender,248.107.10.106\\n506,Putnam,Finlaison,pfinlaisone1@kickstarter.com,Genderqueer,141.44.10.88\\n507,Randall,Tunno,rtunnoe2@cafepress.com,Polygender,204.56.132.36\\n508,Iggy,Peaden,ipeadene3@sina.com.cn,Female,239.240.113.166\\n509,Aila,Binder,abindere4@hc360.com,Agender,107.254.23.100\\n510,Petronia,Foresight,pforesighte5@nymag.com,Genderfluid,115.133.15.66\\n511,Janeta,Windrum,jwindrume6@amazon.com,Non-binary,107.55.197.166\\n512,Starr,Friatt,sfriatte7@redcross.org,Non-binary,189.232.230.80\\n513,Meade,Chatto,mchattoe8@bigcartel.com,Female,83.51.222.99\\n514,Allyn,Hungerford,ahungerforde9@google.de,Bigender,21.250.218.137\\n515,Sunny,McGavin,smcgavinea@newsvine.com,Agender,15.210.254.18\\n516,Lacie,Simeoli,lsimeolieb@jimdo.com,Genderfluid,117.4.109.155\\n517,Winona,Kennerknecht,wkennerknechtec@livejournal.com,Male,115.95.5.33\\n518,Maurie,Milleton,mmilletoned@elegantthemes.com,Bigender,137.226.174.166\\n519,Erroll,Oake,eoakeee@usgs.gov,Genderfluid,252.204.190.147\\n520,Albie,Rubertelli,arubertellief@telegraph.co.uk,Genderqueer,246.90.156.210\\n521,Rosanna,Millhill,rmillhilleg@icio.us,Female,207.241.149.213\\n522,Ilka,Whickman,iwhickmaneh@smh.com.au,Female,61.115.88.175\\n523,Johnna,Woltman,jwoltmanei@behance.net,Genderqueer,65.29.95.47\\n524,Willow,La Rosa,wlarosaej@cloudflare.com,Non-binary,112.184.251.241\\n525,Eba,Lantuff,elantuffek@weebly.com,Male,236.170.104.238\\n526,Patrice,Lovering,ploveringel@imgur.com,Male,108.33.252.81\\n527,Matthias,Churches,mchurchesem@blinklist.com,Genderfluid,203.193.87.192\\n528,Abagail,Tattershall,atattershallen@addtoany.com,Genderqueer,68.101.16.75\\n529,Carlina,Golton,cgoltoneo@admin.ch,Agender,73.212.173.73\\n530,Mervin,Shanley,mshanleyep@cmu.edu,Polygender,195.218.30.157\\n531,Michale,Kimmince,mkimminceeq@mediafire.com,Non-binary,47.86.105.18\\n532,Celisse,Teggin,ctegginer@ucla.edu,Female,247.192.207.231\\n533,Wyndham,Braddon,wbraddones@google.com.au,Agender,232.209.71.126\\n534,Kim,Wellbelove,kwellbeloveet@sakura.ne.jp,Genderfluid,88.174.65.188\\n535,Norma,Gregs,ngregseu@posterous.com,Genderfluid,194.78.155.84\\n536,Hamish,Rodgier,hrodgierev@deliciousdays.com,Female,222.77.157.49\\n537,Brigitte,Alsford,balsfordew@fc2.com,Non-binary,99.189.193.4\\n538,Rab,Coppins,rcoppinsex@digg.com,Polygender,77.189.176.176\\n539,Stella,Cressingham,scressinghamey@accuweather.com,Polygender,232.105.54.221\\n540,Dorice,Revel,drevelez@scientificamerican.com,Genderfluid,16.143.32.217\\n541,Issi,Bonnefin,ibonnefinf0@ebay.co.uk,Female,247.254.187.40\\n542,Jarad,Downage,jdownagef1@globo.com,Agender,219.39.113.174\\n543,Gay,Drennan,gdrennanf2@1und1.de,Bigender,29.10.104.64\\n544,Doy,Alkin,dalkinf3@mayoclinic.com,Genderfluid,58.227.168.172\\n545,Packston,Pettersen,ppettersenf4@huffingtonpost.com,Genderfluid,47.231.120.235\\n546,Francis,Bramhill,fbramhillf5@vistaprint.com,Genderfluid,6.126.246.216\\n547,Brady,MacKissack,bmackissackf6@java.com,Agender,150.167.27.150\\n548,Hanni,Jorin,hjorinf7@hatena.ne.jp,Polygender,21.215.180.65\\n549,Kin,Lutwidge,klutwidgef8@livejournal.com,Bigender,87.130.35.251\\n550,Demetria,Black,dblackf9@storify.com,Male,41.253.57.148\\n551,Grissel,Braidford,gbraidfordfa@google.co.uk,Agender,99.228.82.60\\n552,Phyllis,Kuschel,pkuschelfb@qq.com,Agender,172.191.230.138\\n553,Shane,Howsden,showsdenfc@nsw.gov.au,Bigender,83.136.51.243\\n554,Zaria,Lamball,zlamballfd@furl.net,Male,108.115.153.4\\n555,Quintina,Ozanne,qozannefe@homestead.com,Polygender,209.81.165.221\\n556,Dud,Cabble,dcabbleff@macromedia.com,Genderfluid,24.47.241.172\\n557,Stevie,Dooler,sdoolerfg@wiley.com,Bigender,188.227.182.178\\n558,Lazar,Handover,lhandoverfh@economist.com,Female,224.82.40.76\\n559,Krystalle,Burborough,kburboroughfi@gizmodo.com,Genderfluid,227.210.3.4\\n560,Trixi,Braley,tbraleyfj@nhs.uk,Non-binary,254.198.31.56\\n561,Lelia,Ferguson,lfergusonfk@csmonitor.com,Male,60.255.224.206\\n562,Hermione,Rubberts,hrubbertsfl@usa.gov,Genderqueer,186.232.97.136\\n563,Raynard,Murfin,rmurfinfm@usnews.com,Female,210.152.214.169\\n564,Leta,Prendeguest,lprendeguestfn@huffingtonpost.com,Non-binary,114.212.217.246\\n565,Darb,Matysik,dmatysikfo@canalblog.com,Polygender,171.161.172.234\\n566,Meta,Hazelgreave,mhazelgreavefp@utexas.edu,Agender,167.154.54.133\\n567,Izak,Miquelet,imiqueletfq@meetup.com,Bigender,186.120.236.160\\n568,Lion,Brauns,lbraunsfr@nps.gov,Bigender,8.181.69.42\\n569,Nickie,Clineck,nclineckfs@smugmug.com,Non-binary,52.240.77.172\\n570,Beatrice,Eddis,beddisft@ebay.co.uk,Genderqueer,154.254.224.83\\n571,Lorrayne,Reggler,lregglerfu@yahoo.co.jp,Agender,27.157.215.106\\n572,Svend,O'Donoghue,sodonoghuefv@printfriendly.com,Non-binary,129.164.66.64\\n573,Kaile,Ible,kiblefw@plala.or.jp,Genderqueer,109.102.232.84\\n574,Timmy,Baylay,tbaylayfx@shareasale.com,Male,97.234.125.242\\n575,Vaclav,Fulton,vfultonfy@odnoklassniki.ru,Genderfluid,254.106.138.148\\n576,Tyne,Lampaert,tlampaertfz@nature.com,Male,121.162.208.202\\n577,Shadow,Beslier,sbeslierg0@drupal.org,Bigender,17.107.188.71\\n578,Josselyn,Chretien,jchretieng1@digg.com,Genderfluid,88.175.225.139\\n579,Marius,Di Biagi,mdibiagig2@zimbio.com,Bigender,111.65.84.140\\n580,Tynan,Muzzall,tmuzzallg3@github.io,Polygender,177.245.54.58\\n581,Delinda,Moule,dmouleg4@bluehost.com,Agender,121.96.252.43\\n582,Zarla,Djorevic,zdjorevicg5@mozilla.org,Non-binary,206.73.168.35\\n583,Rosene,Prinn,rprinng6@parallels.com,Agender,20.82.30.21\\n584,Gaston,Sandes,gsandesg7@google.es,Genderfluid,194.153.154.188\\n585,Sanford,Vasyushkhin,svasyushkhing8@xinhuanet.com,Bigender,131.185.179.209\\n586,Sanderson,Kilius,skiliusg9@geocities.com,Genderfluid,237.54.70.99\\n587,Meredithe,Escoffier,mescoffierga@theglobeandmail.com,Genderqueer,185.0.224.175\\n588,Mischa,Deane,mdeanegb@wikia.com,Agender,50.118.101.27\\n589,Cordi,Satcher,csatchergc@nbcnews.com,Male,131.248.197.247\\n590,Dreddy,Lidgey,dlidgeygd@adobe.com,Agender,210.25.16.54\\n591,Alessandro,Stot,astotge@apache.org,Agender,190.89.86.37\\n592,Lanny,Pontin,lpontingf@ed.gov,Bigender,201.182.101.83\\n593,Sophronia,O'Keeffe,sokeeffegg@posterous.com,Agender,39.248.191.115\\n594,Devina,Sharrard,dsharrardgh@toplist.cz,Bigender,97.232.54.158\\n595,Rafi,Firebrace,rfirebracegi@cnet.com,Non-binary,89.93.241.32\\n596,Jesselyn,Sworne,jswornegj@ovh.net,Agender,137.176.154.177\\n597,Yvor,McKitterick,ymckitterickgk@icio.us,Male,54.236.189.37\\n598,Garreth,Jope,gjopegl@rediff.com,Genderqueer,2.4.32.49\\n599,Iris,Rigge,iriggegm@hibu.com,Non-binary,119.174.123.19\\n600,Garvin,Mary,gmarygn@dropbox.com,Bigender,139.166.8.122\\n601,Merry,Lally,mlallygo@oracle.com,Bigender,209.55.115.187\\n602,Tedd,Ciotto,tciottogp@discuz.net,Polygender,104.141.50.254\\n603,Hal,Peirson,hpeirsongq@sakura.ne.jp,Female,83.235.87.30\\n604,Berke,Aslet,basletgr@geocities.jp,Genderqueer,190.203.139.59\\n605,Maude,Mercer,mmercergs@psu.edu,Non-binary,99.73.225.181\\n606,Deane,Geibel,dgeibelgt@xrea.com,Agender,38.66.143.135\\n607,Raffarty,Montford,rmontfordgu@newyorker.com,Bigender,217.73.111.243\\n608,Vanda,Hamments,vhammentsgv@unesco.org,Male,29.57.135.216\\n609,Iorgo,Dwire,idwiregw@google.pl,Genderfluid,3.199.231.141\\n610,Barnard,Baltzar,bbaltzargx@odnoklassniki.ru,Female,163.147.63.118\\n611,Inga,Tolley,itolleygy@comcast.net,Agender,77.2.244.224\\n612,Luelle,Masterman,lmastermangz@yahoo.com,Male,7.44.227.124\\n613,Gae,Kettlewell,gkettlewellh0@nyu.edu,Agender,71.155.168.48\\n614,Jens,McGarrity,jmcgarrityh1@sciencedaily.com,Female,35.191.77.39\\n615,Clemmie,Claisse,cclaisseh2@uiuc.edu,Female,25.57.69.141\\n616,Ossie,Mellows,omellowsh3@geocities.jp,Bigender,196.223.92.150\\n617,Kathy,Huetson,khuetsonh4@mtv.com,Non-binary,155.10.93.121\\n618,Aleda,Sitford,asitfordh5@smh.com.au,Genderfluid,40.136.154.207\\n619,Franky,Shorto,fshortoh6@vimeo.com,Genderqueer,103.184.14.170\\n620,Elvira,MacNeillie,emacneillieh7@furl.net,Polygender,120.185.67.38\\n621,Ruthie,Concklin,rconcklinh8@ifeng.com,Genderfluid,137.203.77.117\\n622,Filbert,Minnis,fminnish9@bbb.org,Agender,122.219.116.37\\n623,Neils,Jendricke,njendrickeha@creativecommons.org,Genderfluid,178.87.5.8\\n624,Nikoletta,Macro,nmacrohb@netlog.com,Male,59.126.200.58\\n625,Denni,Cresar,dcresarhc@bigcartel.com,Genderfluid,157.151.63.175\\n626,Curran,Skipton,cskiptonhd@yandex.ru,Polygender,77.248.93.156\\n627,Cole,Reedshaw,creedshawhe@freewebs.com,Agender,110.135.59.14\\n628,Jarrett,Vernon,jvernonhf@linkedin.com,Male,167.165.242.246\\n629,Luella,Michell,lmichellhg@behance.net,Agender,228.134.22.252\\n630,Muffin,Salling,msallinghh@chicagotribune.com,Genderfluid,209.81.125.5\\n631,Bradley,Mullinger,bmullingerhi@washington.edu,Male,226.71.7.5\\n632,Prudy,Jeanesson,pjeanessonhj@discuz.net,Female,103.226.42.5\\n633,Lucine,Marlen,lmarlenhk@indiatimes.com,Bigender,128.62.181.208\\n634,Berget,Kigelman,bkigelmanhl@cnet.com,Bigender,8.174.203.119\\n635,Kirby,Jamblin,kjamblinhm@scribd.com,Genderqueer,197.114.83.237\\n636,Wenonah,Cominello,wcominellohn@thetimes.co.uk,Male,93.230.145.225\\n637,Maribelle,Guirard,mguirardho@sakura.ne.jp,Male,38.229.134.126\\n638,Mollee,Bladesmith,mbladesmithhp@hibu.com,Genderqueer,217.16.138.244\\n639,Kipper,Penzer,kpenzerhq@ow.ly,Non-binary,120.65.204.73\\n640,Ned,Hirche,nhirchehr@ebay.co.uk,Female,119.57.244.80\\n641,Levi,Goricke,lgorickehs@marketwatch.com,Female,220.18.171.35\\n642,Avrom,Lusgdin,alusgdinht@sphinn.com,Agender,44.140.188.110\\n643,Letta,Withringten,lwithringtenhu@blinklist.com,Genderqueer,221.255.123.247\\n644,Bogey,Moralas,bmoralashv@edublogs.org,Female,64.223.179.71\\n645,Gerianne,Aisthorpe,gaisthorpehw@sohu.com,Female,103.56.217.63\\n646,Brody,Hemms,bhemmshx@discuz.net,Male,104.23.185.22\\n647,Reade,Troctor,rtroctorhy@ed.gov,Female,93.16.108.119\\n648,Cherlyn,Blincoe,cblincoehz@a8.net,Female,204.248.225.102\\n649,Osbert,Lieb,oliebi0@abc.net.au,Genderqueer,110.45.148.49\\n650,Ethel,McIver,emciveri1@shinystat.com,Genderqueer,196.57.115.42\\n651,Fay,Staning,fstaningi2@google.com.hk,Polygender,43.232.84.114\\n652,Dulce,Londors,dlondorsi3@fastcompany.com,Male,61.46.77.83\\n653,Rock,Elacoate,relacoatei4@zimbio.com,Genderqueer,94.82.199.16\\n654,Cleopatra,Gedling,cgedlingi5@ftc.gov,Male,217.72.188.135\\n655,Stepha,Chetter,schetteri6@bizjournals.com,Female,28.158.232.176\\n656,Antony,Abthorpe,aabthorpei7@bloglovin.com,Genderqueer,73.237.92.243\\n657,Michael,Hanscombe,mhanscombei8@imdb.com,Genderqueer,62.11.241.169\\n658,Eberto,Matchitt,ematchitti9@stumbleupon.com,Genderfluid,0.44.119.122\\n659,Leontine,Cornewell,lcornewellia@imageshack.us,Female,63.219.82.241\\n660,Kellen,McKain,kmckainib@npr.org,Non-binary,240.78.223.93\\n661,Alexio,Plowes,aplowesic@hostgator.com,Agender,194.37.237.121\\n662,Ferdinanda,Finlay,ffinlayid@census.gov,Genderfluid,204.34.160.209\\n663,Shawn,Kliemann,skliemannie@seattletimes.com,Genderqueer,171.124.145.142\\n664,Quentin,Lockier,qlockierif@stumbleupon.com,Genderfluid,1.103.218.217\\n665,Burt,Franzini,bfranziniig@mediafire.com,Bigender,249.109.100.177\\n666,Benedicto,Breydin,bbreydinih@weibo.com,Genderqueer,240.92.17.48\\n667,Silas,Camamile,scamamileii@lulu.com,Genderqueer,162.107.122.230\\n668,Trixi,Nilles,tnillesij@wp.com,Female,98.251.110.175\\n669,Willy,Cregeen,wcregeenik@nationalgeographic.com,Genderqueer,117.169.218.154\\n670,Gib,Devanney,gdevanneyil@nba.com,Male,40.195.239.84\\n671,Holt,McHarry,hmcharryim@godaddy.com,Non-binary,159.53.92.184\\n672,Ninnette,Carlson,ncarlsonin@cmu.edu,Female,42.227.198.108\\n673,Arluene,Halls,ahallsio@lulu.com,Non-binary,46.112.146.246\\n674,Zarla,Cordel,zcordelip@cdbaby.com,Bigender,189.215.221.177\\n675,Frederigo,Edgett,fedgettiq@netlog.com,Polygender,127.44.161.218\\n676,Sherry,Salzen,ssalzenir@netlog.com,Agender,161.211.106.155\\n677,Corine,Narbett,cnarbettis@icq.com,Male,151.28.138.12\\n678,Sammie,Dows,sdowsit@cam.ac.uk,Genderfluid,161.76.174.96\\n679,Mandi,Giamo,mgiamoiu@walmart.com,Male,200.30.7.99\\n680,Rockie,Bony,rbonyiv@php.net,Female,232.181.235.199\\n681,Jere,Deavin,jdeaviniw@bing.com,Genderqueer,118.200.26.197\\n682,Kerrin,Quinnette,kquinnetteix@acquirethisname.com,Genderqueer,63.12.186.170\\n683,Winifield,Shipperbottom,wshipperbottomiy@businesswire.com,Polygender,68.207.218.207\\n684,Ariadne,Pusill,apusilliz@github.com,Male,79.231.170.4\\n685,Thorsten,Trainer,ttrainerj0@1688.com,Male,54.163.207.207\\n686,Lisha,Jennions,ljennionsj1@liveinternet.ru,Bigender,215.179.160.239\\n687,Allene,Dutteridge,adutteridgej2@gmpg.org,Agender,183.238.176.175\\n688,Caitlin,Songist,csongistj3@xinhuanet.com,Non-binary,46.35.132.128\\n689,Dare,Faherty,dfahertyj4@npr.org,Agender,114.66.225.195\\n690,Tiebout,Hysom,thysomj5@mozilla.org,Bigender,58.186.163.173\\n691,Darius,Emmens,demmensj6@nature.com,Bigender,232.83.206.200\\n692,Jesselyn,Venmore,jvenmorej7@biglobe.ne.jp,Genderqueer,32.159.75.27\\n693,Eileen,Ever,eeverj8@boston.com,Agender,106.184.145.10\\n694,Filide,Kruger,fkrugerj9@tamu.edu,Agender,90.173.145.211\\n695,Audra,Smythe,asmytheja@ifeng.com,Bigender,41.236.147.34\\n696,Brinn,Keeting,bkeetingjb@washingtonpost.com,Female,161.13.93.78\\n697,Jewel,Fain,jfainjc@sciencedirect.com,Bigender,193.64.114.30\\n698,Pavla,Marder,pmarderjd@simplemachines.org,Genderfluid,93.138.170.219\\n699,Jori,Gildroy,jgildroyje@meetup.com,Female,161.221.151.45\\n700,Randa,Ottley,rottleyjf@yahoo.com,Non-binary,3.190.180.105\\n701,Isadora,Lampbrecht,ilampbrechtjg@bing.com,Non-binary,127.67.19.203\\n702,Harri,Buy,hbuyjh@i2i.jp,Agender,100.168.255.154\\n703,Silvana,Beddoe,sbeddoeji@imgur.com,Male,195.124.44.167\\n704,Bianca,Claydon,bclaydonjj@taobao.com,Agender,4.17.243.8\\n705,Jacquenette,Evanson,jevansonjk@soundcloud.com,Genderqueer,9.92.126.9\\n706,Maurizia,Grollmann,mgrollmannjl@sourceforge.net,Polygender,4.146.43.149\\n707,Cortney,Squirrell,csquirrelljm@cafepress.com,Bigender,188.106.42.54\\n708,Amara,Btham,abthamjn@wp.com,Female,62.246.116.191\\n709,Gal,Salterne,gsalternejo@ask.com,Female,124.232.84.75\\n710,Emmaline,Cruikshanks,ecruikshanksjp@mozilla.org,Male,34.22.129.182\\n711,Nady,Lutty,nluttyjq@mozilla.org,Female,2.211.81.166\\n712,Sebastian,Harbord,sharbordjr@joomla.org,Polygender,110.53.253.36\\n713,Preston,Athowe,pathowejs@deliciousdays.com,Genderfluid,193.85.82.112\\n714,Roxanna,Danilenko,rdanilenkojt@kickstarter.com,Polygender,52.155.145.175\\n715,Rafaelita,Yapp,ryappju@wix.com,Genderqueer,206.106.226.164\\n716,Leonardo,Salleir,lsalleirjv@symantec.com,Genderqueer,241.129.111.28\\n717,Padraic,Maccraw,pmaccrawjw@clickbank.net,Polygender,43.251.224.29\\n718,Poul,Hillitt,phillittjx@mayoclinic.com,Genderfluid,33.33.79.78\\n719,Gina,Berzons,gberzonsjy@studiopress.com,Genderqueer,1.171.87.98\\n720,Ddene,Symmons,dsymmonsjz@msu.edu,Agender,27.138.144.109\\n721,Oralla,Causbey,ocausbeyk0@symantec.com,Male,129.22.99.118\\n722,Fredericka,Tassaker,ftassakerk1@amazon.com,Male,157.207.48.190\\n723,Concordia,Koene,ckoenek2@qq.com,Genderfluid,56.133.186.218\\n724,Paloma,Fawdrie,pfawdriek3@vistaprint.com,Female,173.208.24.210\\n725,Trenna,Llewelly,tllewellyk4@howstuffworks.com,Male,254.183.128.92\\n726,Sada,Limbourne,slimbournek5@mit.edu,Polygender,247.189.119.199\\n727,Dorry,Munden,dmundenk6@booking.com,Female,82.123.226.214\\n728,Franzen,Ardling,fardlingk7@hhs.gov,Genderfluid,49.27.148.139\\n729,Trip,Wakelam,twakelamk8@liveinternet.ru,Genderqueer,114.239.194.96\\n730,Susi,Filipczynski,sfilipczynskik9@vinaora.com,Bigender,228.42.150.52\\n731,Leontine,Flew,lflewka@mlb.com,Non-binary,254.34.19.149\\n732,Annabela,Younger,ayoungerkb@adobe.com,Male,237.136.20.168\\n733,Quincey,Rawsthorne,qrawsthornekc@tuttocitta.it,Polygender,157.58.138.147\\n734,Artur,Beuscher,abeuscherkd@macromedia.com,Bigender,232.66.158.118\\n735,Rodrigo,Cartledge,rcartledgeke@xrea.com,Non-binary,242.124.118.254\\n736,Gilly,Feckey,gfeckeykf@spiegel.de,Bigender,95.239.225.39\\n737,Tabina,Hellmer,thellmerkg@last.fm,Non-binary,68.222.55.142\\n738,Lutero,Elkin,lelkinkh@yahoo.com,Non-binary,35.31.74.129\\n739,Rosabel,D'Onise,rdoniseki@scientificamerican.com,Genderqueer,151.149.29.117\\n740,Nolie,Utteridge,nutteridgekj@salon.com,Male,95.198.64.202\\n741,Muffin,Mizzen,mmizzenkk@berkeley.edu,Polygender,69.97.226.185\\n742,Kelcy,Scroyton,kscroytonkl@who.int,Genderfluid,79.58.146.173\\n743,Nick,Biskupski,nbiskupskikm@fda.gov,Polygender,2.243.146.218\\n744,Augustine,Terbeck,aterbeckkn@cnbc.com,Bigender,71.12.142.181\\n745,Karee,Zumbusch,kzumbuschko@princeton.edu,Polygender,131.153.166.37\\n746,Mair,Matuskiewicz,mmatuskiewiczkp@seattletimes.com,Polygender,89.31.228.80\\n747,Melitta,Laneham,mlanehamkq@usnews.com,Non-binary,243.144.15.197\\n748,Hermy,Horrell,hhorrellkr@noaa.gov,Non-binary,87.50.172.4\\n749,Nate,Worsnap,nworsnapks@wordpress.org,Female,243.192.8.85\\n750,Aliza,Borleace,aborleacekt@home.pl,Agender,48.23.98.65\\n751,Viole,Shah,vshahku@washington.edu,Female,97.165.137.47\\n752,Desiri,Awton,dawtonkv@typepad.com,Female,1.234.234.182\\n753,Denni,Veljes,dveljeskw@fc2.com,Genderqueer,74.14.222.255\\n754,Erick,Patchett,epatchettkx@cmu.edu,Agender,51.125.78.39\\n755,Dora,Charlon,dcharlonky@dmoz.org,Genderqueer,234.168.248.84\\n756,Morley,Dymock,mdymockkz@flickr.com,Genderfluid,83.177.120.64\\n757,Misha,Simacek,msimacekl0@usda.gov,Bigender,248.130.113.214\\n758,Robina,Riquet,rriquetl1@wikipedia.org,Agender,94.246.113.216\\n759,Ransell,Lawrance,rlawrancel2@redcross.org,Female,6.128.151.133\\n760,Estrellita,Showt,eshowtl3@sphinn.com,Genderfluid,216.115.111.201\\n761,Kelsey,Steggals,ksteggalsl4@domainmarket.com,Genderfluid,54.142.246.21\\n762,Duane,Blacker,dblackerl5@dailymail.co.uk,Non-binary,11.100.132.157\\n763,Joelly,Monte,jmontel6@tiny.cc,Polygender,137.201.231.86\\n764,Renee,Hovert,rhovertl7@ed.gov,Female,111.83.167.168\\n765,Gilda,Garret,ggarretl8@ehow.com,Bigender,164.113.14.198\\n766,Brien,Thrasher,bthrasherl9@yelp.com,Non-binary,164.96.15.22\\n767,Wolfie,Elcott,welcottla@sina.com.cn,Genderqueer,229.168.106.227\\n768,Wendeline,McCarrick,wmccarricklb@bbc.co.uk,Polygender,73.22.49.228\\n769,Elwira,Cardnell,ecardnelllc@techcrunch.com,Bigender,100.147.28.161\\n770,Neely,McDonnell,nmcdonnellld@census.gov,Genderqueer,204.134.218.92\\n771,Crissie,Dongles,cdonglesle@theatlantic.com,Genderqueer,21.134.154.144\\n772,Elaine,Akister,eakisterlf@issuu.com,Agender,149.86.143.162\\n773,Wiatt,McCrea,wmccrealg@stumbleupon.com,Non-binary,131.157.199.109\\n774,Cazzie,Gilardoni,cgilardonilh@psu.edu,Female,143.164.232.40\\n775,Eachelle,Broun,ebrounli@foxnews.com,Bigender,230.93.60.77\\n776,Corilla,Fiorentino,cfiorentinolj@va.gov,Genderfluid,141.171.114.105\\n777,Hartwell,Triplett,htriplettlk@archive.org,Genderqueer,128.109.226.81\\n778,Carlee,Dailly,cdaillyll@123-reg.co.uk,Agender,93.54.237.177\\n779,Marice,Jarrel,mjarrellm@woothemes.com,Bigender,134.6.22.115\\n780,Ned,Whates,nwhatesln@techcrunch.com,Polygender,207.85.17.57\\n781,Barrie,Daniely,bdanielylo@clickbank.net,Female,132.232.154.216\\n782,Meridith,Dehmel,mdehmellp@hibu.com,Bigender,118.42.243.253\\n783,Darsie,Folley,dfolleylq@etsy.com,Genderqueer,199.180.94.158\\n784,John,Hinze,jhinzelr@parallels.com,Male,159.106.140.176\\n785,Jojo,Greggs,jgreggsls@amazon.com,Polygender,57.82.190.224\\n786,Jayson,Yanin,jyaninlt@theguardian.com,Female,118.166.247.1\\n787,Jere,Tregaskis,jtregaskislu@over-blog.com,Agender,49.7.133.236\\n788,Ophelia,Micheu,omicheulv@tamu.edu,Male,227.109.99.114\\n789,Aubree,Cowie,acowielw@weebly.com,Polygender,192.86.42.189\\n790,Dore,Herity,dheritylx@blogtalkradio.com,Male,65.184.182.1\\n791,Myrna,Nials,mnialsly@eepurl.com,Non-binary,161.126.235.0\\n792,Mada,Plowman,mplowmanlz@sfgate.com,Female,252.150.29.247\\n793,Chase,Rowling,crowlingm0@weather.com,Female,84.119.49.154\\n794,Sharlene,Fishenden,sfishendenm1@xinhuanet.com,Male,180.24.239.118\\n795,Gran,Cicconetti,gcicconettim2@artisteer.com,Genderqueer,200.23.3.249\\n796,Ann-marie,Huzzey,ahuzzeym3@google.cn,Genderqueer,242.102.140.181\\n797,Jeanie,Shillingford,jshillingfordm4@va.gov,Genderfluid,236.225.76.10\\n798,Teri,Yewdall,tyewdallm5@cnn.com,Female,5.154.225.180\\n799,Dara,Jachimiak,djachimiakm6@woothemes.com,Genderqueer,167.121.239.124\\n800,Derrik,Mackinder,dmackinderm7@oracle.com,Genderqueer,77.33.242.37\\n801,Genevieve,Lefridge,glefridgem8@bing.com,Female,122.220.177.8\\n802,Torie,Cockroft,tcockroftm9@youku.com,Bigender,131.174.224.225\\n803,Gertrud,Stern,gsternma@hud.gov,Genderqueer,20.38.52.12\\n804,Lyn,Ryce,lrycemb@purevolume.com,Non-binary,11.44.210.97\\n805,Issi,Siss,isissmc@ifeng.com,Agender,20.45.206.237\\n806,Marchall,Elster,melstermd@sun.com,Genderfluid,144.99.24.89\\n807,Son,Wiffen,swiffenme@fc2.com,Polygender,115.62.173.92\\n808,Courtenay,Songer,csongermf@stumbleupon.com,Polygender,141.58.12.1\\n809,Kevina,Hughf,khughfmg@redcross.org,Non-binary,254.243.45.162\\n810,Gilly,Crummay,gcrummaymh@google.cn,Male,26.105.153.124\\n811,Nollie,Vela,nvelami@mac.com,Genderfluid,138.26.75.68\\n812,Emlen,Locker,elockermj@miitbeian.gov.cn,Female,117.19.124.114\\n813,Cally,Lafond,clafondmk@clickbank.net,Male,246.3.27.164\\n814,Siouxie,Freegard,sfreegardml@chronoengine.com,Genderqueer,135.128.122.22\\n815,Ruthe,Mackney,rmackneymm@theglobeandmail.com,Non-binary,25.82.244.190\\n816,Ikey,Leeves,ileevesmn@unicef.org,Polygender,172.40.210.105\\n817,Humberto,Moresby,hmoresbymo@unc.edu,Female,35.175.57.73\\n818,Trevar,Bartolomeo,tbartolomeomp@feedburner.com,Female,237.176.35.253\\n819,Lucais,Woodwing,lwoodwingmq@linkedin.com,Male,75.117.155.231\\n820,Thedrick,Greenman,tgreenmanmr@arizona.edu,Bigender,138.7.203.12\\n821,Mikol,Walton,mwaltonms@dagondesign.com,Genderqueer,167.52.104.97\\n822,Collete,Kinde,ckindemt@narod.ru,Genderqueer,233.140.96.98\\n823,Cecilio,Doghartie,cdoghartiemu@scribd.com,Bigender,149.8.26.48\\n824,Gnni,Candish,gcandishmv@domainmarket.com,Female,16.169.154.107\\n825,Morton,Blakelock,mblakelockmw@thetimes.co.uk,Polygender,125.101.138.145\\n826,Rodolph,Mellmer,rmellmermx@disqus.com,Genderqueer,236.164.56.165\\n827,Margo,Sweatland,msweatlandmy@princeton.edu,Non-binary,140.33.99.132\\n828,Jordan,Linge,jlingemz@hatena.ne.jp,Non-binary,134.52.73.162\\n829,Kimbra,Parren,kparrenn0@samsung.com,Polygender,175.131.5.179\\n830,Scottie,Cheesley,scheesleyn1@creativecommons.org,Agender,64.124.34.119\\n831,Crysta,Devin,cdevinn2@google.ca,Polygender,142.65.126.204\\n832,Lona,Borkin,lborkinn3@indiatimes.com,Non-binary,31.95.149.187\\n833,Augustina,Rainbow,arainbown4@seattletimes.com,Agender,223.247.54.26\\n834,Townie,Gladdifh,tgladdifhn5@mail.ru,Agender,149.23.83.59\\n835,Opalina,Dunstan,odunstann6@people.com.cn,Female,23.183.252.169\\n836,Tamera,Falkingham,tfalkinghamn7@newyorker.com,Genderfluid,90.19.161.112\\n837,Lenette,Shine,lshinen8@theguardian.com,Agender,191.167.160.45\\n838,Tully,Cuvley,tcuvleyn9@ca.gov,Genderfluid,176.135.132.156\\n839,Leilah,Zmitruk,lzmitrukna@biglobe.ne.jp,Non-binary,27.36.81.18\\n840,Lynnell,Geddis,lgeddisnb@mlb.com,Female,40.24.133.240\\n841,Kelby,Endle,kendlenc@ihg.com,Genderfluid,7.195.207.156\\n842,Adair,Powling,apowlingnd@infoseek.co.jp,Male,251.220.94.220\\n843,Adams,Segrott,asegrottne@illinois.edu,Female,119.190.175.53\\n844,Fan,Mercik,fmerciknf@lycos.com,Male,57.156.180.198\\n845,Mark,Marchand,mmarchandng@bravesites.com,Male,200.43.131.108\\n846,Gaven,Jerisch,gjerischnh@twitpic.com,Polygender,207.133.230.141\\n847,Sile,Dissman,sdissmanni@sourceforge.net,Genderfluid,20.191.208.187\\n848,Kerry,Mulhall,kmulhallnj@amazon.de,Genderfluid,126.7.252.214\\n849,Chrystal,Tenaunt,ctenauntnk@globo.com,Polygender,251.188.74.52\\n850,Goldarina,Jimmison,gjimmisonnl@zimbio.com,Agender,141.229.228.183\\n851,Luis,Duffield,lduffieldnm@latimes.com,Male,0.49.68.86\\n852,Tadio,Derrell,tderrellnn@phoca.cz,Genderqueer,202.130.150.150\\n853,Wakefield,Bonicelli,wbonicellino@bravesites.com,Genderqueer,40.218.19.158\\n854,Fina,Gudahy,fgudahynp@mtv.com,Non-binary,124.34.220.188\\n855,Kizzee,Davydychev,kdavydychevnq@microsoft.com,Agender,242.147.127.88\\n856,Elvera,Whodcoat,ewhodcoatnr@tripadvisor.com,Non-binary,9.20.25.255\\n857,Anet,Ganforthe,aganforthens@globo.com,Bigender,47.7.229.144\\n858,Thomasina,Helix,thelixnt@soundcloud.com,Male,92.7.86.123\\n859,Kristi,Atlee,katleenu@blinklist.com,Agender,249.9.162.40\\n860,Hyatt,Liles,hlilesnv@toplist.cz,Non-binary,81.95.16.41\\n861,Milka,Bitterton,mbittertonnw@mozilla.org,Genderfluid,222.57.42.50\\n862,Onfroi,Klaassens,oklaassensnx@nps.gov,Female,239.103.219.96\\n863,Brady,Hailston,bhailstonny@qq.com,Non-binary,219.82.161.34\\n864,Alis,Drance,adrancenz@freewebs.com,Genderqueer,22.132.63.203\\n865,Abbey,Miners,aminerso0@studiopress.com,Agender,106.95.10.11\\n866,Griffin,Kempston,gkempstono1@apache.org,Genderfluid,157.130.10.154\\n867,Sansone,Melley,smelleyo2@domainmarket.com,Polygender,134.134.239.31\\n868,Rafferty,Lambird,rlambirdo3@diigo.com,Polygender,23.42.3.220\\n869,Olenka,Geering,ogeeringo4@digg.com,Non-binary,193.159.211.181\\n870,Wini,Baskett,wbasketto5@bloglines.com,Non-binary,179.183.109.60\\n871,Felipe,Ilyukhov,filyukhovo6@si.edu,Polygender,161.42.234.230\\n872,Gusti,MacAlister,gmacalistero7@51.la,Polygender,21.144.130.183\\n873,Yuma,Dowry,ydowryo8@storify.com,Non-binary,231.233.95.10\\n874,Charlean,Gover,cgovero9@reference.com,Genderfluid,177.199.185.122\\n875,Augusta,Tindall,atindalloa@paypal.com,Genderqueer,87.155.43.190\\n876,Erroll,Peddel,epeddelob@jiathis.com,Genderfluid,100.194.115.235\\n877,Ulick,Cathie,ucathieoc@csmonitor.com,Genderqueer,236.30.45.136\\n878,Nanni,Duffell,nduffellod@fastcompany.com,Genderfluid,4.52.191.100\\n879,Merrill,Malyon,mmalyonoe@php.net,Male,217.86.209.40\\n880,Dorella,Ledstone,dledstoneof@typepad.com,Agender,191.5.181.155\\n881,Joelle,MacAlees,jmacaleesog@illinois.edu,Non-binary,249.166.159.102\\n882,Drona,Samwell,dsamwelloh@imageshack.us,Agender,213.251.223.222\\n883,Nicolas,Staley,nstaleyoi@gravatar.com,Non-binary,211.190.189.20\\n884,Engelbert,Tellenbach,etellenbachoj@sitemeter.com,Male,43.32.248.239\\n885,Sylvia,Dovidian,sdovidianok@china.com.cn,Polygender,52.193.69.188\\n886,Freddie,Mishaw,fmishawol@sfgate.com,Bigender,123.128.87.250\\n887,Jarid,Jurek,jjurekom@spiegel.de,Non-binary,64.98.73.240\\n888,Elianora,O'Tierney,eotierneyon@twitter.com,Polygender,196.188.43.237\\n889,Marve,Thake,mthakeoo@wisc.edu,Genderqueer,107.61.119.230\\n890,Casar,Kaye,ckayeop@bloglovin.com,Female,97.99.196.150\\n891,Kiley,Cazin,kcazinoq@forbes.com,Agender,233.28.14.189\\n892,Susan,Muncaster,smuncasteror@wix.com,Bigender,249.114.4.81\\n893,Wylma,Gilardone,wgilardoneos@yellowbook.com,Polygender,120.47.0.250\\n894,Evered,MacKettrick,emackettrickot@cnet.com,Polygender,1.66.7.224\\n895,Tracie,Beecroft,tbeecroftou@answers.com,Agender,226.145.25.119\\n896,Auguste,Crossingham,acrossinghamov@ft.com,Genderfluid,167.107.44.234\\n897,Lexi,Crudge,lcrudgeow@soup.io,Genderqueer,251.109.38.224\\n898,Cyrille,Tourmell,ctourmellox@pagesperso-orange.fr,Agender,66.39.4.65\\n899,Ely,Petrus,epetrusoy@japanpost.jp,Polygender,44.74.24.224\\n900,Sharl,Molden,smoldenoz@xing.com,Polygender,235.126.69.81\\n901,Noelyn,Royans,nroyansp0@stumbleupon.com,Agender,138.207.90.25\\n902,Chaim,Southerden,csoutherdenp1@fema.gov,Non-binary,175.10.240.74\\n903,Caleb,Bennit,cbennitp2@photobucket.com,Female,172.8.56.152\\n904,Godfry,Saterweyte,gsaterweytep3@jimdo.com,Female,28.15.74.136\\n905,Salem,Mayworth,smayworthp4@blogtalkradio.com,Polygender,174.6.227.130\\n906,Sophie,Belt,sbeltp5@tmall.com,Genderqueer,144.225.145.34\\n907,Milena,Ioselev,mioselevp6@free.fr,Genderfluid,9.128.154.251\\n908,Dru,Scopham,dscophamp7@goo.gl,Genderfluid,148.27.81.25\\n909,Lanita,Fontell,lfontellp8@goodreads.com,Bigender,150.238.122.96\\n910,Avrit,Beathem,abeathemp9@ifeng.com,Bigender,125.95.188.143\\n911,Beverly,Claibourn,bclaibournpa@mlb.com,Genderqueer,81.148.116.240\\n912,Teresina,Manass,tmanasspb@gmpg.org,Non-binary,135.8.157.84\\n913,Morry,Truitt,mtruittpc@xinhuanet.com,Genderfluid,59.45.194.239\\n914,Vickie,Dugall,vdugallpd@utexas.edu,Non-binary,134.137.221.155\\n915,Celesta,Tavernor,ctavernorpe@phpbb.com,Polygender,7.141.158.171\\n916,Beitris,Cranidge,bcranidgepf@tinyurl.com,Genderfluid,34.1.249.97\\n917,Feliks,Shaudfurth,fshaudfurthpg@fastcompany.com,Polygender,92.183.255.158\\n918,Farah,Donaghie,fdonaghieph@google.nl,Genderqueer,81.191.24.139\\n919,Israel,Jumont,ijumontpi@elpais.com,Male,13.227.18.54\\n920,Alikee,Tomaszkiewicz,atomaszkiewiczpj@indiatimes.com,Non-binary,35.190.99.200\\n921,Augy,Bound,aboundpk@bluehost.com,Agender,31.159.139.54\\n922,Norry,Seivwright,nseivwrightpl@e-recht24.de,Male,26.187.190.85\\n923,Farica,Wapple,fwapplepm@un.org,Non-binary,149.12.99.4\\n924,Janetta,Gulliford,jgullifordpn@google.co.jp,Bigender,196.206.125.91\\n925,Silvanus,Jenicke,sjenickepo@disqus.com,Agender,71.217.104.122\\n926,Colin,Justis,cjustispp@deliciousdays.com,Polygender,103.251.63.227\\n927,Edan,Ruecastle,eruecastlepq@jigsy.com,Male,85.98.0.129\\n928,Lance,Brugemann,lbrugemannpr@prnewswire.com,Polygender,23.10.153.225\\n929,Luelle,Grombridge,lgrombridgeps@people.com.cn,Genderqueer,75.113.5.28\\n930,Lona,Woollam,lwoollampt@cbslocal.com,Non-binary,166.230.2.220\\n931,Lucine,Bambery,lbamberypu@amazon.com,Polygender,49.104.5.225\\n932,Rhiamon,Botton,rbottonpv@usda.gov,Agender,216.245.172.229\\n933,Jacquenette,Kenn,jkennpw@europa.eu,Polygender,29.128.10.205\\n934,Marigold,Sprake,msprakepx@studiopress.com,Polygender,4.180.29.242\\n935,Maxwell,Isaacson,misaacsonpy@mysql.com,Genderfluid,135.251.61.247\\n936,Anet,Ferrey,aferreypz@nyu.edu,Polygender,93.209.105.63\\n937,Mair,Priddy,mpriddyq0@microsoft.com,Agender,21.136.168.186\\n938,Berkie,Pinkney,bpinkneyq1@squidoo.com,Non-binary,133.9.201.132\\n939,Salem,Di Iorio,sdiiorioq2@bizjournals.com,Male,86.133.30.203\\n940,Bebe,Costy,bcostyq3@pen.io,Genderfluid,85.136.10.194\\n941,Tamma,Symcox,tsymcoxq4@nps.gov,Genderfluid,131.119.170.227\\n942,Tonye,Strothers,tstrothersq5@nytimes.com,Genderfluid,21.180.15.28\\n943,Donella,Sabie,dsabieq6@ibm.com,Agender,240.87.226.233\\n944,Sarajane,Smickle,ssmickleq7@msu.edu,Male,253.225.201.58\\n945,Trenton,Petyankin,tpetyankinq8@accuweather.com,Genderfluid,12.170.181.21\\n946,Klara,Vardy,kvardyq9@ebay.com,Genderfluid,47.52.89.86\\n947,Lexy,Matthias,lmatthiasqa@spotify.com,Polygender,205.115.142.234\\n948,Tomaso,Lockley,tlockleyqb@xrea.com,Non-binary,207.187.18.55\\n949,Aveline,Dowsett,adowsettqc@163.com,Genderqueer,131.93.123.205\\n950,Ethe,Gilmour,egilmourqd@youtube.com,Genderfluid,146.105.245.148\\n951,Valencia,Kertess,vkertessqe@toplist.cz,Female,222.222.221.237\\n952,Esdras,Pudner,epudnerqf@columbia.edu,Female,202.48.205.27\\n953,Hilarius,Baybutt,hbaybuttqg@wikispaces.com,Non-binary,0.43.64.248\\n954,Bryce,Lusty,blustyqh@taobao.com,Genderqueer,89.190.200.111\\n955,Shauna,Gewer,sgewerqi@webs.com,Agender,231.176.92.173\\n956,Davida,Hinkens,dhinkensqj@house.gov,Polygender,74.242.196.160\\n957,Poul,Coombe,pcoombeqk@cargocollective.com,Bigender,200.206.224.21\\n958,Shell,Pitchers,spitchersql@yahoo.co.jp,Bigender,92.144.128.141\\n959,Eal,Byers,ebyersqm@rambler.ru,Non-binary,166.47.96.48\\n960,Cariotta,Capes,ccapesqn@feedburner.com,Bigender,167.26.78.119\\n961,Hilary,Huriche,hhuricheqo@vkontakte.ru,Bigender,77.12.143.198\\n962,Sherline,Reuven,sreuvenqp@imgur.com,Male,73.78.82.46\\n963,Otto,Newbury,onewburyqq@altervista.org,Agender,187.27.49.154\\n964,Robinet,Mickan,rmickanqr@dailymotion.com,Genderfluid,47.229.12.183\\n965,Faith,McGonigal,fmcgonigalqs@typepad.com,Polygender,212.189.251.131\\n966,Jaymee,Frarey,jfrareyqt@jalbum.net,Genderfluid,216.87.27.107\\n967,Ash,Keetley,akeetleyqu@washingtonpost.com,Polygender,96.13.206.213\\n968,Elli,Kinkead,ekinkeadqv@pagesperso-orange.fr,Female,186.181.108.150\\n969,Shoshana,Lanfranconi,slanfranconiqw@ow.ly,Polygender,98.180.79.238\\n970,Kendal,Gerardeaux,kgerardeauxqx@t-online.de,Genderqueer,229.37.236.222\\n971,Neel,Iacomini,niacominiqy@webeden.co.uk,Genderqueer,150.222.6.156\\n972,Opaline,Palfrie,opalfrieqz@photobucket.com,Male,157.186.8.107\\n973,Marji,Robak,mrobakr0@smh.com.au,Genderqueer,205.106.119.179\\n974,Jordan,Godard,jgodardr1@networksolutions.com,Genderqueer,64.63.175.248\\n975,Odella,Desbrow,odesbrowr2@e-recht24.de,Bigender,213.91.131.156\\n976,Cristiano,Chasier,cchasierr3@dion.ne.jp,Female,190.245.151.132\\n977,Noreen,Seccombe,nseccomber4@netvibes.com,Agender,31.255.125.147\\n978,Janaya,Sinclair,jsinclairr5@canalblog.com,Non-binary,255.250.28.198\\n979,Frankie,Robet,frobetr6@squarespace.com,Non-binary,243.93.221.159\\n980,Ed,Klaaasen,eklaaasenr7@cmu.edu,Male,227.197.221.237\\n981,Trefor,Adacot,tadacotr8@ca.gov,Genderqueer,91.54.221.147\\n982,Ambrosius,Doddrell,adoddrellr9@bloomberg.com,Female,113.249.193.69\\n983,Ellette,Couves,ecouvesra@go.com,Agender,135.187.164.75\\n984,Daria,Jermy,djermyrb@yandex.ru,Female,204.216.232.157\\n985,Khalil,Simnor,ksimnorrc@issuu.com,Genderfluid,188.41.93.67\\n986,Kassie,Hawkin,khawkinrd@netvibes.com,Polygender,233.173.223.170\\n987,Emmeline,Overbury,eoverburyre@mediafire.com,Genderqueer,169.86.185.182\\n988,Linc,Cumes,lcumesrf@1688.com,Non-binary,40.93.176.29\\n989,Nollie,Beadon,nbeadonrg@mail.ru,Genderqueer,234.88.122.208\\n990,Renault,Chadbourn,rchadbournrh@amazon.com,Female,37.137.149.125\\n991,Conny,Allawy,callawyri@geocities.com,Non-binary,164.213.34.99\\n992,Walliw,Timlin,wtimlinrj@spotify.com,Female,65.250.175.59\\n993,Norry,Sweeting,nsweetingrk@sun.com,Genderqueer,131.57.198.227\\n994,Jessy,Demangeon,jdemangeonrl@symantec.com,Genderfluid,153.249.169.95\\n995,Agace,Dumbelton,adumbeltonrm@guardian.co.uk,Female,237.106.162.205\\n996,Jodie,Blazewski,jblazewskirn@squarespace.com,Male,63.59.224.126\\n997,Kissie,Baylis,kbaylisro@github.com,Bigender,253.248.113.240\\n998,Enos,Stallon,estallonrp@nydailynews.com,Agender,240.234.192.253\\n999,Elizabet,Bernon,ebernonrq@netscape.com,Male,83.209.25.229\\n1000,Wilek,Trembey,wtrembeyrr@dailymotion.com,Bigender,234.117.70.150\\n\"}"
            ]
          },
          "metadata": {},
          "execution_count": 64
        }
      ]
    },
    {
      "cell_type": "code",
      "metadata": {
        "colab": {
          "base_uri": "https://localhost:8080/"
        },
        "id": "cTmMTA4Ai0nl",
        "outputId": "48acb628-2227-46cc-f015-b9c7fb73944b"
      },
      "source": [
        "!ls\n"
      ],
      "execution_count": null,
      "outputs": [
        {
          "output_type": "stream",
          "name": "stdout",
          "text": [
            "MOCK_DATA.csv  Presion_Sistolica.csv  sample_data\n"
          ]
        }
      ]
    },
    {
      "cell_type": "code",
      "metadata": {
        "id": "EYRMBaKxi59S",
        "colab": {
          "base_uri": "https://localhost:8080/",
          "height": 424
        },
        "outputId": "017500b8-fbc8-4bee-c713-e68f73455819"
      },
      "source": [
        "df=pd.read_csv(\"MOCK_DATA.csv\")\n",
        "df"
      ],
      "execution_count": null,
      "outputs": [
        {
          "output_type": "execute_result",
          "data": {
            "text/html": [
              "<div>\n",
              "<style scoped>\n",
              "    .dataframe tbody tr th:only-of-type {\n",
              "        vertical-align: middle;\n",
              "    }\n",
              "\n",
              "    .dataframe tbody tr th {\n",
              "        vertical-align: top;\n",
              "    }\n",
              "\n",
              "    .dataframe thead th {\n",
              "        text-align: right;\n",
              "    }\n",
              "</style>\n",
              "<table border=\"1\" class=\"dataframe\">\n",
              "  <thead>\n",
              "    <tr style=\"text-align: right;\">\n",
              "      <th></th>\n",
              "      <th>id</th>\n",
              "      <th>first_name</th>\n",
              "      <th>last_name</th>\n",
              "      <th>email</th>\n",
              "      <th>gender</th>\n",
              "      <th>ip_address</th>\n",
              "    </tr>\n",
              "  </thead>\n",
              "  <tbody>\n",
              "    <tr>\n",
              "      <th>0</th>\n",
              "      <td>1</td>\n",
              "      <td>Agretha</td>\n",
              "      <td>Whitwood</td>\n",
              "      <td>awhitwood0@github.com</td>\n",
              "      <td>Genderqueer</td>\n",
              "      <td>33.171.238.185</td>\n",
              "    </tr>\n",
              "    <tr>\n",
              "      <th>1</th>\n",
              "      <td>2</td>\n",
              "      <td>Elsworth</td>\n",
              "      <td>Agutter</td>\n",
              "      <td>eagutter1@flickr.com</td>\n",
              "      <td>Male</td>\n",
              "      <td>105.66.55.90</td>\n",
              "    </tr>\n",
              "    <tr>\n",
              "      <th>2</th>\n",
              "      <td>3</td>\n",
              "      <td>Eimile</td>\n",
              "      <td>Lathwell</td>\n",
              "      <td>elathwell2@blinklist.com</td>\n",
              "      <td>Genderqueer</td>\n",
              "      <td>71.154.9.190</td>\n",
              "    </tr>\n",
              "    <tr>\n",
              "      <th>3</th>\n",
              "      <td>4</td>\n",
              "      <td>Andonis</td>\n",
              "      <td>Menloe</td>\n",
              "      <td>amenloe3@indiatimes.com</td>\n",
              "      <td>Non-binary</td>\n",
              "      <td>123.240.165.81</td>\n",
              "    </tr>\n",
              "    <tr>\n",
              "      <th>4</th>\n",
              "      <td>5</td>\n",
              "      <td>Clotilda</td>\n",
              "      <td>Duckit</td>\n",
              "      <td>cduckit4@bloglovin.com</td>\n",
              "      <td>Non-binary</td>\n",
              "      <td>30.159.234.163</td>\n",
              "    </tr>\n",
              "    <tr>\n",
              "      <th>...</th>\n",
              "      <td>...</td>\n",
              "      <td>...</td>\n",
              "      <td>...</td>\n",
              "      <td>...</td>\n",
              "      <td>...</td>\n",
              "      <td>...</td>\n",
              "    </tr>\n",
              "    <tr>\n",
              "      <th>995</th>\n",
              "      <td>996</td>\n",
              "      <td>Jodie</td>\n",
              "      <td>Blazewski</td>\n",
              "      <td>jblazewskirn@squarespace.com</td>\n",
              "      <td>Male</td>\n",
              "      <td>63.59.224.126</td>\n",
              "    </tr>\n",
              "    <tr>\n",
              "      <th>996</th>\n",
              "      <td>997</td>\n",
              "      <td>Kissie</td>\n",
              "      <td>Baylis</td>\n",
              "      <td>kbaylisro@github.com</td>\n",
              "      <td>Bigender</td>\n",
              "      <td>253.248.113.240</td>\n",
              "    </tr>\n",
              "    <tr>\n",
              "      <th>997</th>\n",
              "      <td>998</td>\n",
              "      <td>Enos</td>\n",
              "      <td>Stallon</td>\n",
              "      <td>estallonrp@nydailynews.com</td>\n",
              "      <td>Agender</td>\n",
              "      <td>240.234.192.253</td>\n",
              "    </tr>\n",
              "    <tr>\n",
              "      <th>998</th>\n",
              "      <td>999</td>\n",
              "      <td>Elizabet</td>\n",
              "      <td>Bernon</td>\n",
              "      <td>ebernonrq@netscape.com</td>\n",
              "      <td>Male</td>\n",
              "      <td>83.209.25.229</td>\n",
              "    </tr>\n",
              "    <tr>\n",
              "      <th>999</th>\n",
              "      <td>1000</td>\n",
              "      <td>Wilek</td>\n",
              "      <td>Trembey</td>\n",
              "      <td>wtrembeyrr@dailymotion.com</td>\n",
              "      <td>Bigender</td>\n",
              "      <td>234.117.70.150</td>\n",
              "    </tr>\n",
              "  </tbody>\n",
              "</table>\n",
              "<p>1000 rows × 6 columns</p>\n",
              "</div>"
            ],
            "text/plain": [
              "       id first_name  ...       gender       ip_address\n",
              "0       1    Agretha  ...  Genderqueer   33.171.238.185\n",
              "1       2   Elsworth  ...         Male     105.66.55.90\n",
              "2       3     Eimile  ...  Genderqueer     71.154.9.190\n",
              "3       4    Andonis  ...   Non-binary   123.240.165.81\n",
              "4       5   Clotilda  ...   Non-binary   30.159.234.163\n",
              "..    ...        ...  ...          ...              ...\n",
              "995   996      Jodie  ...         Male    63.59.224.126\n",
              "996   997     Kissie  ...     Bigender  253.248.113.240\n",
              "997   998       Enos  ...      Agender  240.234.192.253\n",
              "998   999   Elizabet  ...         Male    83.209.25.229\n",
              "999  1000      Wilek  ...     Bigender   234.117.70.150\n",
              "\n",
              "[1000 rows x 6 columns]"
            ]
          },
          "metadata": {},
          "execution_count": 66
        }
      ]
    }
  ]
}