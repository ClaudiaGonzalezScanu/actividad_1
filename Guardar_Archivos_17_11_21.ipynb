{
  "nbformat": 4,
  "nbformat_minor": 0,
  "metadata": {
    "colab": {
      "name": "Guardar_Archivos_17_11_21.ipynb",
      "provenance": [],
      "collapsed_sections": [],
      "include_colab_link": true
    },
    "kernelspec": {
      "name": "python3",
      "display_name": "Python 3"
    },
    "language_info": {
      "name": "python"
    }
  },
  "cells": [
    {
      "cell_type": "markdown",
      "metadata": {
        "id": "view-in-github",
        "colab_type": "text"
      },
      "source": [
        "<a href=\"https://colab.research.google.com/github/ClaudiaGonzalezScanu/aprendiendo_python/blob/main/Guardar_Archivos_17_11_21.ipynb\" target=\"_parent\"><img src=\"https://colab.research.google.com/assets/colab-badge.svg\" alt=\"Open In Colab\"/></a>"
      ]
    },
    {
      "cell_type": "code",
      "metadata": {
        "colab": {
          "base_uri": "https://localhost:8080/"
        },
        "id": "cB1DySV7mgGk",
        "outputId": "2e403bd4-a870-4c7e-a84d-84e05dfc5253"
      },
      "source": [
        "%%writefile texto.txt\n",
        "esta es una prueba de creación de archivos\n",
        "segunda linea\n",
        "otra linea"
      ],
      "execution_count": null,
      "outputs": [
        {
          "output_type": "stream",
          "name": "stdout",
          "text": [
            "Writing texto.txt\n"
          ]
        }
      ]
    },
    {
      "cell_type": "code",
      "metadata": {
        "colab": {
          "base_uri": "https://localhost:8080/"
        },
        "id": "hty0MKvUm00X",
        "outputId": "348d6d74-84cf-439f-b6ef-7011aa3d2664"
      },
      "source": [
        "!ls\n"
      ],
      "execution_count": null,
      "outputs": [
        {
          "output_type": "stream",
          "name": "stdout",
          "text": [
            "sample_data  texto.txt\n"
          ]
        }
      ]
    },
    {
      "cell_type": "code",
      "metadata": {
        "colab": {
          "base_uri": "https://localhost:8080/"
        },
        "id": "Wy5prpmIm5wh",
        "outputId": "09ef4ab8-8b23-4f7e-a489-2ea704034874"
      },
      "source": [
        "myfile=open(\"texto.txt\")\n",
        "myfile"
      ],
      "execution_count": null,
      "outputs": [
        {
          "output_type": "execute_result",
          "data": {
            "text/plain": [
              "<_io.TextIOWrapper name='texto.txt' mode='r' encoding='UTF-8'>"
            ]
          },
          "metadata": {},
          "execution_count": 3
        }
      ]
    },
    {
      "cell_type": "code",
      "metadata": {
        "colab": {
          "base_uri": "https://localhost:8080/"
        },
        "id": "viSTBJffnE_M",
        "outputId": "b2610474-ab2e-4aea-ed23-6a9860bf33e2"
      },
      "source": [
        "myfile.seek(0)\n",
        "content=myfile.read()\n",
        "print(content)"
      ],
      "execution_count": null,
      "outputs": [
        {
          "output_type": "stream",
          "name": "stdout",
          "text": [
            "esta es una prueba de creación de archivos\n",
            "segunda linea\n",
            "otra linea\n"
          ]
        }
      ]
    },
    {
      "cell_type": "code",
      "metadata": {
        "id": "IaD8hZ8dnvwV"
      },
      "source": [
        "myfile.close()"
      ],
      "execution_count": null,
      "outputs": []
    },
    {
      "cell_type": "code",
      "metadata": {
        "colab": {
          "base_uri": "https://localhost:8080/"
        },
        "id": "Hrzw87Wwn556",
        "outputId": "af0db3d6-85b5-4bcd-9508-15636808c88b"
      },
      "source": [
        "myfile=open(\"texto.txt\")\n",
        "mylines=myfile.readlines()\n",
        "i=1\n",
        "for line in mylines:\n",
        "  print(i,line)\n",
        "  i += 1"
      ],
      "execution_count": null,
      "outputs": [
        {
          "output_type": "stream",
          "name": "stdout",
          "text": [
            "1 esta es una prueba de creación de archivos\n",
            "\n",
            "2 segunda linea\n",
            "\n",
            "3 otra linea\n"
          ]
        }
      ]
    },
    {
      "cell_type": "code",
      "metadata": {
        "id": "8_IQ9Q_Vo7Hf"
      },
      "source": [
        "myfile=open(\"texto.txt\",\"a+\")\n",
        "myfile.read()\n",
        "myfile.write(\"xxxxx\")\n",
        "myfile.seek(0)\n",
        "myfile.read()\n",
        "myfile.close()\n"
      ],
      "execution_count": null,
      "outputs": []
    },
    {
      "cell_type": "code",
      "metadata": {
        "id": "pH0_Ia_0raPk"
      },
      "source": [
        ""
      ],
      "execution_count": null,
      "outputs": []
    },
    {
      "cell_type": "code",
      "metadata": {
        "colab": {
          "base_uri": "https://localhost:8080/"
        },
        "id": "iV2mhA-Cpryi",
        "outputId": "34bb176b-7665-4026-f749-4c323401d834"
      },
      "source": [
        "myfile=open(\"texto.txt\")\n",
        "myfile.seek(0)\n",
        "content=myfile.read()\n",
        "print(content)"
      ],
      "execution_count": null,
      "outputs": [
        {
          "output_type": "stream",
          "name": "stdout",
          "text": [
            "\u0000\u0000Esta es una nueva lineaEsta es otra nueva lineaxxxxxxxxx xxxx\n"
          ]
        }
      ]
    }
  ]
}